{
 "cells": [
  {
   "cell_type": "code",
   "execution_count": 1,
   "metadata": {},
   "outputs": [],
   "source": [
    "import numpy as np\n",
    "import matplotlib.pyplot as plt\n",
    "import pandas as pd\n",
    "import gc\n",
    "from sklearn.preprocessing import MinMaxScaler\n",
    "from pandas import read_csv"
   ]
  },
  {
   "cell_type": "code",
   "execution_count": 2,
   "metadata": {},
   "outputs": [
    {
     "data": {
      "text/plain": [
       "20156"
      ]
     },
     "execution_count": 2,
     "metadata": {},
     "output_type": "execute_result"
    }
   ],
   "source": [
    "# load the new file\n",
    "df = read_csv('./data/bitcoin_data.csv', date_parser = True)\n",
    "df.drop(df.columns[0], axis=1,inplace = True)\n",
    "len(df)"
   ]
  },
  {
   "cell_type": "code",
   "execution_count": 3,
   "metadata": {},
   "outputs": [
    {
     "data": {
      "text/plain": [
       "7479"
      ]
     },
     "execution_count": 3,
     "metadata": {},
     "output_type": "execute_result"
    }
   ],
   "source": [
    "df = df[df['NewDateTime']>= '2021-03-01'].copy()\n",
    "len(df)"
   ]
  },
  {
   "cell_type": "code",
   "execution_count": 4,
   "metadata": {},
   "outputs": [],
   "source": [
    "# df.drop(df.head(len(df)%168).index,inplace=True)\n",
    "# len(df)"
   ]
  },
  {
   "cell_type": "code",
   "execution_count": 5,
   "metadata": {},
   "outputs": [
    {
     "data": {
      "text/plain": [
       "504"
      ]
     },
     "execution_count": 5,
     "metadata": {},
     "output_type": "execute_result"
    }
   ],
   "source": [
    "viewdata = 168*3\n",
    "viewdata"
   ]
  },
  {
   "cell_type": "code",
   "execution_count": 6,
   "metadata": {},
   "outputs": [
    {
     "data": {
      "text/html": [
       "<div>\n",
       "<style scoped>\n",
       "    .dataframe tbody tr th:only-of-type {\n",
       "        vertical-align: middle;\n",
       "    }\n",
       "\n",
       "    .dataframe tbody tr th {\n",
       "        vertical-align: top;\n",
       "    }\n",
       "\n",
       "    .dataframe thead th {\n",
       "        text-align: right;\n",
       "    }\n",
       "</style>\n",
       "<table border=\"1\" class=\"dataframe\">\n",
       "  <thead>\n",
       "    <tr style=\"text-align: right;\">\n",
       "      <th></th>\n",
       "      <th>close</th>\n",
       "      <th>open</th>\n",
       "      <th>high</th>\n",
       "      <th>low</th>\n",
       "      <th>Volume BTC</th>\n",
       "      <th>NewDateTime</th>\n",
       "      <th>returns</th>\n",
       "      <th>log_returns</th>\n",
       "      <th>SOPR</th>\n",
       "      <th>fundingRate</th>\n",
       "      <th>googleTrend</th>\n",
       "    </tr>\n",
       "  </thead>\n",
       "  <tbody>\n",
       "    <tr>\n",
       "      <th>12677</th>\n",
       "      <td>46217.19</td>\n",
       "      <td>45134.11</td>\n",
       "      <td>46571.30</td>\n",
       "      <td>44950.53</td>\n",
       "      <td>4899.574833</td>\n",
       "      <td>2021-03-01 00:00:00</td>\n",
       "      <td>1.023962</td>\n",
       "      <td>0.023679</td>\n",
       "      <td>1.015226</td>\n",
       "      <td>0.0377</td>\n",
       "      <td>89</td>\n",
       "    </tr>\n",
       "    <tr>\n",
       "      <th>12678</th>\n",
       "      <td>46161.83</td>\n",
       "      <td>46217.18</td>\n",
       "      <td>46492.33</td>\n",
       "      <td>45850.00</td>\n",
       "      <td>2685.386005</td>\n",
       "      <td>2021-03-01 01:00:00</td>\n",
       "      <td>0.998802</td>\n",
       "      <td>-0.001199</td>\n",
       "      <td>1.015226</td>\n",
       "      <td>0.0377</td>\n",
       "      <td>82</td>\n",
       "    </tr>\n",
       "    <tr>\n",
       "      <th>12679</th>\n",
       "      <td>46419.56</td>\n",
       "      <td>46166.16</td>\n",
       "      <td>46796.94</td>\n",
       "      <td>46102.84</td>\n",
       "      <td>2926.951099</td>\n",
       "      <td>2021-03-01 02:00:00</td>\n",
       "      <td>1.005583</td>\n",
       "      <td>0.005568</td>\n",
       "      <td>1.015226</td>\n",
       "      <td>0.0377</td>\n",
       "      <td>82</td>\n",
       "    </tr>\n",
       "    <tr>\n",
       "      <th>12680</th>\n",
       "      <td>46336.37</td>\n",
       "      <td>46414.70</td>\n",
       "      <td>46540.31</td>\n",
       "      <td>46204.08</td>\n",
       "      <td>1970.348912</td>\n",
       "      <td>2021-03-01 03:00:00</td>\n",
       "      <td>0.998208</td>\n",
       "      <td>-0.001794</td>\n",
       "      <td>1.015226</td>\n",
       "      <td>0.0377</td>\n",
       "      <td>80</td>\n",
       "    </tr>\n",
       "    <tr>\n",
       "      <th>12681</th>\n",
       "      <td>46458.33</td>\n",
       "      <td>46336.38</td>\n",
       "      <td>46688.13</td>\n",
       "      <td>45959.70</td>\n",
       "      <td>2152.379904</td>\n",
       "      <td>2021-03-01 04:00:00</td>\n",
       "      <td>1.002632</td>\n",
       "      <td>0.002629</td>\n",
       "      <td>1.015226</td>\n",
       "      <td>0.0377</td>\n",
       "      <td>82</td>\n",
       "    </tr>\n",
       "    <tr>\n",
       "      <th>...</th>\n",
       "      <td>...</td>\n",
       "      <td>...</td>\n",
       "      <td>...</td>\n",
       "      <td>...</td>\n",
       "      <td>...</td>\n",
       "      <td>...</td>\n",
       "      <td>...</td>\n",
       "      <td>...</td>\n",
       "      <td>...</td>\n",
       "      <td>...</td>\n",
       "      <td>...</td>\n",
       "    </tr>\n",
       "    <tr>\n",
       "      <th>19620</th>\n",
       "      <td>48674.90</td>\n",
       "      <td>47830.00</td>\n",
       "      <td>49259.98</td>\n",
       "      <td>47212.00</td>\n",
       "      <td>10878.121400</td>\n",
       "      <td>2021-12-15 19:00:00</td>\n",
       "      <td>1.017665</td>\n",
       "      <td>0.017511</td>\n",
       "      <td>1.000075</td>\n",
       "      <td>0.0100</td>\n",
       "      <td>47</td>\n",
       "    </tr>\n",
       "    <tr>\n",
       "      <th>19621</th>\n",
       "      <td>49211.84</td>\n",
       "      <td>48674.90</td>\n",
       "      <td>49500.00</td>\n",
       "      <td>48527.01</td>\n",
       "      <td>4690.616610</td>\n",
       "      <td>2021-12-15 20:00:00</td>\n",
       "      <td>1.011031</td>\n",
       "      <td>0.010971</td>\n",
       "      <td>1.000075</td>\n",
       "      <td>0.0100</td>\n",
       "      <td>47</td>\n",
       "    </tr>\n",
       "    <tr>\n",
       "      <th>19622</th>\n",
       "      <td>49168.89</td>\n",
       "      <td>49211.83</td>\n",
       "      <td>49358.75</td>\n",
       "      <td>48865.94</td>\n",
       "      <td>2276.034320</td>\n",
       "      <td>2021-12-15 21:00:00</td>\n",
       "      <td>0.999127</td>\n",
       "      <td>-0.000873</td>\n",
       "      <td>1.000075</td>\n",
       "      <td>0.0100</td>\n",
       "      <td>45</td>\n",
       "    </tr>\n",
       "    <tr>\n",
       "      <th>19623</th>\n",
       "      <td>48747.30</td>\n",
       "      <td>49168.89</td>\n",
       "      <td>49235.38</td>\n",
       "      <td>48653.00</td>\n",
       "      <td>1159.597200</td>\n",
       "      <td>2021-12-15 22:00:00</td>\n",
       "      <td>0.991426</td>\n",
       "      <td>-0.008611</td>\n",
       "      <td>1.000075</td>\n",
       "      <td>0.0100</td>\n",
       "      <td>41</td>\n",
       "    </tr>\n",
       "    <tr>\n",
       "      <th>19624</th>\n",
       "      <td>48864.98</td>\n",
       "      <td>48747.31</td>\n",
       "      <td>48974.09</td>\n",
       "      <td>48700.19</td>\n",
       "      <td>1285.217240</td>\n",
       "      <td>2021-12-15 23:00:00</td>\n",
       "      <td>1.002414</td>\n",
       "      <td>0.002411</td>\n",
       "      <td>1.000075</td>\n",
       "      <td>0.0100</td>\n",
       "      <td>39</td>\n",
       "    </tr>\n",
       "  </tbody>\n",
       "</table>\n",
       "<p>6948 rows × 11 columns</p>\n",
       "</div>"
      ],
      "text/plain": [
       "          close      open      high       low    Volume BTC  \\\n",
       "12677  46217.19  45134.11  46571.30  44950.53   4899.574833   \n",
       "12678  46161.83  46217.18  46492.33  45850.00   2685.386005   \n",
       "12679  46419.56  46166.16  46796.94  46102.84   2926.951099   \n",
       "12680  46336.37  46414.70  46540.31  46204.08   1970.348912   \n",
       "12681  46458.33  46336.38  46688.13  45959.70   2152.379904   \n",
       "...         ...       ...       ...       ...           ...   \n",
       "19620  48674.90  47830.00  49259.98  47212.00  10878.121400   \n",
       "19621  49211.84  48674.90  49500.00  48527.01   4690.616610   \n",
       "19622  49168.89  49211.83  49358.75  48865.94   2276.034320   \n",
       "19623  48747.30  49168.89  49235.38  48653.00   1159.597200   \n",
       "19624  48864.98  48747.31  48974.09  48700.19   1285.217240   \n",
       "\n",
       "               NewDateTime   returns  log_returns      SOPR  fundingRate  \\\n",
       "12677  2021-03-01 00:00:00  1.023962     0.023679  1.015226       0.0377   \n",
       "12678  2021-03-01 01:00:00  0.998802    -0.001199  1.015226       0.0377   \n",
       "12679  2021-03-01 02:00:00  1.005583     0.005568  1.015226       0.0377   \n",
       "12680  2021-03-01 03:00:00  0.998208    -0.001794  1.015226       0.0377   \n",
       "12681  2021-03-01 04:00:00  1.002632     0.002629  1.015226       0.0377   \n",
       "...                    ...       ...          ...       ...          ...   \n",
       "19620  2021-12-15 19:00:00  1.017665     0.017511  1.000075       0.0100   \n",
       "19621  2021-12-15 20:00:00  1.011031     0.010971  1.000075       0.0100   \n",
       "19622  2021-12-15 21:00:00  0.999127    -0.000873  1.000075       0.0100   \n",
       "19623  2021-12-15 22:00:00  0.991426    -0.008611  1.000075       0.0100   \n",
       "19624  2021-12-15 23:00:00  1.002414     0.002411  1.000075       0.0100   \n",
       "\n",
       "       googleTrend  \n",
       "12677           89  \n",
       "12678           82  \n",
       "12679           82  \n",
       "12680           80  \n",
       "12681           82  \n",
       "...            ...  \n",
       "19620           47  \n",
       "19621           47  \n",
       "19622           45  \n",
       "19623           41  \n",
       "19624           39  \n",
       "\n",
       "[6948 rows x 11 columns]"
      ]
     },
     "execution_count": 6,
     "metadata": {},
     "output_type": "execute_result"
    }
   ],
   "source": [
    "df = df.drop_duplicates(subset=['NewDateTime'], keep=\"last\")\n",
    "data_training = df.iloc[0:int(len(df)-viewdata),:]\n",
    "data_test = df.iloc[int(len(df)-viewdata):int(len(df)),:]\n",
    "\n",
    "data_training"
   ]
  },
  {
   "cell_type": "code",
   "execution_count": 7,
   "metadata": {},
   "outputs": [
    {
     "data": {
      "text/html": [
       "<div>\n",
       "<style scoped>\n",
       "    .dataframe tbody tr th:only-of-type {\n",
       "        vertical-align: middle;\n",
       "    }\n",
       "\n",
       "    .dataframe tbody tr th {\n",
       "        vertical-align: top;\n",
       "    }\n",
       "\n",
       "    .dataframe thead th {\n",
       "        text-align: right;\n",
       "    }\n",
       "</style>\n",
       "<table border=\"1\" class=\"dataframe\">\n",
       "  <thead>\n",
       "    <tr style=\"text-align: right;\">\n",
       "      <th></th>\n",
       "      <th>close</th>\n",
       "      <th>open</th>\n",
       "      <th>high</th>\n",
       "      <th>low</th>\n",
       "      <th>Volume BTC</th>\n",
       "      <th>returns</th>\n",
       "      <th>log_returns</th>\n",
       "      <th>SOPR</th>\n",
       "      <th>fundingRate</th>\n",
       "      <th>googleTrend</th>\n",
       "    </tr>\n",
       "  </thead>\n",
       "  <tbody>\n",
       "    <tr>\n",
       "      <th>12677</th>\n",
       "      <td>46217.19</td>\n",
       "      <td>45134.11</td>\n",
       "      <td>46571.30</td>\n",
       "      <td>44950.53</td>\n",
       "      <td>4899.574833</td>\n",
       "      <td>1.023962</td>\n",
       "      <td>0.023679</td>\n",
       "      <td>1.015226</td>\n",
       "      <td>0.0377</td>\n",
       "      <td>89</td>\n",
       "    </tr>\n",
       "    <tr>\n",
       "      <th>12678</th>\n",
       "      <td>46161.83</td>\n",
       "      <td>46217.18</td>\n",
       "      <td>46492.33</td>\n",
       "      <td>45850.00</td>\n",
       "      <td>2685.386005</td>\n",
       "      <td>0.998802</td>\n",
       "      <td>-0.001199</td>\n",
       "      <td>1.015226</td>\n",
       "      <td>0.0377</td>\n",
       "      <td>82</td>\n",
       "    </tr>\n",
       "    <tr>\n",
       "      <th>12679</th>\n",
       "      <td>46419.56</td>\n",
       "      <td>46166.16</td>\n",
       "      <td>46796.94</td>\n",
       "      <td>46102.84</td>\n",
       "      <td>2926.951099</td>\n",
       "      <td>1.005583</td>\n",
       "      <td>0.005568</td>\n",
       "      <td>1.015226</td>\n",
       "      <td>0.0377</td>\n",
       "      <td>82</td>\n",
       "    </tr>\n",
       "    <tr>\n",
       "      <th>12680</th>\n",
       "      <td>46336.37</td>\n",
       "      <td>46414.70</td>\n",
       "      <td>46540.31</td>\n",
       "      <td>46204.08</td>\n",
       "      <td>1970.348912</td>\n",
       "      <td>0.998208</td>\n",
       "      <td>-0.001794</td>\n",
       "      <td>1.015226</td>\n",
       "      <td>0.0377</td>\n",
       "      <td>80</td>\n",
       "    </tr>\n",
       "    <tr>\n",
       "      <th>12681</th>\n",
       "      <td>46458.33</td>\n",
       "      <td>46336.38</td>\n",
       "      <td>46688.13</td>\n",
       "      <td>45959.70</td>\n",
       "      <td>2152.379904</td>\n",
       "      <td>1.002632</td>\n",
       "      <td>0.002629</td>\n",
       "      <td>1.015226</td>\n",
       "      <td>0.0377</td>\n",
       "      <td>82</td>\n",
       "    </tr>\n",
       "    <tr>\n",
       "      <th>...</th>\n",
       "      <td>...</td>\n",
       "      <td>...</td>\n",
       "      <td>...</td>\n",
       "      <td>...</td>\n",
       "      <td>...</td>\n",
       "      <td>...</td>\n",
       "      <td>...</td>\n",
       "      <td>...</td>\n",
       "      <td>...</td>\n",
       "      <td>...</td>\n",
       "    </tr>\n",
       "    <tr>\n",
       "      <th>19620</th>\n",
       "      <td>48674.90</td>\n",
       "      <td>47830.00</td>\n",
       "      <td>49259.98</td>\n",
       "      <td>47212.00</td>\n",
       "      <td>10878.121400</td>\n",
       "      <td>1.017665</td>\n",
       "      <td>0.017511</td>\n",
       "      <td>1.000075</td>\n",
       "      <td>0.0100</td>\n",
       "      <td>47</td>\n",
       "    </tr>\n",
       "    <tr>\n",
       "      <th>19621</th>\n",
       "      <td>49211.84</td>\n",
       "      <td>48674.90</td>\n",
       "      <td>49500.00</td>\n",
       "      <td>48527.01</td>\n",
       "      <td>4690.616610</td>\n",
       "      <td>1.011031</td>\n",
       "      <td>0.010971</td>\n",
       "      <td>1.000075</td>\n",
       "      <td>0.0100</td>\n",
       "      <td>47</td>\n",
       "    </tr>\n",
       "    <tr>\n",
       "      <th>19622</th>\n",
       "      <td>49168.89</td>\n",
       "      <td>49211.83</td>\n",
       "      <td>49358.75</td>\n",
       "      <td>48865.94</td>\n",
       "      <td>2276.034320</td>\n",
       "      <td>0.999127</td>\n",
       "      <td>-0.000873</td>\n",
       "      <td>1.000075</td>\n",
       "      <td>0.0100</td>\n",
       "      <td>45</td>\n",
       "    </tr>\n",
       "    <tr>\n",
       "      <th>19623</th>\n",
       "      <td>48747.30</td>\n",
       "      <td>49168.89</td>\n",
       "      <td>49235.38</td>\n",
       "      <td>48653.00</td>\n",
       "      <td>1159.597200</td>\n",
       "      <td>0.991426</td>\n",
       "      <td>-0.008611</td>\n",
       "      <td>1.000075</td>\n",
       "      <td>0.0100</td>\n",
       "      <td>41</td>\n",
       "    </tr>\n",
       "    <tr>\n",
       "      <th>19624</th>\n",
       "      <td>48864.98</td>\n",
       "      <td>48747.31</td>\n",
       "      <td>48974.09</td>\n",
       "      <td>48700.19</td>\n",
       "      <td>1285.217240</td>\n",
       "      <td>1.002414</td>\n",
       "      <td>0.002411</td>\n",
       "      <td>1.000075</td>\n",
       "      <td>0.0100</td>\n",
       "      <td>39</td>\n",
       "    </tr>\n",
       "  </tbody>\n",
       "</table>\n",
       "<p>6948 rows × 10 columns</p>\n",
       "</div>"
      ],
      "text/plain": [
       "          close      open      high       low    Volume BTC   returns  \\\n",
       "12677  46217.19  45134.11  46571.30  44950.53   4899.574833  1.023962   \n",
       "12678  46161.83  46217.18  46492.33  45850.00   2685.386005  0.998802   \n",
       "12679  46419.56  46166.16  46796.94  46102.84   2926.951099  1.005583   \n",
       "12680  46336.37  46414.70  46540.31  46204.08   1970.348912  0.998208   \n",
       "12681  46458.33  46336.38  46688.13  45959.70   2152.379904  1.002632   \n",
       "...         ...       ...       ...       ...           ...       ...   \n",
       "19620  48674.90  47830.00  49259.98  47212.00  10878.121400  1.017665   \n",
       "19621  49211.84  48674.90  49500.00  48527.01   4690.616610  1.011031   \n",
       "19622  49168.89  49211.83  49358.75  48865.94   2276.034320  0.999127   \n",
       "19623  48747.30  49168.89  49235.38  48653.00   1159.597200  0.991426   \n",
       "19624  48864.98  48747.31  48974.09  48700.19   1285.217240  1.002414   \n",
       "\n",
       "       log_returns      SOPR  fundingRate  googleTrend  \n",
       "12677     0.023679  1.015226       0.0377           89  \n",
       "12678    -0.001199  1.015226       0.0377           82  \n",
       "12679     0.005568  1.015226       0.0377           82  \n",
       "12680    -0.001794  1.015226       0.0377           80  \n",
       "12681     0.002629  1.015226       0.0377           82  \n",
       "...            ...       ...          ...          ...  \n",
       "19620     0.017511  1.000075       0.0100           47  \n",
       "19621     0.010971  1.000075       0.0100           47  \n",
       "19622    -0.000873  1.000075       0.0100           45  \n",
       "19623    -0.008611  1.000075       0.0100           41  \n",
       "19624     0.002411  1.000075       0.0100           39  \n",
       "\n",
       "[6948 rows x 10 columns]"
      ]
     },
     "execution_count": 7,
     "metadata": {},
     "output_type": "execute_result"
    }
   ],
   "source": [
    "training_data = data_training.drop(['NewDateTime'], axis = 1)\n",
    "\n",
    "\n",
    "training_data"
   ]
  },
  {
   "cell_type": "code",
   "execution_count": 8,
   "metadata": {},
   "outputs": [
    {
     "data": {
      "text/plain": [
       "array([[0.43097676, 0.40346892, 0.42919596, ..., 0.64633522, 0.53462023,\n",
       "        0.87058824],\n",
       "       [0.42957149, 0.43096071, 0.4271862 , ..., 0.64633522, 0.53462023,\n",
       "        0.78823529],\n",
       "       [0.43611374, 0.42966566, 0.43493844, ..., 0.64633522, 0.53462023,\n",
       "        0.78823529],\n",
       "       ...,\n",
       "       [0.50590308, 0.50697454, 0.50013577, ..., 0.47484643, 0.41838019,\n",
       "        0.35294118],\n",
       "       [0.49520138, 0.50588459, 0.49699604, ..., 0.47484643, 0.41838019,\n",
       "        0.30588235],\n",
       "       [0.49818859, 0.49518354, 0.49034629, ..., 0.47484643, 0.41838019,\n",
       "        0.28235294]])"
      ]
     },
     "execution_count": 8,
     "metadata": {},
     "output_type": "execute_result"
    }
   ],
   "source": [
    "scaler = MinMaxScaler()\n",
    "training_data = scaler.fit_transform(training_data)\n",
    "training_data"
   ]
  },
  {
   "cell_type": "code",
   "execution_count": 9,
   "metadata": {},
   "outputs": [],
   "source": [
    "X_train = []\n",
    "Y_train = []"
   ]
  },
  {
   "cell_type": "code",
   "execution_count": 10,
   "metadata": {},
   "outputs": [
    {
     "data": {
      "text/plain": [
       "(6948, 10)"
      ]
     },
     "execution_count": 10,
     "metadata": {},
     "output_type": "execute_result"
    }
   ],
   "source": [
    "training_data.shape"
   ]
  },
  {
   "cell_type": "code",
   "execution_count": 11,
   "metadata": {},
   "outputs": [],
   "source": [
    "for i in range(168, training_data.shape[0],8):\n",
    "    X_train.append(training_data[i-168:i])\n",
    "    Y_train.append(training_data[i])"
   ]
  },
  {
   "cell_type": "code",
   "execution_count": 12,
   "metadata": {},
   "outputs": [],
   "source": [
    "X_train, Y_train = np.array(X_train), np.array(Y_train)"
   ]
  },
  {
   "cell_type": "code",
   "execution_count": 13,
   "metadata": {},
   "outputs": [
    {
     "data": {
      "text/plain": [
       "(848, 168, 10)"
      ]
     },
     "execution_count": 13,
     "metadata": {},
     "output_type": "execute_result"
    }
   ],
   "source": [
    "X_train.shape"
   ]
  },
  {
   "cell_type": "code",
   "execution_count": 14,
   "metadata": {},
   "outputs": [
    {
     "data": {
      "text/plain": [
       "(848, 10)"
      ]
     },
     "execution_count": 14,
     "metadata": {},
     "output_type": "execute_result"
    }
   ],
   "source": [
    "Y_train.shape"
   ]
  },
  {
   "cell_type": "code",
   "execution_count": 15,
   "metadata": {},
   "outputs": [
    {
     "name": "stdout",
     "output_type": "stream",
     "text": [
      "WARNING:tensorflow:Deprecation warnings have been disabled. Set TF_ENABLE_DEPRECATION_WARNINGS=1 to re-enable them.\n"
     ]
    }
   ],
   "source": [
    "\n",
    "from tensorflow.keras import Sequential\n",
    "from tensorflow.keras.layers import Dense, LSTM, Dropout,RepeatVector,TimeDistributed"
   ]
  },
  {
   "cell_type": "code",
   "execution_count": 21,
   "metadata": {},
   "outputs": [],
   "source": [
    "model = Sequential()\n",
    "model.add(LSTM(units = 50, activation = 'relu', return_sequences = True, input_shape = (X_train.shape[1], 10)))\n",
    "model.add(Dropout(0.1))\n",
    "model.add(LSTM(units = 60, activation = 'relu', return_sequences = True))\n",
    "model.add(Dropout(0.15))\n",
    "model.add(LSTM(units = 80, activation = 'relu', return_sequences = True))\n",
    "model.add(Dropout(0.2))\n",
    "\n",
    "model.add(LSTM(units = 120, activation = 'relu'))\n",
    "model.add(Dropout(0.25))\n",
    "\n",
    "model.add(Dense(units =10))"
   ]
  },
  {
   "cell_type": "code",
   "execution_count": 22,
   "metadata": {},
   "outputs": [
    {
     "name": "stdout",
     "output_type": "stream",
     "text": [
      "Model: \"sequential_1\"\n",
      "_________________________________________________________________\n",
      "Layer (type)                 Output Shape              Param #   \n",
      "=================================================================\n",
      "lstm_4 (LSTM)                (None, 168, 50)           12200     \n",
      "_________________________________________________________________\n",
      "dropout_4 (Dropout)          (None, 168, 50)           0         \n",
      "_________________________________________________________________\n",
      "lstm_5 (LSTM)                (None, 168, 60)           26640     \n",
      "_________________________________________________________________\n",
      "dropout_5 (Dropout)          (None, 168, 60)           0         \n",
      "_________________________________________________________________\n",
      "lstm_6 (LSTM)                (None, 168, 80)           45120     \n",
      "_________________________________________________________________\n",
      "dropout_6 (Dropout)          (None, 168, 80)           0         \n",
      "_________________________________________________________________\n",
      "lstm_7 (LSTM)                (None, 120)               96480     \n",
      "_________________________________________________________________\n",
      "dropout_7 (Dropout)          (None, 120)               0         \n",
      "_________________________________________________________________\n",
      "dense_1 (Dense)              (None, 10)                1210      \n",
      "=================================================================\n",
      "Total params: 181,650\n",
      "Trainable params: 181,650\n",
      "Non-trainable params: 0\n",
      "_________________________________________________________________\n"
     ]
    }
   ],
   "source": [
    "model.summary()"
   ]
  },
  {
   "cell_type": "code",
   "execution_count": 23,
   "metadata": {},
   "outputs": [],
   "source": [
    "model.compile(loss='mse', optimizer='adam')"
   ]
  },
  {
   "cell_type": "code",
   "execution_count": 24,
   "metadata": {},
   "outputs": [
    {
     "name": "stdout",
     "output_type": "stream",
     "text": [
      "Train on 763 samples, validate on 85 samples\n",
      "Epoch 1/30\n",
      "763/763 [==============================] - 35s 46ms/sample - loss: 0.1241 - val_loss: 0.0175\n",
      "Epoch 2/30\n",
      "763/763 [==============================] - 31s 41ms/sample - loss: 0.0300 - val_loss: 0.0118\n",
      "Epoch 3/30\n",
      "763/763 [==============================] - 31s 41ms/sample - loss: 0.0207 - val_loss: 0.0092\n",
      "Epoch 4/30\n",
      "763/763 [==============================] - 32s 42ms/sample - loss: 0.0155 - val_loss: 0.0095\n",
      "Epoch 5/30\n",
      "763/763 [==============================] - 32s 42ms/sample - loss: 0.0146 - val_loss: 0.0087\n",
      "Epoch 6/30\n",
      "763/763 [==============================] - 31s 41ms/sample - loss: 0.0130 - val_loss: 0.0091\n",
      "Epoch 7/30\n",
      "763/763 [==============================] - 32s 41ms/sample - loss: 0.0131 - val_loss: 0.0097\n",
      "Epoch 8/30\n",
      "763/763 [==============================] - 32s 42ms/sample - loss: 0.0125 - val_loss: 0.0087\n",
      "Epoch 9/30\n",
      "763/763 [==============================] - 32s 42ms/sample - loss: 0.0119 - val_loss: 0.0078\n",
      "Epoch 10/30\n",
      "763/763 [==============================] - 32s 42ms/sample - loss: 0.0112 - val_loss: 0.0089\n",
      "Epoch 11/30\n",
      "763/763 [==============================] - 32s 42ms/sample - loss: 0.0111 - val_loss: 0.0075\n",
      "Epoch 12/30\n",
      "763/763 [==============================] - 32s 43ms/sample - loss: 0.0103 - val_loss: 0.0066\n",
      "Epoch 13/30\n",
      "763/763 [==============================] - 32s 42ms/sample - loss: 0.0095 - val_loss: 0.0051\n",
      "Epoch 14/30\n",
      "763/763 [==============================] - 31s 41ms/sample - loss: 0.0095 - val_loss: 0.0061\n",
      "Epoch 15/30\n",
      "763/763 [==============================] - 31s 41ms/sample - loss: 0.0089 - val_loss: 0.0047\n",
      "Epoch 16/30\n",
      "763/763 [==============================] - 32s 41ms/sample - loss: 0.0083 - val_loss: 0.0049\n",
      "Epoch 17/30\n",
      "763/763 [==============================] - 31s 41ms/sample - loss: 0.0079 - val_loss: 0.0049\n",
      "Epoch 18/30\n",
      "763/763 [==============================] - 32s 42ms/sample - loss: 0.0077 - val_loss: 0.0049\n",
      "Epoch 19/30\n",
      "763/763 [==============================] - 32s 41ms/sample - loss: 0.0078 - val_loss: 0.0047\n",
      "Epoch 20/30\n",
      "763/763 [==============================] - 31s 41ms/sample - loss: 0.0080 - val_loss: 0.0044\n",
      "Epoch 21/30\n",
      "763/763 [==============================] - 31s 41ms/sample - loss: 0.0075 - val_loss: 0.0047\n",
      "Epoch 22/30\n",
      "763/763 [==============================] - 31s 41ms/sample - loss: 0.0074 - val_loss: 0.0043\n",
      "Epoch 23/30\n",
      "763/763 [==============================] - 33s 43ms/sample - loss: 0.0073 - val_loss: 0.0041\n",
      "Epoch 24/30\n",
      "763/763 [==============================] - 32s 41ms/sample - loss: 0.0073 - val_loss: 0.0045\n",
      "Epoch 25/30\n",
      "763/763 [==============================] - 32s 42ms/sample - loss: 0.0074 - val_loss: 0.0060\n",
      "Epoch 26/30\n",
      "763/763 [==============================] - 32s 42ms/sample - loss: 0.0073 - val_loss: 0.0044\n",
      "Epoch 27/30\n",
      "763/763 [==============================] - 33s 43ms/sample - loss: 0.0071 - val_loss: 0.0044\n",
      "Epoch 28/30\n",
      "763/763 [==============================] - 31s 41ms/sample - loss: 0.0068 - val_loss: 0.0045\n",
      "Epoch 29/30\n",
      "763/763 [==============================] - 32s 41ms/sample - loss: 0.0068 - val_loss: 0.0048\n",
      "Epoch 30/30\n",
      "763/763 [==============================] - 31s 41ms/sample - loss: 0.0067 - val_loss: 0.0041\n"
     ]
    }
   ],
   "source": [
    "history = model.fit(X_train, Y_train, epochs=30, batch_size=32, verbose=1, validation_split=0.1)"
   ]
  },
  {
   "cell_type": "code",
   "execution_count": 17,
   "metadata": {},
   "outputs": [],
   "source": [
    "import tensorflow as tf\n",
    "model = tf.keras.models.load_model('168_1_EX.h5')"
   ]
  },
  {
   "cell_type": "code",
   "execution_count": 25,
   "metadata": {},
   "outputs": [],
   "source": [
    "model.save(\"168_1_EX.h5\")"
   ]
  },
  {
   "cell_type": "code",
   "execution_count": 57,
   "metadata": {},
   "outputs": [],
   "source": [
    "# result = model.predict(X_train, batch_size=128, verbose=0)\n",
    "# for value in result[0,:,0]:\n",
    "# \tprint('%.1f' % value)"
   ]
  },
  {
   "cell_type": "code",
   "execution_count": 26,
   "metadata": {},
   "outputs": [
    {
     "data": {
      "image/png": "[encoded data removed]",
      "text/plain": [
       "<Figure size 432x288 with 1 Axes>"
      ]
     },
     "metadata": {
      "needs_background": "light"
     },
     "output_type": "display_data"
    }
   ],
   "source": [
    "loss = history.history['loss']\n",
    "epoch = range(len(loss))\n",
    "# plt.figure(figsize=(8,8))\n",
    "plt.plot(history.history['loss'])\n",
    "plt.plot(history.history['val_loss'])\n",
    "plt.title('model train vs validation loss')\n",
    "plt.ylabel('loss')\n",
    "plt.xlabel('epoch')\n",
    "plt.legend(['train', 'validation'], loc='upper right')\n",
    "plt.show()"
   ]
  },
  {
   "cell_type": "code",
   "execution_count": 27,
   "metadata": {},
   "outputs": [
    {
     "data": {
      "text/html": [
       "<div>\n",
       "<style scoped>\n",
       "    .dataframe tbody tr th:only-of-type {\n",
       "        vertical-align: middle;\n",
       "    }\n",
       "\n",
       "    .dataframe tbody tr th {\n",
       "        vertical-align: top;\n",
       "    }\n",
       "\n",
       "    .dataframe thead th {\n",
       "        text-align: right;\n",
       "    }\n",
       "</style>\n",
       "<table border=\"1\" class=\"dataframe\">\n",
       "  <thead>\n",
       "    <tr style=\"text-align: right;\">\n",
       "      <th></th>\n",
       "      <th>close</th>\n",
       "      <th>open</th>\n",
       "      <th>high</th>\n",
       "      <th>low</th>\n",
       "      <th>Volume BTC</th>\n",
       "      <th>NewDateTime</th>\n",
       "      <th>returns</th>\n",
       "      <th>log_returns</th>\n",
       "      <th>SOPR</th>\n",
       "      <th>fundingRate</th>\n",
       "      <th>googleTrend</th>\n",
       "    </tr>\n",
       "  </thead>\n",
       "  <tbody>\n",
       "    <tr>\n",
       "      <th>0</th>\n",
       "      <td>50399.83</td>\n",
       "      <td>50471.19</td>\n",
       "      <td>50797.76</td>\n",
       "      <td>50323.83</td>\n",
       "      <td>1165.14158</td>\n",
       "      <td>2021-12-09 00:00:00</td>\n",
       "      <td>0.998586</td>\n",
       "      <td>-0.001415</td>\n",
       "      <td>0.996332</td>\n",
       "      <td>0.01</td>\n",
       "      <td>19</td>\n",
       "    </tr>\n",
       "    <tr>\n",
       "      <th>1</th>\n",
       "      <td>50182.70</td>\n",
       "      <td>50399.84</td>\n",
       "      <td>50483.68</td>\n",
       "      <td>50147.89</td>\n",
       "      <td>871.61111</td>\n",
       "      <td>2021-12-09 01:00:00</td>\n",
       "      <td>0.995692</td>\n",
       "      <td>-0.004317</td>\n",
       "      <td>0.996332</td>\n",
       "      <td>0.01</td>\n",
       "      <td>19</td>\n",
       "    </tr>\n",
       "    <tr>\n",
       "      <th>2</th>\n",
       "      <td>49886.02</td>\n",
       "      <td>50182.71</td>\n",
       "      <td>50276.81</td>\n",
       "      <td>49620.62</td>\n",
       "      <td>1628.84987</td>\n",
       "      <td>2021-12-09 02:00:00</td>\n",
       "      <td>0.994088</td>\n",
       "      <td>-0.005930</td>\n",
       "      <td>0.996332</td>\n",
       "      <td>0.01</td>\n",
       "      <td>21</td>\n",
       "    </tr>\n",
       "    <tr>\n",
       "      <th>3</th>\n",
       "      <td>49513.35</td>\n",
       "      <td>49886.02</td>\n",
       "      <td>49934.12</td>\n",
       "      <td>49425.74</td>\n",
       "      <td>951.66432</td>\n",
       "      <td>2021-12-09 03:00:00</td>\n",
       "      <td>0.992530</td>\n",
       "      <td>-0.007498</td>\n",
       "      <td>0.996332</td>\n",
       "      <td>0.01</td>\n",
       "      <td>22</td>\n",
       "    </tr>\n",
       "    <tr>\n",
       "      <th>4</th>\n",
       "      <td>49816.07</td>\n",
       "      <td>49517.00</td>\n",
       "      <td>49821.01</td>\n",
       "      <td>49420.33</td>\n",
       "      <td>1052.17101</td>\n",
       "      <td>2021-12-09 04:00:00</td>\n",
       "      <td>1.006114</td>\n",
       "      <td>0.006095</td>\n",
       "      <td>0.996332</td>\n",
       "      <td>0.01</td>\n",
       "      <td>22</td>\n",
       "    </tr>\n",
       "    <tr>\n",
       "      <th>...</th>\n",
       "      <td>...</td>\n",
       "      <td>...</td>\n",
       "      <td>...</td>\n",
       "      <td>...</td>\n",
       "      <td>...</td>\n",
       "      <td>...</td>\n",
       "      <td>...</td>\n",
       "      <td>...</td>\n",
       "      <td>...</td>\n",
       "      <td>...</td>\n",
       "      <td>...</td>\n",
       "    </tr>\n",
       "    <tr>\n",
       "      <th>667</th>\n",
       "      <td>44685.93</td>\n",
       "      <td>45919.93</td>\n",
       "      <td>46118.85</td>\n",
       "      <td>44500.00</td>\n",
       "      <td>7383.66525</td>\n",
       "      <td>2022-01-05 19:00:00</td>\n",
       "      <td>0.973127</td>\n",
       "      <td>-0.027240</td>\n",
       "      <td>0.999064</td>\n",
       "      <td>0.01</td>\n",
       "      <td>49</td>\n",
       "    </tr>\n",
       "    <tr>\n",
       "      <th>668</th>\n",
       "      <td>43967.01</td>\n",
       "      <td>44685.93</td>\n",
       "      <td>44847.99</td>\n",
       "      <td>43722.54</td>\n",
       "      <td>8054.81116</td>\n",
       "      <td>2022-01-05 20:00:00</td>\n",
       "      <td>0.983912</td>\n",
       "      <td>-0.016219</td>\n",
       "      <td>0.999064</td>\n",
       "      <td>0.01</td>\n",
       "      <td>69</td>\n",
       "    </tr>\n",
       "    <tr>\n",
       "      <th>669</th>\n",
       "      <td>43606.37</td>\n",
       "      <td>43967.01</td>\n",
       "      <td>44331.42</td>\n",
       "      <td>43422.54</td>\n",
       "      <td>3844.19955</td>\n",
       "      <td>2022-01-05 21:00:00</td>\n",
       "      <td>0.991797</td>\n",
       "      <td>-0.008236</td>\n",
       "      <td>0.999064</td>\n",
       "      <td>0.01</td>\n",
       "      <td>71</td>\n",
       "    </tr>\n",
       "    <tr>\n",
       "      <th>670</th>\n",
       "      <td>43437.05</td>\n",
       "      <td>43602.49</td>\n",
       "      <td>43815.20</td>\n",
       "      <td>42500.00</td>\n",
       "      <td>6856.64070</td>\n",
       "      <td>2022-01-05 22:00:00</td>\n",
       "      <td>0.996117</td>\n",
       "      <td>-0.003890</td>\n",
       "      <td>0.999064</td>\n",
       "      <td>0.01</td>\n",
       "      <td>81</td>\n",
       "    </tr>\n",
       "    <tr>\n",
       "      <th>671</th>\n",
       "      <td>43451.13</td>\n",
       "      <td>43437.04</td>\n",
       "      <td>43709.12</td>\n",
       "      <td>43212.00</td>\n",
       "      <td>2869.96497</td>\n",
       "      <td>2022-01-05 23:00:00</td>\n",
       "      <td>1.000324</td>\n",
       "      <td>0.000324</td>\n",
       "      <td>0.999064</td>\n",
       "      <td>0.01</td>\n",
       "      <td>75</td>\n",
       "    </tr>\n",
       "  </tbody>\n",
       "</table>\n",
       "<p>672 rows × 11 columns</p>\n",
       "</div>"
      ],
      "text/plain": [
       "        close      open      high       low  Volume BTC          NewDateTime  \\\n",
       "0    50399.83  50471.19  50797.76  50323.83  1165.14158  2021-12-09 00:00:00   \n",
       "1    50182.70  50399.84  50483.68  50147.89   871.61111  2021-12-09 01:00:00   \n",
       "2    49886.02  50182.71  50276.81  49620.62  1628.84987  2021-12-09 02:00:00   \n",
       "3    49513.35  49886.02  49934.12  49425.74   951.66432  2021-12-09 03:00:00   \n",
       "4    49816.07  49517.00  49821.01  49420.33  1052.17101  2021-12-09 04:00:00   \n",
       "..        ...       ...       ...       ...         ...                  ...   \n",
       "667  44685.93  45919.93  46118.85  44500.00  7383.66525  2022-01-05 19:00:00   \n",
       "668  43967.01  44685.93  44847.99  43722.54  8054.81116  2022-01-05 20:00:00   \n",
       "669  43606.37  43967.01  44331.42  43422.54  3844.19955  2022-01-05 21:00:00   \n",
       "670  43437.05  43602.49  43815.20  42500.00  6856.64070  2022-01-05 22:00:00   \n",
       "671  43451.13  43437.04  43709.12  43212.00  2869.96497  2022-01-05 23:00:00   \n",
       "\n",
       "      returns  log_returns      SOPR  fundingRate  googleTrend  \n",
       "0    0.998586    -0.001415  0.996332         0.01           19  \n",
       "1    0.995692    -0.004317  0.996332         0.01           19  \n",
       "2    0.994088    -0.005930  0.996332         0.01           21  \n",
       "3    0.992530    -0.007498  0.996332         0.01           22  \n",
       "4    1.006114     0.006095  0.996332         0.01           22  \n",
       "..        ...          ...       ...          ...          ...  \n",
       "667  0.973127    -0.027240  0.999064         0.01           49  \n",
       "668  0.983912    -0.016219  0.999064         0.01           69  \n",
       "669  0.991797    -0.008236  0.999064         0.01           71  \n",
       "670  0.996117    -0.003890  0.999064         0.01           81  \n",
       "671  1.000324     0.000324  0.999064         0.01           75  \n",
       "\n",
       "[672 rows x 11 columns]"
      ]
     },
     "execution_count": 27,
     "metadata": {},
     "output_type": "execute_result"
    }
   ],
   "source": [
    "past_weeks = data_training.tail(168)\n",
    "df= past_weeks.append(data_test, ignore_index = True)\n",
    "# test.drop(test.tail(len(test)%168).index,inplace=True)\n",
    "# test = test.drop(['NewDateTime'], axis=1)\n",
    "df"
   ]
  },
  {
   "cell_type": "code",
   "execution_count": 28,
   "metadata": {},
   "outputs": [
    {
     "data": {
      "text/plain": [
       "672"
      ]
     },
     "execution_count": 28,
     "metadata": {},
     "output_type": "execute_result"
    }
   ],
   "source": [
    "df = df.drop(['NewDateTime'], axis = 1)\n",
    "len(df)"
   ]
  },
  {
   "cell_type": "code",
   "execution_count": 29,
   "metadata": {},
   "outputs": [
    {
     "data": {
      "text/plain": [
       "(672, 10)"
      ]
     },
     "execution_count": 29,
     "metadata": {},
     "output_type": "execute_result"
    }
   ],
   "source": [
    "inputs = scaler.transform(df)\n",
    "inputs.shape"
   ]
  },
  {
   "cell_type": "code",
   "execution_count": 30,
   "metadata": {},
   "outputs": [
    {
     "data": {
      "text/plain": [
       "(672, 1)"
      ]
     },
     "execution_count": 30,
     "metadata": {},
     "output_type": "execute_result"
    }
   ],
   "source": [
    "df2 =df['close'].copy()\n",
    "pScaler = MinMaxScaler()\n",
    "pData = pScaler.fit_transform(df2.values.reshape(-1, 1))\n",
    "pData.shape"
   ]
  },
  {
   "cell_type": "code",
   "execution_count": 31,
   "metadata": {},
   "outputs": [],
   "source": [
    "X_test = []\n",
    "Y_test = []\n",
    "P_test = []\n",
    "for i in range(336, inputs.shape[0]+1,168):\n",
    "    X_test.append(inputs[i-336:i-168])\n",
    "    Y_test.append(inputs[i-168:i,0])\n",
    "for i in range(inputs.shape[0], inputs.shape[0]+1,168):\n",
    "    P_test.append(inputs[i-168:i])"
   ]
  },
  {
   "cell_type": "code",
   "execution_count": 32,
   "metadata": {},
   "outputs": [
    {
     "data": {
      "text/plain": [
       "((3, 168, 10), (3, 168), (1, 168, 10))"
      ]
     },
     "execution_count": 32,
     "metadata": {},
     "output_type": "execute_result"
    }
   ],
   "source": [
    "X_test, Y_test,P_test = np.array(X_test), np.array(Y_test), np.array(P_test)\n",
    "X_test.shape, Y_test.shape, P_test.shape"
   ]
  },
  {
   "cell_type": "code",
   "execution_count": 33,
   "metadata": {},
   "outputs": [
    {
     "data": {
      "text/plain": [
       "True"
      ]
     },
     "execution_count": 33,
     "metadata": {},
     "output_type": "execute_result"
    }
   ],
   "source": [
    "X_test[2,167,0] == Y_test[1,167]"
   ]
  },
  {
   "cell_type": "code",
   "execution_count": 34,
   "metadata": {},
   "outputs": [
    {
     "data": {
      "text/plain": [
       "True"
      ]
     },
     "execution_count": 34,
     "metadata": {},
     "output_type": "execute_result"
    }
   ],
   "source": [
    "Y_test[2,167]==P_test[0,167,0]"
   ]
  },
  {
   "cell_type": "code",
   "execution_count": 35,
   "metadata": {},
   "outputs": [
    {
     "name": "stdout",
     "output_type": "stream",
     "text": [
      "[[[0.53714941 0.53894114 0.53675817 ... 0.43247092 0.41838019 0.04705882]\n",
      "  [0.53163776 0.53713005 0.52876492 ... 0.43247092 0.41838019 0.04705882]\n",
      "  [0.5241068  0.5316186  0.52350014 ... 0.43247092 0.41838019 0.07058824]\n",
      "  ...\n",
      "  [0.50590308 0.50697454 0.50013577 ... 0.47484643 0.41838019 0.35294118]\n",
      "  [0.49520138 0.50588459 0.49699604 ... 0.47484643 0.41838019 0.30588235]\n",
      "  [0.49818859 0.49518354 0.49034629 ... 0.47484643 0.41838019 0.28235294]]]\n",
      "[[[0.4897826  0.48994213 0.49111617 0.48832855 0.05853114 0.5710435\n",
      "   0.59173644 0.51807225 0.44200882 0.48642722]]]\n"
     ]
    },
    {
     "data": {
      "text/plain": [
       "array([[[0.53163776, 0.53713005, 0.52876492, ..., 0.43247092,\n",
       "         0.41838019, 0.04705882],\n",
       "        [0.5241068 , 0.5316186 , 0.52350014, ..., 0.43247092,\n",
       "         0.41838019, 0.07058824],\n",
       "        [0.51464689, 0.52408765, 0.51477878, ..., 0.43247092,\n",
       "         0.41838019, 0.08235294],\n",
       "        ...,\n",
       "        [0.49520138, 0.50588459, 0.49699604, ..., 0.47484643,\n",
       "         0.41838019, 0.30588235],\n",
       "        [0.49818859, 0.49518354, 0.49034629, ..., 0.47484643,\n",
       "         0.41838019, 0.28235294],\n",
       "        [0.4897826 , 0.48994213, 0.49111617, ..., 0.51807225,\n",
       "         0.44200882, 0.48642722]]])"
      ]
     },
     "execution_count": 35,
     "metadata": {},
     "output_type": "execute_result"
    }
   ],
   "source": [
    "data = (X_test[0,:,:]).reshape(1,168,10)\n",
    "print(data)\n",
    "predata = model.predict(data).reshape(1,1,10)\n",
    "print(predata)\n",
    "data = data[0,1:168,:].reshape(1,167,10)\n",
    "data = np.append(data, predata)\n",
    "data = data.reshape(1,168,10)\n",
    "data"
   ]
  },
  {
   "cell_type": "code",
   "execution_count": 36,
   "metadata": {},
   "outputs": [],
   "source": [
    "pred = []\n",
    "for j in range(0,3):\n",
    "    \n",
    "    data = (X_test[j,:,:]).reshape(1,168,10)\n",
    "    for i in range(0,168):\n",
    "        predata = model.predict(data).reshape(1,1,10)\n",
    "        data = data[0,1:168,:].reshape(1,167,10)\n",
    "        data = np.append(data, predata)\n",
    "        data = data.reshape(1,168,10)\n",
    "        predata=pScaler.inverse_transform(predata.reshape(-1, 1))\n",
    "        pred.append((predata[0]))\n"
   ]
  },
  {
   "cell_type": "code",
   "execution_count": 37,
   "metadata": {},
   "outputs": [],
   "source": [
    "real=pScaler.inverse_transform(Y_test)\n",
    "real= real.reshape(-1, 1)"
   ]
  },
  {
   "cell_type": "code",
   "execution_count": 38,
   "metadata": {},
   "outputs": [
    {
     "data": {
      "image/png": "[encoded data removed]",
      "text/plain": [
       "<Figure size 1008x360 with 1 Axes>"
      ]
     },
     "metadata": {
      "needs_background": "light"
     },
     "output_type": "display_data"
    }
   ],
   "source": [
    "plt.figure(figsize=(14,5))\n",
    "plt.plot(np.array(real[:,0]).flat, color = 'red', label = 'Real Bitcoin Price')\n",
    "plt.plot(np.array(pred).flat, color = 'green', label = 'Predicted Bitcoin Price')\n",
    "plt.title('Bitcoin Price Prediction using RNN-LSTM')\n",
    "plt.xlabel('Time')\n",
    "plt.ylabel('Price')\n",
    "plt.legend()\n",
    "plt.show()"
   ]
  },
  {
   "cell_type": "code",
   "execution_count": 39,
   "metadata": {},
   "outputs": [
    {
     "data": {
      "text/plain": [
       "(504,)"
      ]
     },
     "execution_count": 39,
     "metadata": {},
     "output_type": "execute_result"
    }
   ],
   "source": [
    "realData = real[:,0]\n",
    "predictData = np.array(pred)[:,0]\n",
    "predictData.shape"
   ]
  },
  {
   "cell_type": "code",
   "execution_count": 40,
   "metadata": {},
   "outputs": [
    {
     "name": "stdout",
     "output_type": "stream",
     "text": [
      "0.5106\n"
     ]
    },
    {
     "data": {
      "image/png": "[encoded data removed]",
      "text/plain": [
       "<Figure size 432x288 with 1 Axes>"
      ]
     },
     "metadata": {
      "needs_background": "light"
     },
     "output_type": "display_data"
    }
   ],
   "source": [
    "r_d_s = pd.Series(realData)\n",
    "p_d_s = pd.Series(predictData)\n",
    "\n",
    "corr_bitcoin = round(r_d_s.corr(p_d_s),4)\n",
    "\n",
    "print(corr_bitcoin)\n",
    "\n",
    "plt.scatter(realData,predictData)\n",
    "plt.show()"
   ]
  },
  {
   "cell_type": "code",
   "execution_count": 41,
   "metadata": {},
   "outputs": [
    {
     "data": {
      "text/plain": [
       "numpy.ndarray"
      ]
     },
     "execution_count": 41,
     "metadata": {},
     "output_type": "execute_result"
    }
   ],
   "source": [
    "type(realData)"
   ]
  },
  {
   "cell_type": "code",
   "execution_count": null,
   "metadata": {},
   "outputs": [],
   "source": []
  }
 ],
 "metadata": {
  "kernelspec": {
   "display_name": "Python 3",
   "language": "python",
   "name": "python3"
  },
  "language_info": {
   "codemirror_mode": {
    "name": "ipython",
    "version": 3
   },
   "file_extension": ".py",
   "mimetype": "text/x-python",
   "name": "python",
   "nbconvert_exporter": "python",
   "pygments_lexer": "ipython3",
   "version": "3.6.9"
  }
 },
 "nbformat": 4,
 "nbformat_minor": 4
}
