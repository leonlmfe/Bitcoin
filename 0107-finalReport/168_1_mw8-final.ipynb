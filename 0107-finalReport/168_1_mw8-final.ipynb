{
 "cells": [
  {
   "cell_type": "code",
   "execution_count": 3,
   "metadata": {},
   "outputs": [],
   "source": [
    "import numpy as np\n",
    "import matplotlib.pyplot as plt\n",
    "import pandas as pd\n",
    "import gc\n",
    "from sklearn.preprocessing import MinMaxScaler\n",
    "from pandas import read_csv"
   ]
  },
  {
   "cell_type": "code",
   "execution_count": 4,
   "metadata": {},
   "outputs": [
    {
     "data": {
      "text/plain": [
       "20156"
      ]
     },
     "execution_count": 4,
     "metadata": {},
     "output_type": "execute_result"
    }
   ],
   "source": [
    "# load the new file\n",
    "df = read_csv('./data/bitcoin_data.csv', date_parser = True)\n",
    "df.drop(df.columns[0], axis=1,inplace = True)\n",
    "len(df)"
   ]
  },
  {
   "cell_type": "code",
   "execution_count": 5,
   "metadata": {},
   "outputs": [
    {
     "data": {
      "text/plain": [
       "20156"
      ]
     },
     "execution_count": 5,
     "metadata": {},
     "output_type": "execute_result"
    }
   ],
   "source": [
    "df = df[df['NewDateTime']>= '2020-01-01'].copy()\n",
    "len(df)"
   ]
  },
  {
   "cell_type": "code",
   "execution_count": 6,
   "metadata": {},
   "outputs": [],
   "source": [
    "# df.drop(df.head(len(df)%168).index,inplace=True)\n",
    "# len(df)"
   ]
  },
  {
   "cell_type": "code",
   "execution_count": 7,
   "metadata": {},
   "outputs": [
    {
     "data": {
      "text/plain": [
       "504"
      ]
     },
     "execution_count": 7,
     "metadata": {},
     "output_type": "execute_result"
    }
   ],
   "source": [
    "viewdata = 168*3\n",
    "viewdata"
   ]
  },
  {
   "cell_type": "code",
   "execution_count": 8,
   "metadata": {},
   "outputs": [
    {
     "data": {
      "text/html": [
       "<div>\n",
       "<style scoped>\n",
       "    .dataframe tbody tr th:only-of-type {\n",
       "        vertical-align: middle;\n",
       "    }\n",
       "\n",
       "    .dataframe tbody tr th {\n",
       "        vertical-align: top;\n",
       "    }\n",
       "\n",
       "    .dataframe thead th {\n",
       "        text-align: right;\n",
       "    }\n",
       "</style>\n",
       "<table border=\"1\" class=\"dataframe\">\n",
       "  <thead>\n",
       "    <tr style=\"text-align: right;\">\n",
       "      <th></th>\n",
       "      <th>close</th>\n",
       "      <th>open</th>\n",
       "      <th>high</th>\n",
       "      <th>low</th>\n",
       "      <th>Volume BTC</th>\n",
       "      <th>NewDateTime</th>\n",
       "      <th>returns</th>\n",
       "      <th>log_returns</th>\n",
       "      <th>SOPR</th>\n",
       "      <th>fundingRate</th>\n",
       "      <th>googleTrend</th>\n",
       "    </tr>\n",
       "  </thead>\n",
       "  <tbody>\n",
       "    <tr>\n",
       "      <th>0</th>\n",
       "      <td>8431.82</td>\n",
       "      <td>8145.28</td>\n",
       "      <td>8455.00</td>\n",
       "      <td>8142.00</td>\n",
       "      <td>11041.87000</td>\n",
       "      <td>2020-01-08 00:00:00</td>\n",
       "      <td>1.035179</td>\n",
       "      <td>0.034574</td>\n",
       "      <td>1.011291</td>\n",
       "      <td>0.01</td>\n",
       "      <td>89</td>\n",
       "    </tr>\n",
       "    <tr>\n",
       "      <th>1</th>\n",
       "      <td>8370.92</td>\n",
       "      <td>8431.82</td>\n",
       "      <td>8448.14</td>\n",
       "      <td>8328.89</td>\n",
       "      <td>7355.82000</td>\n",
       "      <td>2020-01-08 01:00:00</td>\n",
       "      <td>0.992777</td>\n",
       "      <td>-0.007249</td>\n",
       "      <td>1.011291</td>\n",
       "      <td>0.01</td>\n",
       "      <td>86</td>\n",
       "    </tr>\n",
       "    <tr>\n",
       "      <th>2</th>\n",
       "      <td>8278.59</td>\n",
       "      <td>8370.92</td>\n",
       "      <td>8422.00</td>\n",
       "      <td>8256.74</td>\n",
       "      <td>4048.91000</td>\n",
       "      <td>2020-01-08 02:00:00</td>\n",
       "      <td>0.988970</td>\n",
       "      <td>-0.011091</td>\n",
       "      <td>1.011291</td>\n",
       "      <td>0.01</td>\n",
       "      <td>75</td>\n",
       "    </tr>\n",
       "    <tr>\n",
       "      <th>3</th>\n",
       "      <td>8300.34</td>\n",
       "      <td>8278.59</td>\n",
       "      <td>8344.00</td>\n",
       "      <td>8244.93</td>\n",
       "      <td>3947.38000</td>\n",
       "      <td>2020-01-08 03:00:00</td>\n",
       "      <td>1.002627</td>\n",
       "      <td>0.002624</td>\n",
       "      <td>1.011291</td>\n",
       "      <td>0.01</td>\n",
       "      <td>68</td>\n",
       "    </tr>\n",
       "    <tr>\n",
       "      <th>4</th>\n",
       "      <td>8344.63</td>\n",
       "      <td>8300.34</td>\n",
       "      <td>8355.87</td>\n",
       "      <td>8288.00</td>\n",
       "      <td>2374.55000</td>\n",
       "      <td>2020-01-08 04:00:00</td>\n",
       "      <td>1.005336</td>\n",
       "      <td>0.005322</td>\n",
       "      <td>1.011291</td>\n",
       "      <td>0.01</td>\n",
       "      <td>68</td>\n",
       "    </tr>\n",
       "    <tr>\n",
       "      <th>...</th>\n",
       "      <td>...</td>\n",
       "      <td>...</td>\n",
       "      <td>...</td>\n",
       "      <td>...</td>\n",
       "      <td>...</td>\n",
       "      <td>...</td>\n",
       "      <td>...</td>\n",
       "      <td>...</td>\n",
       "      <td>...</td>\n",
       "      <td>...</td>\n",
       "      <td>...</td>\n",
       "    </tr>\n",
       "    <tr>\n",
       "      <th>19620</th>\n",
       "      <td>48674.90</td>\n",
       "      <td>47830.00</td>\n",
       "      <td>49259.98</td>\n",
       "      <td>47212.00</td>\n",
       "      <td>10878.12140</td>\n",
       "      <td>2021-12-15 19:00:00</td>\n",
       "      <td>1.017665</td>\n",
       "      <td>0.017511</td>\n",
       "      <td>1.000075</td>\n",
       "      <td>0.01</td>\n",
       "      <td>47</td>\n",
       "    </tr>\n",
       "    <tr>\n",
       "      <th>19621</th>\n",
       "      <td>49211.84</td>\n",
       "      <td>48674.90</td>\n",
       "      <td>49500.00</td>\n",
       "      <td>48527.01</td>\n",
       "      <td>4690.61661</td>\n",
       "      <td>2021-12-15 20:00:00</td>\n",
       "      <td>1.011031</td>\n",
       "      <td>0.010971</td>\n",
       "      <td>1.000075</td>\n",
       "      <td>0.01</td>\n",
       "      <td>47</td>\n",
       "    </tr>\n",
       "    <tr>\n",
       "      <th>19622</th>\n",
       "      <td>49168.89</td>\n",
       "      <td>49211.83</td>\n",
       "      <td>49358.75</td>\n",
       "      <td>48865.94</td>\n",
       "      <td>2276.03432</td>\n",
       "      <td>2021-12-15 21:00:00</td>\n",
       "      <td>0.999127</td>\n",
       "      <td>-0.000873</td>\n",
       "      <td>1.000075</td>\n",
       "      <td>0.01</td>\n",
       "      <td>45</td>\n",
       "    </tr>\n",
       "    <tr>\n",
       "      <th>19623</th>\n",
       "      <td>48747.30</td>\n",
       "      <td>49168.89</td>\n",
       "      <td>49235.38</td>\n",
       "      <td>48653.00</td>\n",
       "      <td>1159.59720</td>\n",
       "      <td>2021-12-15 22:00:00</td>\n",
       "      <td>0.991426</td>\n",
       "      <td>-0.008611</td>\n",
       "      <td>1.000075</td>\n",
       "      <td>0.01</td>\n",
       "      <td>41</td>\n",
       "    </tr>\n",
       "    <tr>\n",
       "      <th>19624</th>\n",
       "      <td>48864.98</td>\n",
       "      <td>48747.31</td>\n",
       "      <td>48974.09</td>\n",
       "      <td>48700.19</td>\n",
       "      <td>1285.21724</td>\n",
       "      <td>2021-12-15 23:00:00</td>\n",
       "      <td>1.002414</td>\n",
       "      <td>0.002411</td>\n",
       "      <td>1.000075</td>\n",
       "      <td>0.01</td>\n",
       "      <td>39</td>\n",
       "    </tr>\n",
       "  </tbody>\n",
       "</table>\n",
       "<p>16974 rows × 11 columns</p>\n",
       "</div>"
      ],
      "text/plain": [
       "          close      open      high       low   Volume BTC  \\\n",
       "0       8431.82   8145.28   8455.00   8142.00  11041.87000   \n",
       "1       8370.92   8431.82   8448.14   8328.89   7355.82000   \n",
       "2       8278.59   8370.92   8422.00   8256.74   4048.91000   \n",
       "3       8300.34   8278.59   8344.00   8244.93   3947.38000   \n",
       "4       8344.63   8300.34   8355.87   8288.00   2374.55000   \n",
       "...         ...       ...       ...       ...          ...   \n",
       "19620  48674.90  47830.00  49259.98  47212.00  10878.12140   \n",
       "19621  49211.84  48674.90  49500.00  48527.01   4690.61661   \n",
       "19622  49168.89  49211.83  49358.75  48865.94   2276.03432   \n",
       "19623  48747.30  49168.89  49235.38  48653.00   1159.59720   \n",
       "19624  48864.98  48747.31  48974.09  48700.19   1285.21724   \n",
       "\n",
       "               NewDateTime   returns  log_returns      SOPR  fundingRate  \\\n",
       "0      2020-01-08 00:00:00  1.035179     0.034574  1.011291         0.01   \n",
       "1      2020-01-08 01:00:00  0.992777    -0.007249  1.011291         0.01   \n",
       "2      2020-01-08 02:00:00  0.988970    -0.011091  1.011291         0.01   \n",
       "3      2020-01-08 03:00:00  1.002627     0.002624  1.011291         0.01   \n",
       "4      2020-01-08 04:00:00  1.005336     0.005322  1.011291         0.01   \n",
       "...                    ...       ...          ...       ...          ...   \n",
       "19620  2021-12-15 19:00:00  1.017665     0.017511  1.000075         0.01   \n",
       "19621  2021-12-15 20:00:00  1.011031     0.010971  1.000075         0.01   \n",
       "19622  2021-12-15 21:00:00  0.999127    -0.000873  1.000075         0.01   \n",
       "19623  2021-12-15 22:00:00  0.991426    -0.008611  1.000075         0.01   \n",
       "19624  2021-12-15 23:00:00  1.002414     0.002411  1.000075         0.01   \n",
       "\n",
       "       googleTrend  \n",
       "0               89  \n",
       "1               86  \n",
       "2               75  \n",
       "3               68  \n",
       "4               68  \n",
       "...            ...  \n",
       "19620           47  \n",
       "19621           47  \n",
       "19622           45  \n",
       "19623           41  \n",
       "19624           39  \n",
       "\n",
       "[16974 rows x 11 columns]"
      ]
     },
     "execution_count": 8,
     "metadata": {},
     "output_type": "execute_result"
    }
   ],
   "source": [
    "df = df.drop_duplicates(subset=['NewDateTime'], keep=\"last\")\n",
    "data_training = df.iloc[0:int(len(df)-viewdata),:]\n",
    "data_test = df.iloc[int(len(df)-viewdata):int(len(df)),:]\n",
    "\n",
    "data_training"
   ]
  },
  {
   "cell_type": "code",
   "execution_count": 9,
   "metadata": {},
   "outputs": [
    {
     "data": {
      "text/html": [
       "<div>\n",
       "<style scoped>\n",
       "    .dataframe tbody tr th:only-of-type {\n",
       "        vertical-align: middle;\n",
       "    }\n",
       "\n",
       "    .dataframe tbody tr th {\n",
       "        vertical-align: top;\n",
       "    }\n",
       "\n",
       "    .dataframe thead th {\n",
       "        text-align: right;\n",
       "    }\n",
       "</style>\n",
       "<table border=\"1\" class=\"dataframe\">\n",
       "  <thead>\n",
       "    <tr style=\"text-align: right;\">\n",
       "      <th></th>\n",
       "      <th>close</th>\n",
       "      <th>open</th>\n",
       "      <th>high</th>\n",
       "      <th>low</th>\n",
       "      <th>Volume BTC</th>\n",
       "      <th>returns</th>\n",
       "      <th>log_returns</th>\n",
       "      <th>SOPR</th>\n",
       "      <th>fundingRate</th>\n",
       "      <th>googleTrend</th>\n",
       "    </tr>\n",
       "  </thead>\n",
       "  <tbody>\n",
       "    <tr>\n",
       "      <th>0</th>\n",
       "      <td>8431.82</td>\n",
       "      <td>8145.28</td>\n",
       "      <td>8455.00</td>\n",
       "      <td>8142.00</td>\n",
       "      <td>11041.87000</td>\n",
       "      <td>1.035179</td>\n",
       "      <td>0.034574</td>\n",
       "      <td>1.011291</td>\n",
       "      <td>0.01</td>\n",
       "      <td>89</td>\n",
       "    </tr>\n",
       "    <tr>\n",
       "      <th>1</th>\n",
       "      <td>8370.92</td>\n",
       "      <td>8431.82</td>\n",
       "      <td>8448.14</td>\n",
       "      <td>8328.89</td>\n",
       "      <td>7355.82000</td>\n",
       "      <td>0.992777</td>\n",
       "      <td>-0.007249</td>\n",
       "      <td>1.011291</td>\n",
       "      <td>0.01</td>\n",
       "      <td>86</td>\n",
       "    </tr>\n",
       "    <tr>\n",
       "      <th>2</th>\n",
       "      <td>8278.59</td>\n",
       "      <td>8370.92</td>\n",
       "      <td>8422.00</td>\n",
       "      <td>8256.74</td>\n",
       "      <td>4048.91000</td>\n",
       "      <td>0.988970</td>\n",
       "      <td>-0.011091</td>\n",
       "      <td>1.011291</td>\n",
       "      <td>0.01</td>\n",
       "      <td>75</td>\n",
       "    </tr>\n",
       "    <tr>\n",
       "      <th>3</th>\n",
       "      <td>8300.34</td>\n",
       "      <td>8278.59</td>\n",
       "      <td>8344.00</td>\n",
       "      <td>8244.93</td>\n",
       "      <td>3947.38000</td>\n",
       "      <td>1.002627</td>\n",
       "      <td>0.002624</td>\n",
       "      <td>1.011291</td>\n",
       "      <td>0.01</td>\n",
       "      <td>68</td>\n",
       "    </tr>\n",
       "    <tr>\n",
       "      <th>4</th>\n",
       "      <td>8344.63</td>\n",
       "      <td>8300.34</td>\n",
       "      <td>8355.87</td>\n",
       "      <td>8288.00</td>\n",
       "      <td>2374.55000</td>\n",
       "      <td>1.005336</td>\n",
       "      <td>0.005322</td>\n",
       "      <td>1.011291</td>\n",
       "      <td>0.01</td>\n",
       "      <td>68</td>\n",
       "    </tr>\n",
       "    <tr>\n",
       "      <th>...</th>\n",
       "      <td>...</td>\n",
       "      <td>...</td>\n",
       "      <td>...</td>\n",
       "      <td>...</td>\n",
       "      <td>...</td>\n",
       "      <td>...</td>\n",
       "      <td>...</td>\n",
       "      <td>...</td>\n",
       "      <td>...</td>\n",
       "      <td>...</td>\n",
       "    </tr>\n",
       "    <tr>\n",
       "      <th>19620</th>\n",
       "      <td>48674.90</td>\n",
       "      <td>47830.00</td>\n",
       "      <td>49259.98</td>\n",
       "      <td>47212.00</td>\n",
       "      <td>10878.12140</td>\n",
       "      <td>1.017665</td>\n",
       "      <td>0.017511</td>\n",
       "      <td>1.000075</td>\n",
       "      <td>0.01</td>\n",
       "      <td>47</td>\n",
       "    </tr>\n",
       "    <tr>\n",
       "      <th>19621</th>\n",
       "      <td>49211.84</td>\n",
       "      <td>48674.90</td>\n",
       "      <td>49500.00</td>\n",
       "      <td>48527.01</td>\n",
       "      <td>4690.61661</td>\n",
       "      <td>1.011031</td>\n",
       "      <td>0.010971</td>\n",
       "      <td>1.000075</td>\n",
       "      <td>0.01</td>\n",
       "      <td>47</td>\n",
       "    </tr>\n",
       "    <tr>\n",
       "      <th>19622</th>\n",
       "      <td>49168.89</td>\n",
       "      <td>49211.83</td>\n",
       "      <td>49358.75</td>\n",
       "      <td>48865.94</td>\n",
       "      <td>2276.03432</td>\n",
       "      <td>0.999127</td>\n",
       "      <td>-0.000873</td>\n",
       "      <td>1.000075</td>\n",
       "      <td>0.01</td>\n",
       "      <td>45</td>\n",
       "    </tr>\n",
       "    <tr>\n",
       "      <th>19623</th>\n",
       "      <td>48747.30</td>\n",
       "      <td>49168.89</td>\n",
       "      <td>49235.38</td>\n",
       "      <td>48653.00</td>\n",
       "      <td>1159.59720</td>\n",
       "      <td>0.991426</td>\n",
       "      <td>-0.008611</td>\n",
       "      <td>1.000075</td>\n",
       "      <td>0.01</td>\n",
       "      <td>41</td>\n",
       "    </tr>\n",
       "    <tr>\n",
       "      <th>19624</th>\n",
       "      <td>48864.98</td>\n",
       "      <td>48747.31</td>\n",
       "      <td>48974.09</td>\n",
       "      <td>48700.19</td>\n",
       "      <td>1285.21724</td>\n",
       "      <td>1.002414</td>\n",
       "      <td>0.002411</td>\n",
       "      <td>1.000075</td>\n",
       "      <td>0.01</td>\n",
       "      <td>39</td>\n",
       "    </tr>\n",
       "  </tbody>\n",
       "</table>\n",
       "<p>16974 rows × 10 columns</p>\n",
       "</div>"
      ],
      "text/plain": [
       "          close      open      high       low   Volume BTC   returns  \\\n",
       "0       8431.82   8145.28   8455.00   8142.00  11041.87000  1.035179   \n",
       "1       8370.92   8431.82   8448.14   8328.89   7355.82000  0.992777   \n",
       "2       8278.59   8370.92   8422.00   8256.74   4048.91000  0.988970   \n",
       "3       8300.34   8278.59   8344.00   8244.93   3947.38000  1.002627   \n",
       "4       8344.63   8300.34   8355.87   8288.00   2374.55000  1.005336   \n",
       "...         ...       ...       ...       ...          ...       ...   \n",
       "19620  48674.90  47830.00  49259.98  47212.00  10878.12140  1.017665   \n",
       "19621  49211.84  48674.90  49500.00  48527.01   4690.61661  1.011031   \n",
       "19622  49168.89  49211.83  49358.75  48865.94   2276.03432  0.999127   \n",
       "19623  48747.30  49168.89  49235.38  48653.00   1159.59720  0.991426   \n",
       "19624  48864.98  48747.31  48974.09  48700.19   1285.21724  1.002414   \n",
       "\n",
       "       log_returns      SOPR  fundingRate  googleTrend  \n",
       "0         0.034574  1.011291         0.01           89  \n",
       "1        -0.007249  1.011291         0.01           86  \n",
       "2        -0.011091  1.011291         0.01           75  \n",
       "3         0.002624  1.011291         0.01           68  \n",
       "4         0.005322  1.011291         0.01           68  \n",
       "...            ...       ...          ...          ...  \n",
       "19620     0.017511  1.000075         0.01           47  \n",
       "19621     0.010971  1.000075         0.01           47  \n",
       "19622    -0.000873  1.000075         0.01           45  \n",
       "19623    -0.008611  1.000075         0.01           41  \n",
       "19624     0.002411  1.000075         0.01           39  \n",
       "\n",
       "[16974 rows x 10 columns]"
      ]
     },
     "execution_count": 9,
     "metadata": {},
     "output_type": "execute_result"
    }
   ],
   "source": [
    "training_data = data_training.drop(['NewDateTime'], axis = 1)\n",
    "\n",
    "\n",
    "training_data"
   ]
  },
  {
   "cell_type": "code",
   "execution_count": 10,
   "metadata": {},
   "outputs": [
    {
     "data": {
      "text/plain": [
       "array([[0.06668181, 0.06223816, 0.05971424, ..., 0.61500702, 0.51666667,\n",
       "        0.88297872],\n",
       "       [0.06573767, 0.06668033, 0.0596077 , ..., 0.61500702, 0.51666667,\n",
       "        0.85106383],\n",
       "       [0.06430626, 0.06573621, 0.05920174, ..., 0.61500702, 0.51666667,\n",
       "        0.73404255],\n",
       "       ...,\n",
       "       [0.69823442, 0.69888464, 0.69496428, ..., 0.54767841, 0.51666667,\n",
       "        0.41489362],\n",
       "       [0.69169845, 0.69821895, 0.6930483 , ..., 0.54767841, 0.51666667,\n",
       "        0.37234043],\n",
       "       [0.69352286, 0.69168328, 0.68899037, ..., 0.54767841, 0.51666667,\n",
       "        0.35106383]])"
      ]
     },
     "execution_count": 10,
     "metadata": {},
     "output_type": "execute_result"
    }
   ],
   "source": [
    "scaler = MinMaxScaler()\n",
    "training_data = scaler.fit_transform(training_data)\n",
    "training_data"
   ]
  },
  {
   "cell_type": "code",
   "execution_count": 11,
   "metadata": {},
   "outputs": [],
   "source": [
    "X_train = []\n",
    "Y_train = []"
   ]
  },
  {
   "cell_type": "code",
   "execution_count": 12,
   "metadata": {},
   "outputs": [
    {
     "data": {
      "text/plain": [
       "(16974, 10)"
      ]
     },
     "execution_count": 12,
     "metadata": {},
     "output_type": "execute_result"
    }
   ],
   "source": [
    "training_data.shape"
   ]
  },
  {
   "cell_type": "code",
   "execution_count": 13,
   "metadata": {},
   "outputs": [],
   "source": [
    "for i in range(168, training_data.shape[0],8):\n",
    "    X_train.append(training_data[i-168:i])\n",
    "    Y_train.append(training_data[i])"
   ]
  },
  {
   "cell_type": "code",
   "execution_count": 14,
   "metadata": {},
   "outputs": [],
   "source": [
    "X_train, Y_train = np.array(X_train), np.array(Y_train)"
   ]
  },
  {
   "cell_type": "code",
   "execution_count": 15,
   "metadata": {},
   "outputs": [
    {
     "data": {
      "text/plain": [
       "(2101, 168, 10)"
      ]
     },
     "execution_count": 15,
     "metadata": {},
     "output_type": "execute_result"
    }
   ],
   "source": [
    "X_train.shape"
   ]
  },
  {
   "cell_type": "code",
   "execution_count": 16,
   "metadata": {},
   "outputs": [
    {
     "data": {
      "text/plain": [
       "(2101, 10)"
      ]
     },
     "execution_count": 16,
     "metadata": {},
     "output_type": "execute_result"
    }
   ],
   "source": [
    "Y_train.shape"
   ]
  },
  {
   "cell_type": "code",
   "execution_count": 17,
   "metadata": {},
   "outputs": [
    {
     "name": "stdout",
     "output_type": "stream",
     "text": [
      "WARNING:tensorflow:Deprecation warnings have been disabled. Set TF_ENABLE_DEPRECATION_WARNINGS=1 to re-enable them.\n"
     ]
    }
   ],
   "source": [
    "\n",
    "from tensorflow.keras import Sequential\n",
    "from tensorflow.keras.layers import Dense, LSTM, Dropout,RepeatVector,TimeDistributed"
   ]
  },
  {
   "cell_type": "code",
   "execution_count": 47,
   "metadata": {},
   "outputs": [],
   "source": [
    "model = Sequential()\n",
    "model.add(LSTM(units = 50, activation = 'relu', return_sequences = True, input_shape = (X_train.shape[1], 10)))\n",
    "model.add(Dropout(0.15))\n",
    "model.add(LSTM(units = 60, activation = 'relu', return_sequences = True))\n",
    "model.add(Dropout(0.2))\n",
    "model.add(LSTM(units = 80, activation = 'relu', return_sequences = True))\n",
    "model.add(Dropout(0.25))\n",
    "\n",
    "model.add(LSTM(units = 120, activation = 'relu'))\n",
    "model.add(Dropout(0.3))\n",
    "\n",
    "model.add(Dense(units =10))"
   ]
  },
  {
   "cell_type": "code",
   "execution_count": 48,
   "metadata": {},
   "outputs": [
    {
     "name": "stdout",
     "output_type": "stream",
     "text": [
      "Model: \"sequential_3\"\n",
      "_________________________________________________________________\n",
      "Layer (type)                 Output Shape              Param #   \n",
      "=================================================================\n",
      "lstm_12 (LSTM)               (None, 168, 50)           12200     \n",
      "_________________________________________________________________\n",
      "dropout_12 (Dropout)         (None, 168, 50)           0         \n",
      "_________________________________________________________________\n",
      "lstm_13 (LSTM)               (None, 168, 60)           26640     \n",
      "_________________________________________________________________\n",
      "dropout_13 (Dropout)         (None, 168, 60)           0         \n",
      "_________________________________________________________________\n",
      "lstm_14 (LSTM)               (None, 168, 80)           45120     \n",
      "_________________________________________________________________\n",
      "dropout_14 (Dropout)         (None, 168, 80)           0         \n",
      "_________________________________________________________________\n",
      "lstm_15 (LSTM)               (None, 120)               96480     \n",
      "_________________________________________________________________\n",
      "dropout_15 (Dropout)         (None, 120)               0         \n",
      "_________________________________________________________________\n",
      "dense_3 (Dense)              (None, 10)                1210      \n",
      "=================================================================\n",
      "Total params: 181,650\n",
      "Trainable params: 181,650\n",
      "Non-trainable params: 0\n",
      "_________________________________________________________________\n"
     ]
    }
   ],
   "source": [
    "model.summary()"
   ]
  },
  {
   "cell_type": "code",
   "execution_count": 49,
   "metadata": {},
   "outputs": [],
   "source": [
    "model.compile(loss='mse', optimizer='adam')"
   ]
  },
  {
   "cell_type": "code",
   "execution_count": 50,
   "metadata": {},
   "outputs": [
    {
     "name": "stdout",
     "output_type": "stream",
     "text": [
      "Train on 1890 samples, validate on 211 samples\n",
      "Epoch 1/10\n",
      "1890/1890 [==============================] - 83s 44ms/sample - loss: 0.1567 - val_loss: 0.1018\n",
      "Epoch 2/10\n",
      "1890/1890 [==============================] - 80s 42ms/sample - loss: 0.0397 - val_loss: 746.4117\n",
      "Epoch 3/10\n",
      "1890/1890 [==============================] - 81s 43ms/sample - loss: 0.0176 - val_loss: 0.0116\n",
      "Epoch 4/10\n",
      "1890/1890 [==============================] - 80s 42ms/sample - loss: 0.0132 - val_loss: 0.0073\n",
      "Epoch 5/10\n",
      "1890/1890 [==============================] - 80s 42ms/sample - loss: 0.0122 - val_loss: 0.0058\n",
      "Epoch 6/10\n",
      "1890/1890 [==============================] - 80s 42ms/sample - loss: 0.0110 - val_loss: 0.0048\n",
      "Epoch 7/10\n",
      "1890/1890 [==============================] - 80s 42ms/sample - loss: 0.0104 - val_loss: 0.0071\n",
      "Epoch 8/10\n",
      "1890/1890 [==============================] - 79s 42ms/sample - loss: 0.0098 - val_loss: 0.0041\n",
      "Epoch 9/10\n",
      "1890/1890 [==============================] - 90s 48ms/sample - loss: 0.0094 - val_loss: 0.0063\n",
      "Epoch 10/10\n",
      "1890/1890 [==============================] - 81s 43ms/sample - loss: 0.0090 - val_loss: 0.0035\n"
     ]
    }
   ],
   "source": [
    "history = model.fit(X_train, Y_train, epochs=10, batch_size=32, verbose=1, validation_split=0.1)"
   ]
  },
  {
   "cell_type": "code",
   "execution_count": 17,
   "metadata": {},
   "outputs": [],
   "source": [
    "import tensorflow as tf\n",
    "model = tf.keras.models.load_model('168_1_f.h5')"
   ]
  },
  {
   "cell_type": "code",
   "execution_count": 30,
   "metadata": {},
   "outputs": [],
   "source": [
    "model.save(\"168_1_f.h5\")"
   ]
  },
  {
   "cell_type": "code",
   "execution_count": 31,
   "metadata": {},
   "outputs": [],
   "source": [
    "# result = model.predict(X_train, batch_size=128, verbose=0)\n",
    "# for value in result[0,:,0]:\n",
    "# \tprint('%.1f' % value)"
   ]
  },
  {
   "cell_type": "code",
   "execution_count": 51,
   "metadata": {},
   "outputs": [
    {
     "data": {
      "image/png": "[encoded data removed]",
      "text/plain": [
       "<Figure size 432x288 with 1 Axes>"
      ]
     },
     "metadata": {
      "needs_background": "light"
     },
     "output_type": "display_data"
    }
   ],
   "source": [
    "loss = history.history['loss']\n",
    "epoch = range(len(loss))\n",
    "# plt.figure(figsize=(8,8))\n",
    "plt.plot(history.history['loss'])\n",
    "plt.plot(history.history['val_loss'])\n",
    "plt.title('model train vs validation loss')\n",
    "plt.ylabel('loss')\n",
    "plt.xlabel('epoch')\n",
    "plt.legend(['train', 'validation'], loc='upper right')\n",
    "plt.show()"
   ]
  },
  {
   "cell_type": "code",
   "execution_count": 52,
   "metadata": {},
   "outputs": [
    {
     "data": {
      "text/html": [
       "<div>\n",
       "<style scoped>\n",
       "    .dataframe tbody tr th:only-of-type {\n",
       "        vertical-align: middle;\n",
       "    }\n",
       "\n",
       "    .dataframe tbody tr th {\n",
       "        vertical-align: top;\n",
       "    }\n",
       "\n",
       "    .dataframe thead th {\n",
       "        text-align: right;\n",
       "    }\n",
       "</style>\n",
       "<table border=\"1\" class=\"dataframe\">\n",
       "  <thead>\n",
       "    <tr style=\"text-align: right;\">\n",
       "      <th></th>\n",
       "      <th>close</th>\n",
       "      <th>open</th>\n",
       "      <th>high</th>\n",
       "      <th>low</th>\n",
       "      <th>Volume BTC</th>\n",
       "      <th>NewDateTime</th>\n",
       "      <th>returns</th>\n",
       "      <th>log_returns</th>\n",
       "      <th>SOPR</th>\n",
       "      <th>fundingRate</th>\n",
       "      <th>googleTrend</th>\n",
       "    </tr>\n",
       "  </thead>\n",
       "  <tbody>\n",
       "    <tr>\n",
       "      <th>0</th>\n",
       "      <td>50399.83</td>\n",
       "      <td>50471.19</td>\n",
       "      <td>50797.76</td>\n",
       "      <td>50323.83</td>\n",
       "      <td>1165.14158</td>\n",
       "      <td>2021-12-09 00:00:00</td>\n",
       "      <td>0.998586</td>\n",
       "      <td>-0.001415</td>\n",
       "      <td>0.996332</td>\n",
       "      <td>0.01</td>\n",
       "      <td>19</td>\n",
       "    </tr>\n",
       "    <tr>\n",
       "      <th>1</th>\n",
       "      <td>50182.70</td>\n",
       "      <td>50399.84</td>\n",
       "      <td>50483.68</td>\n",
       "      <td>50147.89</td>\n",
       "      <td>871.61111</td>\n",
       "      <td>2021-12-09 01:00:00</td>\n",
       "      <td>0.995692</td>\n",
       "      <td>-0.004317</td>\n",
       "      <td>0.996332</td>\n",
       "      <td>0.01</td>\n",
       "      <td>19</td>\n",
       "    </tr>\n",
       "    <tr>\n",
       "      <th>2</th>\n",
       "      <td>49886.02</td>\n",
       "      <td>50182.71</td>\n",
       "      <td>50276.81</td>\n",
       "      <td>49620.62</td>\n",
       "      <td>1628.84987</td>\n",
       "      <td>2021-12-09 02:00:00</td>\n",
       "      <td>0.994088</td>\n",
       "      <td>-0.005930</td>\n",
       "      <td>0.996332</td>\n",
       "      <td>0.01</td>\n",
       "      <td>21</td>\n",
       "    </tr>\n",
       "    <tr>\n",
       "      <th>3</th>\n",
       "      <td>49513.35</td>\n",
       "      <td>49886.02</td>\n",
       "      <td>49934.12</td>\n",
       "      <td>49425.74</td>\n",
       "      <td>951.66432</td>\n",
       "      <td>2021-12-09 03:00:00</td>\n",
       "      <td>0.992530</td>\n",
       "      <td>-0.007498</td>\n",
       "      <td>0.996332</td>\n",
       "      <td>0.01</td>\n",
       "      <td>22</td>\n",
       "    </tr>\n",
       "    <tr>\n",
       "      <th>4</th>\n",
       "      <td>49816.07</td>\n",
       "      <td>49517.00</td>\n",
       "      <td>49821.01</td>\n",
       "      <td>49420.33</td>\n",
       "      <td>1052.17101</td>\n",
       "      <td>2021-12-09 04:00:00</td>\n",
       "      <td>1.006114</td>\n",
       "      <td>0.006095</td>\n",
       "      <td>0.996332</td>\n",
       "      <td>0.01</td>\n",
       "      <td>22</td>\n",
       "    </tr>\n",
       "    <tr>\n",
       "      <th>...</th>\n",
       "      <td>...</td>\n",
       "      <td>...</td>\n",
       "      <td>...</td>\n",
       "      <td>...</td>\n",
       "      <td>...</td>\n",
       "      <td>...</td>\n",
       "      <td>...</td>\n",
       "      <td>...</td>\n",
       "      <td>...</td>\n",
       "      <td>...</td>\n",
       "      <td>...</td>\n",
       "    </tr>\n",
       "    <tr>\n",
       "      <th>667</th>\n",
       "      <td>44685.93</td>\n",
       "      <td>45919.93</td>\n",
       "      <td>46118.85</td>\n",
       "      <td>44500.00</td>\n",
       "      <td>7383.66525</td>\n",
       "      <td>2022-01-05 19:00:00</td>\n",
       "      <td>0.973127</td>\n",
       "      <td>-0.027240</td>\n",
       "      <td>0.999064</td>\n",
       "      <td>0.01</td>\n",
       "      <td>49</td>\n",
       "    </tr>\n",
       "    <tr>\n",
       "      <th>668</th>\n",
       "      <td>43967.01</td>\n",
       "      <td>44685.93</td>\n",
       "      <td>44847.99</td>\n",
       "      <td>43722.54</td>\n",
       "      <td>8054.81116</td>\n",
       "      <td>2022-01-05 20:00:00</td>\n",
       "      <td>0.983912</td>\n",
       "      <td>-0.016219</td>\n",
       "      <td>0.999064</td>\n",
       "      <td>0.01</td>\n",
       "      <td>69</td>\n",
       "    </tr>\n",
       "    <tr>\n",
       "      <th>669</th>\n",
       "      <td>43606.37</td>\n",
       "      <td>43967.01</td>\n",
       "      <td>44331.42</td>\n",
       "      <td>43422.54</td>\n",
       "      <td>3844.19955</td>\n",
       "      <td>2022-01-05 21:00:00</td>\n",
       "      <td>0.991797</td>\n",
       "      <td>-0.008236</td>\n",
       "      <td>0.999064</td>\n",
       "      <td>0.01</td>\n",
       "      <td>71</td>\n",
       "    </tr>\n",
       "    <tr>\n",
       "      <th>670</th>\n",
       "      <td>43437.05</td>\n",
       "      <td>43602.49</td>\n",
       "      <td>43815.20</td>\n",
       "      <td>42500.00</td>\n",
       "      <td>6856.64070</td>\n",
       "      <td>2022-01-05 22:00:00</td>\n",
       "      <td>0.996117</td>\n",
       "      <td>-0.003890</td>\n",
       "      <td>0.999064</td>\n",
       "      <td>0.01</td>\n",
       "      <td>81</td>\n",
       "    </tr>\n",
       "    <tr>\n",
       "      <th>671</th>\n",
       "      <td>43451.13</td>\n",
       "      <td>43437.04</td>\n",
       "      <td>43709.12</td>\n",
       "      <td>43212.00</td>\n",
       "      <td>2869.96497</td>\n",
       "      <td>2022-01-05 23:00:00</td>\n",
       "      <td>1.000324</td>\n",
       "      <td>0.000324</td>\n",
       "      <td>0.999064</td>\n",
       "      <td>0.01</td>\n",
       "      <td>75</td>\n",
       "    </tr>\n",
       "  </tbody>\n",
       "</table>\n",
       "<p>672 rows × 11 columns</p>\n",
       "</div>"
      ],
      "text/plain": [
       "        close      open      high       low  Volume BTC          NewDateTime  \\\n",
       "0    50399.83  50471.19  50797.76  50323.83  1165.14158  2021-12-09 00:00:00   \n",
       "1    50182.70  50399.84  50483.68  50147.89   871.61111  2021-12-09 01:00:00   \n",
       "2    49886.02  50182.71  50276.81  49620.62  1628.84987  2021-12-09 02:00:00   \n",
       "3    49513.35  49886.02  49934.12  49425.74   951.66432  2021-12-09 03:00:00   \n",
       "4    49816.07  49517.00  49821.01  49420.33  1052.17101  2021-12-09 04:00:00   \n",
       "..        ...       ...       ...       ...         ...                  ...   \n",
       "667  44685.93  45919.93  46118.85  44500.00  7383.66525  2022-01-05 19:00:00   \n",
       "668  43967.01  44685.93  44847.99  43722.54  8054.81116  2022-01-05 20:00:00   \n",
       "669  43606.37  43967.01  44331.42  43422.54  3844.19955  2022-01-05 21:00:00   \n",
       "670  43437.05  43602.49  43815.20  42500.00  6856.64070  2022-01-05 22:00:00   \n",
       "671  43451.13  43437.04  43709.12  43212.00  2869.96497  2022-01-05 23:00:00   \n",
       "\n",
       "      returns  log_returns      SOPR  fundingRate  googleTrend  \n",
       "0    0.998586    -0.001415  0.996332         0.01           19  \n",
       "1    0.995692    -0.004317  0.996332         0.01           19  \n",
       "2    0.994088    -0.005930  0.996332         0.01           21  \n",
       "3    0.992530    -0.007498  0.996332         0.01           22  \n",
       "4    1.006114     0.006095  0.996332         0.01           22  \n",
       "..        ...          ...       ...          ...          ...  \n",
       "667  0.973127    -0.027240  0.999064         0.01           49  \n",
       "668  0.983912    -0.016219  0.999064         0.01           69  \n",
       "669  0.991797    -0.008236  0.999064         0.01           71  \n",
       "670  0.996117    -0.003890  0.999064         0.01           81  \n",
       "671  1.000324     0.000324  0.999064         0.01           75  \n",
       "\n",
       "[672 rows x 11 columns]"
      ]
     },
     "execution_count": 52,
     "metadata": {},
     "output_type": "execute_result"
    }
   ],
   "source": [
    "past_weeks = data_training.tail(168)\n",
    "df= past_weeks.append(data_test, ignore_index = True)\n",
    "# test.drop(test.tail(len(test)%168).index,inplace=True)\n",
    "# test = test.drop(['NewDateTime'], axis=1)\n",
    "df"
   ]
  },
  {
   "cell_type": "code",
   "execution_count": 53,
   "metadata": {},
   "outputs": [
    {
     "data": {
      "text/plain": [
       "672"
      ]
     },
     "execution_count": 53,
     "metadata": {},
     "output_type": "execute_result"
    }
   ],
   "source": [
    "df = df.drop(['NewDateTime'], axis = 1)\n",
    "len(df)"
   ]
  },
  {
   "cell_type": "code",
   "execution_count": 54,
   "metadata": {},
   "outputs": [
    {
     "data": {
      "text/plain": [
       "(672, 10)"
      ]
     },
     "execution_count": 54,
     "metadata": {},
     "output_type": "execute_result"
    }
   ],
   "source": [
    "inputs = scaler.transform(df)\n",
    "inputs.shape"
   ]
  },
  {
   "cell_type": "code",
   "execution_count": 55,
   "metadata": {},
   "outputs": [
    {
     "data": {
      "text/plain": [
       "(672, 1)"
      ]
     },
     "execution_count": 55,
     "metadata": {},
     "output_type": "execute_result"
    }
   ],
   "source": [
    "df2 =df['close'].copy()\n",
    "pScaler = MinMaxScaler()\n",
    "pData = pScaler.fit_transform(df2.values.reshape(-1, 1))\n",
    "pData.shape"
   ]
  },
  {
   "cell_type": "code",
   "execution_count": 56,
   "metadata": {},
   "outputs": [],
   "source": [
    "X_test = []\n",
    "Y_test = []\n",
    "P_test = []\n",
    "for i in range(336, inputs.shape[0]+1,168):\n",
    "    X_test.append(inputs[i-336:i-168])\n",
    "    Y_test.append(inputs[i-168:i,0])\n",
    "for i in range(inputs.shape[0], inputs.shape[0]+1,168):\n",
    "    P_test.append(inputs[i-168:i])"
   ]
  },
  {
   "cell_type": "code",
   "execution_count": 57,
   "metadata": {},
   "outputs": [
    {
     "data": {
      "text/plain": [
       "((3, 168, 10), (3, 168), (1, 168, 10))"
      ]
     },
     "execution_count": 57,
     "metadata": {},
     "output_type": "execute_result"
    }
   ],
   "source": [
    "X_test, Y_test,P_test = np.array(X_test), np.array(Y_test), np.array(P_test)\n",
    "X_test.shape, Y_test.shape, P_test.shape"
   ]
  },
  {
   "cell_type": "code",
   "execution_count": 58,
   "metadata": {},
   "outputs": [
    {
     "data": {
      "text/plain": [
       "True"
      ]
     },
     "execution_count": 58,
     "metadata": {},
     "output_type": "execute_result"
    }
   ],
   "source": [
    "X_test[2,167,0] == Y_test[1,167]"
   ]
  },
  {
   "cell_type": "code",
   "execution_count": 59,
   "metadata": {},
   "outputs": [
    {
     "data": {
      "text/plain": [
       "True"
      ]
     },
     "execution_count": 59,
     "metadata": {},
     "output_type": "execute_result"
    }
   ],
   "source": [
    "Y_test[2,167]==P_test[0,167,0]"
   ]
  },
  {
   "cell_type": "code",
   "execution_count": 60,
   "metadata": {},
   "outputs": [
    {
     "name": "stdout",
     "output_type": "stream",
     "text": [
      "[[[0.71731786 0.71840824 0.71731263 ... 0.52520262 0.51666667 0.13829787]\n",
      "  [0.71395167 0.71730212 0.71243485 ... 0.52520262 0.51666667 0.13829787]\n",
      "  [0.70935219 0.71393599 0.70922208 ... 0.52520262 0.51666667 0.15957447]\n",
      "  ...\n",
      "  [0.69823442 0.69888464 0.69496428 ... 0.54767841 0.51666667 0.41489362]\n",
      "  [0.69169845 0.69821895 0.6930483  ... 0.54767841 0.51666667 0.37234043]\n",
      "  [0.69352286 0.69168328 0.68899037 ... 0.54767841 0.51666667 0.35106383]]]\n",
      "[[[0.6940673  0.693362   0.6952762  0.6887065  0.06894332 0.6311731\n",
      "   0.6706856  0.5757192  0.5450308  0.56053853]]]\n"
     ]
    },
    {
     "data": {
      "text/plain": [
       "array([[[0.71395167, 0.71730212, 0.71243485, ..., 0.52520262,\n",
       "         0.51666667, 0.13829787],\n",
       "        [0.70935219, 0.71393599, 0.70922208, ..., 0.52520262,\n",
       "         0.51666667, 0.15957447],\n",
       "        [0.70357464, 0.70933647, 0.70389998, ..., 0.52520262,\n",
       "         0.51666667, 0.17021277],\n",
       "        ...,\n",
       "        [0.69169845, 0.69821895, 0.6930483 , ..., 0.54767841,\n",
       "         0.51666667, 0.37234043],\n",
       "        [0.69352286, 0.69168328, 0.68899037, ..., 0.54767841,\n",
       "         0.51666667, 0.35106383],\n",
       "        [0.6940673 , 0.693362  , 0.6952762 , ..., 0.57571918,\n",
       "         0.54503077, 0.56053853]]])"
      ]
     },
     "execution_count": 60,
     "metadata": {},
     "output_type": "execute_result"
    }
   ],
   "source": [
    "data = (X_test[0,:,:]).reshape(1,168,10)\n",
    "print(data)\n",
    "predata = model.predict(data).reshape(1,1,10)\n",
    "print(predata)\n",
    "data = data[0,1:168,:].reshape(1,167,10)\n",
    "data = np.append(data, predata)\n",
    "data = data.reshape(1,168,10)\n",
    "data"
   ]
  },
  {
   "cell_type": "code",
   "execution_count": 61,
   "metadata": {},
   "outputs": [],
   "source": [
    "pred = []\n",
    "for j in range(0,3):\n",
    "    \n",
    "    data = (X_test[j,:,:]).reshape(1,168,10)\n",
    "    for i in range(0,168):\n",
    "        predata = model.predict(data).reshape(1,1,10)\n",
    "        data = data[0,1:168,:].reshape(1,167,10)\n",
    "        data = np.append(data, predata)\n",
    "        data = data.reshape(1,168,10)\n",
    "        predata=pScaler.inverse_transform(predata.reshape(-1, 1))\n",
    "        pred.append((predata[0]))\n"
   ]
  },
  {
   "cell_type": "code",
   "execution_count": 62,
   "metadata": {},
   "outputs": [],
   "source": [
    "real=pScaler.inverse_transform(Y_test)\n",
    "real= real.reshape(-1, 1)"
   ]
  },
  {
   "cell_type": "code",
   "execution_count": 63,
   "metadata": {},
   "outputs": [
    {
     "data": {
      "image/png": "[encoded data removed]",
      "text/plain": [
       "<Figure size 1008x360 with 1 Axes>"
      ]
     },
     "metadata": {
      "needs_background": "light"
     },
     "output_type": "display_data"
    }
   ],
   "source": [
    "plt.figure(figsize=(14,5))\n",
    "plt.plot(np.array(real[:,0]).flat, color = 'red', label = 'Real Bitcoin Price')\n",
    "plt.plot(np.array(pred).flat, color = 'green', label = 'Predicted Bitcoin Price')\n",
    "plt.title('Bitcoin Price Prediction using RNN-LSTM')\n",
    "plt.xlabel('Time')\n",
    "plt.ylabel('Price')\n",
    "plt.legend()\n",
    "plt.show()"
   ]
  },
  {
   "cell_type": "code",
   "execution_count": 84,
   "metadata": {},
   "outputs": [
    {
     "data": {
      "text/plain": [
       "(504,)"
      ]
     },
     "execution_count": 84,
     "metadata": {},
     "output_type": "execute_result"
    }
   ],
   "source": [
    "from scipy.signal import savgol_filter\n",
    "realData = savgol_filter(real[:,0], 53, 3)\n",
    "predictData = np.array(pred)[:,0]\n",
    "predictData.shape"
   ]
  },
  {
   "cell_type": "code",
   "execution_count": 85,
   "metadata": {},
   "outputs": [
    {
     "name": "stdout",
     "output_type": "stream",
     "text": [
      "-0.0778\n"
     ]
    },
    {
     "data": {
      "image/png": "[encoded data removed]",
      "text/plain": [
       "<Figure size 432x288 with 1 Axes>"
      ]
     },
     "metadata": {
      "needs_background": "light"
     },
     "output_type": "display_data"
    }
   ],
   "source": [
    "r_d_s = pd.Series(realData)\n",
    "p_d_s = pd.Series(predictData)\n",
    "\n",
    "corr_bitcoin = round(r_d_s.corr(p_d_s),4)\n",
    "\n",
    "print(corr_bitcoin)\n",
    "\n",
    "plt.scatter(realData,predictData)\n",
    "plt.show()"
   ]
  },
  {
   "cell_type": "code",
   "execution_count": 79,
   "metadata": {},
   "outputs": [
    {
     "data": {
      "image/png": "[encoded data removed]",
      "text/plain": [
       "<Figure size 1008x360 with 1 Axes>"
      ]
     },
     "metadata": {
      "needs_background": "light"
     },
     "output_type": "display_data"
    }
   ],
   "source": [
    "from scipy.signal import savgol_filter\n",
    "\n",
    "tdata = np.array(real[:,0])\n",
    "\n",
    "\n",
    "\n",
    "plt.figure(figsize=(14,5))\n",
    "plt.plot(tdata, color = 'red', label = 'Real Bitcoin Price')\n",
    "plt.plot(savgol_filter(tdata, 53, 3), color = 'black', label = 'Real Bitcoin Price Smooth')\n",
    "plt.title('Bitcoin Price Prediction using RNN-LSTM')\n",
    "plt.xlabel('Time')\n",
    "plt.ylabel('Price')\n",
    "plt.legend()\n",
    "plt.show()"
   ]
  },
  {
   "cell_type": "code",
   "execution_count": null,
   "metadata": {},
   "outputs": [],
   "source": []
  }
 ],
 "metadata": {
  "kernelspec": {
   "display_name": "Python 3",
   "language": "python",
   "name": "python3"
  },
  "language_info": {
   "codemirror_mode": {
    "name": "ipython",
    "version": 3
   },
   "file_extension": ".py",
   "mimetype": "text/x-python",
   "name": "python",
   "nbconvert_exporter": "python",
   "pygments_lexer": "ipython3",
   "version": "3.6.9"
  }
 },
 "nbformat": 4,
 "nbformat_minor": 4
}
