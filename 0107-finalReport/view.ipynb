{
 "cells": [
  {
   "cell_type": "code",
   "execution_count": 2,
   "metadata": {},
   "outputs": [],
   "source": [
    "import numpy as np\n",
    "import matplotlib.pyplot as plt\n",
    "import pandas as pd\n",
    "import gc\n",
    "from sklearn.preprocessing import MinMaxScaler\n",
    "from pandas import read_csv"
   ]
  },
  {
   "cell_type": "code",
   "execution_count": 3,
   "metadata": {},
   "outputs": [],
   "source": [
    "# load the new file\n",
    "df = read_csv('./data/bitcoin_data.csv', date_parser = True)\n",
    "df.drop(df.columns[0], axis=1,inplace = True)"
   ]
  },
  {
   "cell_type": "code",
   "execution_count": 4,
   "metadata": {},
   "outputs": [
    {
     "data": {
      "text/plain": [
       "7623"
      ]
     },
     "execution_count": 4,
     "metadata": {},
     "output_type": "execute_result"
    }
   ],
   "source": [
    "df = df[df['NewDateTime']>= '2021-03-01'].copy()\n",
    "len(df)"
   ]
  },
  {
   "cell_type": "code",
   "execution_count": 5,
   "metadata": {},
   "outputs": [],
   "source": [
    "df = df.drop_duplicates(subset=['NewDateTime'], keep=\"last\")"
   ]
  },
  {
   "cell_type": "code",
   "execution_count": 6,
   "metadata": {},
   "outputs": [
    {
     "data": {
      "text/plain": [
       "672"
      ]
     },
     "execution_count": 6,
     "metadata": {},
     "output_type": "execute_result"
    }
   ],
   "source": [
    "viewdata = 168*4\n",
    "viewdata"
   ]
  },
  {
   "cell_type": "code",
   "execution_count": 7,
   "metadata": {},
   "outputs": [
    {
     "data": {
      "text/html": [
       "<div>\n",
       "<style scoped>\n",
       "    .dataframe tbody tr th:only-of-type {\n",
       "        vertical-align: middle;\n",
       "    }\n",
       "\n",
       "    .dataframe tbody tr th {\n",
       "        vertical-align: top;\n",
       "    }\n",
       "\n",
       "    .dataframe thead th {\n",
       "        text-align: right;\n",
       "    }\n",
       "</style>\n",
       "<table border=\"1\" class=\"dataframe\">\n",
       "  <thead>\n",
       "    <tr style=\"text-align: right;\">\n",
       "      <th></th>\n",
       "      <th>close</th>\n",
       "      <th>open</th>\n",
       "      <th>high</th>\n",
       "      <th>low</th>\n",
       "      <th>Volume BTC</th>\n",
       "      <th>NewDateTime</th>\n",
       "      <th>returns</th>\n",
       "      <th>log_returns</th>\n",
       "      <th>SOPR</th>\n",
       "      <th>fundingRate</th>\n",
       "      <th>googleTrend</th>\n",
       "    </tr>\n",
       "  </thead>\n",
       "  <tbody>\n",
       "    <tr>\n",
       "      <th>12677</th>\n",
       "      <td>46217.19</td>\n",
       "      <td>45134.11</td>\n",
       "      <td>46571.30</td>\n",
       "      <td>44950.53</td>\n",
       "      <td>4899.574833</td>\n",
       "      <td>2021-03-01 00:00:00</td>\n",
       "      <td>1.023962</td>\n",
       "      <td>0.023679</td>\n",
       "      <td>1.015226</td>\n",
       "      <td>0.0377</td>\n",
       "      <td>89</td>\n",
       "    </tr>\n",
       "    <tr>\n",
       "      <th>12678</th>\n",
       "      <td>46161.83</td>\n",
       "      <td>46217.18</td>\n",
       "      <td>46492.33</td>\n",
       "      <td>45850.00</td>\n",
       "      <td>2685.386005</td>\n",
       "      <td>2021-03-01 01:00:00</td>\n",
       "      <td>0.998802</td>\n",
       "      <td>-0.001199</td>\n",
       "      <td>1.015226</td>\n",
       "      <td>0.0377</td>\n",
       "      <td>82</td>\n",
       "    </tr>\n",
       "    <tr>\n",
       "      <th>12679</th>\n",
       "      <td>46419.56</td>\n",
       "      <td>46166.16</td>\n",
       "      <td>46796.94</td>\n",
       "      <td>46102.84</td>\n",
       "      <td>2926.951099</td>\n",
       "      <td>2021-03-01 02:00:00</td>\n",
       "      <td>1.005583</td>\n",
       "      <td>0.005568</td>\n",
       "      <td>1.015226</td>\n",
       "      <td>0.0377</td>\n",
       "      <td>82</td>\n",
       "    </tr>\n",
       "    <tr>\n",
       "      <th>12680</th>\n",
       "      <td>46336.37</td>\n",
       "      <td>46414.70</td>\n",
       "      <td>46540.31</td>\n",
       "      <td>46204.08</td>\n",
       "      <td>1970.348912</td>\n",
       "      <td>2021-03-01 03:00:00</td>\n",
       "      <td>0.998208</td>\n",
       "      <td>-0.001794</td>\n",
       "      <td>1.015226</td>\n",
       "      <td>0.0377</td>\n",
       "      <td>80</td>\n",
       "    </tr>\n",
       "    <tr>\n",
       "      <th>12681</th>\n",
       "      <td>46458.33</td>\n",
       "      <td>46336.38</td>\n",
       "      <td>46688.13</td>\n",
       "      <td>45959.70</td>\n",
       "      <td>2152.379904</td>\n",
       "      <td>2021-03-01 04:00:00</td>\n",
       "      <td>1.002632</td>\n",
       "      <td>0.002629</td>\n",
       "      <td>1.015226</td>\n",
       "      <td>0.0377</td>\n",
       "      <td>82</td>\n",
       "    </tr>\n",
       "    <tr>\n",
       "      <th>...</th>\n",
       "      <td>...</td>\n",
       "      <td>...</td>\n",
       "      <td>...</td>\n",
       "      <td>...</td>\n",
       "      <td>...</td>\n",
       "      <td>...</td>\n",
       "      <td>...</td>\n",
       "      <td>...</td>\n",
       "      <td>...</td>\n",
       "      <td>...</td>\n",
       "      <td>...</td>\n",
       "    </tr>\n",
       "    <tr>\n",
       "      <th>19596</th>\n",
       "      <td>46859.40</td>\n",
       "      <td>46646.68</td>\n",
       "      <td>47074.44</td>\n",
       "      <td>46631.84</td>\n",
       "      <td>1102.350180</td>\n",
       "      <td>2021-12-14 19:00:00</td>\n",
       "      <td>1.004560</td>\n",
       "      <td>0.004550</td>\n",
       "      <td>1.000387</td>\n",
       "      <td>0.0100</td>\n",
       "      <td>43</td>\n",
       "    </tr>\n",
       "    <tr>\n",
       "      <th>19597</th>\n",
       "      <td>47785.20</td>\n",
       "      <td>46859.42</td>\n",
       "      <td>47900.00</td>\n",
       "      <td>46839.78</td>\n",
       "      <td>2355.650860</td>\n",
       "      <td>2021-12-14 20:00:00</td>\n",
       "      <td>1.019757</td>\n",
       "      <td>0.019564</td>\n",
       "      <td>1.000387</td>\n",
       "      <td>0.0100</td>\n",
       "      <td>41</td>\n",
       "    </tr>\n",
       "    <tr>\n",
       "      <th>19598</th>\n",
       "      <td>48283.50</td>\n",
       "      <td>47786.13</td>\n",
       "      <td>48700.41</td>\n",
       "      <td>47746.19</td>\n",
       "      <td>2992.570450</td>\n",
       "      <td>2021-12-14 21:00:00</td>\n",
       "      <td>1.010428</td>\n",
       "      <td>0.010374</td>\n",
       "      <td>1.000387</td>\n",
       "      <td>0.0100</td>\n",
       "      <td>77</td>\n",
       "    </tr>\n",
       "    <tr>\n",
       "      <th>19599</th>\n",
       "      <td>48268.00</td>\n",
       "      <td>48283.49</td>\n",
       "      <td>48468.18</td>\n",
       "      <td>48000.00</td>\n",
       "      <td>1117.847940</td>\n",
       "      <td>2021-12-14 22:00:00</td>\n",
       "      <td>0.999679</td>\n",
       "      <td>-0.000321</td>\n",
       "      <td>1.000387</td>\n",
       "      <td>0.0100</td>\n",
       "      <td>79</td>\n",
       "    </tr>\n",
       "    <tr>\n",
       "      <th>19600</th>\n",
       "      <td>48343.28</td>\n",
       "      <td>48268.01</td>\n",
       "      <td>48440.00</td>\n",
       "      <td>48144.18</td>\n",
       "      <td>1094.923320</td>\n",
       "      <td>2021-12-14 23:00:00</td>\n",
       "      <td>1.001560</td>\n",
       "      <td>0.001558</td>\n",
       "      <td>1.000387</td>\n",
       "      <td>0.0100</td>\n",
       "      <td>50</td>\n",
       "    </tr>\n",
       "  </tbody>\n",
       "</table>\n",
       "<p>6924 rows × 11 columns</p>\n",
       "</div>"
      ],
      "text/plain": [
       "          close      open      high       low   Volume BTC  \\\n",
       "12677  46217.19  45134.11  46571.30  44950.53  4899.574833   \n",
       "12678  46161.83  46217.18  46492.33  45850.00  2685.386005   \n",
       "12679  46419.56  46166.16  46796.94  46102.84  2926.951099   \n",
       "12680  46336.37  46414.70  46540.31  46204.08  1970.348912   \n",
       "12681  46458.33  46336.38  46688.13  45959.70  2152.379904   \n",
       "...         ...       ...       ...       ...          ...   \n",
       "19596  46859.40  46646.68  47074.44  46631.84  1102.350180   \n",
       "19597  47785.20  46859.42  47900.00  46839.78  2355.650860   \n",
       "19598  48283.50  47786.13  48700.41  47746.19  2992.570450   \n",
       "19599  48268.00  48283.49  48468.18  48000.00  1117.847940   \n",
       "19600  48343.28  48268.01  48440.00  48144.18  1094.923320   \n",
       "\n",
       "               NewDateTime   returns  log_returns      SOPR  fundingRate  \\\n",
       "12677  2021-03-01 00:00:00  1.023962     0.023679  1.015226       0.0377   \n",
       "12678  2021-03-01 01:00:00  0.998802    -0.001199  1.015226       0.0377   \n",
       "12679  2021-03-01 02:00:00  1.005583     0.005568  1.015226       0.0377   \n",
       "12680  2021-03-01 03:00:00  0.998208    -0.001794  1.015226       0.0377   \n",
       "12681  2021-03-01 04:00:00  1.002632     0.002629  1.015226       0.0377   \n",
       "...                    ...       ...          ...       ...          ...   \n",
       "19596  2021-12-14 19:00:00  1.004560     0.004550  1.000387       0.0100   \n",
       "19597  2021-12-14 20:00:00  1.019757     0.019564  1.000387       0.0100   \n",
       "19598  2021-12-14 21:00:00  1.010428     0.010374  1.000387       0.0100   \n",
       "19599  2021-12-14 22:00:00  0.999679    -0.000321  1.000387       0.0100   \n",
       "19600  2021-12-14 23:00:00  1.001560     0.001558  1.000387       0.0100   \n",
       "\n",
       "       googleTrend  \n",
       "12677           89  \n",
       "12678           82  \n",
       "12679           82  \n",
       "12680           80  \n",
       "12681           82  \n",
       "...            ...  \n",
       "19596           43  \n",
       "19597           41  \n",
       "19598           77  \n",
       "19599           79  \n",
       "19600           50  \n",
       "\n",
       "[6924 rows x 11 columns]"
      ]
     },
     "execution_count": 7,
     "metadata": {},
     "output_type": "execute_result"
    }
   ],
   "source": [
    "data_training = df.iloc[0:int(len(df)-viewdata),:]\n",
    "data_test = df.iloc[int(len(df)-viewdata):int(len(df)),:]\n",
    "\n",
    "data_training"
   ]
  },
  {
   "cell_type": "code",
   "execution_count": 8,
   "metadata": {},
   "outputs": [
    {
     "data": {
      "text/html": [
       "<div>\n",
       "<style scoped>\n",
       "    .dataframe tbody tr th:only-of-type {\n",
       "        vertical-align: middle;\n",
       "    }\n",
       "\n",
       "    .dataframe tbody tr th {\n",
       "        vertical-align: top;\n",
       "    }\n",
       "\n",
       "    .dataframe thead th {\n",
       "        text-align: right;\n",
       "    }\n",
       "</style>\n",
       "<table border=\"1\" class=\"dataframe\">\n",
       "  <thead>\n",
       "    <tr style=\"text-align: right;\">\n",
       "      <th></th>\n",
       "      <th>close</th>\n",
       "      <th>open</th>\n",
       "      <th>high</th>\n",
       "      <th>low</th>\n",
       "      <th>Volume BTC</th>\n",
       "      <th>NewDateTime</th>\n",
       "      <th>returns</th>\n",
       "      <th>log_returns</th>\n",
       "      <th>SOPR</th>\n",
       "      <th>fundingRate</th>\n",
       "      <th>googleTrend</th>\n",
       "    </tr>\n",
       "  </thead>\n",
       "  <tbody>\n",
       "    <tr>\n",
       "      <th>19601</th>\n",
       "      <td>48136.92</td>\n",
       "      <td>48336.95</td>\n",
       "      <td>48761.00</td>\n",
       "      <td>48067.04</td>\n",
       "      <td>1962.15338</td>\n",
       "      <td>2021-12-15 00:00:00</td>\n",
       "      <td>0.995731</td>\n",
       "      <td>-0.004278</td>\n",
       "      <td>1.000075</td>\n",
       "      <td>0.0088</td>\n",
       "      <td>45</td>\n",
       "    </tr>\n",
       "    <tr>\n",
       "      <th>19602</th>\n",
       "      <td>48073.46</td>\n",
       "      <td>48136.93</td>\n",
       "      <td>48180.58</td>\n",
       "      <td>47901.00</td>\n",
       "      <td>1235.00149</td>\n",
       "      <td>2021-12-15 01:00:00</td>\n",
       "      <td>0.998682</td>\n",
       "      <td>-0.001319</td>\n",
       "      <td>1.000075</td>\n",
       "      <td>0.0088</td>\n",
       "      <td>45</td>\n",
       "    </tr>\n",
       "    <tr>\n",
       "      <th>19603</th>\n",
       "      <td>47997.58</td>\n",
       "      <td>48073.47</td>\n",
       "      <td>48095.45</td>\n",
       "      <td>47836.00</td>\n",
       "      <td>970.64786</td>\n",
       "      <td>2021-12-15 02:00:00</td>\n",
       "      <td>0.998422</td>\n",
       "      <td>-0.001580</td>\n",
       "      <td>1.000075</td>\n",
       "      <td>0.0088</td>\n",
       "      <td>46</td>\n",
       "    </tr>\n",
       "    <tr>\n",
       "      <th>19604</th>\n",
       "      <td>48262.41</td>\n",
       "      <td>47997.57</td>\n",
       "      <td>48299.99</td>\n",
       "      <td>47899.95</td>\n",
       "      <td>957.58234</td>\n",
       "      <td>2021-12-15 03:00:00</td>\n",
       "      <td>1.005518</td>\n",
       "      <td>0.005502</td>\n",
       "      <td>1.000075</td>\n",
       "      <td>0.0088</td>\n",
       "      <td>47</td>\n",
       "    </tr>\n",
       "    <tr>\n",
       "      <th>19605</th>\n",
       "      <td>48244.14</td>\n",
       "      <td>48262.40</td>\n",
       "      <td>48444.18</td>\n",
       "      <td>48075.77</td>\n",
       "      <td>1742.55070</td>\n",
       "      <td>2021-12-15 04:00:00</td>\n",
       "      <td>0.999621</td>\n",
       "      <td>-0.000379</td>\n",
       "      <td>1.000075</td>\n",
       "      <td>0.0088</td>\n",
       "      <td>60</td>\n",
       "    </tr>\n",
       "    <tr>\n",
       "      <th>...</th>\n",
       "      <td>...</td>\n",
       "      <td>...</td>\n",
       "      <td>...</td>\n",
       "      <td>...</td>\n",
       "      <td>...</td>\n",
       "      <td>...</td>\n",
       "      <td>...</td>\n",
       "      <td>...</td>\n",
       "      <td>...</td>\n",
       "      <td>...</td>\n",
       "      <td>...</td>\n",
       "    </tr>\n",
       "    <tr>\n",
       "      <th>20295</th>\n",
       "      <td>42972.05</td>\n",
       "      <td>42754.99</td>\n",
       "      <td>43086.70</td>\n",
       "      <td>42595.68</td>\n",
       "      <td>1440.44569</td>\n",
       "      <td>2022-01-11 19:00:00</td>\n",
       "      <td>1.005077</td>\n",
       "      <td>0.005064</td>\n",
       "      <td>0.999457</td>\n",
       "      <td>0.0073</td>\n",
       "      <td>48</td>\n",
       "    </tr>\n",
       "    <tr>\n",
       "      <th>20296</th>\n",
       "      <td>42800.38</td>\n",
       "      <td>42972.04</td>\n",
       "      <td>43095.26</td>\n",
       "      <td>42692.19</td>\n",
       "      <td>1219.60178</td>\n",
       "      <td>2022-01-11 20:00:00</td>\n",
       "      <td>0.996005</td>\n",
       "      <td>-0.004003</td>\n",
       "      <td>0.999457</td>\n",
       "      <td>0.0073</td>\n",
       "      <td>46</td>\n",
       "    </tr>\n",
       "    <tr>\n",
       "      <th>20297</th>\n",
       "      <td>42659.20</td>\n",
       "      <td>42797.62</td>\n",
       "      <td>42823.69</td>\n",
       "      <td>42643.74</td>\n",
       "      <td>702.10380</td>\n",
       "      <td>2022-01-11 21:00:00</td>\n",
       "      <td>0.996701</td>\n",
       "      <td>-0.003304</td>\n",
       "      <td>0.999457</td>\n",
       "      <td>0.0073</td>\n",
       "      <td>45</td>\n",
       "    </tr>\n",
       "    <tr>\n",
       "      <th>20298</th>\n",
       "      <td>42713.13</td>\n",
       "      <td>42664.71</td>\n",
       "      <td>42776.14</td>\n",
       "      <td>42597.41</td>\n",
       "      <td>561.85993</td>\n",
       "      <td>2022-01-11 22:00:00</td>\n",
       "      <td>1.001264</td>\n",
       "      <td>0.001263</td>\n",
       "      <td>0.999457</td>\n",
       "      <td>0.0073</td>\n",
       "      <td>43</td>\n",
       "    </tr>\n",
       "    <tr>\n",
       "      <th>20299</th>\n",
       "      <td>42729.29</td>\n",
       "      <td>42713.12</td>\n",
       "      <td>42886.28</td>\n",
       "      <td>42633.97</td>\n",
       "      <td>681.14201</td>\n",
       "      <td>2022-01-11 23:00:00</td>\n",
       "      <td>1.000378</td>\n",
       "      <td>0.000378</td>\n",
       "      <td>0.999457</td>\n",
       "      <td>0.0073</td>\n",
       "      <td>42</td>\n",
       "    </tr>\n",
       "  </tbody>\n",
       "</table>\n",
       "<p>672 rows × 11 columns</p>\n",
       "</div>"
      ],
      "text/plain": [
       "          close      open      high       low  Volume BTC  \\\n",
       "19601  48136.92  48336.95  48761.00  48067.04  1962.15338   \n",
       "19602  48073.46  48136.93  48180.58  47901.00  1235.00149   \n",
       "19603  47997.58  48073.47  48095.45  47836.00   970.64786   \n",
       "19604  48262.41  47997.57  48299.99  47899.95   957.58234   \n",
       "19605  48244.14  48262.40  48444.18  48075.77  1742.55070   \n",
       "...         ...       ...       ...       ...         ...   \n",
       "20295  42972.05  42754.99  43086.70  42595.68  1440.44569   \n",
       "20296  42800.38  42972.04  43095.26  42692.19  1219.60178   \n",
       "20297  42659.20  42797.62  42823.69  42643.74   702.10380   \n",
       "20298  42713.13  42664.71  42776.14  42597.41   561.85993   \n",
       "20299  42729.29  42713.12  42886.28  42633.97   681.14201   \n",
       "\n",
       "               NewDateTime   returns  log_returns      SOPR  fundingRate  \\\n",
       "19601  2021-12-15 00:00:00  0.995731    -0.004278  1.000075       0.0088   \n",
       "19602  2021-12-15 01:00:00  0.998682    -0.001319  1.000075       0.0088   \n",
       "19603  2021-12-15 02:00:00  0.998422    -0.001580  1.000075       0.0088   \n",
       "19604  2021-12-15 03:00:00  1.005518     0.005502  1.000075       0.0088   \n",
       "19605  2021-12-15 04:00:00  0.999621    -0.000379  1.000075       0.0088   \n",
       "...                    ...       ...          ...       ...          ...   \n",
       "20295  2022-01-11 19:00:00  1.005077     0.005064  0.999457       0.0073   \n",
       "20296  2022-01-11 20:00:00  0.996005    -0.004003  0.999457       0.0073   \n",
       "20297  2022-01-11 21:00:00  0.996701    -0.003304  0.999457       0.0073   \n",
       "20298  2022-01-11 22:00:00  1.001264     0.001263  0.999457       0.0073   \n",
       "20299  2022-01-11 23:00:00  1.000378     0.000378  0.999457       0.0073   \n",
       "\n",
       "       googleTrend  \n",
       "19601           45  \n",
       "19602           45  \n",
       "19603           46  \n",
       "19604           47  \n",
       "19605           60  \n",
       "...            ...  \n",
       "20295           48  \n",
       "20296           46  \n",
       "20297           45  \n",
       "20298           43  \n",
       "20299           42  \n",
       "\n",
       "[672 rows x 11 columns]"
      ]
     },
     "execution_count": 8,
     "metadata": {},
     "output_type": "execute_result"
    }
   ],
   "source": [
    "data_test"
   ]
  },
  {
   "cell_type": "code",
   "execution_count": 9,
   "metadata": {},
   "outputs": [
    {
     "data": {
      "text/html": [
       "<div>\n",
       "<style scoped>\n",
       "    .dataframe tbody tr th:only-of-type {\n",
       "        vertical-align: middle;\n",
       "    }\n",
       "\n",
       "    .dataframe tbody tr th {\n",
       "        vertical-align: top;\n",
       "    }\n",
       "\n",
       "    .dataframe thead th {\n",
       "        text-align: right;\n",
       "    }\n",
       "</style>\n",
       "<table border=\"1\" class=\"dataframe\">\n",
       "  <thead>\n",
       "    <tr style=\"text-align: right;\">\n",
       "      <th></th>\n",
       "      <th>close</th>\n",
       "      <th>open</th>\n",
       "      <th>high</th>\n",
       "      <th>low</th>\n",
       "      <th>Volume BTC</th>\n",
       "      <th>returns</th>\n",
       "      <th>log_returns</th>\n",
       "      <th>SOPR</th>\n",
       "      <th>fundingRate</th>\n",
       "      <th>googleTrend</th>\n",
       "    </tr>\n",
       "  </thead>\n",
       "  <tbody>\n",
       "    <tr>\n",
       "      <th>12677</th>\n",
       "      <td>46217.19</td>\n",
       "      <td>45134.11</td>\n",
       "      <td>46571.30</td>\n",
       "      <td>44950.53</td>\n",
       "      <td>4899.574833</td>\n",
       "      <td>1.023962</td>\n",
       "      <td>0.023679</td>\n",
       "      <td>1.015226</td>\n",
       "      <td>0.0377</td>\n",
       "      <td>89</td>\n",
       "    </tr>\n",
       "    <tr>\n",
       "      <th>12678</th>\n",
       "      <td>46161.83</td>\n",
       "      <td>46217.18</td>\n",
       "      <td>46492.33</td>\n",
       "      <td>45850.00</td>\n",
       "      <td>2685.386005</td>\n",
       "      <td>0.998802</td>\n",
       "      <td>-0.001199</td>\n",
       "      <td>1.015226</td>\n",
       "      <td>0.0377</td>\n",
       "      <td>82</td>\n",
       "    </tr>\n",
       "    <tr>\n",
       "      <th>12679</th>\n",
       "      <td>46419.56</td>\n",
       "      <td>46166.16</td>\n",
       "      <td>46796.94</td>\n",
       "      <td>46102.84</td>\n",
       "      <td>2926.951099</td>\n",
       "      <td>1.005583</td>\n",
       "      <td>0.005568</td>\n",
       "      <td>1.015226</td>\n",
       "      <td>0.0377</td>\n",
       "      <td>82</td>\n",
       "    </tr>\n",
       "    <tr>\n",
       "      <th>12680</th>\n",
       "      <td>46336.37</td>\n",
       "      <td>46414.70</td>\n",
       "      <td>46540.31</td>\n",
       "      <td>46204.08</td>\n",
       "      <td>1970.348912</td>\n",
       "      <td>0.998208</td>\n",
       "      <td>-0.001794</td>\n",
       "      <td>1.015226</td>\n",
       "      <td>0.0377</td>\n",
       "      <td>80</td>\n",
       "    </tr>\n",
       "    <tr>\n",
       "      <th>12681</th>\n",
       "      <td>46458.33</td>\n",
       "      <td>46336.38</td>\n",
       "      <td>46688.13</td>\n",
       "      <td>45959.70</td>\n",
       "      <td>2152.379904</td>\n",
       "      <td>1.002632</td>\n",
       "      <td>0.002629</td>\n",
       "      <td>1.015226</td>\n",
       "      <td>0.0377</td>\n",
       "      <td>82</td>\n",
       "    </tr>\n",
       "    <tr>\n",
       "      <th>...</th>\n",
       "      <td>...</td>\n",
       "      <td>...</td>\n",
       "      <td>...</td>\n",
       "      <td>...</td>\n",
       "      <td>...</td>\n",
       "      <td>...</td>\n",
       "      <td>...</td>\n",
       "      <td>...</td>\n",
       "      <td>...</td>\n",
       "      <td>...</td>\n",
       "    </tr>\n",
       "    <tr>\n",
       "      <th>19596</th>\n",
       "      <td>46859.40</td>\n",
       "      <td>46646.68</td>\n",
       "      <td>47074.44</td>\n",
       "      <td>46631.84</td>\n",
       "      <td>1102.350180</td>\n",
       "      <td>1.004560</td>\n",
       "      <td>0.004550</td>\n",
       "      <td>1.000387</td>\n",
       "      <td>0.0100</td>\n",
       "      <td>43</td>\n",
       "    </tr>\n",
       "    <tr>\n",
       "      <th>19597</th>\n",
       "      <td>47785.20</td>\n",
       "      <td>46859.42</td>\n",
       "      <td>47900.00</td>\n",
       "      <td>46839.78</td>\n",
       "      <td>2355.650860</td>\n",
       "      <td>1.019757</td>\n",
       "      <td>0.019564</td>\n",
       "      <td>1.000387</td>\n",
       "      <td>0.0100</td>\n",
       "      <td>41</td>\n",
       "    </tr>\n",
       "    <tr>\n",
       "      <th>19598</th>\n",
       "      <td>48283.50</td>\n",
       "      <td>47786.13</td>\n",
       "      <td>48700.41</td>\n",
       "      <td>47746.19</td>\n",
       "      <td>2992.570450</td>\n",
       "      <td>1.010428</td>\n",
       "      <td>0.010374</td>\n",
       "      <td>1.000387</td>\n",
       "      <td>0.0100</td>\n",
       "      <td>77</td>\n",
       "    </tr>\n",
       "    <tr>\n",
       "      <th>19599</th>\n",
       "      <td>48268.00</td>\n",
       "      <td>48283.49</td>\n",
       "      <td>48468.18</td>\n",
       "      <td>48000.00</td>\n",
       "      <td>1117.847940</td>\n",
       "      <td>0.999679</td>\n",
       "      <td>-0.000321</td>\n",
       "      <td>1.000387</td>\n",
       "      <td>0.0100</td>\n",
       "      <td>79</td>\n",
       "    </tr>\n",
       "    <tr>\n",
       "      <th>19600</th>\n",
       "      <td>48343.28</td>\n",
       "      <td>48268.01</td>\n",
       "      <td>48440.00</td>\n",
       "      <td>48144.18</td>\n",
       "      <td>1094.923320</td>\n",
       "      <td>1.001560</td>\n",
       "      <td>0.001558</td>\n",
       "      <td>1.000387</td>\n",
       "      <td>0.0100</td>\n",
       "      <td>50</td>\n",
       "    </tr>\n",
       "  </tbody>\n",
       "</table>\n",
       "<p>6924 rows × 10 columns</p>\n",
       "</div>"
      ],
      "text/plain": [
       "          close      open      high       low   Volume BTC   returns  \\\n",
       "12677  46217.19  45134.11  46571.30  44950.53  4899.574833  1.023962   \n",
       "12678  46161.83  46217.18  46492.33  45850.00  2685.386005  0.998802   \n",
       "12679  46419.56  46166.16  46796.94  46102.84  2926.951099  1.005583   \n",
       "12680  46336.37  46414.70  46540.31  46204.08  1970.348912  0.998208   \n",
       "12681  46458.33  46336.38  46688.13  45959.70  2152.379904  1.002632   \n",
       "...         ...       ...       ...       ...          ...       ...   \n",
       "19596  46859.40  46646.68  47074.44  46631.84  1102.350180  1.004560   \n",
       "19597  47785.20  46859.42  47900.00  46839.78  2355.650860  1.019757   \n",
       "19598  48283.50  47786.13  48700.41  47746.19  2992.570450  1.010428   \n",
       "19599  48268.00  48283.49  48468.18  48000.00  1117.847940  0.999679   \n",
       "19600  48343.28  48268.01  48440.00  48144.18  1094.923320  1.001560   \n",
       "\n",
       "       log_returns      SOPR  fundingRate  googleTrend  \n",
       "12677     0.023679  1.015226       0.0377           89  \n",
       "12678    -0.001199  1.015226       0.0377           82  \n",
       "12679     0.005568  1.015226       0.0377           82  \n",
       "12680    -0.001794  1.015226       0.0377           80  \n",
       "12681     0.002629  1.015226       0.0377           82  \n",
       "...            ...       ...          ...          ...  \n",
       "19596     0.004550  1.000387       0.0100           43  \n",
       "19597     0.019564  1.000387       0.0100           41  \n",
       "19598     0.010374  1.000387       0.0100           77  \n",
       "19599    -0.000321  1.000387       0.0100           79  \n",
       "19600     0.001558  1.000387       0.0100           50  \n",
       "\n",
       "[6924 rows x 10 columns]"
      ]
     },
     "execution_count": 9,
     "metadata": {},
     "output_type": "execute_result"
    }
   ],
   "source": [
    "training_data = data_training.drop(['NewDateTime'], axis = 1)\n",
    "\n",
    "\n",
    "training_data"
   ]
  },
  {
   "cell_type": "code",
   "execution_count": 10,
   "metadata": {},
   "outputs": [],
   "source": [
    "scaler = MinMaxScaler()\n",
    "training_data = scaler.fit_transform(training_data)"
   ]
  },
  {
   "cell_type": "code",
   "execution_count": 11,
   "metadata": {},
   "outputs": [],
   "source": [
    "X_train = []\n",
    "Y_train = []"
   ]
  },
  {
   "cell_type": "code",
   "execution_count": 12,
   "metadata": {},
   "outputs": [
    {
     "data": {
      "text/plain": [
       "(6924, 10)"
      ]
     },
     "execution_count": 12,
     "metadata": {},
     "output_type": "execute_result"
    }
   ],
   "source": [
    "training_data.shape"
   ]
  },
  {
   "cell_type": "code",
   "execution_count": 13,
   "metadata": {},
   "outputs": [],
   "source": [
    "for i in range(336, training_data.shape[0],8):\n",
    "    \n",
    "    X_train.append(training_data[i-336:i-168])\n",
    "    Y_train.append(training_data[i-168:i,0])"
   ]
  },
  {
   "cell_type": "code",
   "execution_count": 14,
   "metadata": {},
   "outputs": [],
   "source": [
    "X_train, Y_train = np.array(X_train), np.array(Y_train)"
   ]
  },
  {
   "cell_type": "code",
   "execution_count": 15,
   "metadata": {},
   "outputs": [],
   "source": [
    "# def shuffle(X,Y):\n",
    "#     np.random.seed(10)\n",
    "#     randomList = np.arange(X.shape[0])\n",
    "#     np.random.shuffle(randomList)\n",
    "#     return X[randomList], Y[randomList]"
   ]
  },
  {
   "cell_type": "code",
   "execution_count": 16,
   "metadata": {},
   "outputs": [],
   "source": [
    "# X_train, Y_train = shuffle(X_train,Y_train)"
   ]
  },
  {
   "cell_type": "code",
   "execution_count": 17,
   "metadata": {},
   "outputs": [],
   "source": [
    "Y_train=Y_train.reshape(Y_train.shape[0],168,1)"
   ]
  },
  {
   "cell_type": "code",
   "execution_count": 18,
   "metadata": {},
   "outputs": [
    {
     "name": "stdout",
     "output_type": "stream",
     "text": [
      "WARNING:tensorflow:Deprecation warnings have been disabled. Set TF_ENABLE_DEPRECATION_WARNINGS=1 to re-enable them.\n"
     ]
    }
   ],
   "source": [
    "from tensorflow.keras import Sequential\n",
    "from tensorflow.keras.layers import Dense, LSTM, Dropout,RepeatVector,TimeDistributed"
   ]
  },
  {
   "cell_type": "code",
   "execution_count": 19,
   "metadata": {},
   "outputs": [],
   "source": [
    "import tensorflow as tf\n",
    "model = tf.keras.models.load_model('168_168_V4.h5')"
   ]
  },
  {
   "cell_type": "code",
   "execution_count": 20,
   "metadata": {},
   "outputs": [
    {
     "name": "stdout",
     "output_type": "stream",
     "text": [
      "2021-12-14 23:00:00\n"
     ]
    }
   ],
   "source": [
    "past_weeks = data_training.tail(168)\n",
    "df= past_weeks.append(data_test, ignore_index = True)\n",
    "# test.drop(test.tail(len(test)%168).index,inplace=True)\n",
    "# test = test.drop(['NewDateTime'], axis=1)\n",
    "fromTime = df.at[167,'NewDateTime']\n",
    "print(str(fromTime))"
   ]
  },
  {
   "cell_type": "code",
   "execution_count": 21,
   "metadata": {},
   "outputs": [],
   "source": [
    "df = df.drop(['NewDateTime'], axis = 1)"
   ]
  },
  {
   "cell_type": "code",
   "execution_count": 22,
   "metadata": {},
   "outputs": [
    {
     "data": {
      "text/plain": [
       "(840, 10)"
      ]
     },
     "execution_count": 22,
     "metadata": {},
     "output_type": "execute_result"
    }
   ],
   "source": [
    "inputs = scaler.transform(df)\n",
    "inputs.shape"
   ]
  },
  {
   "cell_type": "code",
   "execution_count": 23,
   "metadata": {},
   "outputs": [
    {
     "data": {
      "text/plain": [
       "(840, 1)"
      ]
     },
     "execution_count": 23,
     "metadata": {},
     "output_type": "execute_result"
    }
   ],
   "source": [
    "df2 =df['close'].copy()\n",
    "pScaler = MinMaxScaler()\n",
    "pData = pScaler.fit_transform(df2.values.reshape(-1, 1))\n",
    "pData.shape"
   ]
  },
  {
   "cell_type": "code",
   "execution_count": 24,
   "metadata": {},
   "outputs": [],
   "source": [
    "X_test = []\n",
    "Y_test = []\n",
    "P_test = []\n",
    "H_test = []\n",
    "R_test = []\n",
    "for i in range(336, inputs.shape[0],168):\n",
    "    H_test.append(inputs[i-252:i-84])\n",
    "    R_test.append(inputs[i-84:i+84,0])\n",
    "for i in range(336, inputs.shape[0]+1,168):\n",
    "    X_test.append(inputs[i-336:i-168])\n",
    "    Y_test.append(inputs[i-168:i,0])\n",
    "for i in range(inputs.shape[0], inputs.shape[0]+1,168):\n",
    "    P_test.append(inputs[i-168:i])"
   ]
  },
  {
   "cell_type": "code",
   "execution_count": 25,
   "metadata": {},
   "outputs": [
    {
     "data": {
      "text/plain": [
       "((4, 168, 10), (4, 168), (1, 168, 10), (3, 168, 10), (3, 168))"
      ]
     },
     "execution_count": 25,
     "metadata": {},
     "output_type": "execute_result"
    }
   ],
   "source": [
    "X_test, Y_test , P_test ,H_test ,R_test= np.array(X_test), np.array(Y_test), np.array(P_test), np.array(H_test), np.array(R_test)\n",
    "X_test.shape, Y_test.shape , P_test.shape, H_test.shape,R_test.shape"
   ]
  },
  {
   "cell_type": "code",
   "execution_count": 26,
   "metadata": {},
   "outputs": [
    {
     "data": {
      "text/plain": [
       "0.34243946520724877"
      ]
     },
     "execution_count": 26,
     "metadata": {},
     "output_type": "execute_result"
    }
   ],
   "source": [
    "P_test[0,167,0]"
   ]
  },
  {
   "cell_type": "code",
   "execution_count": 27,
   "metadata": {},
   "outputs": [
    {
     "data": {
      "text/plain": [
       "(672, 1)"
      ]
     },
     "execution_count": 27,
     "metadata": {},
     "output_type": "execute_result"
    }
   ],
   "source": [
    "Y_test = Y_test.reshape(-1, 1)\n",
    "Y_test=pScaler.inverse_transform(Y_test)\n",
    "Y_test.shape"
   ]
  },
  {
   "cell_type": "code",
   "execution_count": 28,
   "metadata": {},
   "outputs": [
    {
     "data": {
      "text/plain": [
       "(504, 1)"
      ]
     },
     "execution_count": 28,
     "metadata": {},
     "output_type": "execute_result"
    }
   ],
   "source": [
    "R_test = R_test.reshape(-1, 1)\n",
    "R_test=pScaler.inverse_transform(R_test)\n",
    "R_test.shape"
   ]
  },
  {
   "cell_type": "code",
   "execution_count": 29,
   "metadata": {},
   "outputs": [],
   "source": [
    "Y_pred = model.predict(X_test)\n",
    "Y_pred.reshape(-1, 1)\n",
    "Y_pred=pScaler.inverse_transform(Y_pred.reshape(-1, 1))\n",
    "\n",
    "H_pred = model.predict(H_test)\n",
    "H_pred.reshape(-1, 1)\n",
    "H_pred=pScaler.inverse_transform(H_pred.reshape(-1, 1))\n"
   ]
  },
  {
   "cell_type": "code",
   "execution_count": 30,
   "metadata": {},
   "outputs": [
    {
     "name": "stdout",
     "output_type": "stream",
     "text": [
      "[42686.43]\n",
      "[44863.82]\n"
     ]
    },
    {
     "data": {
      "text/plain": [
       "(None, None)"
      ]
     },
     "execution_count": 30,
     "metadata": {},
     "output_type": "execute_result"
    }
   ],
   "source": [
    "ans = sorted(Y_pred)\n",
    "print(ans[0]),print(ans[167])"
   ]
  },
  {
   "cell_type": "code",
   "execution_count": 31,
   "metadata": {},
   "outputs": [
    {
     "data": {
      "image/png": "[encoded data removed]",
      "text/plain": [
       "<Figure size 1008x360 with 1 Axes>"
      ]
     },
     "metadata": {
      "needs_background": "light"
     },
     "output_type": "display_data"
    }
   ],
   "source": [
    "plt.figure(figsize=(14,5))\n",
    "plt.plot(Y_test[:,0], color = 'red', label = 'Real Bitcoin Price')\n",
    "plt.plot(Y_pred[:,0], color = 'green', label = 'Predicted Bitcoin Price')\n",
    "plt.title('Bitcoin Price Prediction using RNN-LSTM')\n",
    "plt.xlabel('Time')\n",
    "plt.ylabel('Price')\n",
    "plt.legend()\n",
    "plt.show()"
   ]
  },
  {
   "cell_type": "code",
   "execution_count": 32,
   "metadata": {},
   "outputs": [
    {
     "data": {
      "image/png": "[encoded data removed]",
      "text/plain": [
       "<Figure size 1008x360 with 1 Axes>"
      ]
     },
     "metadata": {
      "needs_background": "light"
     },
     "output_type": "display_data"
    }
   ],
   "source": [
    "plt.figure(figsize=(14,5))\n",
    "plt.plot(R_test[:,0], color = 'red', label = 'Real Bitcoin Price')\n",
    "plt.plot(H_pred[:,0], color = 'green', label = 'Predicted Bitcoin Price')\n",
    "plt.title('Bitcoin Price Prediction using RNN-LSTM')\n",
    "plt.xlabel('Time')\n",
    "plt.ylabel('Price')\n",
    "plt.legend()\n",
    "plt.show()"
   ]
  },
  {
   "cell_type": "code",
   "execution_count": 36,
   "metadata": {},
   "outputs": [
    {
     "name": "stdout",
     "output_type": "stream",
     "text": [
      "[44825.934]\n",
      "[47588.953]\n"
     ]
    },
    {
     "data": {
      "text/plain": [
       "(None, None)"
      ]
     },
     "execution_count": 36,
     "metadata": {},
     "output_type": "execute_result"
    }
   ],
   "source": [
    "ansPre = model.predict(P_test)\n",
    "ansPre = pScaler.inverse_transform(ansPre.reshape(168,1))\n",
    "ans = sorted(ansPre)\n",
    "print(ans[0]),print(ans[167])"
   ]
  },
  {
   "cell_type": "code",
   "execution_count": 37,
   "metadata": {},
   "outputs": [
    {
     "data": {
      "text/plain": [
       "(168, 1)"
      ]
     },
     "execution_count": 37,
     "metadata": {},
     "output_type": "execute_result"
    }
   ],
   "source": [
    "ansPre.shape"
   ]
  },
  {
   "cell_type": "code",
   "execution_count": 38,
   "metadata": {},
   "outputs": [
    {
     "data": {
      "image/png": "[encoded data removed]",
      "text/plain": [
       "<Figure size 1008x360 with 1 Axes>"
      ]
     },
     "metadata": {
      "needs_background": "light"
     },
     "output_type": "display_data"
    }
   ],
   "source": [
    "plt.figure(figsize=(14,5))\n",
    "plt.plot(ansPre[:,0],  color = 'green', label = 'Predicted Bitcoin Price')\n",
    "plt.title('Bitcoin Price Prediction using RNN-LSTM')\n",
    "plt.xlabel('Time')\n",
    "plt.ylabel('Price')\n",
    "plt.legend()\n",
    "plt.show()"
   ]
  },
  {
   "cell_type": "code",
   "execution_count": 39,
   "metadata": {},
   "outputs": [
    {
     "name": "stdout",
     "output_type": "stream",
     "text": [
      "2021-12-14 23:00:00\n",
      "[44825.934]\n",
      "[47588.953]\n"
     ]
    },
    {
     "data": {
      "text/plain": [
       "(None, None, None)"
      ]
     },
     "execution_count": 39,
     "metadata": {},
     "output_type": "execute_result"
    }
   ],
   "source": [
    "print(str(fromTime)),print(ans[0]),print(ans[167])"
   ]
  },
  {
   "cell_type": "code",
   "execution_count": 50,
   "metadata": {},
   "outputs": [
    {
     "name": "stdout",
     "output_type": "stream",
     "text": [
      "樂觀\n"
     ]
    }
   ],
   "source": [
    "lastWeek =  pScaler.inverse_transform(P_test[0,:,0].reshape(-1, 1))\n",
    "\n",
    "std = np.std(lastWeek, ddof=1)\n",
    "diff = ansPre[167,0] - ansPre[0,0]\n",
    "pt = diff/std\n",
    "predictTrend = \"持平\"\n",
    "if(pt>2):\n",
    "    predictTrend = \"樂觀\"\n",
    "elif(pt>1):\n",
    "    predictTrend = \"相對樂觀\"\n",
    "elif(pt<-1):\n",
    "    predictTrend = \"相對悲觀\"\n",
    "elif(pt<-2):\n",
    "    predictTrend = \"悲觀\"\n",
    "print(predictTrend)"
   ]
  },
  {
   "cell_type": "code",
   "execution_count": 134,
   "metadata": {},
   "outputs": [
    {
     "name": "stdout",
     "output_type": "stream",
     "text": [
      "0.085\n"
     ]
    },
    {
     "data": {
      "image/png": "[encoded data removed]",
      "text/plain": [
       "<Figure size 432x288 with 1 Axes>"
      ]
     },
     "metadata": {
      "needs_background": "light"
     },
     "output_type": "display_data"
    }
   ],
   "source": [
    "realData = Y_test[:,0]\n",
    "predictData = Y_pred[:,0]\n",
    "\n",
    "r_d_s = pd.Series(realData)\n",
    "p_d_s = pd.Series(predictData)\n",
    "\n",
    "corr_bitcoin = round(r_d_s.corr(p_d_s),4)\n",
    "\n",
    "print(corr_bitcoin)\n",
    "\n",
    "plt.scatter(realData,predictData)\n",
    "plt.show()"
   ]
  },
  {
   "cell_type": "code",
   "execution_count": null,
   "metadata": {},
   "outputs": [],
   "source": []
  }
 ],
 "metadata": {
  "kernelspec": {
   "display_name": "Python 3",
   "language": "python",
   "name": "python3"
  },
  "language_info": {
   "codemirror_mode": {
    "name": "ipython",
    "version": 3
   },
   "file_extension": ".py",
   "mimetype": "text/x-python",
   "name": "python",
   "nbconvert_exporter": "python",
   "pygments_lexer": "ipython3",
   "version": "3.6.9"
  }
 },
 "nbformat": 4,
 "nbformat_minor": 4
}
