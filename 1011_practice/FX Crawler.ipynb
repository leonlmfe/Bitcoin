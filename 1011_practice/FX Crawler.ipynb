{
 "cells": [
  {
   "cell_type": "code",
   "execution_count": 1,
   "metadata": {},
   "outputs": [],
   "source": [
    "import pandas\n",
    "dfs = pandas.read_html('https://rate.bot.com.tw/xrt/quote/l6m/JPY')"
   ]
  },
  {
   "cell_type": "code",
   "execution_count": 2,
   "metadata": {},
   "outputs": [],
   "source": [
    "df = dfs[0].iloc[:,0:6]\n",
    "df.columns = ['掛牌日期', '幣別', '現金匯率買入','現金匯率賣出', '即期匯率買入','即期匯率賣出']"
   ]
  },
  {
   "cell_type": "code",
   "execution_count": 3,
   "metadata": {},
   "outputs": [
    {
     "data": {
      "text/html": [
       "<div>\n",
       "<style scoped>\n",
       "    .dataframe tbody tr th:only-of-type {\n",
       "        vertical-align: middle;\n",
       "    }\n",
       "\n",
       "    .dataframe tbody tr th {\n",
       "        vertical-align: top;\n",
       "    }\n",
       "\n",
       "    .dataframe thead th {\n",
       "        text-align: right;\n",
       "    }\n",
       "</style>\n",
       "<table border=\"1\" class=\"dataframe\">\n",
       "  <thead>\n",
       "    <tr style=\"text-align: right;\">\n",
       "      <th></th>\n",
       "      <th>掛牌日期</th>\n",
       "      <th>幣別</th>\n",
       "      <th>現金匯率買入</th>\n",
       "      <th>現金匯率賣出</th>\n",
       "      <th>即期匯率買入</th>\n",
       "      <th>即期匯率賣出</th>\n",
       "    </tr>\n",
       "  </thead>\n",
       "  <tbody>\n",
       "    <tr>\n",
       "      <th>0</th>\n",
       "      <td>2021/10/08</td>\n",
       "      <td>日圓 (JPY)</td>\n",
       "      <td>0.2411</td>\n",
       "      <td>0.2539</td>\n",
       "      <td>0.2484</td>\n",
       "      <td>0.2524</td>\n",
       "    </tr>\n",
       "    <tr>\n",
       "      <th>1</th>\n",
       "      <td>2021/10/07</td>\n",
       "      <td>日圓 (JPY)</td>\n",
       "      <td>0.2418</td>\n",
       "      <td>0.2546</td>\n",
       "      <td>0.2491</td>\n",
       "      <td>0.2531</td>\n",
       "    </tr>\n",
       "    <tr>\n",
       "      <th>2</th>\n",
       "      <td>2021/10/06</td>\n",
       "      <td>日圓 (JPY)</td>\n",
       "      <td>0.2411</td>\n",
       "      <td>0.2539</td>\n",
       "      <td>0.2484</td>\n",
       "      <td>0.2524</td>\n",
       "    </tr>\n",
       "    <tr>\n",
       "      <th>3</th>\n",
       "      <td>2021/10/05</td>\n",
       "      <td>日圓 (JPY)</td>\n",
       "      <td>0.2418</td>\n",
       "      <td>0.2546</td>\n",
       "      <td>0.2491</td>\n",
       "      <td>0.2531</td>\n",
       "    </tr>\n",
       "    <tr>\n",
       "      <th>4</th>\n",
       "      <td>2021/10/04</td>\n",
       "      <td>日圓 (JPY)</td>\n",
       "      <td>0.2413</td>\n",
       "      <td>0.2541</td>\n",
       "      <td>0.2486</td>\n",
       "      <td>0.2526</td>\n",
       "    </tr>\n",
       "  </tbody>\n",
       "</table>\n",
       "</div>"
      ],
      "text/plain": [
       "         掛牌日期        幣別  現金匯率買入  現金匯率賣出  即期匯率買入  即期匯率賣出\n",
       "0  2021/10/08  日圓 (JPY)  0.2411  0.2539  0.2484  0.2524\n",
       "1  2021/10/07  日圓 (JPY)  0.2418  0.2546  0.2491  0.2531\n",
       "2  2021/10/06  日圓 (JPY)  0.2411  0.2539  0.2484  0.2524\n",
       "3  2021/10/05  日圓 (JPY)  0.2418  0.2546  0.2491  0.2531\n",
       "4  2021/10/04  日圓 (JPY)  0.2413  0.2541  0.2486  0.2526"
      ]
     },
     "execution_count": 3,
     "metadata": {},
     "output_type": "execute_result"
    }
   ],
   "source": [
    "df.head()"
   ]
  },
  {
   "cell_type": "code",
   "execution_count": null,
   "metadata": {},
   "outputs": [],
   "source": []
  }
 ],
 "metadata": {
  "kernelspec": {
   "display_name": "Python 3",
   "language": "python",
   "name": "python3"
  },
  "language_info": {
   "codemirror_mode": {
    "name": "ipython",
    "version": 3
   },
   "file_extension": ".py",
   "mimetype": "text/x-python",
   "name": "python",
   "nbconvert_exporter": "python",
   "pygments_lexer": "ipython3",
   "version": "3.6.10"
  }
 },
 "nbformat": 4,
 "nbformat_minor": 4
}
