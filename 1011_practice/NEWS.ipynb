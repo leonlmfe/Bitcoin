{
 "cells": [
  {
   "cell_type": "code",
   "execution_count": 1,
   "metadata": {},
   "outputs": [],
   "source": [
    "import requests\n",
    "res = requests.get('https://news.ltn.com.tw/list/breakingnews')"
   ]
  },
  {
   "cell_type": "code",
   "execution_count": 2,
   "metadata": {},
   "outputs": [],
   "source": [
    "from bs4 import BeautifulSoup\n",
    "soup = BeautifulSoup(res.text,'lxml')"
   ]
  },
  {
   "cell_type": "code",
   "execution_count": 3,
   "metadata": {},
   "outputs": [],
   "source": [
    "newsary = []\n",
    "for li in soup.select('ul.list li'):\n",
    "  #print(li)\n",
    "  title = li.select_one('.title').text\n",
    "  dt = li.select_one('.time').text\n",
    "  link = li.select_one('a').get('href')\n",
    "  newsary.append({'title':title, 'time': dt, 'link':link})"
   ]
  },
  {
   "cell_type": "code",
   "execution_count": 4,
   "metadata": {},
   "outputs": [
    {
     "data": {
      "text/html": [
       "<div>\n",
       "<style scoped>\n",
       "    .dataframe tbody tr th:only-of-type {\n",
       "        vertical-align: middle;\n",
       "    }\n",
       "\n",
       "    .dataframe tbody tr th {\n",
       "        vertical-align: top;\n",
       "    }\n",
       "\n",
       "    .dataframe thead th {\n",
       "        text-align: right;\n",
       "    }\n",
       "</style>\n",
       "<table border=\"1\" class=\"dataframe\">\n",
       "  <thead>\n",
       "    <tr style=\"text-align: right;\">\n",
       "      <th></th>\n",
       "      <th>link</th>\n",
       "      <th>time</th>\n",
       "      <th>title</th>\n",
       "    </tr>\n",
       "  </thead>\n",
       "  <tbody>\n",
       "    <tr>\n",
       "      <th>0</th>\n",
       "      <td>https://sports.ltn.com.tw/news/breakingnews/37...</td>\n",
       "      <td>17:31</td>\n",
       "      <td>中職》「大醫生」布雷克投回韓職？ 韓媒也開始好奇了</td>\n",
       "    </tr>\n",
       "    <tr>\n",
       "      <th>1</th>\n",
       "      <td>https://health.ltn.com.tw/article/breakingnews...</td>\n",
       "      <td>17:31</td>\n",
       "      <td>健康網》酗酒且會家暴的癌患該不該救？ 醫：醫「病人」真的很難</td>\n",
       "    </tr>\n",
       "    <tr>\n",
       "      <th>2</th>\n",
       "      <td>https://ent.ltn.com.tw/news/breakingnews/3700584</td>\n",
       "      <td>17:31</td>\n",
       "      <td>羅文裕奔波辦音樂節 彭佳慧力挺獲「一整年免費粄條」</td>\n",
       "    </tr>\n",
       "    <tr>\n",
       "      <th>3</th>\n",
       "      <td>https://news.ltn.com.tw/news/society/breakingn...</td>\n",
       "      <td>17:30</td>\n",
       "      <td>飛來橫禍！轎車翻車壓機車 台中烏日高架橋2傷1命危</td>\n",
       "    </tr>\n",
       "    <tr>\n",
       "      <th>4</th>\n",
       "      <td>https://istyle.ltn.com.tw/article/17568</td>\n",
       "      <td>17:30</td>\n",
       "      <td>國慶連假「台北時裝週」滿星光！王麗雅、陳珊妮、安妮看秀爭豔</td>\n",
       "    </tr>\n",
       "  </tbody>\n",
       "</table>\n",
       "</div>"
      ],
      "text/plain": [
       "                                                link   time  \\\n",
       "0  https://sports.ltn.com.tw/news/breakingnews/37...  17:31   \n",
       "1  https://health.ltn.com.tw/article/breakingnews...  17:31   \n",
       "2   https://ent.ltn.com.tw/news/breakingnews/3700584  17:31   \n",
       "3  https://news.ltn.com.tw/news/society/breakingn...  17:30   \n",
       "4            https://istyle.ltn.com.tw/article/17568  17:30   \n",
       "\n",
       "                            title  \n",
       "0       中職》「大醫生」布雷克投回韓職？ 韓媒也開始好奇了  \n",
       "1  健康網》酗酒且會家暴的癌患該不該救？ 醫：醫「病人」真的很難  \n",
       "2       羅文裕奔波辦音樂節 彭佳慧力挺獲「一整年免費粄條」  \n",
       "3       飛來橫禍！轎車翻車壓機車 台中烏日高架橋2傷1命危  \n",
       "4   國慶連假「台北時裝週」滿星光！王麗雅、陳珊妮、安妮看秀爭豔  "
      ]
     },
     "execution_count": 4,
     "metadata": {},
     "output_type": "execute_result"
    }
   ],
   "source": [
    "import pandas\n",
    "newsdf = pandas.DataFrame(newsary)\n",
    "newsdf.head()"
   ]
  },
  {
   "cell_type": "code",
   "execution_count": null,
   "metadata": {},
   "outputs": [],
   "source": []
  }
 ],
 "metadata": {
  "kernelspec": {
   "display_name": "Python 3",
   "language": "python",
   "name": "python3"
  },
  "language_info": {
   "codemirror_mode": {
    "name": "ipython",
    "version": 3
   },
   "file_extension": ".py",
   "mimetype": "text/x-python",
   "name": "python",
   "nbconvert_exporter": "python",
   "pygments_lexer": "ipython3",
   "version": "3.6.10"
  }
 },
 "nbformat": 4,
 "nbformat_minor": 4
}
