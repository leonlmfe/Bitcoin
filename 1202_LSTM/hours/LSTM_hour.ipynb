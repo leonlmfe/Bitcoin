{
 "cells": [
  {
   "cell_type": "code",
   "execution_count": 1,
   "metadata": {},
   "outputs": [],
   "source": [
    "import numpy as np\n",
    "import matplotlib.pyplot as plt\n",
    "import pandas as pd\n",
    "import gc\n",
    "from sklearn.preprocessing import MinMaxScaler"
   ]
  },
  {
   "cell_type": "code",
   "execution_count": 2,
   "metadata": {},
   "outputs": [
    {
     "data": {
      "text/html": [
       "<div>\n",
       "<style scoped>\n",
       "    .dataframe tbody tr th:only-of-type {\n",
       "        vertical-align: middle;\n",
       "    }\n",
       "\n",
       "    .dataframe tbody tr th {\n",
       "        vertical-align: top;\n",
       "    }\n",
       "\n",
       "    .dataframe thead th {\n",
       "        text-align: right;\n",
       "    }\n",
       "</style>\n",
       "<table border=\"1\" class=\"dataframe\">\n",
       "  <thead>\n",
       "    <tr style=\"text-align: right;\">\n",
       "      <th></th>\n",
       "      <th>unix</th>\n",
       "      <th>date</th>\n",
       "      <th>symbol</th>\n",
       "      <th>open</th>\n",
       "      <th>high</th>\n",
       "      <th>low</th>\n",
       "      <th>close</th>\n",
       "      <th>Volume BTC</th>\n",
       "      <th>Volume USDT</th>\n",
       "      <th>tradecount</th>\n",
       "    </tr>\n",
       "  </thead>\n",
       "  <tbody>\n",
       "    <tr>\n",
       "      <th>4</th>\n",
       "      <td>1.638560e+12</td>\n",
       "      <td>2021/12/3 20:00</td>\n",
       "      <td>BTC/USDT</td>\n",
       "      <td>53838.66</td>\n",
       "      <td>54251.00</td>\n",
       "      <td>51680.00</td>\n",
       "      <td>53454.00</td>\n",
       "      <td>13628.15410</td>\n",
       "      <td>7.233171e+08</td>\n",
       "      <td>303617.0</td>\n",
       "    </tr>\n",
       "    <tr>\n",
       "      <th>3</th>\n",
       "      <td>1.638570e+12</td>\n",
       "      <td>2021/12/3 21:00</td>\n",
       "      <td>BTC/USDT</td>\n",
       "      <td>53453.99</td>\n",
       "      <td>54045.42</td>\n",
       "      <td>53333.33</td>\n",
       "      <td>53610.01</td>\n",
       "      <td>2836.73847</td>\n",
       "      <td>1.525043e+08</td>\n",
       "      <td>91636.0</td>\n",
       "    </tr>\n",
       "    <tr>\n",
       "      <th>2</th>\n",
       "      <td>1.638570e+12</td>\n",
       "      <td>2021/12/3 22:00</td>\n",
       "      <td>BTC/USDT</td>\n",
       "      <td>53610.00</td>\n",
       "      <td>53738.20</td>\n",
       "      <td>53029.98</td>\n",
       "      <td>53409.48</td>\n",
       "      <td>1927.67043</td>\n",
       "      <td>1.030645e+08</td>\n",
       "      <td>75676.0</td>\n",
       "    </tr>\n",
       "    <tr>\n",
       "      <th>1</th>\n",
       "      <td>1.638570e+12</td>\n",
       "      <td>2021/12/3 23:00</td>\n",
       "      <td>BTC/USDT</td>\n",
       "      <td>53409.48</td>\n",
       "      <td>53833.82</td>\n",
       "      <td>53310.55</td>\n",
       "      <td>53601.05</td>\n",
       "      <td>1069.47158</td>\n",
       "      <td>5.731913e+07</td>\n",
       "      <td>47349.0</td>\n",
       "    </tr>\n",
       "    <tr>\n",
       "      <th>0</th>\n",
       "      <td>1.638580e+12</td>\n",
       "      <td>2021/12/4 00:00</td>\n",
       "      <td>BTC/USDT</td>\n",
       "      <td>53601.05</td>\n",
       "      <td>53790.00</td>\n",
       "      <td>53502.87</td>\n",
       "      <td>53752.78</td>\n",
       "      <td>264.33564</td>\n",
       "      <td>1.417698e+07</td>\n",
       "      <td>9542.0</td>\n",
       "    </tr>\n",
       "  </tbody>\n",
       "</table>\n",
       "</div>"
      ],
      "text/plain": [
       "           unix             date    symbol      open      high       low  \\\n",
       "4  1.638560e+12  2021/12/3 20:00  BTC/USDT  53838.66  54251.00  51680.00   \n",
       "3  1.638570e+12  2021/12/3 21:00  BTC/USDT  53453.99  54045.42  53333.33   \n",
       "2  1.638570e+12  2021/12/3 22:00  BTC/USDT  53610.00  53738.20  53029.98   \n",
       "1  1.638570e+12  2021/12/3 23:00  BTC/USDT  53409.48  53833.82  53310.55   \n",
       "0  1.638580e+12  2021/12/4 00:00  BTC/USDT  53601.05  53790.00  53502.87   \n",
       "\n",
       "      close   Volume BTC   Volume USDT  tradecount  \n",
       "4  53454.00  13628.15410  7.233171e+08    303617.0  \n",
       "3  53610.01   2836.73847  1.525043e+08     91636.0  \n",
       "2  53409.48   1927.67043  1.030645e+08     75676.0  \n",
       "1  53601.05   1069.47158  5.731913e+07     47349.0  \n",
       "0  53752.78    264.33564  1.417698e+07      9542.0  "
      ]
     },
     "execution_count": 2,
     "metadata": {},
     "output_type": "execute_result"
    }
   ],
   "source": [
    "df = pd.read_csv('./Binance_BTCUSDT_1h.csv', date_parser = True)\n",
    "df = df.reindex(-np.sort(-np.arange(len(df))))\n",
    "df.tail()"
   ]
  },
  {
   "cell_type": "code",
   "execution_count": 3,
   "metadata": {},
   "outputs": [
    {
     "data": {
      "text/plain": [
       "23"
      ]
     },
     "execution_count": 3,
     "metadata": {},
     "output_type": "execute_result"
    }
   ],
   "source": [
    "#擷取⽇期及收盤價\n",
    "df2 = df.loc[:, ('date', 'close')] ; del df ; gc.collect()\n",
    "#切出⽇期時間欄位，符號統⼀\n",
    "df2['NewDate'] = df2.loc[:, 'date'].str.slice(start = 0, stop = 10).str.replace('-', '/').str.rsplit(pat=' ', n=1).apply(lambda x : x[0])\n",
    "#判斷⽇期欄位格式\n",
    "df2['AMPM'] = df2.loc[:, 'date'].str.contains(pat = 'AM|PM')\n",
    "#依⽇期欄位格式切分兩分DF，有AMPM的在df3，正常格式的在df4\n",
    "df3 = df2[df2['AMPM'] == 1]\n",
    "df4 = df2[df2['AMPM'] == 0]\n",
    "del df2 ; gc.collect()\n"
   ]
  },
  {
   "cell_type": "code",
   "execution_count": 4,
   "metadata": {},
   "outputs": [
    {
     "data": {
      "text/html": [
       "<div>\n",
       "<style scoped>\n",
       "    .dataframe tbody tr th:only-of-type {\n",
       "        vertical-align: middle;\n",
       "    }\n",
       "\n",
       "    .dataframe tbody tr th {\n",
       "        vertical-align: top;\n",
       "    }\n",
       "\n",
       "    .dataframe thead th {\n",
       "        text-align: right;\n",
       "    }\n",
       "</style>\n",
       "<table border=\"1\" class=\"dataframe\">\n",
       "  <thead>\n",
       "    <tr style=\"text-align: right;\">\n",
       "      <th></th>\n",
       "      <th>close</th>\n",
       "      <th>NewDateTime</th>\n",
       "    </tr>\n",
       "  </thead>\n",
       "  <tbody>\n",
       "    <tr>\n",
       "      <th>40303</th>\n",
       "      <td>4308.83</td>\n",
       "      <td>2017-08-17 04:00:00</td>\n",
       "    </tr>\n",
       "    <tr>\n",
       "      <th>40302</th>\n",
       "      <td>4315.32</td>\n",
       "      <td>2017-08-17 05:00:00</td>\n",
       "    </tr>\n",
       "    <tr>\n",
       "      <th>40301</th>\n",
       "      <td>4324.35</td>\n",
       "      <td>2017-08-17 06:00:00</td>\n",
       "    </tr>\n",
       "    <tr>\n",
       "      <th>40300</th>\n",
       "      <td>4349.99</td>\n",
       "      <td>2017-08-17 07:00:00</td>\n",
       "    </tr>\n",
       "    <tr>\n",
       "      <th>40299</th>\n",
       "      <td>4360.69</td>\n",
       "      <td>2017-08-17 08:00:00</td>\n",
       "    </tr>\n",
       "  </tbody>\n",
       "</table>\n",
       "</div>"
      ],
      "text/plain": [
       "         close         NewDateTime\n",
       "40303  4308.83 2017-08-17 04:00:00\n",
       "40302  4315.32 2017-08-17 05:00:00\n",
       "40301  4324.35 2017-08-17 06:00:00\n",
       "40300  4349.99 2017-08-17 07:00:00\n",
       "40299  4360.69 2017-08-17 08:00:00"
      ]
     },
     "execution_count": 4,
     "metadata": {},
     "output_type": "execute_result"
    }
   ],
   "source": [
    "#切出⽇期欄位中的⼩時\n",
    "df3['Hour'] = df3.loc[:, 'date'].str.slice(start = 10, stop = 13).str.replace(':', '').apply(lambda x : pd.to_numeric(x))\n",
    "df3['AMPM'] = df3.loc[:, 'date'].str.slice(start = 14, stop = 16).apply(lambda x: 12 if (x == 'PM') else 0)\n",
    "df3['24Hr'] = (df3['Hour'] + df3['AMPM'])\n",
    "#轉換為24⼩時制\n",
    "df3['24Hr'] = df3['24Hr'].apply(lambda x: (x == 24 and 12) or (x == 12 and '00') or x)\n",
    "df3['24Hr'] = df3['24Hr'].apply(lambda x: '0'+str(x) if len(str(x)) == 1 else str(x))\n",
    "\n",
    "#轉為時間格式\n",
    "df3['NewDateTime'] = (df3['NewDate'] + ' ' +df3['24Hr'])\n",
    "df3['NewDateTime'] = df3['NewDateTime'].apply(lambda x: pd.to_datetime(x, format = \"%Y/%m/%d %H\"))\n",
    "#移除重複\n",
    "df3 = df3[['close', 'NewDateTime']].drop_duplicates()\n",
    "df3.head()"
   ]
  },
  {
   "cell_type": "code",
   "execution_count": 5,
   "metadata": {},
   "outputs": [
    {
     "data": {
      "text/html": [
       "<div>\n",
       "<style scoped>\n",
       "    .dataframe tbody tr th:only-of-type {\n",
       "        vertical-align: middle;\n",
       "    }\n",
       "\n",
       "    .dataframe tbody tr th {\n",
       "        vertical-align: top;\n",
       "    }\n",
       "\n",
       "    .dataframe thead th {\n",
       "        text-align: right;\n",
       "    }\n",
       "</style>\n",
       "<table border=\"1\" class=\"dataframe\">\n",
       "  <thead>\n",
       "    <tr style=\"text-align: right;\">\n",
       "      <th></th>\n",
       "      <th>close</th>\n",
       "      <th>NewDateTime</th>\n",
       "    </tr>\n",
       "  </thead>\n",
       "  <tbody>\n",
       "    <tr>\n",
       "      <th>14367</th>\n",
       "      <td>11801.17</td>\n",
       "      <td>2020-08-01 23:00:00</td>\n",
       "    </tr>\n",
       "    <tr>\n",
       "      <th>14365</th>\n",
       "      <td>11782.63</td>\n",
       "      <td>2020-08-02 00:00:00</td>\n",
       "    </tr>\n",
       "    <tr>\n",
       "      <th>14363</th>\n",
       "      <td>11942.55</td>\n",
       "      <td>2020-08-02 01:00:00</td>\n",
       "    </tr>\n",
       "    <tr>\n",
       "      <th>14361</th>\n",
       "      <td>11928.58</td>\n",
       "      <td>2020-08-02 02:00:00</td>\n",
       "    </tr>\n",
       "    <tr>\n",
       "      <th>14359</th>\n",
       "      <td>12000.00</td>\n",
       "      <td>2020-08-02 03:00:00</td>\n",
       "    </tr>\n",
       "  </tbody>\n",
       "</table>\n",
       "</div>"
      ],
      "text/plain": [
       "          close         NewDateTime\n",
       "14367  11801.17 2020-08-01 23:00:00\n",
       "14365  11782.63 2020-08-02 00:00:00\n",
       "14363  11942.55 2020-08-02 01:00:00\n",
       "14361  11928.58 2020-08-02 02:00:00\n",
       "14359  12000.00 2020-08-02 03:00:00"
      ]
     },
     "execution_count": 5,
     "metadata": {},
     "output_type": "execute_result"
    }
   ],
   "source": [
    "#轉為時間格式並移除重複\n",
    "df4['NewDateTime'] = df4['date'].apply(lambda x: pd.to_datetime(x, format = \"%Y/%m/%d %H:%M\"))\n",
    "df4 = df4[['close', 'NewDateTime']].drop_duplicates()\n",
    "df4.head()"
   ]
  },
  {
   "cell_type": "code",
   "execution_count": 6,
   "metadata": {},
   "outputs": [
    {
     "name": "stdout",
     "output_type": "stream",
     "text": [
      "40304 37656\n"
     ]
    },
    {
     "data": {
      "text/plain": [
       "0"
      ]
     },
     "execution_count": 6,
     "metadata": {},
     "output_type": "execute_result"
    }
   ],
   "source": [
    "#合併df3、df4，並移除重複\n",
    "df5 = pd.concat([df3, df4]) ; df6 = df5.drop_duplicates()\n",
    "#確認刪除多少資料\n",
    "print(len(df5), len(df6))\n",
    "del (df3, df4, df5)\n",
    "gc.collect()\n"
   ]
  },
  {
   "cell_type": "code",
   "execution_count": 7,
   "metadata": {},
   "outputs": [
    {
     "data": {
      "text/html": [
       "<div>\n",
       "<style scoped>\n",
       "    .dataframe tbody tr th:only-of-type {\n",
       "        vertical-align: middle;\n",
       "    }\n",
       "\n",
       "    .dataframe tbody tr th {\n",
       "        vertical-align: top;\n",
       "    }\n",
       "\n",
       "    .dataframe thead th {\n",
       "        text-align: right;\n",
       "    }\n",
       "</style>\n",
       "<table border=\"1\" class=\"dataframe\">\n",
       "  <thead>\n",
       "    <tr style=\"text-align: right;\">\n",
       "      <th></th>\n",
       "      <th>close</th>\n",
       "      <th>NewDateTime</th>\n",
       "      <th>returns</th>\n",
       "      <th>log_returns</th>\n",
       "    </tr>\n",
       "  </thead>\n",
       "  <tbody>\n",
       "    <tr>\n",
       "      <th>40302</th>\n",
       "      <td>4315.32</td>\n",
       "      <td>2017-08-17 05:00:00</td>\n",
       "      <td>1.001506</td>\n",
       "      <td>0.001505</td>\n",
       "    </tr>\n",
       "    <tr>\n",
       "      <th>40301</th>\n",
       "      <td>4324.35</td>\n",
       "      <td>2017-08-17 06:00:00</td>\n",
       "      <td>1.002093</td>\n",
       "      <td>0.002090</td>\n",
       "    </tr>\n",
       "    <tr>\n",
       "      <th>40300</th>\n",
       "      <td>4349.99</td>\n",
       "      <td>2017-08-17 07:00:00</td>\n",
       "      <td>1.005929</td>\n",
       "      <td>0.005912</td>\n",
       "    </tr>\n",
       "    <tr>\n",
       "      <th>40299</th>\n",
       "      <td>4360.69</td>\n",
       "      <td>2017-08-17 08:00:00</td>\n",
       "      <td>1.002460</td>\n",
       "      <td>0.002457</td>\n",
       "    </tr>\n",
       "    <tr>\n",
       "      <th>40298</th>\n",
       "      <td>4444.00</td>\n",
       "      <td>2017-08-17 09:00:00</td>\n",
       "      <td>1.019105</td>\n",
       "      <td>0.018925</td>\n",
       "    </tr>\n",
       "  </tbody>\n",
       "</table>\n",
       "</div>"
      ],
      "text/plain": [
       "         close         NewDateTime   returns  log_returns\n",
       "40302  4315.32 2017-08-17 05:00:00  1.001506     0.001505\n",
       "40301  4324.35 2017-08-17 06:00:00  1.002093     0.002090\n",
       "40300  4349.99 2017-08-17 07:00:00  1.005929     0.005912\n",
       "40299  4360.69 2017-08-17 08:00:00  1.002460     0.002457\n",
       "40298  4444.00 2017-08-17 09:00:00  1.019105     0.018925"
      ]
     },
     "execution_count": 7,
     "metadata": {},
     "output_type": "execute_result"
    }
   ],
   "source": [
    "#投報率\n",
    "df6['returns']=df6['close']/df6['close'].shift(1)\n",
    "df6['log_returns']=np.log(df6['returns'])\n",
    "df6 = df6[df6['returns'].notna()]\n",
    "# df6.dropna()\n",
    "df6.head()"
   ]
  },
  {
   "cell_type": "code",
   "execution_count": 8,
   "metadata": {},
   "outputs": [],
   "source": [
    "#依照年份及週次分組\n",
    "df6['Year'] = df6.loc[:, 'NewDateTime'].dt.year\n",
    "df6['Week'] = df6.loc[:, 'NewDateTime'].dt.isocalendar().week\n",
    "test = np.array(df6.groupby(['Year', 'Week']), dtype = object).T\n",
    "#排除⻑度不為168的array\n",
    "Array = np.empty([1, 168])\n",
    "for i in range(0, len(np.array(test[1]))):\n",
    "    if len(np.array(test[1][i]['close'])) == 168 :\n",
    "        Array = np.append(Array, np.array(test[1][i]['close']).reshape(1, -1), axis = 0)"
   ]
  },
  {
   "cell_type": "code",
   "execution_count": 9,
   "metadata": {},
   "outputs": [
    {
     "data": {
      "text/html": [
       "<div>\n",
       "<style scoped>\n",
       "    .dataframe tbody tr th:only-of-type {\n",
       "        vertical-align: middle;\n",
       "    }\n",
       "\n",
       "    .dataframe tbody tr th {\n",
       "        vertical-align: top;\n",
       "    }\n",
       "\n",
       "    .dataframe thead th {\n",
       "        text-align: right;\n",
       "    }\n",
       "</style>\n",
       "<table border=\"1\" class=\"dataframe\">\n",
       "  <thead>\n",
       "    <tr style=\"text-align: right;\">\n",
       "      <th></th>\n",
       "      <th>close</th>\n",
       "      <th>NewDateTime</th>\n",
       "      <th>returns</th>\n",
       "      <th>log_returns</th>\n",
       "      <th>Year</th>\n",
       "      <th>Week</th>\n",
       "    </tr>\n",
       "  </thead>\n",
       "  <tbody>\n",
       "    <tr>\n",
       "      <th>40302</th>\n",
       "      <td>4315.32</td>\n",
       "      <td>2017-08-17 05:00:00</td>\n",
       "      <td>1.001506</td>\n",
       "      <td>0.001505</td>\n",
       "      <td>2017</td>\n",
       "      <td>33</td>\n",
       "    </tr>\n",
       "    <tr>\n",
       "      <th>40301</th>\n",
       "      <td>4324.35</td>\n",
       "      <td>2017-08-17 06:00:00</td>\n",
       "      <td>1.002093</td>\n",
       "      <td>0.002090</td>\n",
       "      <td>2017</td>\n",
       "      <td>33</td>\n",
       "    </tr>\n",
       "    <tr>\n",
       "      <th>40300</th>\n",
       "      <td>4349.99</td>\n",
       "      <td>2017-08-17 07:00:00</td>\n",
       "      <td>1.005929</td>\n",
       "      <td>0.005912</td>\n",
       "      <td>2017</td>\n",
       "      <td>33</td>\n",
       "    </tr>\n",
       "    <tr>\n",
       "      <th>40299</th>\n",
       "      <td>4360.69</td>\n",
       "      <td>2017-08-17 08:00:00</td>\n",
       "      <td>1.002460</td>\n",
       "      <td>0.002457</td>\n",
       "      <td>2017</td>\n",
       "      <td>33</td>\n",
       "    </tr>\n",
       "    <tr>\n",
       "      <th>40298</th>\n",
       "      <td>4444.00</td>\n",
       "      <td>2017-08-17 09:00:00</td>\n",
       "      <td>1.019105</td>\n",
       "      <td>0.018925</td>\n",
       "      <td>2017</td>\n",
       "      <td>33</td>\n",
       "    </tr>\n",
       "  </tbody>\n",
       "</table>\n",
       "</div>"
      ],
      "text/plain": [
       "         close         NewDateTime   returns  log_returns  Year  Week\n",
       "40302  4315.32 2017-08-17 05:00:00  1.001506     0.001505  2017    33\n",
       "40301  4324.35 2017-08-17 06:00:00  1.002093     0.002090  2017    33\n",
       "40300  4349.99 2017-08-17 07:00:00  1.005929     0.005912  2017    33\n",
       "40299  4360.69 2017-08-17 08:00:00  1.002460     0.002457  2017    33\n",
       "40298  4444.00 2017-08-17 09:00:00  1.019105     0.018925  2017    33"
      ]
     },
     "execution_count": 9,
     "metadata": {},
     "output_type": "execute_result"
    }
   ],
   "source": [
    "df6.head()"
   ]
  },
  {
   "cell_type": "code",
   "execution_count": 17,
   "metadata": {},
   "outputs": [
    {
     "data": {
      "text/html": [
       "<div>\n",
       "<style scoped>\n",
       "    .dataframe tbody tr th:only-of-type {\n",
       "        vertical-align: middle;\n",
       "    }\n",
       "\n",
       "    .dataframe tbody tr th {\n",
       "        vertical-align: top;\n",
       "    }\n",
       "\n",
       "    .dataframe thead th {\n",
       "        text-align: right;\n",
       "    }\n",
       "</style>\n",
       "<table border=\"1\" class=\"dataframe\">\n",
       "  <thead>\n",
       "    <tr style=\"text-align: right;\">\n",
       "      <th></th>\n",
       "      <th>close</th>\n",
       "      <th>NewDateTime</th>\n",
       "      <th>returns</th>\n",
       "      <th>log_returns</th>\n",
       "      <th>Year</th>\n",
       "      <th>Week</th>\n",
       "    </tr>\n",
       "  </thead>\n",
       "  <tbody>\n",
       "    <tr>\n",
       "      <th>8074</th>\n",
       "      <td>29409.99</td>\n",
       "      <td>2021-01-01 01:00:00</td>\n",
       "      <td>1.014308</td>\n",
       "      <td>0.014207</td>\n",
       "      <td>2021</td>\n",
       "      <td>53</td>\n",
       "    </tr>\n",
       "    <tr>\n",
       "      <th>8073</th>\n",
       "      <td>29194.65</td>\n",
       "      <td>2021-01-01 02:00:00</td>\n",
       "      <td>0.992678</td>\n",
       "      <td>-0.007349</td>\n",
       "      <td>2021</td>\n",
       "      <td>53</td>\n",
       "    </tr>\n",
       "    <tr>\n",
       "      <th>8072</th>\n",
       "      <td>29278.40</td>\n",
       "      <td>2021-01-01 03:00:00</td>\n",
       "      <td>1.002869</td>\n",
       "      <td>0.002865</td>\n",
       "      <td>2021</td>\n",
       "      <td>53</td>\n",
       "    </tr>\n",
       "    <tr>\n",
       "      <th>8071</th>\n",
       "      <td>29220.31</td>\n",
       "      <td>2021-01-01 04:00:00</td>\n",
       "      <td>0.998016</td>\n",
       "      <td>-0.001986</td>\n",
       "      <td>2021</td>\n",
       "      <td>53</td>\n",
       "    </tr>\n",
       "    <tr>\n",
       "      <th>8070</th>\n",
       "      <td>29187.01</td>\n",
       "      <td>2021-01-01 05:00:00</td>\n",
       "      <td>0.998860</td>\n",
       "      <td>-0.001140</td>\n",
       "      <td>2021</td>\n",
       "      <td>53</td>\n",
       "    </tr>\n",
       "    <tr>\n",
       "      <th>...</th>\n",
       "      <td>...</td>\n",
       "      <td>...</td>\n",
       "      <td>...</td>\n",
       "      <td>...</td>\n",
       "      <td>...</td>\n",
       "      <td>...</td>\n",
       "    </tr>\n",
       "    <tr>\n",
       "      <th>125</th>\n",
       "      <td>54617.85</td>\n",
       "      <td>2021-11-28 19:00:00</td>\n",
       "      <td>1.009404</td>\n",
       "      <td>0.009360</td>\n",
       "      <td>2021</td>\n",
       "      <td>47</td>\n",
       "    </tr>\n",
       "    <tr>\n",
       "      <th>124</th>\n",
       "      <td>54918.51</td>\n",
       "      <td>2021-11-28 20:00:00</td>\n",
       "      <td>1.005505</td>\n",
       "      <td>0.005490</td>\n",
       "      <td>2021</td>\n",
       "      <td>47</td>\n",
       "    </tr>\n",
       "    <tr>\n",
       "      <th>123</th>\n",
       "      <td>56273.23</td>\n",
       "      <td>2021-11-28 21:00:00</td>\n",
       "      <td>1.024668</td>\n",
       "      <td>0.024368</td>\n",
       "      <td>2021</td>\n",
       "      <td>47</td>\n",
       "    </tr>\n",
       "    <tr>\n",
       "      <th>122</th>\n",
       "      <td>56029.82</td>\n",
       "      <td>2021-11-28 22:00:00</td>\n",
       "      <td>0.995674</td>\n",
       "      <td>-0.004335</td>\n",
       "      <td>2021</td>\n",
       "      <td>47</td>\n",
       "    </tr>\n",
       "    <tr>\n",
       "      <th>121</th>\n",
       "      <td>57274.88</td>\n",
       "      <td>2021-11-28 23:00:00</td>\n",
       "      <td>1.022221</td>\n",
       "      <td>0.021978</td>\n",
       "      <td>2021</td>\n",
       "      <td>47</td>\n",
       "    </tr>\n",
       "  </tbody>\n",
       "</table>\n",
       "<p>6115 rows × 6 columns</p>\n",
       "</div>"
      ],
      "text/plain": [
       "         close         NewDateTime   returns  log_returns  Year  Week\n",
       "8074  29409.99 2021-01-01 01:00:00  1.014308     0.014207  2021    53\n",
       "8073  29194.65 2021-01-01 02:00:00  0.992678    -0.007349  2021    53\n",
       "8072  29278.40 2021-01-01 03:00:00  1.002869     0.002865  2021    53\n",
       "8071  29220.31 2021-01-01 04:00:00  0.998016    -0.001986  2021    53\n",
       "8070  29187.01 2021-01-01 05:00:00  0.998860    -0.001140  2021    53\n",
       "...        ...                 ...       ...          ...   ...   ...\n",
       "125   54617.85 2021-11-28 19:00:00  1.009404     0.009360  2021    47\n",
       "124   54918.51 2021-11-28 20:00:00  1.005505     0.005490  2021    47\n",
       "123   56273.23 2021-11-28 21:00:00  1.024668     0.024368  2021    47\n",
       "122   56029.82 2021-11-28 22:00:00  0.995674    -0.004335  2021    47\n",
       "121   57274.88 2021-11-28 23:00:00  1.022221     0.021978  2021    47\n",
       "\n",
       "[6115 rows x 6 columns]"
      ]
     },
     "execution_count": 17,
     "metadata": {},
     "output_type": "execute_result"
    }
   ],
   "source": [
    "data_training = df6[df6['Week']%4!=0].copy()\n",
    "data_training = data_training[data_training['NewDateTime']> '2021-01-01'].copy()\n",
    "data_training"
   ]
  },
  {
   "cell_type": "code",
   "execution_count": 18,
   "metadata": {},
   "outputs": [
    {
     "data": {
      "text/html": [
       "<div>\n",
       "<style scoped>\n",
       "    .dataframe tbody tr th:only-of-type {\n",
       "        vertical-align: middle;\n",
       "    }\n",
       "\n",
       "    .dataframe tbody tr th {\n",
       "        vertical-align: top;\n",
       "    }\n",
       "\n",
       "    .dataframe thead th {\n",
       "        text-align: right;\n",
       "    }\n",
       "</style>\n",
       "<table border=\"1\" class=\"dataframe\">\n",
       "  <thead>\n",
       "    <tr style=\"text-align: right;\">\n",
       "      <th></th>\n",
       "      <th>close</th>\n",
       "      <th>NewDateTime</th>\n",
       "      <th>returns</th>\n",
       "      <th>log_returns</th>\n",
       "      <th>Year</th>\n",
       "      <th>Week</th>\n",
       "    </tr>\n",
       "  </thead>\n",
       "  <tbody>\n",
       "    <tr>\n",
       "      <th>7499</th>\n",
       "      <td>32574.71</td>\n",
       "      <td>2021-01-25 00:00:00</td>\n",
       "      <td>1.009759</td>\n",
       "      <td>0.009711</td>\n",
       "      <td>2021</td>\n",
       "      <td>4</td>\n",
       "    </tr>\n",
       "    <tr>\n",
       "      <th>7498</th>\n",
       "      <td>32864.98</td>\n",
       "      <td>2021-01-25 01:00:00</td>\n",
       "      <td>1.008911</td>\n",
       "      <td>0.008871</td>\n",
       "      <td>2021</td>\n",
       "      <td>4</td>\n",
       "    </tr>\n",
       "    <tr>\n",
       "      <th>7497</th>\n",
       "      <td>32768.23</td>\n",
       "      <td>2021-01-25 02:00:00</td>\n",
       "      <td>0.997056</td>\n",
       "      <td>-0.002948</td>\n",
       "      <td>2021</td>\n",
       "      <td>4</td>\n",
       "    </tr>\n",
       "    <tr>\n",
       "      <th>7496</th>\n",
       "      <td>33568.18</td>\n",
       "      <td>2021-01-25 03:00:00</td>\n",
       "      <td>1.024412</td>\n",
       "      <td>0.024119</td>\n",
       "      <td>2021</td>\n",
       "      <td>4</td>\n",
       "    </tr>\n",
       "    <tr>\n",
       "      <th>7495</th>\n",
       "      <td>33378.93</td>\n",
       "      <td>2021-01-25 04:00:00</td>\n",
       "      <td>0.994362</td>\n",
       "      <td>-0.005654</td>\n",
       "      <td>2021</td>\n",
       "      <td>4</td>\n",
       "    </tr>\n",
       "    <tr>\n",
       "      <th>...</th>\n",
       "      <td>...</td>\n",
       "      <td>...</td>\n",
       "      <td>...</td>\n",
       "      <td>...</td>\n",
       "      <td>...</td>\n",
       "      <td>...</td>\n",
       "    </tr>\n",
       "    <tr>\n",
       "      <th>4</th>\n",
       "      <td>53454.00</td>\n",
       "      <td>2021-12-03 20:00:00</td>\n",
       "      <td>0.992856</td>\n",
       "      <td>-0.007170</td>\n",
       "      <td>2021</td>\n",
       "      <td>48</td>\n",
       "    </tr>\n",
       "    <tr>\n",
       "      <th>3</th>\n",
       "      <td>53610.01</td>\n",
       "      <td>2021-12-03 21:00:00</td>\n",
       "      <td>1.002919</td>\n",
       "      <td>0.002914</td>\n",
       "      <td>2021</td>\n",
       "      <td>48</td>\n",
       "    </tr>\n",
       "    <tr>\n",
       "      <th>2</th>\n",
       "      <td>53409.48</td>\n",
       "      <td>2021-12-03 22:00:00</td>\n",
       "      <td>0.996259</td>\n",
       "      <td>-0.003748</td>\n",
       "      <td>2021</td>\n",
       "      <td>48</td>\n",
       "    </tr>\n",
       "    <tr>\n",
       "      <th>1</th>\n",
       "      <td>53601.05</td>\n",
       "      <td>2021-12-03 23:00:00</td>\n",
       "      <td>1.003587</td>\n",
       "      <td>0.003580</td>\n",
       "      <td>2021</td>\n",
       "      <td>48</td>\n",
       "    </tr>\n",
       "    <tr>\n",
       "      <th>0</th>\n",
       "      <td>53752.78</td>\n",
       "      <td>2021-12-04 00:00:00</td>\n",
       "      <td>1.002831</td>\n",
       "      <td>0.002827</td>\n",
       "      <td>2021</td>\n",
       "      <td>48</td>\n",
       "    </tr>\n",
       "  </tbody>\n",
       "</table>\n",
       "<p>1960 rows × 6 columns</p>\n",
       "</div>"
      ],
      "text/plain": [
       "         close         NewDateTime   returns  log_returns  Year  Week\n",
       "7499  32574.71 2021-01-25 00:00:00  1.009759     0.009711  2021     4\n",
       "7498  32864.98 2021-01-25 01:00:00  1.008911     0.008871  2021     4\n",
       "7497  32768.23 2021-01-25 02:00:00  0.997056    -0.002948  2021     4\n",
       "7496  33568.18 2021-01-25 03:00:00  1.024412     0.024119  2021     4\n",
       "7495  33378.93 2021-01-25 04:00:00  0.994362    -0.005654  2021     4\n",
       "...        ...                 ...       ...          ...   ...   ...\n",
       "4     53454.00 2021-12-03 20:00:00  0.992856    -0.007170  2021    48\n",
       "3     53610.01 2021-12-03 21:00:00  1.002919     0.002914  2021    48\n",
       "2     53409.48 2021-12-03 22:00:00  0.996259    -0.003748  2021    48\n",
       "1     53601.05 2021-12-03 23:00:00  1.003587     0.003580  2021    48\n",
       "0     53752.78 2021-12-04 00:00:00  1.002831     0.002827  2021    48\n",
       "\n",
       "[1960 rows x 6 columns]"
      ]
     },
     "execution_count": 18,
     "metadata": {},
     "output_type": "execute_result"
    }
   ],
   "source": [
    "data_test = df6[df6['Week']%4==0].copy()\n",
    "data_test = data_test[data_test['NewDateTime']> '2021-01-01'].copy()\n",
    "data_test"
   ]
  },
  {
   "cell_type": "code",
   "execution_count": 19,
   "metadata": {},
   "outputs": [
    {
     "data": {
      "text/html": [
       "<div>\n",
       "<style scoped>\n",
       "    .dataframe tbody tr th:only-of-type {\n",
       "        vertical-align: middle;\n",
       "    }\n",
       "\n",
       "    .dataframe tbody tr th {\n",
       "        vertical-align: top;\n",
       "    }\n",
       "\n",
       "    .dataframe thead th {\n",
       "        text-align: right;\n",
       "    }\n",
       "</style>\n",
       "<table border=\"1\" class=\"dataframe\">\n",
       "  <thead>\n",
       "    <tr style=\"text-align: right;\">\n",
       "      <th></th>\n",
       "      <th>close</th>\n",
       "      <th>returns</th>\n",
       "      <th>log_returns</th>\n",
       "    </tr>\n",
       "  </thead>\n",
       "  <tbody>\n",
       "    <tr>\n",
       "      <th>8074</th>\n",
       "      <td>29409.99</td>\n",
       "      <td>1.014308</td>\n",
       "      <td>0.014207</td>\n",
       "    </tr>\n",
       "    <tr>\n",
       "      <th>8073</th>\n",
       "      <td>29194.65</td>\n",
       "      <td>0.992678</td>\n",
       "      <td>-0.007349</td>\n",
       "    </tr>\n",
       "    <tr>\n",
       "      <th>8072</th>\n",
       "      <td>29278.40</td>\n",
       "      <td>1.002869</td>\n",
       "      <td>0.002865</td>\n",
       "    </tr>\n",
       "    <tr>\n",
       "      <th>8071</th>\n",
       "      <td>29220.31</td>\n",
       "      <td>0.998016</td>\n",
       "      <td>-0.001986</td>\n",
       "    </tr>\n",
       "    <tr>\n",
       "      <th>8070</th>\n",
       "      <td>29187.01</td>\n",
       "      <td>0.998860</td>\n",
       "      <td>-0.001140</td>\n",
       "    </tr>\n",
       "  </tbody>\n",
       "</table>\n",
       "</div>"
      ],
      "text/plain": [
       "         close   returns  log_returns\n",
       "8074  29409.99  1.014308     0.014207\n",
       "8073  29194.65  0.992678    -0.007349\n",
       "8072  29278.40  1.002869     0.002865\n",
       "8071  29220.31  0.998016    -0.001986\n",
       "8070  29187.01  0.998860    -0.001140"
      ]
     },
     "execution_count": 19,
     "metadata": {},
     "output_type": "execute_result"
    }
   ],
   "source": [
    "training_data = data_training.drop(['NewDateTime', 'Year','Week'], axis = 1)\n",
    "training_data.head()"
   ]
  },
  {
   "cell_type": "code",
   "execution_count": 20,
   "metadata": {},
   "outputs": [
    {
     "data": {
      "text/plain": [
       "array([[0.01034423, 0.53011421, 0.55003272],\n",
       "       [0.00491097, 0.39641724, 0.41582714],\n",
       "       [0.00702408, 0.45940696, 0.47941703],\n",
       "       ...,\n",
       "       [0.68813242, 0.59414991, 0.61330164],\n",
       "       [0.68199092, 0.41493894, 0.43459282],\n",
       "       [0.71340511, 0.57902819, 0.59841887]])"
      ]
     },
     "execution_count": 20,
     "metadata": {},
     "output_type": "execute_result"
    }
   ],
   "source": [
    "scaler = MinMaxScaler()\n",
    "training_data = scaler.fit_transform(training_data)\n",
    "training_data"
   ]
  },
  {
   "cell_type": "code",
   "execution_count": 21,
   "metadata": {},
   "outputs": [],
   "source": [
    "X_train = []\n",
    "Y_train = []"
   ]
  },
  {
   "cell_type": "code",
   "execution_count": 22,
   "metadata": {},
   "outputs": [
    {
     "data": {
      "text/plain": [
       "6115"
      ]
     },
     "execution_count": 22,
     "metadata": {},
     "output_type": "execute_result"
    }
   ],
   "source": [
    "training_data.shape[0]"
   ]
  },
  {
   "cell_type": "code",
   "execution_count": 23,
   "metadata": {},
   "outputs": [],
   "source": [
    "for i in range(168, training_data.shape[0]):\n",
    "    X_train.append(training_data[i-168:i])\n",
    "    Y_train.append(training_data[i,0])"
   ]
  },
  {
   "cell_type": "code",
   "execution_count": 24,
   "metadata": {},
   "outputs": [],
   "source": [
    "X_train, Y_train = np.array(X_train), np.array(Y_train)"
   ]
  },
  {
   "cell_type": "code",
   "execution_count": 25,
   "metadata": {},
   "outputs": [
    {
     "data": {
      "text/plain": [
       "(5947, 168, 3)"
      ]
     },
     "execution_count": 25,
     "metadata": {},
     "output_type": "execute_result"
    }
   ],
   "source": [
    "X_train.shape"
   ]
  },
  {
   "cell_type": "code",
   "execution_count": 26,
   "metadata": {},
   "outputs": [],
   "source": [
    "from tensorflow.keras import Sequential\n",
    "from tensorflow.keras.layers import Dense, LSTM, Dropout"
   ]
  },
  {
   "cell_type": "code",
   "execution_count": 27,
   "metadata": {},
   "outputs": [],
   "source": [
    "regressor = Sequential()\n",
    "regressor.add(LSTM(units = 50, activation = 'relu', return_sequences = True, input_shape = (X_train.shape[1], 3)))\n",
    "regressor.add(Dropout(0.2))"
   ]
  },
  {
   "cell_type": "code",
   "execution_count": 28,
   "metadata": {},
   "outputs": [],
   "source": [
    "regressor.add(LSTM(units = 60, activation = 'relu', return_sequences = True))\n",
    "regressor.add(Dropout(0.3))\n",
    "\n",
    "regressor.add(LSTM(units = 80, activation = 'relu', return_sequences = True))\n",
    "regressor.add(Dropout(0.4))\n",
    "\n",
    "regressor.add(LSTM(units = 120, activation = 'relu'))\n",
    "regressor.add(Dropout(0.5))\n",
    "\n",
    "regressor.add(Dense(units =1))"
   ]
  },
  {
   "cell_type": "code",
   "execution_count": 29,
   "metadata": {},
   "outputs": [
    {
     "name": "stdout",
     "output_type": "stream",
     "text": [
      "Model: \"sequential\"\n",
      "_________________________________________________________________\n",
      "Layer (type)                 Output Shape              Param #   \n",
      "=================================================================\n",
      "lstm (LSTM)                  (None, 168, 50)           10800     \n",
      "_________________________________________________________________\n",
      "dropout (Dropout)            (None, 168, 50)           0         \n",
      "_________________________________________________________________\n",
      "lstm_1 (LSTM)                (None, 168, 60)           26640     \n",
      "_________________________________________________________________\n",
      "dropout_1 (Dropout)          (None, 168, 60)           0         \n",
      "_________________________________________________________________\n",
      "lstm_2 (LSTM)                (None, 168, 80)           45120     \n",
      "_________________________________________________________________\n",
      "dropout_2 (Dropout)          (None, 168, 80)           0         \n",
      "_________________________________________________________________\n",
      "lstm_3 (LSTM)                (None, 120)               96480     \n",
      "_________________________________________________________________\n",
      "dropout_3 (Dropout)          (None, 120)               0         \n",
      "_________________________________________________________________\n",
      "dense (Dense)                (None, 1)                 121       \n",
      "=================================================================\n",
      "Total params: 179,161\n",
      "Trainable params: 179,161\n",
      "Non-trainable params: 0\n",
      "_________________________________________________________________\n"
     ]
    }
   ],
   "source": [
    "regressor.summary()"
   ]
  },
  {
   "cell_type": "code",
   "execution_count": 31,
   "metadata": {},
   "outputs": [],
   "source": [
    "regressor.compile(optimizer = 'adam', loss = 'mean_squared_error')"
   ]
  },
  {
   "cell_type": "code",
   "execution_count": 32,
   "metadata": {},
   "outputs": [
    {
     "name": "stdout",
     "output_type": "stream",
     "text": [
      "Epoch 1/20\n",
      "119/119 [==============================] - 239s 2s/step - loss: 0.0278\n",
      "Epoch 2/20\n",
      "119/119 [==============================] - 232s 2s/step - loss: 0.0078\n",
      "Epoch 3/20\n",
      "119/119 [==============================] - 226s 2s/step - loss: 0.0068\n",
      "Epoch 4/20\n",
      "119/119 [==============================] - 225s 2s/step - loss: 0.0065\n",
      "Epoch 5/20\n",
      "119/119 [==============================] - 224s 2s/step - loss: 0.0061\n",
      "Epoch 6/20\n",
      "119/119 [==============================] - 224s 2s/step - loss: 0.0056\n",
      "Epoch 7/20\n",
      "119/119 [==============================] - 225s 2s/step - loss: 0.0053\n",
      "Epoch 8/20\n",
      "119/119 [==============================] - 224s 2s/step - loss: 0.0047\n",
      "Epoch 9/20\n",
      "119/119 [==============================] - 223s 2s/step - loss: 0.0048\n",
      "Epoch 10/20\n",
      "119/119 [==============================] - 224s 2s/step - loss: 0.0043\n",
      "Epoch 11/20\n",
      "119/119 [==============================] - 224s 2s/step - loss: 0.0040\n",
      "Epoch 12/20\n",
      "119/119 [==============================] - 224s 2s/step - loss: 0.0037\n",
      "Epoch 13/20\n",
      "119/119 [==============================] - 224s 2s/step - loss: 0.0034\n",
      "Epoch 14/20\n",
      "119/119 [==============================] - 223s 2s/step - loss: 0.0034\n",
      "Epoch 15/20\n",
      "119/119 [==============================] - 224s 2s/step - loss: 0.0031\n",
      "Epoch 16/20\n",
      "119/119 [==============================] - 225s 2s/step - loss: 0.0031\n",
      "Epoch 17/20\n",
      "119/119 [==============================] - 224s 2s/step - loss: 0.0029\n",
      "Epoch 18/20\n",
      "119/119 [==============================] - 224s 2s/step - loss: 0.0027\n",
      "Epoch 19/20\n",
      "119/119 [==============================] - 224s 2s/step - loss: 0.0026\n",
      "Epoch 20/20\n",
      "119/119 [==============================] - 224s 2s/step - loss: 0.0025\n"
     ]
    },
    {
     "data": {
      "text/plain": [
       "<keras.callbacks.History at 0x7f82a0117208>"
      ]
     },
     "execution_count": 32,
     "metadata": {},
     "output_type": "execute_result"
    }
   ],
   "source": [
    "regressor.fit(X_train, Y_train, epochs = 20, batch_size =50)"
   ]
  },
  {
   "cell_type": "code",
   "execution_count": 33,
   "metadata": {},
   "outputs": [],
   "source": [
    " regressor.save(\"LSTM_model_1205.h5\")"
   ]
  },
  {
   "cell_type": "code",
   "execution_count": 35,
   "metadata": {},
   "outputs": [
    {
     "data": {
      "text/html": [
       "<div>\n",
       "<style scoped>\n",
       "    .dataframe tbody tr th:only-of-type {\n",
       "        vertical-align: middle;\n",
       "    }\n",
       "\n",
       "    .dataframe tbody tr th {\n",
       "        vertical-align: top;\n",
       "    }\n",
       "\n",
       "    .dataframe thead th {\n",
       "        text-align: right;\n",
       "    }\n",
       "</style>\n",
       "<table border=\"1\" class=\"dataframe\">\n",
       "  <thead>\n",
       "    <tr style=\"text-align: right;\">\n",
       "      <th></th>\n",
       "      <th>close</th>\n",
       "      <th>returns</th>\n",
       "      <th>log_returns</th>\n",
       "    </tr>\n",
       "  </thead>\n",
       "  <tbody>\n",
       "    <tr>\n",
       "      <th>0</th>\n",
       "      <td>54299.98</td>\n",
       "      <td>1.010810</td>\n",
       "      <td>0.010752</td>\n",
       "    </tr>\n",
       "    <tr>\n",
       "      <th>1</th>\n",
       "      <td>54595.12</td>\n",
       "      <td>1.005435</td>\n",
       "      <td>0.005421</td>\n",
       "    </tr>\n",
       "    <tr>\n",
       "      <th>2</th>\n",
       "      <td>54644.69</td>\n",
       "      <td>1.000908</td>\n",
       "      <td>0.000908</td>\n",
       "    </tr>\n",
       "    <tr>\n",
       "      <th>3</th>\n",
       "      <td>54341.55</td>\n",
       "      <td>0.994453</td>\n",
       "      <td>-0.005563</td>\n",
       "    </tr>\n",
       "    <tr>\n",
       "      <th>4</th>\n",
       "      <td>54275.13</td>\n",
       "      <td>0.998778</td>\n",
       "      <td>-0.001223</td>\n",
       "    </tr>\n",
       "  </tbody>\n",
       "</table>\n",
       "</div>"
      ],
      "text/plain": [
       "      close   returns  log_returns\n",
       "0  54299.98  1.010810     0.010752\n",
       "1  54595.12  1.005435     0.005421\n",
       "2  54644.69  1.000908     0.000908\n",
       "3  54341.55  0.994453    -0.005563\n",
       "4  54275.13  0.998778    -0.001223"
      ]
     },
     "execution_count": 35,
     "metadata": {},
     "output_type": "execute_result"
    }
   ],
   "source": [
    "past_60_days = data_training.tail(60)\n",
    "df= past_60_days.append(data_test, ignore_index = True)\n",
    "df = df.drop(['NewDateTime', 'Year','Week'], axis = 1)\n",
    "df.head()"
   ]
  },
  {
   "cell_type": "code",
   "execution_count": 36,
   "metadata": {},
   "outputs": [
    {
     "data": {
      "text/plain": [
       "array([[0.63834522, 0.50849022, 0.52852162],\n",
       "       [0.64579191, 0.47527193, 0.49533129],\n",
       "       [0.64704262, 0.44728753, 0.46723248],\n",
       "       ...,\n",
       "       [0.61587695, 0.4185547 , 0.43824962],\n",
       "       [0.62071047, 0.46384587, 0.48387383],\n",
       "       [0.62453878, 0.4591724 , 0.47918144]])"
      ]
     },
     "execution_count": 36,
     "metadata": {},
     "output_type": "execute_result"
    }
   ],
   "source": [
    "inputs = scaler.transform(df)\n",
    "inputs"
   ]
  },
  {
   "cell_type": "code",
   "execution_count": 40,
   "metadata": {},
   "outputs": [],
   "source": [
    "X_test = []\n",
    "Y_test = []\n",
    "for i in range (168, inputs.shape[0]):\n",
    "    X_test.append(inputs[i-168:i])\n",
    "    Y_test.append(inputs[i, 0])"
   ]
  },
  {
   "cell_type": "code",
   "execution_count": 41,
   "metadata": {},
   "outputs": [
    {
     "data": {
      "text/plain": [
       "((1852, 168, 3), (1852,))"
      ]
     },
     "execution_count": 41,
     "metadata": {},
     "output_type": "execute_result"
    }
   ],
   "source": [
    "X_test, Y_test = np.array(X_test), np.array(Y_test)\n",
    "X_test.shape, Y_test.shape"
   ]
  },
  {
   "cell_type": "code",
   "execution_count": 42,
   "metadata": {},
   "outputs": [
    {
     "data": {
      "text/plain": [
       "(array([[0.21225232],\n",
       "        [0.22252646],\n",
       "        [0.23297988],\n",
       "        ...,\n",
       "        [0.5909193 ],\n",
       "        [0.58245444],\n",
       "        [0.57596236]], dtype=float32),\n",
       " array([0.22304414, 0.23338787, 0.20332404, ..., 0.61587695, 0.62071047,\n",
       "        0.62453878]))"
      ]
     },
     "execution_count": 42,
     "metadata": {},
     "output_type": "execute_result"
    }
   ],
   "source": [
    "Y_pred = regressor.predict(X_test)\n",
    "Y_pred, Y_test"
   ]
  },
  {
   "cell_type": "code",
   "execution_count": 43,
   "metadata": {},
   "outputs": [
    {
     "data": {
      "text/plain": [
       "array([2.52310661e-05, 6.18111179e+00, 6.22605758e+00])"
      ]
     },
     "execution_count": 43,
     "metadata": {},
     "output_type": "execute_result"
    }
   ],
   "source": [
    "scaler.scale_"
   ]
  },
  {
   "cell_type": "code",
   "execution_count": 44,
   "metadata": {},
   "outputs": [
    {
     "data": {
      "text/plain": [
       "39633.68000530108"
      ]
     },
     "execution_count": 44,
     "metadata": {},
     "output_type": "execute_result"
    }
   ],
   "source": [
    "scale = 1/2.52310661e-05\n",
    "scale"
   ]
  },
  {
   "cell_type": "code",
   "execution_count": 45,
   "metadata": {},
   "outputs": [],
   "source": [
    "Y_test = Y_test*scale\n",
    "Y_pred = Y_pred*scale"
   ]
  },
  {
   "cell_type": "code",
   "execution_count": 46,
   "metadata": {},
   "outputs": [
    {
     "data": {
      "text/plain": [
       "array([[ 8412.341],\n",
       "       [ 8819.542],\n",
       "       [ 9233.85 ],\n",
       "       ...,\n",
       "       [23420.307],\n",
       "       [23084.812],\n",
       "       [22827.508]], dtype=float32)"
      ]
     },
     "execution_count": 46,
     "metadata": {},
     "output_type": "execute_result"
    }
   ],
   "source": [
    "Y_pred\n"
   ]
  },
  {
   "cell_type": "code",
   "execution_count": 47,
   "metadata": {},
   "outputs": [
    {
     "data": {
      "text/plain": [
       "array([ 8840.06000118,  9250.02000124,  8058.48000108, ...,\n",
       "       24409.47000326, 24601.04000329, 24752.77000331])"
      ]
     },
     "execution_count": 47,
     "metadata": {},
     "output_type": "execute_result"
    }
   ],
   "source": [
    "Y_test"
   ]
  },
  {
   "cell_type": "code",
   "execution_count": 48,
   "metadata": {},
   "outputs": [
    {
     "data": {
      "image/png": "[encoded data removed]",
      "text/plain": [
       "<Figure size 1008x360 with 1 Axes>"
      ]
     },
     "metadata": {
      "needs_background": "light"
     },
     "output_type": "display_data"
    }
   ],
   "source": [
    "plt.figure(figsize=(14,5))\n",
    "plt.plot(Y_test, color = 'red', label = 'Real Bitcoin Price')\n",
    "plt.plot(Y_pred, color = 'green', label = 'Predicted Bitcoin Price')\n",
    "plt.title('Bitcoin Price Prediction using RNN-LSTM')\n",
    "plt.xlabel('Time')\n",
    "plt.ylabel('Price')\n",
    "plt.legend()\n",
    "plt.show()"
   ]
  },
  {
   "cell_type": "code",
   "execution_count": null,
   "metadata": {},
   "outputs": [],
   "source": []
  }
 ],
 "metadata": {
  "kernelspec": {
   "display_name": "Python 3",
   "language": "python",
   "name": "python3"
  },
  "language_info": {
   "codemirror_mode": {
    "name": "ipython",
    "version": 3
   },
   "file_extension": ".py",
   "mimetype": "text/x-python",
   "name": "python",
   "nbconvert_exporter": "python",
   "pygments_lexer": "ipython3",
   "version": "3.6.10"
  }
 },
 "nbformat": 4,
 "nbformat_minor": 4
}
