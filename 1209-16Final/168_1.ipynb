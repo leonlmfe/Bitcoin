{
 "cells": [
  {
   "cell_type": "code",
   "execution_count": 1,
   "metadata": {},
   "outputs": [],
   "source": [
    "import numpy as np\n",
    "import matplotlib.pyplot as plt\n",
    "import pandas as pd\n",
    "import gc\n",
    "from sklearn.preprocessing import MinMaxScaler\n",
    "from pandas import read_csv"
   ]
  },
  {
   "cell_type": "code",
   "execution_count": 2,
   "metadata": {},
   "outputs": [
    {
     "data": {
      "text/plain": [
       "19433"
      ]
     },
     "execution_count": 2,
     "metadata": {},
     "output_type": "execute_result"
    }
   ],
   "source": [
    "# load the new file\n",
    "df = read_csv('./data/bitcoin_data.csv', date_parser = True)\n",
    "df.drop(df.columns[0], axis=1,inplace = True)\n",
    "len(df)"
   ]
  },
  {
   "cell_type": "code",
   "execution_count": 3,
   "metadata": {},
   "outputs": [
    {
     "data": {
      "text/plain": [
       "8171"
      ]
     },
     "execution_count": 3,
     "metadata": {},
     "output_type": "execute_result"
    }
   ],
   "source": [
    "df = df[df['NewDateTime']>= '2021-01-01'].copy()\n",
    "len(df)"
   ]
  },
  {
   "cell_type": "code",
   "execution_count": 4,
   "metadata": {},
   "outputs": [],
   "source": [
    "# df.drop(df.head(len(df)%168).index,inplace=True)\n",
    "# len(df)"
   ]
  },
  {
   "cell_type": "code",
   "execution_count": 5,
   "metadata": {},
   "outputs": [
    {
     "data": {
      "text/plain": [
       "7149"
      ]
     },
     "execution_count": 5,
     "metadata": {},
     "output_type": "execute_result"
    }
   ],
   "source": [
    "int(len(df)/8*7)"
   ]
  },
  {
   "cell_type": "code",
   "execution_count": 6,
   "metadata": {},
   "outputs": [
    {
     "data": {
      "text/plain": [
       "7149"
      ]
     },
     "execution_count": 6,
     "metadata": {},
     "output_type": "execute_result"
    }
   ],
   "source": [
    "data_training = df.iloc[0:int(len(df)/8*7),:]\n",
    "data_test = df.iloc[int(len(df)/8*7):int(len(df)),:]\n",
    "\n",
    "len(data_training)"
   ]
  },
  {
   "cell_type": "code",
   "execution_count": 7,
   "metadata": {},
   "outputs": [
    {
     "data": {
      "text/html": [
       "<div>\n",
       "<style scoped>\n",
       "    .dataframe tbody tr th:only-of-type {\n",
       "        vertical-align: middle;\n",
       "    }\n",
       "\n",
       "    .dataframe tbody tr th {\n",
       "        vertical-align: top;\n",
       "    }\n",
       "\n",
       "    .dataframe thead th {\n",
       "        text-align: right;\n",
       "    }\n",
       "</style>\n",
       "<table border=\"1\" class=\"dataframe\">\n",
       "  <thead>\n",
       "    <tr style=\"text-align: right;\">\n",
       "      <th></th>\n",
       "      <th>close</th>\n",
       "      <th>open</th>\n",
       "      <th>high</th>\n",
       "      <th>low</th>\n",
       "      <th>Volume BTC</th>\n",
       "      <th>returns</th>\n",
       "      <th>log_returns</th>\n",
       "      <th>SOPR</th>\n",
       "      <th>fundingRate</th>\n",
       "      <th>googleTrend</th>\n",
       "    </tr>\n",
       "  </thead>\n",
       "  <tbody>\n",
       "    <tr>\n",
       "      <th>11262</th>\n",
       "      <td>28995.13</td>\n",
       "      <td>28923.63</td>\n",
       "      <td>29031.34</td>\n",
       "      <td>28690.17</td>\n",
       "      <td>2311.811445</td>\n",
       "      <td>1.002472</td>\n",
       "      <td>0.002469</td>\n",
       "      <td>1.041846</td>\n",
       "      <td>0.0367</td>\n",
       "      <td>38</td>\n",
       "    </tr>\n",
       "    <tr>\n",
       "      <th>11263</th>\n",
       "      <td>29409.99</td>\n",
       "      <td>28995.13</td>\n",
       "      <td>29470.00</td>\n",
       "      <td>28960.35</td>\n",
       "      <td>5403.068471</td>\n",
       "      <td>1.014308</td>\n",
       "      <td>0.014207</td>\n",
       "      <td>1.041846</td>\n",
       "      <td>0.0367</td>\n",
       "      <td>36</td>\n",
       "    </tr>\n",
       "    <tr>\n",
       "      <th>11264</th>\n",
       "      <td>29194.65</td>\n",
       "      <td>29410.00</td>\n",
       "      <td>29465.26</td>\n",
       "      <td>29120.03</td>\n",
       "      <td>2384.231560</td>\n",
       "      <td>0.992678</td>\n",
       "      <td>-0.007349</td>\n",
       "      <td>1.041846</td>\n",
       "      <td>0.0367</td>\n",
       "      <td>34</td>\n",
       "    </tr>\n",
       "    <tr>\n",
       "      <th>11265</th>\n",
       "      <td>29278.40</td>\n",
       "      <td>29195.25</td>\n",
       "      <td>29367.00</td>\n",
       "      <td>29150.02</td>\n",
       "      <td>1461.345077</td>\n",
       "      <td>1.002869</td>\n",
       "      <td>0.002865</td>\n",
       "      <td>1.041846</td>\n",
       "      <td>0.0367</td>\n",
       "      <td>33</td>\n",
       "    </tr>\n",
       "    <tr>\n",
       "      <th>11266</th>\n",
       "      <td>29220.31</td>\n",
       "      <td>29278.41</td>\n",
       "      <td>29395.00</td>\n",
       "      <td>29029.40</td>\n",
       "      <td>2038.046803</td>\n",
       "      <td>0.998016</td>\n",
       "      <td>-0.001986</td>\n",
       "      <td>1.041846</td>\n",
       "      <td>0.0367</td>\n",
       "      <td>32</td>\n",
       "    </tr>\n",
       "    <tr>\n",
       "      <th>...</th>\n",
       "      <td>...</td>\n",
       "      <td>...</td>\n",
       "      <td>...</td>\n",
       "      <td>...</td>\n",
       "      <td>...</td>\n",
       "      <td>...</td>\n",
       "      <td>...</td>\n",
       "      <td>...</td>\n",
       "      <td>...</td>\n",
       "      <td>...</td>\n",
       "    </tr>\n",
       "    <tr>\n",
       "      <th>18406</th>\n",
       "      <td>62401.38</td>\n",
       "      <td>62459.33</td>\n",
       "      <td>62645.97</td>\n",
       "      <td>62329.39</td>\n",
       "      <td>901.270010</td>\n",
       "      <td>0.999072</td>\n",
       "      <td>-0.000928</td>\n",
       "      <td>1.004381</td>\n",
       "      <td>0.0178</td>\n",
       "      <td>66</td>\n",
       "    </tr>\n",
       "    <tr>\n",
       "      <th>18407</th>\n",
       "      <td>62369.78</td>\n",
       "      <td>62401.37</td>\n",
       "      <td>62594.84</td>\n",
       "      <td>62212.00</td>\n",
       "      <td>1358.911700</td>\n",
       "      <td>0.999494</td>\n",
       "      <td>-0.000507</td>\n",
       "      <td>1.004381</td>\n",
       "      <td>0.0178</td>\n",
       "      <td>66</td>\n",
       "    </tr>\n",
       "    <tr>\n",
       "      <th>18408</th>\n",
       "      <td>62432.54</td>\n",
       "      <td>62369.77</td>\n",
       "      <td>62523.17</td>\n",
       "      <td>62184.01</td>\n",
       "      <td>1080.640700</td>\n",
       "      <td>1.001006</td>\n",
       "      <td>0.001006</td>\n",
       "      <td>1.004381</td>\n",
       "      <td>0.0178</td>\n",
       "      <td>66</td>\n",
       "    </tr>\n",
       "    <tr>\n",
       "      <th>18409</th>\n",
       "      <td>62820.30</td>\n",
       "      <td>62432.54</td>\n",
       "      <td>63110.00</td>\n",
       "      <td>62423.71</td>\n",
       "      <td>1790.709680</td>\n",
       "      <td>1.006211</td>\n",
       "      <td>0.006192</td>\n",
       "      <td>1.004381</td>\n",
       "      <td>0.0409</td>\n",
       "      <td>66</td>\n",
       "    </tr>\n",
       "    <tr>\n",
       "      <th>18410</th>\n",
       "      <td>62666.02</td>\n",
       "      <td>62820.31</td>\n",
       "      <td>62856.30</td>\n",
       "      <td>62602.00</td>\n",
       "      <td>903.929140</td>\n",
       "      <td>0.997544</td>\n",
       "      <td>-0.002459</td>\n",
       "      <td>1.004381</td>\n",
       "      <td>0.0409</td>\n",
       "      <td>66</td>\n",
       "    </tr>\n",
       "  </tbody>\n",
       "</table>\n",
       "<p>7149 rows × 10 columns</p>\n",
       "</div>"
      ],
      "text/plain": [
       "          close      open      high       low   Volume BTC   returns  \\\n",
       "11262  28995.13  28923.63  29031.34  28690.17  2311.811445  1.002472   \n",
       "11263  29409.99  28995.13  29470.00  28960.35  5403.068471  1.014308   \n",
       "11264  29194.65  29410.00  29465.26  29120.03  2384.231560  0.992678   \n",
       "11265  29278.40  29195.25  29367.00  29150.02  1461.345077  1.002869   \n",
       "11266  29220.31  29278.41  29395.00  29029.40  2038.046803  0.998016   \n",
       "...         ...       ...       ...       ...          ...       ...   \n",
       "18406  62401.38  62459.33  62645.97  62329.39   901.270010  0.999072   \n",
       "18407  62369.78  62401.37  62594.84  62212.00  1358.911700  0.999494   \n",
       "18408  62432.54  62369.77  62523.17  62184.01  1080.640700  1.001006   \n",
       "18409  62820.30  62432.54  63110.00  62423.71  1790.709680  1.006211   \n",
       "18410  62666.02  62820.31  62856.30  62602.00   903.929140  0.997544   \n",
       "\n",
       "       log_returns      SOPR  fundingRate  googleTrend  \n",
       "11262     0.002469  1.041846       0.0367           38  \n",
       "11263     0.014207  1.041846       0.0367           36  \n",
       "11264    -0.007349  1.041846       0.0367           34  \n",
       "11265     0.002865  1.041846       0.0367           33  \n",
       "11266    -0.001986  1.041846       0.0367           32  \n",
       "...            ...       ...          ...          ...  \n",
       "18406    -0.000928  1.004381       0.0178           66  \n",
       "18407    -0.000507  1.004381       0.0178           66  \n",
       "18408     0.001006  1.004381       0.0178           66  \n",
       "18409     0.006192  1.004381       0.0409           66  \n",
       "18410    -0.002459  1.004381       0.0409           66  \n",
       "\n",
       "[7149 rows x 10 columns]"
      ]
     },
     "execution_count": 7,
     "metadata": {},
     "output_type": "execute_result"
    }
   ],
   "source": [
    "training_data = data_training.drop(['NewDateTime'], axis = 1)\n",
    "\n",
    "\n",
    "training_data"
   ]
  },
  {
   "cell_type": "code",
   "execution_count": 8,
   "metadata": {},
   "outputs": [
    {
     "data": {
      "text/plain": [
       "array([[0.        , 0.        , 0.        , ..., 0.85604275, 0.37330183,\n",
       "        0.27058824],\n",
       "       [0.01095175, 0.00188395, 0.01155321, ..., 0.85604275, 0.37330183,\n",
       "        0.24705882],\n",
       "       [0.00526706, 0.01281533, 0.01142837, ..., 0.85604275, 0.37330183,\n",
       "        0.22352941],\n",
       "       ...,\n",
       "       [0.88270307, 0.88126989, 0.88209144, ..., 0.47298329, 0.31748376,\n",
       "        0.6       ],\n",
       "       [0.89293941, 0.88292381, 0.89754708, ..., 0.47298329, 0.38570585,\n",
       "        0.6       ],\n",
       "       [0.88886663, 0.89314114, 0.89086526, ..., 0.47298329, 0.38570585,\n",
       "        0.6       ]])"
      ]
     },
     "execution_count": 8,
     "metadata": {},
     "output_type": "execute_result"
    }
   ],
   "source": [
    "scaler = MinMaxScaler()\n",
    "training_data = scaler.fit_transform(training_data)\n",
    "training_data"
   ]
  },
  {
   "cell_type": "code",
   "execution_count": 9,
   "metadata": {},
   "outputs": [],
   "source": [
    "X_train = []\n",
    "Y_train = []"
   ]
  },
  {
   "cell_type": "code",
   "execution_count": 10,
   "metadata": {},
   "outputs": [
    {
     "data": {
      "text/plain": [
       "(7149, 10)"
      ]
     },
     "execution_count": 10,
     "metadata": {},
     "output_type": "execute_result"
    }
   ],
   "source": [
    "training_data.shape"
   ]
  },
  {
   "cell_type": "code",
   "execution_count": 11,
   "metadata": {},
   "outputs": [],
   "source": [
    "for i in range(168, training_data.shape[0]):\n",
    "    X_train.append(training_data[i-168:i])\n",
    "    Y_train.append(training_data[i])"
   ]
  },
  {
   "cell_type": "code",
   "execution_count": 12,
   "metadata": {},
   "outputs": [],
   "source": [
    "X_train, Y_train = np.array(X_train), np.array(Y_train)"
   ]
  },
  {
   "cell_type": "code",
   "execution_count": 13,
   "metadata": {},
   "outputs": [
    {
     "data": {
      "text/plain": [
       "(6981, 168, 10)"
      ]
     },
     "execution_count": 13,
     "metadata": {},
     "output_type": "execute_result"
    }
   ],
   "source": [
    "X_train.shape"
   ]
  },
  {
   "cell_type": "code",
   "execution_count": 14,
   "metadata": {},
   "outputs": [
    {
     "data": {
      "text/plain": [
       "(6981, 10)"
      ]
     },
     "execution_count": 14,
     "metadata": {},
     "output_type": "execute_result"
    }
   ],
   "source": [
    "Y_train.shape"
   ]
  },
  {
   "cell_type": "code",
   "execution_count": 26,
   "metadata": {},
   "outputs": [
    {
     "data": {
      "text/plain": [
       "0.255703828070759"
      ]
     },
     "execution_count": 26,
     "metadata": {},
     "output_type": "execute_result"
    }
   ],
   "source": [
    "Y_train[1,0]"
   ]
  },
  {
   "cell_type": "code",
   "execution_count": 28,
   "metadata": {},
   "outputs": [
    {
     "data": {
      "text/plain": [
       "0.255703828070759"
      ]
     },
     "execution_count": 28,
     "metadata": {},
     "output_type": "execute_result"
    }
   ],
   "source": [
    "X_train[2,167,0]"
   ]
  },
  {
   "cell_type": "code",
   "execution_count": 16,
   "metadata": {},
   "outputs": [],
   "source": [
    "# Y_train=Y_train.reshape(Y_train.shape[0],24,1)"
   ]
  },
  {
   "cell_type": "code",
   "execution_count": 17,
   "metadata": {},
   "outputs": [],
   "source": [
    "# Y_train[1,:,0]"
   ]
  },
  {
   "cell_type": "code",
   "execution_count": 18,
   "metadata": {},
   "outputs": [
    {
     "name": "stdout",
     "output_type": "stream",
     "text": [
      "WARNING:tensorflow:Deprecation warnings have been disabled. Set TF_ENABLE_DEPRECATION_WARNINGS=1 to re-enable them.\n"
     ]
    }
   ],
   "source": [
    "\n",
    "from tensorflow.keras import Sequential\n",
    "from tensorflow.keras.layers import Dense, LSTM, Dropout,RepeatVector,TimeDistributed"
   ]
  },
  {
   "cell_type": "code",
   "execution_count": 61,
   "metadata": {},
   "outputs": [],
   "source": [
    "model = Sequential()\n",
    "model.add(LSTM(units = 50, activation = 'relu', return_sequences = True, input_shape = (X_train.shape[1], 10)))\n",
    "model.add(Dropout(0.2))\n",
    "model.add(LSTM(units = 60, activation = 'relu', return_sequences = True))\n",
    "model.add(Dropout(0.3))\n",
    "\n",
    "model.add(LSTM(units = 80, activation = 'relu'))\n",
    "model.add(Dropout(0.4))\n",
    "\n",
    "model.add(Dense(units =10))"
   ]
  },
  {
   "cell_type": "code",
   "execution_count": 62,
   "metadata": {},
   "outputs": [
    {
     "name": "stdout",
     "output_type": "stream",
     "text": [
      "Model: \"sequential_3\"\n",
      "_________________________________________________________________\n",
      "Layer (type)                 Output Shape              Param #   \n",
      "=================================================================\n",
      "lstm_9 (LSTM)                (None, 168, 50)           12200     \n",
      "_________________________________________________________________\n",
      "dropout_9 (Dropout)          (None, 168, 50)           0         \n",
      "_________________________________________________________________\n",
      "lstm_10 (LSTM)               (None, 168, 60)           26640     \n",
      "_________________________________________________________________\n",
      "dropout_10 (Dropout)         (None, 168, 60)           0         \n",
      "_________________________________________________________________\n",
      "lstm_11 (LSTM)               (None, 80)                45120     \n",
      "_________________________________________________________________\n",
      "dropout_11 (Dropout)         (None, 80)                0         \n",
      "_________________________________________________________________\n",
      "dense_3 (Dense)              (None, 10)                810       \n",
      "=================================================================\n",
      "Total params: 84,770\n",
      "Trainable params: 84,770\n",
      "Non-trainable params: 0\n",
      "_________________________________________________________________\n"
     ]
    }
   ],
   "source": [
    "model.summary()"
   ]
  },
  {
   "cell_type": "code",
   "execution_count": 63,
   "metadata": {},
   "outputs": [],
   "source": [
    "model.compile(loss='mse', optimizer='adam')"
   ]
  },
  {
   "cell_type": "code",
   "execution_count": 64,
   "metadata": {},
   "outputs": [
    {
     "name": "stdout",
     "output_type": "stream",
     "text": [
      "Train on 6282 samples, validate on 699 samples\n",
      "Epoch 1/10\n",
      "1400/6282 [=====>........................] - ETA: 55s - loss: 606595564477410.5000"
     ]
    },
    {
     "ename": "KeyboardInterrupt",
     "evalue": "",
     "output_type": "error",
     "traceback": [
      "\u001b[0;31m---------------------------------------------------------------------------\u001b[0m",
      "\u001b[0;31mKeyboardInterrupt\u001b[0m                         Traceback (most recent call last)",
      "\u001b[0;32m<ipython-input-64-12effe540626>\u001b[0m in \u001b[0;36m<module>\u001b[0;34m\u001b[0m\n\u001b[0;32m----> 1\u001b[0;31m \u001b[0mhistory\u001b[0m \u001b[0;34m=\u001b[0m \u001b[0mmodel\u001b[0m\u001b[0;34m.\u001b[0m\u001b[0mfit\u001b[0m\u001b[0;34m(\u001b[0m\u001b[0mX_train\u001b[0m\u001b[0;34m,\u001b[0m \u001b[0mY_train\u001b[0m\u001b[0;34m,\u001b[0m \u001b[0mepochs\u001b[0m\u001b[0;34m=\u001b[0m\u001b[0;36m10\u001b[0m\u001b[0;34m,\u001b[0m \u001b[0mbatch_size\u001b[0m\u001b[0;34m=\u001b[0m\u001b[0;36m100\u001b[0m\u001b[0;34m,\u001b[0m \u001b[0mverbose\u001b[0m\u001b[0;34m=\u001b[0m\u001b[0;36m1\u001b[0m\u001b[0;34m,\u001b[0m \u001b[0mvalidation_split\u001b[0m\u001b[0;34m=\u001b[0m\u001b[0;36m0.1\u001b[0m\u001b[0;34m)\u001b[0m\u001b[0;34m\u001b[0m\u001b[0;34m\u001b[0m\u001b[0m\n\u001b[0m",
      "\u001b[0;32m/usr/local/lib/python3.6/dist-packages/tensorflow_core/python/keras/engine/training.py\u001b[0m in \u001b[0;36mfit\u001b[0;34m(self, x, y, batch_size, epochs, verbose, callbacks, validation_split, validation_data, shuffle, class_weight, sample_weight, initial_epoch, steps_per_epoch, validation_steps, validation_freq, max_queue_size, workers, use_multiprocessing, **kwargs)\u001b[0m\n\u001b[1;32m    725\u001b[0m         \u001b[0mmax_queue_size\u001b[0m\u001b[0;34m=\u001b[0m\u001b[0mmax_queue_size\u001b[0m\u001b[0;34m,\u001b[0m\u001b[0;34m\u001b[0m\u001b[0;34m\u001b[0m\u001b[0m\n\u001b[1;32m    726\u001b[0m         \u001b[0mworkers\u001b[0m\u001b[0;34m=\u001b[0m\u001b[0mworkers\u001b[0m\u001b[0;34m,\u001b[0m\u001b[0;34m\u001b[0m\u001b[0;34m\u001b[0m\u001b[0m\n\u001b[0;32m--> 727\u001b[0;31m         use_multiprocessing=use_multiprocessing)\n\u001b[0m\u001b[1;32m    728\u001b[0m \u001b[0;34m\u001b[0m\u001b[0m\n\u001b[1;32m    729\u001b[0m   def evaluate(self,\n",
      "\u001b[0;32m/usr/local/lib/python3.6/dist-packages/tensorflow_core/python/keras/engine/training_arrays.py\u001b[0m in \u001b[0;36mfit\u001b[0;34m(self, model, x, y, batch_size, epochs, verbose, callbacks, validation_split, validation_data, shuffle, class_weight, sample_weight, initial_epoch, steps_per_epoch, validation_steps, validation_freq, **kwargs)\u001b[0m\n\u001b[1;32m    673\u001b[0m         \u001b[0mvalidation_steps\u001b[0m\u001b[0;34m=\u001b[0m\u001b[0mvalidation_steps\u001b[0m\u001b[0;34m,\u001b[0m\u001b[0;34m\u001b[0m\u001b[0;34m\u001b[0m\u001b[0m\n\u001b[1;32m    674\u001b[0m         \u001b[0mvalidation_freq\u001b[0m\u001b[0;34m=\u001b[0m\u001b[0mvalidation_freq\u001b[0m\u001b[0;34m,\u001b[0m\u001b[0;34m\u001b[0m\u001b[0;34m\u001b[0m\u001b[0m\n\u001b[0;32m--> 675\u001b[0;31m         steps_name='steps_per_epoch')\n\u001b[0m\u001b[1;32m    676\u001b[0m \u001b[0;34m\u001b[0m\u001b[0m\n\u001b[1;32m    677\u001b[0m   def evaluate(self,\n",
      "\u001b[0;32m/usr/local/lib/python3.6/dist-packages/tensorflow_core/python/keras/engine/training_arrays.py\u001b[0m in \u001b[0;36mmodel_iteration\u001b[0;34m(model, inputs, targets, sample_weights, batch_size, epochs, verbose, callbacks, val_inputs, val_targets, val_sample_weights, shuffle, initial_epoch, steps_per_epoch, validation_steps, validation_freq, mode, validation_in_fit, prepared_feed_values_from_dataset, steps_name, **kwargs)\u001b[0m\n\u001b[1;32m    392\u001b[0m \u001b[0;34m\u001b[0m\u001b[0m\n\u001b[1;32m    393\u001b[0m         \u001b[0;31m# Get outputs.\u001b[0m\u001b[0;34m\u001b[0m\u001b[0;34m\u001b[0m\u001b[0;34m\u001b[0m\u001b[0m\n\u001b[0;32m--> 394\u001b[0;31m         \u001b[0mbatch_outs\u001b[0m \u001b[0;34m=\u001b[0m \u001b[0mf\u001b[0m\u001b[0;34m(\u001b[0m\u001b[0mins_batch\u001b[0m\u001b[0;34m)\u001b[0m\u001b[0;34m\u001b[0m\u001b[0;34m\u001b[0m\u001b[0m\n\u001b[0m\u001b[1;32m    395\u001b[0m         \u001b[0;32mif\u001b[0m \u001b[0;32mnot\u001b[0m \u001b[0misinstance\u001b[0m\u001b[0;34m(\u001b[0m\u001b[0mbatch_outs\u001b[0m\u001b[0;34m,\u001b[0m \u001b[0mlist\u001b[0m\u001b[0;34m)\u001b[0m\u001b[0;34m:\u001b[0m\u001b[0;34m\u001b[0m\u001b[0;34m\u001b[0m\u001b[0m\n\u001b[1;32m    396\u001b[0m           \u001b[0mbatch_outs\u001b[0m \u001b[0;34m=\u001b[0m \u001b[0;34m[\u001b[0m\u001b[0mbatch_outs\u001b[0m\u001b[0;34m]\u001b[0m\u001b[0;34m\u001b[0m\u001b[0;34m\u001b[0m\u001b[0m\n",
      "\u001b[0;32m/usr/local/lib/python3.6/dist-packages/tensorflow_core/python/keras/backend.py\u001b[0m in \u001b[0;36m__call__\u001b[0;34m(self, inputs)\u001b[0m\n\u001b[1;32m   3474\u001b[0m \u001b[0;34m\u001b[0m\u001b[0m\n\u001b[1;32m   3475\u001b[0m     fetched = self._callable_fn(*array_vals,\n\u001b[0;32m-> 3476\u001b[0;31m                                 run_metadata=self.run_metadata)\n\u001b[0m\u001b[1;32m   3477\u001b[0m     \u001b[0mself\u001b[0m\u001b[0;34m.\u001b[0m\u001b[0m_call_fetch_callbacks\u001b[0m\u001b[0;34m(\u001b[0m\u001b[0mfetched\u001b[0m\u001b[0;34m[\u001b[0m\u001b[0;34m-\u001b[0m\u001b[0mlen\u001b[0m\u001b[0;34m(\u001b[0m\u001b[0mself\u001b[0m\u001b[0;34m.\u001b[0m\u001b[0m_fetches\u001b[0m\u001b[0;34m)\u001b[0m\u001b[0;34m:\u001b[0m\u001b[0;34m]\u001b[0m\u001b[0;34m)\u001b[0m\u001b[0;34m\u001b[0m\u001b[0;34m\u001b[0m\u001b[0m\n\u001b[1;32m   3478\u001b[0m     output_structure = nest.pack_sequence_as(\n",
      "\u001b[0;32m/usr/local/lib/python3.6/dist-packages/tensorflow_core/python/client/session.py\u001b[0m in \u001b[0;36m__call__\u001b[0;34m(self, *args, **kwargs)\u001b[0m\n\u001b[1;32m   1470\u001b[0m         ret = tf_session.TF_SessionRunCallable(self._session._session,\n\u001b[1;32m   1471\u001b[0m                                                \u001b[0mself\u001b[0m\u001b[0;34m.\u001b[0m\u001b[0m_handle\u001b[0m\u001b[0;34m,\u001b[0m \u001b[0margs\u001b[0m\u001b[0;34m,\u001b[0m\u001b[0;34m\u001b[0m\u001b[0;34m\u001b[0m\u001b[0m\n\u001b[0;32m-> 1472\u001b[0;31m                                                run_metadata_ptr)\n\u001b[0m\u001b[1;32m   1473\u001b[0m         \u001b[0;32mif\u001b[0m \u001b[0mrun_metadata\u001b[0m\u001b[0;34m:\u001b[0m\u001b[0;34m\u001b[0m\u001b[0;34m\u001b[0m\u001b[0m\n\u001b[1;32m   1474\u001b[0m           \u001b[0mproto_data\u001b[0m \u001b[0;34m=\u001b[0m \u001b[0mtf_session\u001b[0m\u001b[0;34m.\u001b[0m\u001b[0mTF_GetBuffer\u001b[0m\u001b[0;34m(\u001b[0m\u001b[0mrun_metadata_ptr\u001b[0m\u001b[0;34m)\u001b[0m\u001b[0;34m\u001b[0m\u001b[0;34m\u001b[0m\u001b[0m\n",
      "\u001b[0;31mKeyboardInterrupt\u001b[0m: "
     ]
    }
   ],
   "source": [
    "history = model.fit(X_train, Y_train, epochs=10, batch_size=100, verbose=1, validation_split=0.1)"
   ]
  },
  {
   "cell_type": "code",
   "execution_count": 1,
   "metadata": {},
   "outputs": [
    {
     "name": "stdout",
     "output_type": "stream",
     "text": [
      "WARNING:tensorflow:Deprecation warnings have been disabled. Set TF_ENABLE_DEPRECATION_WARNINGS=1 to re-enable them.\n"
     ]
    }
   ],
   "source": [
    "import tensorflow as tf\n",
    "model = tf.keras.models.load_model('168_1.h5')"
   ]
  },
  {
   "cell_type": "code",
   "execution_count": 33,
   "metadata": {},
   "outputs": [],
   "source": [
    "model.save(\"168_1.h5\")"
   ]
  },
  {
   "cell_type": "code",
   "execution_count": 34,
   "metadata": {},
   "outputs": [],
   "source": [
    "# result = model.predict(X_train, batch_size=128, verbose=0)\n",
    "# for value in result[0,:,0]:\n",
    "# \tprint('%.1f' % value)"
   ]
  },
  {
   "cell_type": "code",
   "execution_count": 35,
   "metadata": {},
   "outputs": [
    {
     "data": {
      "image/png": "[encoded data removed]",
      "text/plain": [
       "<Figure size 432x288 with 1 Axes>"
      ]
     },
     "metadata": {
      "needs_background": "light"
     },
     "output_type": "display_data"
    }
   ],
   "source": [
    "loss = history.history['loss']\n",
    "epoch = range(len(loss))\n",
    "# plt.figure(figsize=(8,8))\n",
    "plt.plot(history.history['loss'])\n",
    "plt.plot(history.history['val_loss'])\n",
    "plt.title('model train vs validation loss')\n",
    "plt.ylabel('loss')\n",
    "plt.xlabel('epoch')\n",
    "plt.legend(['train', 'validation'], loc='upper right')\n",
    "plt.show()"
   ]
  },
  {
   "cell_type": "code",
   "execution_count": 36,
   "metadata": {},
   "outputs": [
    {
     "data": {
      "text/plain": [
       "{'loss': [0.07033385580778596,\n",
       "  0.02132648048434372,\n",
       "  0.01515750326921903,\n",
       "  0.012708303335056643,\n",
       "  0.011067778702003395,\n",
       "  0.009951244875734132,\n",
       "  0.008994974244287518,\n",
       "  0.008360996660626702,\n",
       "  0.007991789805470701,\n",
       "  0.007479512280067302],\n",
       " 'val_loss': [0.013143018750108789,\n",
       "  0.010094926543320623,\n",
       "  0.00432287521649669,\n",
       "  0.0069972324912544225,\n",
       "  0.0024345434815069935,\n",
       "  0.005020796267371705,\n",
       "  0.003075458325887997,\n",
       "  0.002703151212291038,\n",
       "  0.003993895755566454,\n",
       "  0.0027928445384956266]}"
      ]
     },
     "execution_count": 36,
     "metadata": {},
     "output_type": "execute_result"
    }
   ],
   "source": [
    "history.history"
   ]
  },
  {
   "cell_type": "code",
   "execution_count": 32,
   "metadata": {},
   "outputs": [],
   "source": [
    "# from tensorflow import keras\n",
    "# regressor = Sequential()\n",
    "# regressor = keras.models.load_model(\"LSTM_model_1210.h5\")"
   ]
  },
  {
   "cell_type": "code",
   "execution_count": 37,
   "metadata": {},
   "outputs": [
    {
     "data": {
      "text/html": [
       "<div>\n",
       "<style scoped>\n",
       "    .dataframe tbody tr th:only-of-type {\n",
       "        vertical-align: middle;\n",
       "    }\n",
       "\n",
       "    .dataframe tbody tr th {\n",
       "        vertical-align: top;\n",
       "    }\n",
       "\n",
       "    .dataframe thead th {\n",
       "        text-align: right;\n",
       "    }\n",
       "</style>\n",
       "<table border=\"1\" class=\"dataframe\">\n",
       "  <thead>\n",
       "    <tr style=\"text-align: right;\">\n",
       "      <th></th>\n",
       "      <th>close</th>\n",
       "      <th>open</th>\n",
       "      <th>high</th>\n",
       "      <th>low</th>\n",
       "      <th>Volume BTC</th>\n",
       "      <th>NewDateTime</th>\n",
       "      <th>returns</th>\n",
       "      <th>log_returns</th>\n",
       "      <th>SOPR</th>\n",
       "      <th>fundingRate</th>\n",
       "      <th>googleTrend</th>\n",
       "    </tr>\n",
       "  </thead>\n",
       "  <tbody>\n",
       "    <tr>\n",
       "      <th>0</th>\n",
       "      <td>62249.85</td>\n",
       "      <td>62139.09</td>\n",
       "      <td>62400.00</td>\n",
       "      <td>62043.80</td>\n",
       "      <td>1099.517370</td>\n",
       "      <td>2021-10-19 10:00:00</td>\n",
       "      <td>1.001782</td>\n",
       "      <td>0.001781</td>\n",
       "      <td>1.004461</td>\n",
       "      <td>0.0100</td>\n",
       "      <td>78</td>\n",
       "    </tr>\n",
       "    <tr>\n",
       "      <th>1</th>\n",
       "      <td>62128.39</td>\n",
       "      <td>62249.86</td>\n",
       "      <td>62337.41</td>\n",
       "      <td>62065.30</td>\n",
       "      <td>967.234490</td>\n",
       "      <td>2021-10-19 11:00:00</td>\n",
       "      <td>0.998049</td>\n",
       "      <td>-0.001953</td>\n",
       "      <td>1.004461</td>\n",
       "      <td>0.0100</td>\n",
       "      <td>78</td>\n",
       "    </tr>\n",
       "    <tr>\n",
       "      <th>2</th>\n",
       "      <td>62223.65</td>\n",
       "      <td>62128.39</td>\n",
       "      <td>62515.00</td>\n",
       "      <td>62000.00</td>\n",
       "      <td>1751.806970</td>\n",
       "      <td>2021-10-19 12:00:00</td>\n",
       "      <td>1.001533</td>\n",
       "      <td>0.001532</td>\n",
       "      <td>1.004461</td>\n",
       "      <td>0.0100</td>\n",
       "      <td>78</td>\n",
       "    </tr>\n",
       "    <tr>\n",
       "      <th>3</th>\n",
       "      <td>62604.41</td>\n",
       "      <td>62223.65</td>\n",
       "      <td>63278.61</td>\n",
       "      <td>62070.00</td>\n",
       "      <td>6361.610176</td>\n",
       "      <td>2021-10-19 13:00:00</td>\n",
       "      <td>1.006119</td>\n",
       "      <td>0.006101</td>\n",
       "      <td>1.004461</td>\n",
       "      <td>0.0100</td>\n",
       "      <td>78</td>\n",
       "    </tr>\n",
       "    <tr>\n",
       "      <th>4</th>\n",
       "      <td>62531.22</td>\n",
       "      <td>62604.41</td>\n",
       "      <td>62686.21</td>\n",
       "      <td>61322.22</td>\n",
       "      <td>5253.448500</td>\n",
       "      <td>2021-10-19 14:00:00</td>\n",
       "      <td>0.998831</td>\n",
       "      <td>-0.001170</td>\n",
       "      <td>1.004461</td>\n",
       "      <td>0.0100</td>\n",
       "      <td>78</td>\n",
       "    </tr>\n",
       "    <tr>\n",
       "      <th>...</th>\n",
       "      <td>...</td>\n",
       "      <td>...</td>\n",
       "      <td>...</td>\n",
       "      <td>...</td>\n",
       "      <td>...</td>\n",
       "      <td>...</td>\n",
       "      <td>...</td>\n",
       "      <td>...</td>\n",
       "      <td>...</td>\n",
       "      <td>...</td>\n",
       "      <td>...</td>\n",
       "    </tr>\n",
       "    <tr>\n",
       "      <th>1185</th>\n",
       "      <td>50884.48</td>\n",
       "      <td>50921.61</td>\n",
       "      <td>51204.77</td>\n",
       "      <td>50666.00</td>\n",
       "      <td>1312.933600</td>\n",
       "      <td>2021-12-07 19:00:00</td>\n",
       "      <td>0.999271</td>\n",
       "      <td>-0.000729</td>\n",
       "      <td>1.004981</td>\n",
       "      <td>0.0039</td>\n",
       "      <td>23</td>\n",
       "    </tr>\n",
       "    <tr>\n",
       "      <th>1186</th>\n",
       "      <td>50441.59</td>\n",
       "      <td>50884.49</td>\n",
       "      <td>51006.20</td>\n",
       "      <td>50150.00</td>\n",
       "      <td>2194.520910</td>\n",
       "      <td>2021-12-07 20:00:00</td>\n",
       "      <td>0.991296</td>\n",
       "      <td>-0.008742</td>\n",
       "      <td>1.004981</td>\n",
       "      <td>0.0039</td>\n",
       "      <td>23</td>\n",
       "    </tr>\n",
       "    <tr>\n",
       "      <th>1187</th>\n",
       "      <td>50489.92</td>\n",
       "      <td>50441.59</td>\n",
       "      <td>50856.46</td>\n",
       "      <td>50358.99</td>\n",
       "      <td>1468.150880</td>\n",
       "      <td>2021-12-07 21:00:00</td>\n",
       "      <td>1.000958</td>\n",
       "      <td>0.000958</td>\n",
       "      <td>1.004981</td>\n",
       "      <td>0.0039</td>\n",
       "      <td>23</td>\n",
       "    </tr>\n",
       "    <tr>\n",
       "      <th>1188</th>\n",
       "      <td>50245.25</td>\n",
       "      <td>50489.93</td>\n",
       "      <td>50626.43</td>\n",
       "      <td>50039.74</td>\n",
       "      <td>1362.131770</td>\n",
       "      <td>2021-12-07 22:00:00</td>\n",
       "      <td>0.995154</td>\n",
       "      <td>-0.004858</td>\n",
       "      <td>1.004981</td>\n",
       "      <td>0.0039</td>\n",
       "      <td>23</td>\n",
       "    </tr>\n",
       "    <tr>\n",
       "      <th>1189</th>\n",
       "      <td>50588.95</td>\n",
       "      <td>50245.25</td>\n",
       "      <td>50710.99</td>\n",
       "      <td>50141.60</td>\n",
       "      <td>828.396080</td>\n",
       "      <td>2021-12-07 23:00:00</td>\n",
       "      <td>1.006840</td>\n",
       "      <td>0.006817</td>\n",
       "      <td>1.004981</td>\n",
       "      <td>0.0039</td>\n",
       "      <td>22</td>\n",
       "    </tr>\n",
       "  </tbody>\n",
       "</table>\n",
       "<p>1190 rows × 11 columns</p>\n",
       "</div>"
      ],
      "text/plain": [
       "         close      open      high       low   Volume BTC  \\\n",
       "0     62249.85  62139.09  62400.00  62043.80  1099.517370   \n",
       "1     62128.39  62249.86  62337.41  62065.30   967.234490   \n",
       "2     62223.65  62128.39  62515.00  62000.00  1751.806970   \n",
       "3     62604.41  62223.65  63278.61  62070.00  6361.610176   \n",
       "4     62531.22  62604.41  62686.21  61322.22  5253.448500   \n",
       "...        ...       ...       ...       ...          ...   \n",
       "1185  50884.48  50921.61  51204.77  50666.00  1312.933600   \n",
       "1186  50441.59  50884.49  51006.20  50150.00  2194.520910   \n",
       "1187  50489.92  50441.59  50856.46  50358.99  1468.150880   \n",
       "1188  50245.25  50489.93  50626.43  50039.74  1362.131770   \n",
       "1189  50588.95  50245.25  50710.99  50141.60   828.396080   \n",
       "\n",
       "              NewDateTime   returns  log_returns      SOPR  fundingRate  \\\n",
       "0     2021-10-19 10:00:00  1.001782     0.001781  1.004461       0.0100   \n",
       "1     2021-10-19 11:00:00  0.998049    -0.001953  1.004461       0.0100   \n",
       "2     2021-10-19 12:00:00  1.001533     0.001532  1.004461       0.0100   \n",
       "3     2021-10-19 13:00:00  1.006119     0.006101  1.004461       0.0100   \n",
       "4     2021-10-19 14:00:00  0.998831    -0.001170  1.004461       0.0100   \n",
       "...                   ...       ...          ...       ...          ...   \n",
       "1185  2021-12-07 19:00:00  0.999271    -0.000729  1.004981       0.0039   \n",
       "1186  2021-12-07 20:00:00  0.991296    -0.008742  1.004981       0.0039   \n",
       "1187  2021-12-07 21:00:00  1.000958     0.000958  1.004981       0.0039   \n",
       "1188  2021-12-07 22:00:00  0.995154    -0.004858  1.004981       0.0039   \n",
       "1189  2021-12-07 23:00:00  1.006840     0.006817  1.004981       0.0039   \n",
       "\n",
       "      googleTrend  \n",
       "0              78  \n",
       "1              78  \n",
       "2              78  \n",
       "3              78  \n",
       "4              78  \n",
       "...           ...  \n",
       "1185           23  \n",
       "1186           23  \n",
       "1187           23  \n",
       "1188           23  \n",
       "1189           22  \n",
       "\n",
       "[1190 rows x 11 columns]"
      ]
     },
     "execution_count": 37,
     "metadata": {},
     "output_type": "execute_result"
    }
   ],
   "source": [
    "past_weeks = data_training.tail(168)\n",
    "df= past_weeks.append(data_test, ignore_index = True)\n",
    "# test.drop(test.tail(len(test)%168).index,inplace=True)\n",
    "# test = test.drop(['NewDateTime'], axis=1)\n",
    "df"
   ]
  },
  {
   "cell_type": "code",
   "execution_count": 38,
   "metadata": {},
   "outputs": [
    {
     "data": {
      "text/html": [
       "<div>\n",
       "<style scoped>\n",
       "    .dataframe tbody tr th:only-of-type {\n",
       "        vertical-align: middle;\n",
       "    }\n",
       "\n",
       "    .dataframe tbody tr th {\n",
       "        vertical-align: top;\n",
       "    }\n",
       "\n",
       "    .dataframe thead th {\n",
       "        text-align: right;\n",
       "    }\n",
       "</style>\n",
       "<table border=\"1\" class=\"dataframe\">\n",
       "  <thead>\n",
       "    <tr style=\"text-align: right;\">\n",
       "      <th></th>\n",
       "      <th>close</th>\n",
       "      <th>open</th>\n",
       "      <th>high</th>\n",
       "      <th>low</th>\n",
       "      <th>Volume BTC</th>\n",
       "      <th>NewDateTime</th>\n",
       "      <th>returns</th>\n",
       "      <th>log_returns</th>\n",
       "      <th>SOPR</th>\n",
       "      <th>fundingRate</th>\n",
       "      <th>googleTrend</th>\n",
       "    </tr>\n",
       "  </thead>\n",
       "  <tbody>\n",
       "    <tr>\n",
       "      <th>18243</th>\n",
       "      <td>62249.85</td>\n",
       "      <td>62139.09</td>\n",
       "      <td>62400.00</td>\n",
       "      <td>62043.80</td>\n",
       "      <td>1099.517370</td>\n",
       "      <td>2021-10-19 10:00:00</td>\n",
       "      <td>1.001782</td>\n",
       "      <td>0.001781</td>\n",
       "      <td>1.004461</td>\n",
       "      <td>0.0100</td>\n",
       "      <td>78</td>\n",
       "    </tr>\n",
       "    <tr>\n",
       "      <th>18244</th>\n",
       "      <td>62128.39</td>\n",
       "      <td>62249.86</td>\n",
       "      <td>62337.41</td>\n",
       "      <td>62065.30</td>\n",
       "      <td>967.234490</td>\n",
       "      <td>2021-10-19 11:00:00</td>\n",
       "      <td>0.998049</td>\n",
       "      <td>-0.001953</td>\n",
       "      <td>1.004461</td>\n",
       "      <td>0.0100</td>\n",
       "      <td>78</td>\n",
       "    </tr>\n",
       "    <tr>\n",
       "      <th>18245</th>\n",
       "      <td>62223.65</td>\n",
       "      <td>62128.39</td>\n",
       "      <td>62515.00</td>\n",
       "      <td>62000.00</td>\n",
       "      <td>1751.806970</td>\n",
       "      <td>2021-10-19 12:00:00</td>\n",
       "      <td>1.001533</td>\n",
       "      <td>0.001532</td>\n",
       "      <td>1.004461</td>\n",
       "      <td>0.0100</td>\n",
       "      <td>78</td>\n",
       "    </tr>\n",
       "    <tr>\n",
       "      <th>18246</th>\n",
       "      <td>62604.41</td>\n",
       "      <td>62223.65</td>\n",
       "      <td>63278.61</td>\n",
       "      <td>62070.00</td>\n",
       "      <td>6361.610176</td>\n",
       "      <td>2021-10-19 13:00:00</td>\n",
       "      <td>1.006119</td>\n",
       "      <td>0.006101</td>\n",
       "      <td>1.004461</td>\n",
       "      <td>0.0100</td>\n",
       "      <td>78</td>\n",
       "    </tr>\n",
       "    <tr>\n",
       "      <th>18247</th>\n",
       "      <td>62531.22</td>\n",
       "      <td>62604.41</td>\n",
       "      <td>62686.21</td>\n",
       "      <td>61322.22</td>\n",
       "      <td>5253.448500</td>\n",
       "      <td>2021-10-19 14:00:00</td>\n",
       "      <td>0.998831</td>\n",
       "      <td>-0.001170</td>\n",
       "      <td>1.004461</td>\n",
       "      <td>0.0100</td>\n",
       "      <td>78</td>\n",
       "    </tr>\n",
       "    <tr>\n",
       "      <th>...</th>\n",
       "      <td>...</td>\n",
       "      <td>...</td>\n",
       "      <td>...</td>\n",
       "      <td>...</td>\n",
       "      <td>...</td>\n",
       "      <td>...</td>\n",
       "      <td>...</td>\n",
       "      <td>...</td>\n",
       "      <td>...</td>\n",
       "      <td>...</td>\n",
       "      <td>...</td>\n",
       "    </tr>\n",
       "    <tr>\n",
       "      <th>18406</th>\n",
       "      <td>62401.38</td>\n",
       "      <td>62459.33</td>\n",
       "      <td>62645.97</td>\n",
       "      <td>62329.39</td>\n",
       "      <td>901.270010</td>\n",
       "      <td>2021-10-26 05:00:00</td>\n",
       "      <td>0.999072</td>\n",
       "      <td>-0.000928</td>\n",
       "      <td>1.004381</td>\n",
       "      <td>0.0178</td>\n",
       "      <td>66</td>\n",
       "    </tr>\n",
       "    <tr>\n",
       "      <th>18407</th>\n",
       "      <td>62369.78</td>\n",
       "      <td>62401.37</td>\n",
       "      <td>62594.84</td>\n",
       "      <td>62212.00</td>\n",
       "      <td>1358.911700</td>\n",
       "      <td>2021-10-26 06:00:00</td>\n",
       "      <td>0.999494</td>\n",
       "      <td>-0.000507</td>\n",
       "      <td>1.004381</td>\n",
       "      <td>0.0178</td>\n",
       "      <td>66</td>\n",
       "    </tr>\n",
       "    <tr>\n",
       "      <th>18408</th>\n",
       "      <td>62432.54</td>\n",
       "      <td>62369.77</td>\n",
       "      <td>62523.17</td>\n",
       "      <td>62184.01</td>\n",
       "      <td>1080.640700</td>\n",
       "      <td>2021-10-26 07:00:00</td>\n",
       "      <td>1.001006</td>\n",
       "      <td>0.001006</td>\n",
       "      <td>1.004381</td>\n",
       "      <td>0.0178</td>\n",
       "      <td>66</td>\n",
       "    </tr>\n",
       "    <tr>\n",
       "      <th>18409</th>\n",
       "      <td>62820.30</td>\n",
       "      <td>62432.54</td>\n",
       "      <td>63110.00</td>\n",
       "      <td>62423.71</td>\n",
       "      <td>1790.709680</td>\n",
       "      <td>2021-10-26 08:00:00</td>\n",
       "      <td>1.006211</td>\n",
       "      <td>0.006192</td>\n",
       "      <td>1.004381</td>\n",
       "      <td>0.0409</td>\n",
       "      <td>66</td>\n",
       "    </tr>\n",
       "    <tr>\n",
       "      <th>18410</th>\n",
       "      <td>62666.02</td>\n",
       "      <td>62820.31</td>\n",
       "      <td>62856.30</td>\n",
       "      <td>62602.00</td>\n",
       "      <td>903.929140</td>\n",
       "      <td>2021-10-26 09:00:00</td>\n",
       "      <td>0.997544</td>\n",
       "      <td>-0.002459</td>\n",
       "      <td>1.004381</td>\n",
       "      <td>0.0409</td>\n",
       "      <td>66</td>\n",
       "    </tr>\n",
       "  </tbody>\n",
       "</table>\n",
       "<p>168 rows × 11 columns</p>\n",
       "</div>"
      ],
      "text/plain": [
       "          close      open      high       low   Volume BTC  \\\n",
       "18243  62249.85  62139.09  62400.00  62043.80  1099.517370   \n",
       "18244  62128.39  62249.86  62337.41  62065.30   967.234490   \n",
       "18245  62223.65  62128.39  62515.00  62000.00  1751.806970   \n",
       "18246  62604.41  62223.65  63278.61  62070.00  6361.610176   \n",
       "18247  62531.22  62604.41  62686.21  61322.22  5253.448500   \n",
       "...         ...       ...       ...       ...          ...   \n",
       "18406  62401.38  62459.33  62645.97  62329.39   901.270010   \n",
       "18407  62369.78  62401.37  62594.84  62212.00  1358.911700   \n",
       "18408  62432.54  62369.77  62523.17  62184.01  1080.640700   \n",
       "18409  62820.30  62432.54  63110.00  62423.71  1790.709680   \n",
       "18410  62666.02  62820.31  62856.30  62602.00   903.929140   \n",
       "\n",
       "               NewDateTime   returns  log_returns      SOPR  fundingRate  \\\n",
       "18243  2021-10-19 10:00:00  1.001782     0.001781  1.004461       0.0100   \n",
       "18244  2021-10-19 11:00:00  0.998049    -0.001953  1.004461       0.0100   \n",
       "18245  2021-10-19 12:00:00  1.001533     0.001532  1.004461       0.0100   \n",
       "18246  2021-10-19 13:00:00  1.006119     0.006101  1.004461       0.0100   \n",
       "18247  2021-10-19 14:00:00  0.998831    -0.001170  1.004461       0.0100   \n",
       "...                    ...       ...          ...       ...          ...   \n",
       "18406  2021-10-26 05:00:00  0.999072    -0.000928  1.004381       0.0178   \n",
       "18407  2021-10-26 06:00:00  0.999494    -0.000507  1.004381       0.0178   \n",
       "18408  2021-10-26 07:00:00  1.001006     0.001006  1.004381       0.0178   \n",
       "18409  2021-10-26 08:00:00  1.006211     0.006192  1.004381       0.0409   \n",
       "18410  2021-10-26 09:00:00  0.997544    -0.002459  1.004381       0.0409   \n",
       "\n",
       "       googleTrend  \n",
       "18243           78  \n",
       "18244           78  \n",
       "18245           78  \n",
       "18246           78  \n",
       "18247           78  \n",
       "...            ...  \n",
       "18406           66  \n",
       "18407           66  \n",
       "18408           66  \n",
       "18409           66  \n",
       "18410           66  \n",
       "\n",
       "[168 rows x 11 columns]"
      ]
     },
     "execution_count": 38,
     "metadata": {},
     "output_type": "execute_result"
    }
   ],
   "source": [
    "past_weeks"
   ]
  },
  {
   "cell_type": "code",
   "execution_count": 39,
   "metadata": {},
   "outputs": [
    {
     "data": {
      "text/plain": [
       "1190"
      ]
     },
     "execution_count": 39,
     "metadata": {},
     "output_type": "execute_result"
    }
   ],
   "source": [
    "df = df.drop(['NewDateTime'], axis = 1)\n",
    "len(df)"
   ]
  },
  {
   "cell_type": "code",
   "execution_count": 40,
   "metadata": {},
   "outputs": [
    {
     "data": {
      "text/plain": [
       "array([[0.87788029, 0.87519172, 0.87884745, ..., 0.4737931 , 0.29444773,\n",
       "        0.74117647],\n",
       "       [0.87467391, 0.87811039, 0.87719898, ..., 0.4737931 , 0.29444773,\n",
       "        0.74117647],\n",
       "       [0.87718865, 0.87490979, 0.88187626, ..., 0.4737931 , 0.29444773,\n",
       "        0.74117647],\n",
       "       ...,\n",
       "       [0.56743381, 0.56697515, 0.57481934, ..., 0.47911513, 0.27643237,\n",
       "        0.09411765],\n",
       "       [0.56097485, 0.56824886, 0.56876092, ..., 0.47911513, 0.27643237,\n",
       "        0.09411765],\n",
       "       [0.57004807, 0.5618018 , 0.57098802, ..., 0.47911513, 0.27643237,\n",
       "        0.08235294]])"
      ]
     },
     "execution_count": 40,
     "metadata": {},
     "output_type": "execute_result"
    }
   ],
   "source": [
    "inputs = scaler.transform(df)\n",
    "inputs"
   ]
  },
  {
   "cell_type": "code",
   "execution_count": 41,
   "metadata": {},
   "outputs": [],
   "source": [
    "X_test = []\n",
    "Y_test = []\n",
    "for i in range(168, inputs.shape[0]):\n",
    "    X_test.append(inputs[i-168:i])\n",
    "    Y_test.append(inputs[i])"
   ]
  },
  {
   "cell_type": "code",
   "execution_count": 42,
   "metadata": {},
   "outputs": [
    {
     "data": {
      "text/plain": [
       "((1022, 168, 10), (1022, 10))"
      ]
     },
     "execution_count": 42,
     "metadata": {},
     "output_type": "execute_result"
    }
   ],
   "source": [
    "X_test, Y_test = np.array(X_test), np.array(Y_test)\n",
    "X_test.shape, Y_test.shape"
   ]
  },
  {
   "cell_type": "code",
   "execution_count": null,
   "metadata": {},
   "outputs": [],
   "source": [
    "scaler.scale_"
   ]
  },
  {
   "cell_type": "code",
   "execution_count": 53,
   "metadata": {},
   "outputs": [
    {
     "data": {
      "text/plain": [
       "37880.69999321253"
      ]
     },
     "execution_count": 53,
     "metadata": {},
     "output_type": "execute_result"
    }
   ],
   "source": [
    "scale = 1/2.63986674e-05\n",
    "scale"
   ]
  },
  {
   "cell_type": "code",
   "execution_count": 55,
   "metadata": {},
   "outputs": [
    {
     "data": {
      "text/plain": [
       "([31431.495068497206,\n",
       "  31412.51544970092,\n",
       "  31396.38751524198,\n",
       "  31381.029512975463,\n",
       "  31363.632658011702,\n",
       "  31338.157159691633,\n",
       "  31305.88548571408,\n",
       "  31267.391133958445,\n",
       "  31228.212648905726,\n",
       "  31190.872066505897,\n",
       "  31155.446154191628,\n",
       "  31120.629865607436,\n",
       "  31074.1042856745,\n",
       "  30999.49537257618,\n",
       "  30901.725273466407,\n",
       "  30790.466684862342,\n",
       "  30674.222728865676,\n",
       "  30555.680265620067,\n",
       "  30440.38912893485,\n",
       "  30331.587098176413,\n",
       "  30234.778849840757,\n",
       "  30149.16961521311,\n",
       "  30067.312953323923,\n",
       "  29958.49285964015,\n",
       "  29827.943066777763,\n",
       "  29680.353161726987,\n",
       "  29523.60535353111,\n",
       "  29362.16344261367,\n",
       "  29204.74053258338,\n",
       "  29056.412305459515,\n",
       "  28919.405016789682,\n",
       "  28792.521997770404,\n",
       "  28677.66888702457,\n",
       "  28574.798269373183,\n",
       "  28478.644802080937,\n",
       "  28391.67407445613,\n",
       "  28315.766888599323,\n",
       "  28249.428537439,\n",
       "  28190.27697269654,\n",
       "  28134.04934399277,\n",
       "  28080.3143989853,\n",
       "  28033.28305714297,\n",
       "  27995.052875670364,\n",
       "  27965.754810776172,\n",
       "  27944.6844083723,\n",
       "  27929.082556613754,\n",
       "  27919.707898364624,\n",
       "  27923.839792535124,\n",
       "  27951.889257715502,\n",
       "  28010.916639846277,\n",
       "  28099.036621095554,\n",
       "  28211.16674584706,\n",
       "  28342.570011931548,\n",
       "  28488.204605314753,\n",
       "  28641.380470025535,\n",
       "  28796.6742127319,\n",
       "  28946.12911482357,\n",
       "  29061.828925194503,\n",
       "  29151.441355649626,\n",
       "  29227.274031939425,\n",
       "  29294.170075919483,\n",
       "  29354.459604958076,\n",
       "  29404.87097170381,\n",
       "  29443.26146163877,\n",
       "  29479.7756652045,\n",
       "  29522.020331832922,\n",
       "  29573.188083577083,\n",
       "  29631.62390490312,\n",
       "  29687.13579019047,\n",
       "  29738.125170546944,\n",
       "  29775.16771467874,\n",
       "  29797.8163651838,\n",
       "  29809.02892608582,\n",
       "  29811.835453109823,\n",
       "  29806.538500255185,\n",
       "  29795.856537784897,\n",
       "  29783.55342776575,\n",
       "  29772.636647266103,\n",
       "  29768.7644076473,\n",
       "  29779.493785296592,\n",
       "  29809.75821669624,\n",
       "  29856.267991569508,\n",
       "  29917.6571011879,\n",
       "  29990.224903723305,\n",
       "  30070.79006645101,\n",
       "  30155.225210931843,\n",
       "  30238.83171871291,\n",
       "  30312.185258500413,\n",
       "  30376.487014829156,\n",
       "  30430.707400955016,\n",
       "  30472.873042285097,\n",
       "  30502.631711775346,\n",
       "  30519.667308232398,\n",
       "  30526.912799157602,\n",
       "  30525.5129224441,\n",
       "  30512.78533367957,\n",
       "  30492.152957215083,\n",
       "  30468.463430637563,\n",
       "  30442.990190183165,\n",
       "  30416.30221799995,\n",
       "  30386.674504718383,\n",
       "  30347.455378083658,\n",
       "  30305.111365365894,\n",
       "  30259.470868774395,\n",
       "  30213.997454242253,\n",
       "  30172.24048659789,\n",
       "  30137.753846401072,\n",
       "  30111.38874900823,\n",
       "  30091.153756901127,\n",
       "  30073.88785814605,\n",
       "  30061.69989927591,\n",
       "  30058.28149065617,\n",
       "  30065.635359133386,\n",
       "  30079.598000417736,\n",
       "  30097.830265678265,\n",
       "  30114.36235809159,\n",
       "  30124.601778891156,\n",
       "  30127.117041244124,\n",
       "  30123.206417908987,\n",
       "  30105.394115662508,\n",
       "  30074.72778417415,\n",
       "  30032.020255084004,\n",
       "  29977.531182943778,\n",
       "  29911.493127917158,\n",
       "  29835.750766254034,\n",
       "  29754.512759557587,\n",
       "  29674.53238403762,\n",
       "  29599.225790448218,\n",
       "  29530.778592754974,\n",
       "  29470.762265462083,\n",
       "  29421.01696908809,\n",
       "  29383.193203435534,\n",
       "  29361.463504256917,\n",
       "  29356.80101165469,\n",
       "  29367.51909997565,\n",
       "  29393.371661862093,\n",
       "  29424.464729961506,\n",
       "  29446.156045423784,\n",
       "  29454.115021899743,\n",
       "  29451.67652697945,\n",
       "  29448.24682903137,\n",
       "  29447.445286719605,\n",
       "  29455.517156478913,\n",
       "  29479.242808907104,\n",
       "  29522.21225041461,\n",
       "  29583.962618539714,\n",
       "  29658.250914713328,\n",
       "  29738.610611665335,\n",
       "  29821.26204226929,\n",
       "  29899.833509613087,\n",
       "  29972.50517396917,\n",
       "  30033.228213215818,\n",
       "  30077.554631989155,\n",
       "  30102.95110501088,\n",
       "  30113.797891674854,\n",
       "  30109.89629980238,\n",
       "  30095.427896608642,\n",
       "  30075.608351784253,\n",
       "  30053.18322998022,\n",
       "  30027.748373242157,\n",
       "  30002.266101325087,\n",
       "  29977.63956049579,\n",
       "  29957.045567747642,\n",
       "  29944.004135655407,\n",
       "  29941.556609272444,\n",
       "  29951.525086191978,\n",
       "  29972.229714357803,\n",
       "  30002.889272249162],\n",
       " [33991.79999390935,\n",
       "  33744.8499939536,\n",
       "  33488.86999399946,\n",
       "  33212.689994048946,\n",
       "  32931.21999409938,\n",
       "  33519.45999399397,\n",
       "  33077.249994073216,\n",
       "  33464.77999400378,\n",
       "  33331.45999402766,\n",
       "  33004.869994086184,\n",
       "  33099.76999406918,\n",
       "  31815.4599942993,\n",
       "  31297.109994392176,\n",
       "  31333.67999438563,\n",
       "  31690.11999432176,\n",
       "  31526.719994351042,\n",
       "  31424.549994369347,\n",
       "  31719.20999431655,\n",
       "  32197.24999423089,\n",
       "  31926.63999427938,\n",
       "  31704.869994319117,\n",
       "  30954.79999445352,\n",
       "  30226.829994583954,\n",
       "  29925.83999463789,\n",
       "  29947.99999463392,\n",
       "  29568.86999470185,\n",
       "  30033.899994618525,\n",
       "  30017.439994621473,\n",
       "  30167.119994594654,\n",
       "  29824.009994656135,\n",
       "  29872.67999464741,\n",
       "  29891.03999464412,\n",
       "  29734.779994672124,\n",
       "  30067.189994612563,\n",
       "  29876.439994646735,\n",
       "  29750.349994669337,\n",
       "  29753.999994668673,\n",
       "  29418.30999472883,\n",
       "  29254.87999475811,\n",
       "  29927.4299946376,\n",
       "  29929.49999463723,\n",
       "  29844.669994652435,\n",
       "  29795.999994661146,\n",
       "  30062.759994613356,\n",
       "  30042.43999461699,\n",
       "  29998.57999462485,\n",
       "  31565.249994344136,\n",
       "  32054.43999425649,\n",
       "  32030.68999426074,\n",
       "  31965.479994272428,\n",
       "  32100.149994248295,\n",
       "  32595.6899941595,\n",
       "  32547.009994168224,\n",
       "  32143.489994240528,\n",
       "  32173.899994235075,\n",
       "  32138.73999424138,\n",
       "  31131.229994421905,\n",
       "  32293.999994213555,\n",
       "  32386.79999419693,\n",
       "  31721.439994316148,\n",
       "  31511.719994353723,\n",
       "  31580.75999434136,\n",
       "  32392.869994195844,\n",
       "  32400.249994194524,\n",
       "  32592.84999416002,\n",
       "  32647.859994150152,\n",
       "  32521.599994172782,\n",
       "  31993.959994267316,\n",
       "  32370.17999419991,\n",
       "  31573.91999434259,\n",
       "  31954.899994274314,\n",
       "  31862.86999429081,\n",
       "  32033.529994260232,\n",
       "  31945.77999427596,\n",
       "  31979.25999426995,\n",
       "  32292.139994213892,\n",
       "  32241.50999422296,\n",
       "  33304.859994032435,\n",
       "  33610.17999397773,\n",
       "  33406.769994014176,\n",
       "  33085.549994071735,\n",
       "  33549.97999398851,\n",
       "  33372.38999402033,\n",
       "  33352.42999402391,\n",
       "  33314.369994030734,\n",
       "  33258.57999404073,\n",
       "  32920.229994101355,\n",
       "  33012.66999408479,\n",
       "  32877.82999410894,\n",
       "  32684.81999414353,\n",
       "  32486.879994179002,\n",
       "  32555.699994166665,\n",
       "  32784.67999412564,\n",
       "  32602.059994158368,\n",
       "  32337.76999420572,\n",
       "  32422.53999419053,\n",
       "  32817.8399941197,\n",
       "  32599.879994158757,\n",
       "  32638.82999415177,\n",
       "  32571.44999416385,\n",
       "  32183.049994233443,\n",
       "  32382.05999419778,\n",
       "  32261.28999421942,\n",
       "  32415.489994191794,\n",
       "  32565.779994164863,\n",
       "  32735.719994134415,\n",
       "  32646.979994150308,\n",
       "  32433.89999418849,\n",
       "  32545.19999416855,\n",
       "  32864.05999411142,\n",
       "  33380.15999401895,\n",
       "  33173.8699940559,\n",
       "  32745.879994132592,\n",
       "  32702.70999414032,\n",
       "  32409.719994192823,\n",
       "  32278.24999421638,\n",
       "  32303.129994211922,\n",
       "  32367.479994200392,\n",
       "  31797.489994302523,\n",
       "  31671.259994325144,\n",
       "  31788.959994304052,\n",
       "  31472.67999436072,\n",
       "  31288.74999439368,\n",
       "  31368.069994379464,\n",
       "  31440.099994366563,\n",
       "  31465.09999436208,\n",
       "  31674.939994324483,\n",
       "  31619.299994334455,\n",
       "  31710.48999431811,\n",
       "  31694.819994320922,\n",
       "  31927.22999427928,\n",
       "  32449.19999418575,\n",
       "  32370.58999419984,\n",
       "  32304.66999421165,\n",
       "  32565.359994164937,\n",
       "  32298.129994212817,\n",
       "  31551.869994346536,\n",
       "  30927.849994458345,\n",
       "  31506.48999435467,\n",
       "  31622.86999433381,\n",
       "  31746.629994311636,\n",
       "  33183.17999405423,\n",
       "  32907.28999410367,\n",
       "  32955.31999409506,\n",
       "  33254.7899940414,\n",
       "  32812.85999412059,\n",
       "  32847.53999411438,\n",
       "  32949.959994096025,\n",
       "  32459.119994183977,\n",
       "  32555.75999416666,\n",
       "  32039.699994259125,\n",
       "  31770.129994307426,\n",
       "  31559.8799943451,\n",
       "  32440.849994187247,\n",
       "  31690.999994321603,\n",
       "  31737.339994313304,\n",
       "  32090.76999424997,\n",
       "  31915.979994281293,\n",
       "  31948.789994275412,\n",
       "  32324.86999420803,\n",
       "  31914.289994281597,\n",
       "  32079.369994252018,\n",
       "  32416.879994191546,\n",
       "  32759.109994130216,\n",
       "  32774.57999412745,\n",
       "  32525.99999417199,\n",
       "  32570.209994164063,\n",
       "  34055.48999389794])"
      ]
     },
     "execution_count": 55,
     "metadata": {},
     "output_type": "execute_result"
    }
   ],
   "source": [
    "pred = []\n",
    "real = []\n",
    "for i in range(0,168):\n",
    "    pred.append(((model.predict(X_test[i,:,:].reshape(1,168,10)))[0,0])*scale)\n",
    "    real.append((Y_test[i,0])*scale)\n",
    "pred , real"
   ]
  },
  {
   "cell_type": "code",
   "execution_count": 56,
   "metadata": {},
   "outputs": [
    {
     "data": {
      "image/png": "[encoded data removed]",
      "text/plain": [
       "<Figure size 1008x360 with 1 Axes>"
      ]
     },
     "metadata": {
      "needs_background": "light"
     },
     "output_type": "display_data"
    }
   ],
   "source": [
    "plt.figure(figsize=(14,5))\n",
    "plt.plot(real, color = 'red', label = 'Real Bitcoin Price')\n",
    "plt.plot(pred, color = 'green', label = 'Predicted Bitcoin Price')\n",
    "plt.title('Bitcoin Price Prediction using RNN-LSTM')\n",
    "plt.xlabel('Time')\n",
    "plt.ylabel('Price')\n",
    "plt.legend()\n",
    "plt.show()"
   ]
  },
  {
   "cell_type": "code",
   "execution_count": null,
   "metadata": {},
   "outputs": [],
   "source": []
  },
  {
   "cell_type": "code",
   "execution_count": null,
   "metadata": {},
   "outputs": [],
   "source": []
  }
 ],
 "metadata": {
  "kernelspec": {
   "display_name": "Python 3",
   "language": "python",
   "name": "python3"
  },
  "language_info": {
   "codemirror_mode": {
    "name": "ipython",
    "version": 3
   },
   "file_extension": ".py",
   "mimetype": "text/x-python",
   "name": "python",
   "nbconvert_exporter": "python",
   "pygments_lexer": "ipython3",
   "version": "3.6.9"
  }
 },
 "nbformat": 4,
 "nbformat_minor": 4
}
