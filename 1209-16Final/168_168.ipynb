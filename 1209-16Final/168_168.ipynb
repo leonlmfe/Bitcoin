{
 "cells": [
  {
   "cell_type": "code",
   "execution_count": 1,
   "metadata": {},
   "outputs": [],
   "source": [
    "import numpy as np\n",
    "import matplotlib.pyplot as plt\n",
    "import pandas as pd\n",
    "import gc\n",
    "from sklearn.preprocessing import MinMaxScaler\n",
    "from pandas import read_csv"
   ]
  },
  {
   "cell_type": "code",
   "execution_count": 2,
   "metadata": {},
   "outputs": [
    {
     "data": {
      "text/plain": [
       "19433"
      ]
     },
     "execution_count": 2,
     "metadata": {},
     "output_type": "execute_result"
    }
   ],
   "source": [
    "# load the new file\n",
    "df = read_csv('./data/bitcoin_data.csv', date_parser = True)\n",
    "df.drop(df.columns[0], axis=1,inplace = True)\n",
    "len(df)"
   ]
  },
  {
   "cell_type": "code",
   "execution_count": 3,
   "metadata": {},
   "outputs": [
    {
     "data": {
      "text/plain": [
       "4554"
      ]
     },
     "execution_count": 3,
     "metadata": {},
     "output_type": "execute_result"
    }
   ],
   "source": [
    "df = df[df['NewDateTime']>= '2021-01-01'].copy()\n",
    "len(df)"
   ]
  },
  {
   "cell_type": "code",
   "execution_count": 4,
   "metadata": {},
   "outputs": [
    {
     "data": {
      "text/plain": [
       "4416"
      ]
     },
     "execution_count": 4,
     "metadata": {},
     "output_type": "execute_result"
    }
   ],
   "source": [
    "df.drop(df.head(len(df)%192).index,inplace=True)\n",
    "len(df)"
   ]
  },
  {
   "cell_type": "code",
   "execution_count": 5,
   "metadata": {},
   "outputs": [
    {
     "data": {
      "text/plain": [
       "3864"
      ]
     },
     "execution_count": 5,
     "metadata": {},
     "output_type": "execute_result"
    }
   ],
   "source": [
    "int(len(df)/8*7)"
   ]
  },
  {
   "cell_type": "code",
   "execution_count": 6,
   "metadata": {},
   "outputs": [
    {
     "data": {
      "text/plain": [
       "3864"
      ]
     },
     "execution_count": 6,
     "metadata": {},
     "output_type": "execute_result"
    }
   ],
   "source": [
    "data_training = df.iloc[0:int(len(df)/8*7),:]\n",
    "data_test = df.iloc[int(len(df)/8*7):int(len(df)),:]\n",
    "\n",
    "len(data_training)"
   ]
  },
  {
   "cell_type": "code",
   "execution_count": 7,
   "metadata": {},
   "outputs": [
    {
     "data": {
      "text/html": [
       "<div>\n",
       "<style scoped>\n",
       "    .dataframe tbody tr th:only-of-type {\n",
       "        vertical-align: middle;\n",
       "    }\n",
       "\n",
       "    .dataframe tbody tr th {\n",
       "        vertical-align: top;\n",
       "    }\n",
       "\n",
       "    .dataframe thead th {\n",
       "        text-align: right;\n",
       "    }\n",
       "</style>\n",
       "<table border=\"1\" class=\"dataframe\">\n",
       "  <thead>\n",
       "    <tr style=\"text-align: right;\">\n",
       "      <th></th>\n",
       "      <th>close</th>\n",
       "      <th>open</th>\n",
       "      <th>high</th>\n",
       "      <th>low</th>\n",
       "      <th>Volume BTC</th>\n",
       "      <th>returns</th>\n",
       "      <th>log_returns</th>\n",
       "      <th>SOPR</th>\n",
       "      <th>fundingRate</th>\n",
       "      <th>googleTrend</th>\n",
       "    </tr>\n",
       "  </thead>\n",
       "  <tbody>\n",
       "    <tr>\n",
       "      <th>15017</th>\n",
       "      <td>35890.00</td>\n",
       "      <td>36031.27</td>\n",
       "      <td>36038.27</td>\n",
       "      <td>35830.07</td>\n",
       "      <td>1562.950120</td>\n",
       "      <td>0.996079</td>\n",
       "      <td>-0.003928</td>\n",
       "      <td>0.997157</td>\n",
       "      <td>0.01</td>\n",
       "      <td>58</td>\n",
       "    </tr>\n",
       "    <tr>\n",
       "      <th>15018</th>\n",
       "      <td>35747.15</td>\n",
       "      <td>35889.99</td>\n",
       "      <td>35889.99</td>\n",
       "      <td>35705.00</td>\n",
       "      <td>1409.824964</td>\n",
       "      <td>0.996020</td>\n",
       "      <td>-0.003988</td>\n",
       "      <td>0.997157</td>\n",
       "      <td>0.01</td>\n",
       "      <td>59</td>\n",
       "    </tr>\n",
       "    <tr>\n",
       "      <th>15019</th>\n",
       "      <td>35971.67</td>\n",
       "      <td>35747.14</td>\n",
       "      <td>35995.28</td>\n",
       "      <td>35581.72</td>\n",
       "      <td>2215.940472</td>\n",
       "      <td>1.006281</td>\n",
       "      <td>0.006261</td>\n",
       "      <td>0.997157</td>\n",
       "      <td>0.01</td>\n",
       "      <td>62</td>\n",
       "    </tr>\n",
       "    <tr>\n",
       "      <th>15020</th>\n",
       "      <td>35938.61</td>\n",
       "      <td>35971.67</td>\n",
       "      <td>35984.71</td>\n",
       "      <td>35860.00</td>\n",
       "      <td>1420.884639</td>\n",
       "      <td>0.999081</td>\n",
       "      <td>-0.000919</td>\n",
       "      <td>0.997157</td>\n",
       "      <td>0.01</td>\n",
       "      <td>63</td>\n",
       "    </tr>\n",
       "    <tr>\n",
       "      <th>15021</th>\n",
       "      <td>35554.86</td>\n",
       "      <td>35938.61</td>\n",
       "      <td>35950.00</td>\n",
       "      <td>35222.00</td>\n",
       "      <td>3314.746947</td>\n",
       "      <td>0.989322</td>\n",
       "      <td>-0.010735</td>\n",
       "      <td>0.997157</td>\n",
       "      <td>0.01</td>\n",
       "      <td>61</td>\n",
       "    </tr>\n",
       "    <tr>\n",
       "      <th>...</th>\n",
       "      <td>...</td>\n",
       "      <td>...</td>\n",
       "      <td>...</td>\n",
       "      <td>...</td>\n",
       "      <td>...</td>\n",
       "      <td>...</td>\n",
       "      <td>...</td>\n",
       "      <td>...</td>\n",
       "      <td>...</td>\n",
       "      <td>...</td>\n",
       "    </tr>\n",
       "    <tr>\n",
       "      <th>18876</th>\n",
       "      <td>64170.00</td>\n",
       "      <td>64028.34</td>\n",
       "      <td>64209.07</td>\n",
       "      <td>63872.46</td>\n",
       "      <td>895.510180</td>\n",
       "      <td>1.002212</td>\n",
       "      <td>0.002210</td>\n",
       "      <td>1.001468</td>\n",
       "      <td>0.01</td>\n",
       "      <td>69</td>\n",
       "    </tr>\n",
       "    <tr>\n",
       "      <th>18877</th>\n",
       "      <td>64221.78</td>\n",
       "      <td>64169.99</td>\n",
       "      <td>64500.00</td>\n",
       "      <td>64040.47</td>\n",
       "      <td>993.109780</td>\n",
       "      <td>1.000807</td>\n",
       "      <td>0.000807</td>\n",
       "      <td>1.001468</td>\n",
       "      <td>0.01</td>\n",
       "      <td>69</td>\n",
       "    </tr>\n",
       "    <tr>\n",
       "      <th>18878</th>\n",
       "      <td>64308.59</td>\n",
       "      <td>64221.78</td>\n",
       "      <td>64500.00</td>\n",
       "      <td>64050.00</td>\n",
       "      <td>780.833260</td>\n",
       "      <td>1.001352</td>\n",
       "      <td>0.001351</td>\n",
       "      <td>1.001468</td>\n",
       "      <td>0.01</td>\n",
       "      <td>69</td>\n",
       "    </tr>\n",
       "    <tr>\n",
       "      <th>18879</th>\n",
       "      <td>64520.00</td>\n",
       "      <td>64308.58</td>\n",
       "      <td>64900.00</td>\n",
       "      <td>64284.79</td>\n",
       "      <td>1044.801300</td>\n",
       "      <td>1.003287</td>\n",
       "      <td>0.003282</td>\n",
       "      <td>1.001468</td>\n",
       "      <td>0.01</td>\n",
       "      <td>69</td>\n",
       "    </tr>\n",
       "    <tr>\n",
       "      <th>18880</th>\n",
       "      <td>65519.10</td>\n",
       "      <td>64520.01</td>\n",
       "      <td>65550.51</td>\n",
       "      <td>64341.77</td>\n",
       "      <td>2816.590160</td>\n",
       "      <td>1.015485</td>\n",
       "      <td>0.015366</td>\n",
       "      <td>1.001468</td>\n",
       "      <td>0.01</td>\n",
       "      <td>69</td>\n",
       "    </tr>\n",
       "  </tbody>\n",
       "</table>\n",
       "<p>3864 rows × 10 columns</p>\n",
       "</div>"
      ],
      "text/plain": [
       "          close      open      high       low   Volume BTC   returns  \\\n",
       "15017  35890.00  36031.27  36038.27  35830.07  1562.950120  0.996079   \n",
       "15018  35747.15  35889.99  35889.99  35705.00  1409.824964  0.996020   \n",
       "15019  35971.67  35747.14  35995.28  35581.72  2215.940472  1.006281   \n",
       "15020  35938.61  35971.67  35984.71  35860.00  1420.884639  0.999081   \n",
       "15021  35554.86  35938.61  35950.00  35222.00  3314.746947  0.989322   \n",
       "...         ...       ...       ...       ...          ...       ...   \n",
       "18876  64170.00  64028.34  64209.07  63872.46   895.510180  1.002212   \n",
       "18877  64221.78  64169.99  64500.00  64040.47   993.109780  1.000807   \n",
       "18878  64308.59  64221.78  64500.00  64050.00   780.833260  1.001352   \n",
       "18879  64520.00  64308.58  64900.00  64284.79  1044.801300  1.003287   \n",
       "18880  65519.10  64520.01  65550.51  64341.77  2816.590160  1.015485   \n",
       "\n",
       "       log_returns      SOPR  fundingRate  googleTrend  \n",
       "15017    -0.003928  0.997157         0.01           58  \n",
       "15018    -0.003988  0.997157         0.01           59  \n",
       "15019     0.006261  0.997157         0.01           62  \n",
       "15020    -0.000919  0.997157         0.01           63  \n",
       "15021    -0.010735  0.997157         0.01           61  \n",
       "...            ...       ...          ...          ...  \n",
       "18876     0.002210  1.001468         0.01           69  \n",
       "18877     0.000807  1.001468         0.01           69  \n",
       "18878     0.001351  1.001468         0.01           69  \n",
       "18879     0.003282  1.001468         0.01           69  \n",
       "18880     0.015366  1.001468         0.01           69  \n",
       "\n",
       "[3864 rows x 10 columns]"
      ]
     },
     "execution_count": 7,
     "metadata": {},
     "output_type": "execute_result"
    }
   ],
   "source": [
    "training_data = data_training.drop(['NewDateTime'], axis = 1)\n",
    "\n",
    "\n",
    "training_data"
   ]
  },
  {
   "cell_type": "code",
   "execution_count": 8,
   "metadata": {},
   "outputs": [
    {
     "data": {
      "text/plain": [
       "array([[0.16883007, 0.17240962, 0.16113335, ..., 0.45877554, 0.47406866,\n",
       "        0.36363636],\n",
       "       [0.16520395, 0.16882348, 0.15735966, ..., 0.45877554, 0.47406866,\n",
       "        0.37878788],\n",
       "       [0.17090319, 0.16519749, 0.16003926, ..., 0.45877554, 0.47406866,\n",
       "        0.42424242],\n",
       "       ...,\n",
       "       [0.89021112, 0.88797526, 0.88547628, ..., 0.50944617, 0.47406866,\n",
       "        0.53030303],\n",
       "       [0.89557758, 0.89017853, 0.89565617, ..., 0.50944617, 0.47406866,\n",
       "        0.53030303],\n",
       "       [0.92093886, 0.8955453 , 0.91221146, ..., 0.50944617, 0.47406866,\n",
       "        0.53030303]])"
      ]
     },
     "execution_count": 8,
     "metadata": {},
     "output_type": "execute_result"
    }
   ],
   "source": [
    "scaler = MinMaxScaler()\n",
    "training_data = scaler.fit_transform(training_data)\n",
    "training_data"
   ]
  },
  {
   "cell_type": "code",
   "execution_count": 9,
   "metadata": {},
   "outputs": [
    {
     "data": {
      "text/plain": [
       "array([2.53841253e-05, 2.53832103e-05, 2.54497156e-05, 2.52231047e-05,\n",
       "       2.96465649e-05, 8.91552170e+00, 8.83926598e+00, 1.17531472e+01,\n",
       "       7.30460190e+00, 1.51515152e-02])"
      ]
     },
     "execution_count": 9,
     "metadata": {},
     "output_type": "execute_result"
    }
   ],
   "source": [
    "scaler.scale_"
   ]
  },
  {
   "cell_type": "code",
   "execution_count": 10,
   "metadata": {},
   "outputs": [],
   "source": [
    "X_train = []\n",
    "Y_train = []"
   ]
  },
  {
   "cell_type": "code",
   "execution_count": 11,
   "metadata": {},
   "outputs": [
    {
     "data": {
      "text/plain": [
       "(3864, 10)"
      ]
     },
     "execution_count": 11,
     "metadata": {},
     "output_type": "execute_result"
    }
   ],
   "source": [
    "training_data.shape"
   ]
  },
  {
   "cell_type": "code",
   "execution_count": 12,
   "metadata": {},
   "outputs": [],
   "source": [
    "for i in range(336, training_data.shape[0],24):\n",
    "    \n",
    "    X_train.append(training_data[i-336:i-168])\n",
    "    Y_train.append(training_data[i-168:i,0])"
   ]
  },
  {
   "cell_type": "code",
   "execution_count": 13,
   "metadata": {},
   "outputs": [],
   "source": [
    "X_train, Y_train = np.array(X_train), np.array(Y_train)"
   ]
  },
  {
   "cell_type": "code",
   "execution_count": 14,
   "metadata": {},
   "outputs": [
    {
     "data": {
      "text/plain": [
       "(3528, 168, 10)"
      ]
     },
     "execution_count": 14,
     "metadata": {},
     "output_type": "execute_result"
    }
   ],
   "source": [
    "X_train.shape"
   ]
  },
  {
   "cell_type": "code",
   "execution_count": 15,
   "metadata": {},
   "outputs": [
    {
     "data": {
      "text/plain": [
       "(3528, 168)"
      ]
     },
     "execution_count": 15,
     "metadata": {},
     "output_type": "execute_result"
    }
   ],
   "source": [
    "Y_train.shape"
   ]
  },
  {
   "cell_type": "code",
   "execution_count": 16,
   "metadata": {},
   "outputs": [
    {
     "ename": "IndexError",
     "evalue": "too many indices for array",
     "output_type": "error",
     "traceback": [
      "\u001b[0;31m---------------------------------------------------------------------------\u001b[0m",
      "\u001b[0;31mIndexError\u001b[0m                                Traceback (most recent call last)",
      "\u001b[0;32m<ipython-input-16-aa963f0616a4>\u001b[0m in \u001b[0;36m<module>\u001b[0;34m\u001b[0m\n\u001b[0;32m----> 1\u001b[0;31m \u001b[0mY_train\u001b[0m\u001b[0;34m[\u001b[0m\u001b[0;36m168\u001b[0m\u001b[0;34m,\u001b[0m\u001b[0;34m:\u001b[0m\u001b[0;34m,\u001b[0m\u001b[0;36m0\u001b[0m\u001b[0;34m]\u001b[0m\u001b[0;34m\u001b[0m\u001b[0;34m\u001b[0m\u001b[0m\n\u001b[0m",
      "\u001b[0;31mIndexError\u001b[0m: too many indices for array"
     ]
    }
   ],
   "source": [
    "Y_train[168,:,0]"
   ]
  },
  {
   "cell_type": "code",
   "execution_count": 17,
   "metadata": {},
   "outputs": [],
   "source": [
    "Y_train=Y_train.reshape(Y_train.shape[0],168,1)"
   ]
  },
  {
   "cell_type": "code",
   "execution_count": 18,
   "metadata": {},
   "outputs": [],
   "source": [
    "# Y_train[1,:,0]"
   ]
  },
  {
   "cell_type": "code",
   "execution_count": 19,
   "metadata": {},
   "outputs": [
    {
     "name": "stdout",
     "output_type": "stream",
     "text": [
      "WARNING:tensorflow:Deprecation warnings have been disabled. Set TF_ENABLE_DEPRECATION_WARNINGS=1 to re-enable them.\n"
     ]
    }
   ],
   "source": [
    "\n",
    "from tensorflow.keras import Sequential\n",
    "from tensorflow.keras.layers import Dense, LSTM, Dropout,RepeatVector,TimeDistributed"
   ]
  },
  {
   "cell_type": "code",
   "execution_count": 31,
   "metadata": {},
   "outputs": [],
   "source": [
    "\n",
    "model = Sequential()\n",
    "model.add(LSTM(units = 50, activation = 'relu', return_sequences = True, input_shape = (X_train.shape[1], 10)))\n",
    "model.add(Dropout(0.3))\n",
    "model.add(LSTM(units = 60, activation = 'relu', return_sequences = True))\n",
    "model.add(Dropout(0.3))\n",
    "\n",
    "model.add(LSTM(units = 80, activation = 'relu', return_sequences = True))\n",
    "model.add(Dropout(0.4))\n",
    "\n",
    "model.add(LSTM(units = 120, activation = 'relu' ,return_sequences = True))\n",
    "model.add(Dropout(0.5))\n",
    "\n",
    "model.add(TimeDistributed(Dense(1)))"
   ]
  },
  {
   "cell_type": "code",
   "execution_count": 32,
   "metadata": {},
   "outputs": [
    {
     "name": "stdout",
     "output_type": "stream",
     "text": [
      "Model: \"sequential_3\"\n",
      "_________________________________________________________________\n",
      "Layer (type)                 Output Shape              Param #   \n",
      "=================================================================\n",
      "lstm_12 (LSTM)               (None, 168, 50)           12200     \n",
      "_________________________________________________________________\n",
      "dropout_12 (Dropout)         (None, 168, 50)           0         \n",
      "_________________________________________________________________\n",
      "lstm_13 (LSTM)               (None, 168, 60)           26640     \n",
      "_________________________________________________________________\n",
      "dropout_13 (Dropout)         (None, 168, 60)           0         \n",
      "_________________________________________________________________\n",
      "lstm_14 (LSTM)               (None, 168, 80)           45120     \n",
      "_________________________________________________________________\n",
      "dropout_14 (Dropout)         (None, 168, 80)           0         \n",
      "_________________________________________________________________\n",
      "lstm_15 (LSTM)               (None, 168, 120)          96480     \n",
      "_________________________________________________________________\n",
      "dropout_15 (Dropout)         (None, 168, 120)          0         \n",
      "_________________________________________________________________\n",
      "time_distributed_3 (TimeDist (None, 168, 1)            121       \n",
      "=================================================================\n",
      "Total params: 180,561\n",
      "Trainable params: 180,561\n",
      "Non-trainable params: 0\n",
      "_________________________________________________________________\n"
     ]
    }
   ],
   "source": [
    "model.summary()"
   ]
  },
  {
   "cell_type": "code",
   "execution_count": 33,
   "metadata": {},
   "outputs": [],
   "source": [
    "model.compile(loss='mse', optimizer='adam')"
   ]
  },
  {
   "cell_type": "code",
   "execution_count": 34,
   "metadata": {},
   "outputs": [
    {
     "name": "stdout",
     "output_type": "stream",
     "text": [
      "Train on 3175 samples, validate on 353 samples\n",
      "Epoch 1/10\n",
      "3175/3175 [==============================] - 34s 11ms/sample - loss: 0.0758 - val_loss: 0.0976\n",
      "Epoch 2/10\n",
      "3175/3175 [==============================] - 31s 10ms/sample - loss: 0.0315 - val_loss: 0.0402\n",
      "Epoch 3/10\n",
      "3175/3175 [==============================] - 30s 10ms/sample - loss: 0.0239 - val_loss: 0.0380\n",
      "Epoch 4/10\n",
      "3175/3175 [==============================] - 30s 10ms/sample - loss: 0.0196 - val_loss: 0.0263\n",
      "Epoch 5/10\n",
      "3175/3175 [==============================] - 30s 9ms/sample - loss: 0.0172 - val_loss: 0.0295\n",
      "Epoch 6/10\n",
      "3175/3175 [==============================] - 30s 9ms/sample - loss: 0.0151 - val_loss: 0.0407\n",
      "Epoch 7/10\n",
      "3175/3175 [==============================] - 30s 9ms/sample - loss: 0.0139 - val_loss: 0.0304\n",
      "Epoch 8/10\n",
      "3175/3175 [==============================] - 30s 10ms/sample - loss: 0.0132 - val_loss: 0.0438\n",
      "Epoch 9/10\n",
      "3175/3175 [==============================] - 30s 9ms/sample - loss: 0.0121 - val_loss: 0.0242\n",
      "Epoch 10/10\n",
      "3175/3175 [==============================] - 30s 9ms/sample - loss: 0.0108 - val_loss: 0.0245\n"
     ]
    }
   ],
   "source": [
    "history = model.fit(X_train, Y_train, epochs=10, batch_size=150, verbose=1, validation_split=0.1)"
   ]
  },
  {
   "cell_type": "code",
   "execution_count": 20,
   "metadata": {},
   "outputs": [],
   "source": [
    "import tensorflow as tf\n",
    "model = tf.keras.models.load_model('168_168.h5')"
   ]
  },
  {
   "cell_type": "code",
   "execution_count": 36,
   "metadata": {},
   "outputs": [],
   "source": [
    "# model.save(\"168_168.h5\")"
   ]
  },
  {
   "cell_type": "code",
   "execution_count": 37,
   "metadata": {},
   "outputs": [],
   "source": [
    "# result = model.predict(X_train, batch_size=128, verbose=0)\n",
    "# for value in result[0,:,0]:\n",
    "# \tprint('%.1f' % value)"
   ]
  },
  {
   "cell_type": "code",
   "execution_count": 21,
   "metadata": {},
   "outputs": [
    {
     "ename": "NameError",
     "evalue": "name 'history' is not defined",
     "output_type": "error",
     "traceback": [
      "\u001b[0;31m---------------------------------------------------------------------------\u001b[0m",
      "\u001b[0;31mNameError\u001b[0m                                 Traceback (most recent call last)",
      "\u001b[0;32m<ipython-input-21-febfcfd9cc7e>\u001b[0m in \u001b[0;36m<module>\u001b[0;34m\u001b[0m\n\u001b[0;32m----> 1\u001b[0;31m \u001b[0mloss\u001b[0m \u001b[0;34m=\u001b[0m \u001b[0mhistory\u001b[0m\u001b[0;34m.\u001b[0m\u001b[0mhistory\u001b[0m\u001b[0;34m[\u001b[0m\u001b[0;34m'loss'\u001b[0m\u001b[0;34m]\u001b[0m\u001b[0;34m\u001b[0m\u001b[0;34m\u001b[0m\u001b[0m\n\u001b[0m\u001b[1;32m      2\u001b[0m \u001b[0mepoch\u001b[0m \u001b[0;34m=\u001b[0m \u001b[0mrange\u001b[0m\u001b[0;34m(\u001b[0m\u001b[0mlen\u001b[0m\u001b[0;34m(\u001b[0m\u001b[0mloss\u001b[0m\u001b[0;34m)\u001b[0m\u001b[0;34m)\u001b[0m\u001b[0;34m\u001b[0m\u001b[0;34m\u001b[0m\u001b[0m\n\u001b[1;32m      3\u001b[0m \u001b[0;31m# plt.figure(figsize=(8,8))\u001b[0m\u001b[0;34m\u001b[0m\u001b[0;34m\u001b[0m\u001b[0;34m\u001b[0m\u001b[0m\n\u001b[1;32m      4\u001b[0m \u001b[0mplt\u001b[0m\u001b[0;34m.\u001b[0m\u001b[0mplot\u001b[0m\u001b[0;34m(\u001b[0m\u001b[0mhistory\u001b[0m\u001b[0;34m.\u001b[0m\u001b[0mhistory\u001b[0m\u001b[0;34m[\u001b[0m\u001b[0;34m'loss'\u001b[0m\u001b[0;34m]\u001b[0m\u001b[0;34m)\u001b[0m\u001b[0;34m\u001b[0m\u001b[0;34m\u001b[0m\u001b[0m\n\u001b[1;32m      5\u001b[0m \u001b[0mplt\u001b[0m\u001b[0;34m.\u001b[0m\u001b[0mplot\u001b[0m\u001b[0;34m(\u001b[0m\u001b[0mhistory\u001b[0m\u001b[0;34m.\u001b[0m\u001b[0mhistory\u001b[0m\u001b[0;34m[\u001b[0m\u001b[0;34m'val_loss'\u001b[0m\u001b[0;34m]\u001b[0m\u001b[0;34m)\u001b[0m\u001b[0;34m\u001b[0m\u001b[0;34m\u001b[0m\u001b[0m\n",
      "\u001b[0;31mNameError\u001b[0m: name 'history' is not defined"
     ]
    }
   ],
   "source": [
    "loss = history.history['loss']\n",
    "epoch = range(len(loss))\n",
    "# plt.figure(figsize=(8,8))\n",
    "plt.plot(history.history['loss'])\n",
    "plt.plot(history.history['val_loss'])\n",
    "plt.title('model train vs validation loss')\n",
    "plt.ylabel('loss')\n",
    "plt.xlabel('epoch')\n",
    "plt.legend(['train', 'validation'], loc='upper right')\n",
    "plt.show()"
   ]
  },
  {
   "cell_type": "code",
   "execution_count": 22,
   "metadata": {},
   "outputs": [
    {
     "ename": "NameError",
     "evalue": "name 'history' is not defined",
     "output_type": "error",
     "traceback": [
      "\u001b[0;31m---------------------------------------------------------------------------\u001b[0m",
      "\u001b[0;31mNameError\u001b[0m                                 Traceback (most recent call last)",
      "\u001b[0;32m<ipython-input-22-6cd13d6a221b>\u001b[0m in \u001b[0;36m<module>\u001b[0;34m\u001b[0m\n\u001b[0;32m----> 1\u001b[0;31m \u001b[0mhistory\u001b[0m\u001b[0;34m.\u001b[0m\u001b[0mhistory\u001b[0m\u001b[0;34m\u001b[0m\u001b[0;34m\u001b[0m\u001b[0m\n\u001b[0m",
      "\u001b[0;31mNameError\u001b[0m: name 'history' is not defined"
     ]
    }
   ],
   "source": [
    "history.history"
   ]
  },
  {
   "cell_type": "code",
   "execution_count": 23,
   "metadata": {},
   "outputs": [],
   "source": [
    "# from tensorflow import keras\n",
    "# regressor = Sequential()\n",
    "# regressor = keras.models.load_model(\"LSTM_model_1210.h5\")"
   ]
  },
  {
   "cell_type": "code",
   "execution_count": 50,
   "metadata": {},
   "outputs": [
    {
     "data": {
      "text/html": [
       "<div>\n",
       "<style scoped>\n",
       "    .dataframe tbody tr th:only-of-type {\n",
       "        vertical-align: middle;\n",
       "    }\n",
       "\n",
       "    .dataframe tbody tr th {\n",
       "        vertical-align: top;\n",
       "    }\n",
       "\n",
       "    .dataframe thead th {\n",
       "        text-align: right;\n",
       "    }\n",
       "</style>\n",
       "<table border=\"1\" class=\"dataframe\">\n",
       "  <thead>\n",
       "    <tr style=\"text-align: right;\">\n",
       "      <th></th>\n",
       "      <th>close</th>\n",
       "      <th>open</th>\n",
       "      <th>high</th>\n",
       "      <th>low</th>\n",
       "      <th>Volume BTC</th>\n",
       "      <th>NewDateTime</th>\n",
       "      <th>returns</th>\n",
       "      <th>log_returns</th>\n",
       "      <th>SOPR</th>\n",
       "      <th>fundingRate</th>\n",
       "      <th>googleTrend</th>\n",
       "    </tr>\n",
       "  </thead>\n",
       "  <tbody>\n",
       "    <tr>\n",
       "      <th>0</th>\n",
       "      <td>64999.68</td>\n",
       "      <td>63273.58</td>\n",
       "      <td>65040.96</td>\n",
       "      <td>63273.58</td>\n",
       "      <td>8026.87592</td>\n",
       "      <td>2021-11-08 00:00:00</td>\n",
       "      <td>1.027280</td>\n",
       "      <td>0.026914</td>\n",
       "      <td>1.006743</td>\n",
       "      <td>0.0374</td>\n",
       "      <td>89</td>\n",
       "    </tr>\n",
       "    <tr>\n",
       "      <th>1</th>\n",
       "      <td>65077.27</td>\n",
       "      <td>64999.68</td>\n",
       "      <td>65639.08</td>\n",
       "      <td>64937.32</td>\n",
       "      <td>4420.86652</td>\n",
       "      <td>2021-11-08 01:00:00</td>\n",
       "      <td>1.001194</td>\n",
       "      <td>0.001193</td>\n",
       "      <td>1.006743</td>\n",
       "      <td>0.0374</td>\n",
       "      <td>89</td>\n",
       "    </tr>\n",
       "    <tr>\n",
       "      <th>2</th>\n",
       "      <td>65078.12</td>\n",
       "      <td>65077.27</td>\n",
       "      <td>65329.11</td>\n",
       "      <td>65042.75</td>\n",
       "      <td>1607.63976</td>\n",
       "      <td>2021-11-08 02:00:00</td>\n",
       "      <td>1.000013</td>\n",
       "      <td>0.000013</td>\n",
       "      <td>1.006743</td>\n",
       "      <td>0.0374</td>\n",
       "      <td>89</td>\n",
       "    </tr>\n",
       "    <tr>\n",
       "      <th>3</th>\n",
       "      <td>65199.99</td>\n",
       "      <td>65078.11</td>\n",
       "      <td>65235.28</td>\n",
       "      <td>64966.27</td>\n",
       "      <td>1563.65354</td>\n",
       "      <td>2021-11-08 03:00:00</td>\n",
       "      <td>1.001873</td>\n",
       "      <td>0.001871</td>\n",
       "      <td>1.006743</td>\n",
       "      <td>0.0374</td>\n",
       "      <td>89</td>\n",
       "    </tr>\n",
       "    <tr>\n",
       "      <th>4</th>\n",
       "      <td>65168.20</td>\n",
       "      <td>65200.00</td>\n",
       "      <td>65357.00</td>\n",
       "      <td>65050.77</td>\n",
       "      <td>1314.57002</td>\n",
       "      <td>2021-11-08 04:00:00</td>\n",
       "      <td>0.999512</td>\n",
       "      <td>-0.000488</td>\n",
       "      <td>1.006743</td>\n",
       "      <td>0.0374</td>\n",
       "      <td>89</td>\n",
       "    </tr>\n",
       "    <tr>\n",
       "      <th>...</th>\n",
       "      <td>...</td>\n",
       "      <td>...</td>\n",
       "      <td>...</td>\n",
       "      <td>...</td>\n",
       "      <td>...</td>\n",
       "      <td>...</td>\n",
       "      <td>...</td>\n",
       "      <td>...</td>\n",
       "      <td>...</td>\n",
       "      <td>...</td>\n",
       "      <td>...</td>\n",
       "    </tr>\n",
       "    <tr>\n",
       "      <th>715</th>\n",
       "      <td>50884.48</td>\n",
       "      <td>50921.61</td>\n",
       "      <td>51204.77</td>\n",
       "      <td>50666.00</td>\n",
       "      <td>1312.93360</td>\n",
       "      <td>2021-12-07 19:00:00</td>\n",
       "      <td>0.999271</td>\n",
       "      <td>-0.000729</td>\n",
       "      <td>1.004981</td>\n",
       "      <td>0.0039</td>\n",
       "      <td>23</td>\n",
       "    </tr>\n",
       "    <tr>\n",
       "      <th>716</th>\n",
       "      <td>50441.59</td>\n",
       "      <td>50884.49</td>\n",
       "      <td>51006.20</td>\n",
       "      <td>50150.00</td>\n",
       "      <td>2194.52091</td>\n",
       "      <td>2021-12-07 20:00:00</td>\n",
       "      <td>0.991296</td>\n",
       "      <td>-0.008742</td>\n",
       "      <td>1.004981</td>\n",
       "      <td>0.0039</td>\n",
       "      <td>23</td>\n",
       "    </tr>\n",
       "    <tr>\n",
       "      <th>717</th>\n",
       "      <td>50489.92</td>\n",
       "      <td>50441.59</td>\n",
       "      <td>50856.46</td>\n",
       "      <td>50358.99</td>\n",
       "      <td>1468.15088</td>\n",
       "      <td>2021-12-07 21:00:00</td>\n",
       "      <td>1.000958</td>\n",
       "      <td>0.000958</td>\n",
       "      <td>1.004981</td>\n",
       "      <td>0.0039</td>\n",
       "      <td>23</td>\n",
       "    </tr>\n",
       "    <tr>\n",
       "      <th>718</th>\n",
       "      <td>50245.25</td>\n",
       "      <td>50489.93</td>\n",
       "      <td>50626.43</td>\n",
       "      <td>50039.74</td>\n",
       "      <td>1362.13177</td>\n",
       "      <td>2021-12-07 22:00:00</td>\n",
       "      <td>0.995154</td>\n",
       "      <td>-0.004858</td>\n",
       "      <td>1.004981</td>\n",
       "      <td>0.0039</td>\n",
       "      <td>23</td>\n",
       "    </tr>\n",
       "    <tr>\n",
       "      <th>719</th>\n",
       "      <td>50588.95</td>\n",
       "      <td>50245.25</td>\n",
       "      <td>50710.99</td>\n",
       "      <td>50141.60</td>\n",
       "      <td>828.39608</td>\n",
       "      <td>2021-12-07 23:00:00</td>\n",
       "      <td>1.006840</td>\n",
       "      <td>0.006817</td>\n",
       "      <td>1.004981</td>\n",
       "      <td>0.0039</td>\n",
       "      <td>22</td>\n",
       "    </tr>\n",
       "  </tbody>\n",
       "</table>\n",
       "<p>720 rows × 11 columns</p>\n",
       "</div>"
      ],
      "text/plain": [
       "        close      open      high       low  Volume BTC          NewDateTime  \\\n",
       "0    64999.68  63273.58  65040.96  63273.58  8026.87592  2021-11-08 00:00:00   \n",
       "1    65077.27  64999.68  65639.08  64937.32  4420.86652  2021-11-08 01:00:00   \n",
       "2    65078.12  65077.27  65329.11  65042.75  1607.63976  2021-11-08 02:00:00   \n",
       "3    65199.99  65078.11  65235.28  64966.27  1563.65354  2021-11-08 03:00:00   \n",
       "4    65168.20  65200.00  65357.00  65050.77  1314.57002  2021-11-08 04:00:00   \n",
       "..        ...       ...       ...       ...         ...                  ...   \n",
       "715  50884.48  50921.61  51204.77  50666.00  1312.93360  2021-12-07 19:00:00   \n",
       "716  50441.59  50884.49  51006.20  50150.00  2194.52091  2021-12-07 20:00:00   \n",
       "717  50489.92  50441.59  50856.46  50358.99  1468.15088  2021-12-07 21:00:00   \n",
       "718  50245.25  50489.93  50626.43  50039.74  1362.13177  2021-12-07 22:00:00   \n",
       "719  50588.95  50245.25  50710.99  50141.60   828.39608  2021-12-07 23:00:00   \n",
       "\n",
       "      returns  log_returns      SOPR  fundingRate  googleTrend  \n",
       "0    1.027280     0.026914  1.006743       0.0374           89  \n",
       "1    1.001194     0.001193  1.006743       0.0374           89  \n",
       "2    1.000013     0.000013  1.006743       0.0374           89  \n",
       "3    1.001873     0.001871  1.006743       0.0374           89  \n",
       "4    0.999512    -0.000488  1.006743       0.0374           89  \n",
       "..        ...          ...       ...          ...          ...  \n",
       "715  0.999271    -0.000729  1.004981       0.0039           23  \n",
       "716  0.991296    -0.008742  1.004981       0.0039           23  \n",
       "717  1.000958     0.000958  1.004981       0.0039           23  \n",
       "718  0.995154    -0.004858  1.004981       0.0039           23  \n",
       "719  1.006840     0.006817  1.004981       0.0039           22  \n",
       "\n",
       "[720 rows x 11 columns]"
      ]
     },
     "execution_count": 50,
     "metadata": {},
     "output_type": "execute_result"
    }
   ],
   "source": [
    "past_weeks = data_training.tail(168)\n",
    "df= past_weeks.append(data_test, ignore_index = True)\n",
    "# test.drop(test.tail(len(test)%168).index,inplace=True)\n",
    "# test = test.drop(['NewDateTime'], axis=1)\n",
    "df"
   ]
  },
  {
   "cell_type": "code",
   "execution_count": 48,
   "metadata": {},
   "outputs": [
    {
     "data": {
      "text/html": [
       "<div>\n",
       "<style scoped>\n",
       "    .dataframe tbody tr th:only-of-type {\n",
       "        vertical-align: middle;\n",
       "    }\n",
       "\n",
       "    .dataframe tbody tr th {\n",
       "        vertical-align: top;\n",
       "    }\n",
       "\n",
       "    .dataframe thead th {\n",
       "        text-align: right;\n",
       "    }\n",
       "</style>\n",
       "<table border=\"1\" class=\"dataframe\">\n",
       "  <thead>\n",
       "    <tr style=\"text-align: right;\">\n",
       "      <th></th>\n",
       "      <th>close</th>\n",
       "      <th>open</th>\n",
       "      <th>high</th>\n",
       "      <th>low</th>\n",
       "      <th>Volume BTC</th>\n",
       "      <th>NewDateTime</th>\n",
       "      <th>returns</th>\n",
       "      <th>log_returns</th>\n",
       "      <th>SOPR</th>\n",
       "      <th>fundingRate</th>\n",
       "      <th>googleTrend</th>\n",
       "    </tr>\n",
       "  </thead>\n",
       "  <tbody>\n",
       "    <tr>\n",
       "      <th>18713</th>\n",
       "      <td>64999.68</td>\n",
       "      <td>63273.58</td>\n",
       "      <td>65040.96</td>\n",
       "      <td>63273.58</td>\n",
       "      <td>8026.87592</td>\n",
       "      <td>2021-11-08 00:00:00</td>\n",
       "      <td>1.027280</td>\n",
       "      <td>0.026914</td>\n",
       "      <td>1.006743</td>\n",
       "      <td>0.0374</td>\n",
       "      <td>89</td>\n",
       "    </tr>\n",
       "    <tr>\n",
       "      <th>18714</th>\n",
       "      <td>65077.27</td>\n",
       "      <td>64999.68</td>\n",
       "      <td>65639.08</td>\n",
       "      <td>64937.32</td>\n",
       "      <td>4420.86652</td>\n",
       "      <td>2021-11-08 01:00:00</td>\n",
       "      <td>1.001194</td>\n",
       "      <td>0.001193</td>\n",
       "      <td>1.006743</td>\n",
       "      <td>0.0374</td>\n",
       "      <td>89</td>\n",
       "    </tr>\n",
       "    <tr>\n",
       "      <th>18715</th>\n",
       "      <td>65078.12</td>\n",
       "      <td>65077.27</td>\n",
       "      <td>65329.11</td>\n",
       "      <td>65042.75</td>\n",
       "      <td>1607.63976</td>\n",
       "      <td>2021-11-08 02:00:00</td>\n",
       "      <td>1.000013</td>\n",
       "      <td>0.000013</td>\n",
       "      <td>1.006743</td>\n",
       "      <td>0.0374</td>\n",
       "      <td>89</td>\n",
       "    </tr>\n",
       "    <tr>\n",
       "      <th>18716</th>\n",
       "      <td>65199.99</td>\n",
       "      <td>65078.11</td>\n",
       "      <td>65235.28</td>\n",
       "      <td>64966.27</td>\n",
       "      <td>1563.65354</td>\n",
       "      <td>2021-11-08 03:00:00</td>\n",
       "      <td>1.001873</td>\n",
       "      <td>0.001871</td>\n",
       "      <td>1.006743</td>\n",
       "      <td>0.0374</td>\n",
       "      <td>89</td>\n",
       "    </tr>\n",
       "    <tr>\n",
       "      <th>18717</th>\n",
       "      <td>65168.20</td>\n",
       "      <td>65200.00</td>\n",
       "      <td>65357.00</td>\n",
       "      <td>65050.77</td>\n",
       "      <td>1314.57002</td>\n",
       "      <td>2021-11-08 04:00:00</td>\n",
       "      <td>0.999512</td>\n",
       "      <td>-0.000488</td>\n",
       "      <td>1.006743</td>\n",
       "      <td>0.0374</td>\n",
       "      <td>89</td>\n",
       "    </tr>\n",
       "    <tr>\n",
       "      <th>...</th>\n",
       "      <td>...</td>\n",
       "      <td>...</td>\n",
       "      <td>...</td>\n",
       "      <td>...</td>\n",
       "      <td>...</td>\n",
       "      <td>...</td>\n",
       "      <td>...</td>\n",
       "      <td>...</td>\n",
       "      <td>...</td>\n",
       "      <td>...</td>\n",
       "      <td>...</td>\n",
       "    </tr>\n",
       "    <tr>\n",
       "      <th>18876</th>\n",
       "      <td>64170.00</td>\n",
       "      <td>64028.34</td>\n",
       "      <td>64209.07</td>\n",
       "      <td>63872.46</td>\n",
       "      <td>895.51018</td>\n",
       "      <td>2021-11-14 19:00:00</td>\n",
       "      <td>1.002212</td>\n",
       "      <td>0.002210</td>\n",
       "      <td>1.001468</td>\n",
       "      <td>0.0100</td>\n",
       "      <td>69</td>\n",
       "    </tr>\n",
       "    <tr>\n",
       "      <th>18877</th>\n",
       "      <td>64221.78</td>\n",
       "      <td>64169.99</td>\n",
       "      <td>64500.00</td>\n",
       "      <td>64040.47</td>\n",
       "      <td>993.10978</td>\n",
       "      <td>2021-11-14 20:00:00</td>\n",
       "      <td>1.000807</td>\n",
       "      <td>0.000807</td>\n",
       "      <td>1.001468</td>\n",
       "      <td>0.0100</td>\n",
       "      <td>69</td>\n",
       "    </tr>\n",
       "    <tr>\n",
       "      <th>18878</th>\n",
       "      <td>64308.59</td>\n",
       "      <td>64221.78</td>\n",
       "      <td>64500.00</td>\n",
       "      <td>64050.00</td>\n",
       "      <td>780.83326</td>\n",
       "      <td>2021-11-14 21:00:00</td>\n",
       "      <td>1.001352</td>\n",
       "      <td>0.001351</td>\n",
       "      <td>1.001468</td>\n",
       "      <td>0.0100</td>\n",
       "      <td>69</td>\n",
       "    </tr>\n",
       "    <tr>\n",
       "      <th>18879</th>\n",
       "      <td>64520.00</td>\n",
       "      <td>64308.58</td>\n",
       "      <td>64900.00</td>\n",
       "      <td>64284.79</td>\n",
       "      <td>1044.80130</td>\n",
       "      <td>2021-11-14 22:00:00</td>\n",
       "      <td>1.003287</td>\n",
       "      <td>0.003282</td>\n",
       "      <td>1.001468</td>\n",
       "      <td>0.0100</td>\n",
       "      <td>69</td>\n",
       "    </tr>\n",
       "    <tr>\n",
       "      <th>18880</th>\n",
       "      <td>65519.10</td>\n",
       "      <td>64520.01</td>\n",
       "      <td>65550.51</td>\n",
       "      <td>64341.77</td>\n",
       "      <td>2816.59016</td>\n",
       "      <td>2021-11-14 23:00:00</td>\n",
       "      <td>1.015485</td>\n",
       "      <td>0.015366</td>\n",
       "      <td>1.001468</td>\n",
       "      <td>0.0100</td>\n",
       "      <td>69</td>\n",
       "    </tr>\n",
       "  </tbody>\n",
       "</table>\n",
       "<p>168 rows × 11 columns</p>\n",
       "</div>"
      ],
      "text/plain": [
       "          close      open      high       low  Volume BTC  \\\n",
       "18713  64999.68  63273.58  65040.96  63273.58  8026.87592   \n",
       "18714  65077.27  64999.68  65639.08  64937.32  4420.86652   \n",
       "18715  65078.12  65077.27  65329.11  65042.75  1607.63976   \n",
       "18716  65199.99  65078.11  65235.28  64966.27  1563.65354   \n",
       "18717  65168.20  65200.00  65357.00  65050.77  1314.57002   \n",
       "...         ...       ...       ...       ...         ...   \n",
       "18876  64170.00  64028.34  64209.07  63872.46   895.51018   \n",
       "18877  64221.78  64169.99  64500.00  64040.47   993.10978   \n",
       "18878  64308.59  64221.78  64500.00  64050.00   780.83326   \n",
       "18879  64520.00  64308.58  64900.00  64284.79  1044.80130   \n",
       "18880  65519.10  64520.01  65550.51  64341.77  2816.59016   \n",
       "\n",
       "               NewDateTime   returns  log_returns      SOPR  fundingRate  \\\n",
       "18713  2021-11-08 00:00:00  1.027280     0.026914  1.006743       0.0374   \n",
       "18714  2021-11-08 01:00:00  1.001194     0.001193  1.006743       0.0374   \n",
       "18715  2021-11-08 02:00:00  1.000013     0.000013  1.006743       0.0374   \n",
       "18716  2021-11-08 03:00:00  1.001873     0.001871  1.006743       0.0374   \n",
       "18717  2021-11-08 04:00:00  0.999512    -0.000488  1.006743       0.0374   \n",
       "...                    ...       ...          ...       ...          ...   \n",
       "18876  2021-11-14 19:00:00  1.002212     0.002210  1.001468       0.0100   \n",
       "18877  2021-11-14 20:00:00  1.000807     0.000807  1.001468       0.0100   \n",
       "18878  2021-11-14 21:00:00  1.001352     0.001351  1.001468       0.0100   \n",
       "18879  2021-11-14 22:00:00  1.003287     0.003282  1.001468       0.0100   \n",
       "18880  2021-11-14 23:00:00  1.015485     0.015366  1.001468       0.0100   \n",
       "\n",
       "       googleTrend  \n",
       "18713           89  \n",
       "18714           89  \n",
       "18715           89  \n",
       "18716           89  \n",
       "18717           89  \n",
       "...            ...  \n",
       "18876           69  \n",
       "18877           69  \n",
       "18878           69  \n",
       "18879           69  \n",
       "18880           69  \n",
       "\n",
       "[168 rows x 11 columns]"
      ]
     },
     "execution_count": 48,
     "metadata": {},
     "output_type": "execute_result"
    }
   ],
   "source": [
    "past_weeks"
   ]
  },
  {
   "cell_type": "code",
   "execution_count": null,
   "metadata": {},
   "outputs": [],
   "source": [
    "df = df.drop(['NewDateTime'], axis = 1)\n",
    "len(df)"
   ]
  },
  {
   "cell_type": "code",
   "execution_count": 45,
   "metadata": {},
   "outputs": [
    {
     "data": {
      "text/plain": [
       "array([[ 0.90775383,  0.8639069 ,  0.89924356, ...,  0.57144415,\n",
       "         0.67421476,  0.83333333],\n",
       "       [ 0.90972339,  0.90772086,  0.91446554, ...,  0.57144415,\n",
       "         0.67421476,  0.83333333],\n",
       "       [ 0.90974497,  0.90969035,  0.90657689, ...,  0.57144415,\n",
       "         0.67421476,  0.83333333],\n",
       "       ...,\n",
       "       [ 0.53943627,  0.5381898 ,  0.53825207, ...,  0.55073454,\n",
       "         0.42951059, -0.16666667],\n",
       "       [ 0.53322554,  0.53941683,  0.53239787, ...,  0.55073454,\n",
       "         0.42951059, -0.16666667],\n",
       "       [ 0.54195006,  0.53320606,  0.5345499 , ...,  0.55073454,\n",
       "         0.42951059, -0.18181818]])"
      ]
     },
     "execution_count": 45,
     "metadata": {},
     "output_type": "execute_result"
    }
   ],
   "source": [
    "inputs = scaler.transform(df)\n",
    "inputs"
   ]
  },
  {
   "cell_type": "code",
   "execution_count": 46,
   "metadata": {},
   "outputs": [],
   "source": [
    "X_test = []\n",
    "Y_test = []\n",
    "for i in range(336, inputs.shape[0],24):\n",
    "    X_test.append(inputs[i-336:i-168])\n",
    "    Y_test.append(inputs[i-168:i,0])"
   ]
  },
  {
   "cell_type": "code",
   "execution_count": 27,
   "metadata": {},
   "outputs": [
    {
     "data": {
      "text/plain": [
       "((16, 168, 10), (16, 168))"
      ]
     },
     "execution_count": 27,
     "metadata": {},
     "output_type": "execute_result"
    }
   ],
   "source": [
    "X_test, Y_test = np.array(X_test), np.array(Y_test)\n",
    "X_test.shape, Y_test.shape"
   ]
  },
  {
   "cell_type": "code",
   "execution_count": 28,
   "metadata": {},
   "outputs": [],
   "source": [
    "Y_test=Y_test.reshape(Y_test.shape[0],168,1)"
   ]
  },
  {
   "cell_type": "code",
   "execution_count": 29,
   "metadata": {},
   "outputs": [
    {
     "data": {
      "text/plain": [
       "(array([[[0.11512636],\n",
       "         [0.20059523],\n",
       "         [0.29271132],\n",
       "         ...,\n",
       "         [0.83803475],\n",
       "         [0.8395389 ],\n",
       "         [0.841097  ]],\n",
       " \n",
       "        [[0.11521659],\n",
       "         [0.20089   ],\n",
       "         [0.2931586 ],\n",
       "         ...,\n",
       "         [0.82231814],\n",
       "         [0.81886715],\n",
       "         [0.81534845]],\n",
       " \n",
       "        [[0.11536277],\n",
       "         [0.20134586],\n",
       "         [0.29396623],\n",
       "         ...,\n",
       "         [0.5486582 ],\n",
       "         [0.54431593],\n",
       "         [0.54070383]],\n",
       " \n",
       "        ...,\n",
       " \n",
       "        [[0.11506741],\n",
       "         [0.20090093],\n",
       "         [0.2943114 ],\n",
       "         ...,\n",
       "         [0.5747092 ],\n",
       "         [0.5769145 ],\n",
       "         [0.5787866 ]],\n",
       " \n",
       "        [[0.11400807],\n",
       "         [0.19727837],\n",
       "         [0.28608894],\n",
       "         ...,\n",
       "         [0.60082126],\n",
       "         [0.6016535 ],\n",
       "         [0.6029335 ]],\n",
       " \n",
       "        [[0.11383727],\n",
       "         [0.19658639],\n",
       "         [0.28434786],\n",
       "         ...,\n",
       "         [0.63469726],\n",
       "         [0.6358634 ],\n",
       "         [0.6369914 ]]], dtype=float32),\n",
       " array([[[0.92997738],\n",
       "         [0.93051172],\n",
       "         [0.92495818],\n",
       "         ...,\n",
       "         [0.7674408 ],\n",
       "         [0.75825784],\n",
       "         [0.74586251]],\n",
       " \n",
       "        [[0.84531777],\n",
       "         [0.83440437],\n",
       "         [0.82197935],\n",
       "         ...,\n",
       "         [0.68539702],\n",
       "         [0.69707423],\n",
       "         [0.68557928]],\n",
       " \n",
       "        [[0.77353223],\n",
       "         [0.76351337],\n",
       "         [0.76489705],\n",
       "         ...,\n",
       "         [0.72185015],\n",
       "         [0.71893529],\n",
       "         [0.71842862]],\n",
       " \n",
       "        ...,\n",
       " \n",
       "        [[0.64529086],\n",
       "         [0.63412642],\n",
       "         [0.63762283],\n",
       "         ...,\n",
       "         [0.49412992],\n",
       "         [0.50689179],\n",
       "         [0.50548627]],\n",
       " \n",
       "        [[0.72412634],\n",
       "         [0.7209287 ],\n",
       "         [0.712539  ],\n",
       "         ...,\n",
       "         [0.50564771],\n",
       "         [0.50705069],\n",
       "         [0.51167644]],\n",
       " \n",
       "        [[0.72264518],\n",
       "         [0.71129035],\n",
       "         [0.71377266],\n",
       "         ...,\n",
       "         [0.52850333],\n",
       "         [0.54578205],\n",
       "         [0.53821783]]]))"
      ]
     },
     "execution_count": 29,
     "metadata": {},
     "output_type": "execute_result"
    }
   ],
   "source": [
    "Y_pred = model.predict(X_test)\n",
    "Y_pred, Y_test"
   ]
  },
  {
   "cell_type": "code",
   "execution_count": 30,
   "metadata": {},
   "outputs": [
    {
     "data": {
      "text/plain": [
       "(16, 168, 1)"
      ]
     },
     "execution_count": 30,
     "metadata": {},
     "output_type": "execute_result"
    }
   ],
   "source": [
    "Y_pred.shape"
   ]
  },
  {
   "cell_type": "code",
   "execution_count": 31,
   "metadata": {},
   "outputs": [
    {
     "data": {
      "text/plain": [
       "array([2.53841253e-05, 2.53832103e-05, 2.54497156e-05, 2.52231047e-05,\n",
       "       2.96465649e-05, 8.91552170e+00, 8.83926598e+00, 1.17531472e+01,\n",
       "       7.30460190e+00, 1.51515152e-02])"
      ]
     },
     "execution_count": 31,
     "metadata": {},
     "output_type": "execute_result"
    }
   ],
   "source": [
    "scaler.scale_"
   ]
  },
  {
   "cell_type": "code",
   "execution_count": 32,
   "metadata": {},
   "outputs": [
    {
     "data": {
      "text/plain": [
       "39394.699962342216"
      ]
     },
     "execution_count": 32,
     "metadata": {},
     "output_type": "execute_result"
    }
   ],
   "source": [
    "scale = 1/2.53841253e-05\n",
    "scale"
   ]
  },
  {
   "cell_type": "code",
   "execution_count": 33,
   "metadata": {},
   "outputs": [],
   "source": [
    "# scale.inverse_transform(Y_pred)"
   ]
  },
  {
   "cell_type": "code",
   "execution_count": 34,
   "metadata": {},
   "outputs": [],
   "source": [
    "Y_test = Y_test*scale\n",
    "Y_pred = Y_pred*scale"
   ]
  },
  {
   "cell_type": "code",
   "execution_count": 35,
   "metadata": {},
   "outputs": [
    {
     "data": {
      "text/plain": [
       "(16, 168, 1)"
      ]
     },
     "execution_count": 35,
     "metadata": {},
     "output_type": "execute_result"
    }
   ],
   "source": [
    "Y_pred.shape"
   ]
  },
  {
   "cell_type": "code",
   "execution_count": 36,
   "metadata": {},
   "outputs": [
    {
     "data": {
      "text/plain": [
       "36636.17996497911"
      ]
     },
     "execution_count": 36,
     "metadata": {},
     "output_type": "execute_result"
    }
   ],
   "source": [
    "Y_test[0,0,0]"
   ]
  },
  {
   "cell_type": "code",
   "execution_count": 37,
   "metadata": {},
   "outputs": [
    {
     "data": {
      "text/plain": [
       "168"
      ]
     },
     "execution_count": 37,
     "metadata": {},
     "output_type": "execute_result"
    }
   ],
   "source": [
    "len(Y_pred[1,:,0])"
   ]
  },
  {
   "cell_type": "code",
   "execution_count": 38,
   "metadata": {},
   "outputs": [
    {
     "data": {
      "text/plain": [
       "array([ 4538.923 ,  7914.0015, 11548.895 , 15194.009 , 18574.883 ,\n",
       "       21410.49  , 23486.078 , 24839.307 , 25686.754 , 26187.027 ,\n",
       "       26449.703 , 26549.191 , 26537.924 , 26456.932 , 26334.625 ,\n",
       "       26191.535 , 26040.617 , 25889.865 , 25744.086 , 25606.713 ,\n",
       "       25481.402 , 25371.586 , 25277.062 , 25195.812 , 25122.865 ,\n",
       "       25058.443 , 25003.94  , 24959.701 , 24926.945 , 24905.451 ,\n",
       "       24895.184 , 24895.322 , 24915.125 , 24959.488 , 25029.322 ,\n",
       "       25121.146 , 25229.244 , 25351.584 , 25488.068 , 25636.855 ,\n",
       "       25785.088 , 25924.266 , 26045.83  , 26141.914 , 26205.031 ,\n",
       "       26227.115 , 26213.055 , 26167.48  , 26105.846 , 26042.566 ,\n",
       "       25987.736 , 25949.037 , 25930.129 , 25932.738 , 25956.703 ,\n",
       "       26001.688 , 26075.658 , 26182.05  , 26318.94  , 26480.955 ,\n",
       "       26659.936 , 26847.37  , 27037.48  , 27224.113 , 27408.24  ,\n",
       "       27589.627 , 27766.592 , 27940.055 , 28108.398 , 28270.742 ,\n",
       "       28426.572 , 28573.367 , 28720.008 , 28881.936 , 29074.809 ,\n",
       "       29309.309 , 29592.797 , 29925.242 , 30301.486 , 30713.28  ,\n",
       "       31154.844 , 31610.064 , 32066.408 , 32515.297 , 32949.97  ,\n",
       "       33365.24  , 33754.29  , 34110.35  , 34420.555 , 34684.34  ,\n",
       "       34906.266 , 35091.5   , 35248.055 , 35382.33  , 35498.008 ,\n",
       "       35599.844 , 35683.203 , 35734.527 , 35740.316 , 35692.23  ,\n",
       "       35586.44  , 35423.49  , 35209.605 , 34954.117 , 34675.035 ,\n",
       "       34384.242 , 34093.043 , 33808.453 , 33534.87  , 33275.49  ,\n",
       "       33037.12  , 32823.984 , 32630.383 , 32451.898 , 32282.355 ,\n",
       "       32117.965 , 31959.965 , 31810.06  , 31669.424 , 31540.    ,\n",
       "       31433.318 , 31357.31  , 31315.281 , 31307.45  , 31332.518 ,\n",
       "       31386.959 , 31465.787 , 31562.08  , 31670.96  , 31788.363 ,\n",
       "       31911.75  , 32038.402 , 32166.445 , 32294.182 , 32417.55  ,\n",
       "       32532.15  , 32634.62  , 32726.82  , 32809.56  , 32884.074 ,\n",
       "       32951.8   , 33014.125 , 33073.38  , 33134.758 , 33195.49  ,\n",
       "       33251.137 , 33296.734 , 33329.492 , 33348.945 , 33355.656 ,\n",
       "       33350.945 , 33336.13  , 33311.863 , 33281.49  , 33247.63  ,\n",
       "       33211.23  , 33172.883 , 33132.176 , 33085.957 , 33028.71  ,\n",
       "       32956.918 , 32869.54  , 32766.324 , 32651.236 , 32526.766 ,\n",
       "       32394.977 , 32259.025 , 32120.406 ], dtype=float32)"
      ]
     },
     "execution_count": 38,
     "metadata": {},
     "output_type": "execute_result"
    }
   ],
   "source": [
    "Y_pred[1,:,0]"
   ]
  },
  {
   "cell_type": "code",
   "execution_count": 43,
   "metadata": {},
   "outputs": [
    {
     "data": {
      "image/png": "[encoded data removed]",
      "text/plain": [
       "<Figure size 1008x360 with 1 Axes>"
      ]
     },
     "metadata": {
      "needs_background": "light"
     },
     "output_type": "display_data"
    }
   ],
   "source": [
    "plt.figure(figsize=(14,5))\n",
    "plt.plot(Y_test[8,0:,0], color = 'red', label = 'Real Bitcoin Price')\n",
    "plt.plot(Y_pred[8,0:,0], color = 'green', label = 'Predicted Bitcoin Price')\n",
    "plt.title('Bitcoin Price Prediction using RNN-LSTM')\n",
    "plt.xlabel('Time')\n",
    "plt.ylabel('Price')\n",
    "plt.legend()\n",
    "plt.show()"
   ]
  },
  {
   "cell_type": "code",
   "execution_count": null,
   "metadata": {},
   "outputs": [],
   "source": []
  },
  {
   "cell_type": "code",
   "execution_count": null,
   "metadata": {},
   "outputs": [],
   "source": []
  }
 ],
 "metadata": {
  "kernelspec": {
   "display_name": "Python 3",
   "language": "python",
   "name": "python3"
  },
  "language_info": {
   "codemirror_mode": {
    "name": "ipython",
    "version": 3
   },
   "file_extension": ".py",
   "mimetype": "text/x-python",
   "name": "python",
   "nbconvert_exporter": "python",
   "pygments_lexer": "ipython3",
   "version": "3.6.9"
  }
 },
 "nbformat": 4,
 "nbformat_minor": 4
}
