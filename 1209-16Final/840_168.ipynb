{
 "cells": [
  {
   "cell_type": "code",
   "execution_count": 1,
   "metadata": {},
   "outputs": [],
   "source": [
    "import numpy as np\n",
    "import matplotlib.pyplot as plt\n",
    "import pandas as pd\n",
    "import gc\n",
    "from sklearn.preprocessing import MinMaxScaler\n",
    "from pandas import read_csv"
   ]
  },
  {
   "cell_type": "code",
   "execution_count": 2,
   "metadata": {},
   "outputs": [
    {
     "data": {
      "text/plain": [
       "19433"
      ]
     },
     "execution_count": 2,
     "metadata": {},
     "output_type": "execute_result"
    }
   ],
   "source": [
    "# load the new file\n",
    "df = read_csv('./data/bitcoin_data.csv', date_parser = True)\n",
    "df.drop(df.columns[0], axis=1,inplace = True)\n",
    "len(df)"
   ]
  },
  {
   "cell_type": "code",
   "execution_count": 3,
   "metadata": {},
   "outputs": [
    {
     "data": {
      "text/plain": [
       "8171"
      ]
     },
     "execution_count": 3,
     "metadata": {},
     "output_type": "execute_result"
    }
   ],
   "source": [
    "df = df[df['NewDateTime']>= '2021-01-01'].copy()\n",
    "len(df)"
   ]
  },
  {
   "cell_type": "code",
   "execution_count": 4,
   "metadata": {},
   "outputs": [
    {
     "data": {
      "text/plain": [
       "8064"
      ]
     },
     "execution_count": 4,
     "metadata": {},
     "output_type": "execute_result"
    }
   ],
   "source": [
    "df.drop(df.head(len(df)%168).index,inplace=True)\n",
    "len(df)"
   ]
  },
  {
   "cell_type": "code",
   "execution_count": 5,
   "metadata": {},
   "outputs": [
    {
     "data": {
      "text/plain": [
       "7056"
      ]
     },
     "execution_count": 5,
     "metadata": {},
     "output_type": "execute_result"
    }
   ],
   "source": [
    "int(len(df)/8*7)"
   ]
  },
  {
   "cell_type": "code",
   "execution_count": 6,
   "metadata": {},
   "outputs": [
    {
     "data": {
      "text/plain": [
       "7056"
      ]
     },
     "execution_count": 6,
     "metadata": {},
     "output_type": "execute_result"
    }
   ],
   "source": [
    "data_training = df.iloc[0:int(len(df)/8*7),:]\n",
    "data_test = df.iloc[int(len(df)/8*7):int(len(df)),:]\n",
    "\n",
    "len(data_training)"
   ]
  },
  {
   "cell_type": "code",
   "execution_count": 7,
   "metadata": {},
   "outputs": [
    {
     "data": {
      "text/html": [
       "<div>\n",
       "<style scoped>\n",
       "    .dataframe tbody tr th:only-of-type {\n",
       "        vertical-align: middle;\n",
       "    }\n",
       "\n",
       "    .dataframe tbody tr th {\n",
       "        vertical-align: top;\n",
       "    }\n",
       "\n",
       "    .dataframe thead th {\n",
       "        text-align: right;\n",
       "    }\n",
       "</style>\n",
       "<table border=\"1\" class=\"dataframe\">\n",
       "  <thead>\n",
       "    <tr style=\"text-align: right;\">\n",
       "      <th></th>\n",
       "      <th>close</th>\n",
       "      <th>open</th>\n",
       "      <th>high</th>\n",
       "      <th>low</th>\n",
       "      <th>Volume BTC</th>\n",
       "      <th>returns</th>\n",
       "      <th>log_returns</th>\n",
       "      <th>SOPR</th>\n",
       "      <th>fundingRate</th>\n",
       "      <th>googleTrend</th>\n",
       "    </tr>\n",
       "  </thead>\n",
       "  <tbody>\n",
       "    <tr>\n",
       "      <th>18420</th>\n",
       "      <td>62000.00</td>\n",
       "      <td>62326.59</td>\n",
       "      <td>62367.76</td>\n",
       "      <td>61931.69</td>\n",
       "      <td>1027.41316</td>\n",
       "      <td>0.994760</td>\n",
       "      <td>-0.005254</td>\n",
       "      <td>1.004381</td>\n",
       "      <td>0.0606</td>\n",
       "      <td>66</td>\n",
       "    </tr>\n",
       "    <tr>\n",
       "      <th>18421</th>\n",
       "      <td>62094.90</td>\n",
       "      <td>62000.01</td>\n",
       "      <td>62300.27</td>\n",
       "      <td>61851.87</td>\n",
       "      <td>1572.88224</td>\n",
       "      <td>1.001531</td>\n",
       "      <td>0.001529</td>\n",
       "      <td>1.004381</td>\n",
       "      <td>0.0606</td>\n",
       "      <td>66</td>\n",
       "    </tr>\n",
       "    <tr>\n",
       "      <th>18422</th>\n",
       "      <td>60810.59</td>\n",
       "      <td>62094.89</td>\n",
       "      <td>62105.63</td>\n",
       "      <td>60501.00</td>\n",
       "      <td>2762.87189</td>\n",
       "      <td>0.979317</td>\n",
       "      <td>-0.020900</td>\n",
       "      <td>1.004381</td>\n",
       "      <td>0.0606</td>\n",
       "      <td>66</td>\n",
       "    </tr>\n",
       "    <tr>\n",
       "      <th>18423</th>\n",
       "      <td>60292.24</td>\n",
       "      <td>60810.60</td>\n",
       "      <td>60892.75</td>\n",
       "      <td>59817.55</td>\n",
       "      <td>5971.16010</td>\n",
       "      <td>0.991476</td>\n",
       "      <td>-0.008561</td>\n",
       "      <td>1.004381</td>\n",
       "      <td>0.0606</td>\n",
       "      <td>66</td>\n",
       "    </tr>\n",
       "    <tr>\n",
       "      <th>18424</th>\n",
       "      <td>60328.81</td>\n",
       "      <td>60292.25</td>\n",
       "      <td>60607.33</td>\n",
       "      <td>60160.63</td>\n",
       "      <td>1704.03770</td>\n",
       "      <td>1.000607</td>\n",
       "      <td>0.000606</td>\n",
       "      <td>1.004381</td>\n",
       "      <td>0.0606</td>\n",
       "      <td>66</td>\n",
       "    </tr>\n",
       "  </tbody>\n",
       "</table>\n",
       "</div>"
      ],
      "text/plain": [
       "          close      open      high       low  Volume BTC   returns  \\\n",
       "18420  62000.00  62326.59  62367.76  61931.69  1027.41316  0.994760   \n",
       "18421  62094.90  62000.01  62300.27  61851.87  1572.88224  1.001531   \n",
       "18422  60810.59  62094.89  62105.63  60501.00  2762.87189  0.979317   \n",
       "18423  60292.24  60810.60  60892.75  59817.55  5971.16010  0.991476   \n",
       "18424  60328.81  60292.25  60607.33  60160.63  1704.03770  1.000607   \n",
       "\n",
       "       log_returns      SOPR  fundingRate  googleTrend  \n",
       "18420    -0.005254  1.004381       0.0606           66  \n",
       "18421     0.001529  1.004381       0.0606           66  \n",
       "18422    -0.020900  1.004381       0.0606           66  \n",
       "18423    -0.008561  1.004381       0.0606           66  \n",
       "18424     0.000606  1.004381       0.0606           66  "
      ]
     },
     "execution_count": 7,
     "metadata": {},
     "output_type": "execute_result"
    }
   ],
   "source": [
    "training_data = data_training.drop(['NewDateTime'], axis = 1)\n",
    "\n",
    "\n",
    "training_data.tail()"
   ]
  },
  {
   "cell_type": "code",
   "execution_count": 8,
   "metadata": {},
   "outputs": [
    {
     "data": {
      "text/plain": [
       "array([[0.06742516, 0.05602835, 0.0555107 , ..., 0.82172583, 0.52569403,\n",
       "        0.21176471],\n",
       "       [0.06233308, 0.0674249 , 0.06302226, ..., 0.82172583, 0.52569403,\n",
       "        0.21176471],\n",
       "       [0.05901186, 0.06233254, 0.05880889, ..., 0.82172583, 0.52569403,\n",
       "        0.21176471],\n",
       "       ...,\n",
       "       [0.83884832, 0.87297154, 0.86875961, ..., 0.47298329, 0.44388659,\n",
       "        0.6       ],\n",
       "       [0.82507591, 0.83884832, 0.83623677, ..., 0.47298329, 0.44388659,\n",
       "        0.6       ],\n",
       "       [0.82604756, 0.82507591, 0.82858336, ..., 0.47298329, 0.44388659,\n",
       "        0.6       ]])"
      ]
     },
     "execution_count": 8,
     "metadata": {},
     "output_type": "execute_result"
    }
   ],
   "source": [
    "scaler = MinMaxScaler()\n",
    "training_data = scaler.fit_transform(training_data)\n",
    "training_data"
   ]
  },
  {
   "cell_type": "code",
   "execution_count": 9,
   "metadata": {},
   "outputs": [],
   "source": [
    "X_train = []\n",
    "Y_train = []"
   ]
  },
  {
   "cell_type": "code",
   "execution_count": 10,
   "metadata": {},
   "outputs": [
    {
     "data": {
      "text/plain": [
       "(7056, 10)"
      ]
     },
     "execution_count": 10,
     "metadata": {},
     "output_type": "execute_result"
    }
   ],
   "source": [
    "training_data.shape"
   ]
  },
  {
   "cell_type": "code",
   "execution_count": 11,
   "metadata": {},
   "outputs": [],
   "source": [
    "for i in range(840, training_data.shape[0],84):\n",
    "    \n",
    "    X_train.append(training_data[i-840:i-168])\n",
    "    Y_train.append(training_data[i-168:i,0])"
   ]
  },
  {
   "cell_type": "code",
   "execution_count": 12,
   "metadata": {},
   "outputs": [],
   "source": [
    "X_train, Y_train = np.array(X_train), np.array(Y_train)"
   ]
  },
  {
   "cell_type": "code",
   "execution_count": 13,
   "metadata": {},
   "outputs": [
    {
     "data": {
      "text/plain": [
       "(74, 672, 10)"
      ]
     },
     "execution_count": 13,
     "metadata": {},
     "output_type": "execute_result"
    }
   ],
   "source": [
    "X_train.shape"
   ]
  },
  {
   "cell_type": "code",
   "execution_count": 14,
   "metadata": {},
   "outputs": [
    {
     "data": {
      "text/plain": [
       "(74, 168)"
      ]
     },
     "execution_count": 14,
     "metadata": {},
     "output_type": "execute_result"
    }
   ],
   "source": [
    "Y_train.shape"
   ]
  },
  {
   "cell_type": "code",
   "execution_count": 15,
   "metadata": {},
   "outputs": [
    {
     "data": {
      "text/plain": [
       "74"
      ]
     },
     "execution_count": 15,
     "metadata": {},
     "output_type": "execute_result"
    }
   ],
   "source": [
    "Y_train.shape[0]"
   ]
  },
  {
   "cell_type": "code",
   "execution_count": 16,
   "metadata": {},
   "outputs": [],
   "source": [
    "Y_train=Y_train.reshape(Y_train.shape[0],168,1)"
   ]
  },
  {
   "cell_type": "code",
   "execution_count": 17,
   "metadata": {},
   "outputs": [],
   "source": [
    "# Y_train[1,:,0]"
   ]
  },
  {
   "cell_type": "code",
   "execution_count": 18,
   "metadata": {},
   "outputs": [
    {
     "name": "stdout",
     "output_type": "stream",
     "text": [
      "WARNING:tensorflow:Deprecation warnings have been disabled. Set TF_ENABLE_DEPRECATION_WARNINGS=1 to re-enable them.\n"
     ]
    }
   ],
   "source": [
    "\n",
    "from tensorflow.keras import Sequential\n",
    "from tensorflow.keras.layers import Dense, LSTM, Dropout,RepeatVector,TimeDistributed"
   ]
  },
  {
   "cell_type": "code",
   "execution_count": 19,
   "metadata": {},
   "outputs": [],
   "source": [
    "\n",
    "model = Sequential()\n",
    "model.add(LSTM(200, activation='relu', input_shape=(X_train.shape[1], 10)))\n",
    "model.add(Dropout(0.4))\n",
    "model.add(RepeatVector(168))\n",
    "model.add(LSTM(200, activation='relu', return_sequences=True))\n",
    "model.add(Dropout(0.3))\n",
    "model.add(TimeDistributed(Dense(50, activation='relu')))\n",
    "model.add(TimeDistributed(Dense(1)))\n",
    "\n",
    "# model.add(LSTM(units = 200, activation = 'relu', return_sequences = True, input_shape = (X_train.shape[1], 10)))\n",
    "# model.add(Dropout(0.1))\n",
    "# model.add(LSTM(units = 200, return_sequences = True, activation = 'relu'))\n",
    "\n",
    "# model.add(Dropout(0.1))\n",
    "# model.add(Dense(units =1))"
   ]
  },
  {
   "cell_type": "code",
   "execution_count": 20,
   "metadata": {},
   "outputs": [
    {
     "name": "stdout",
     "output_type": "stream",
     "text": [
      "Model: \"sequential\"\n",
      "_________________________________________________________________\n",
      "Layer (type)                 Output Shape              Param #   \n",
      "=================================================================\n",
      "lstm (LSTM)                  (None, 200)               168800    \n",
      "_________________________________________________________________\n",
      "dropout (Dropout)            (None, 200)               0         \n",
      "_________________________________________________________________\n",
      "repeat_vector (RepeatVector) (None, 168, 200)          0         \n",
      "_________________________________________________________________\n",
      "lstm_1 (LSTM)                (None, 168, 200)          320800    \n",
      "_________________________________________________________________\n",
      "dropout_1 (Dropout)          (None, 168, 200)          0         \n",
      "_________________________________________________________________\n",
      "time_distributed (TimeDistri (None, 168, 50)           10050     \n",
      "_________________________________________________________________\n",
      "time_distributed_1 (TimeDist (None, 168, 1)            51        \n",
      "=================================================================\n",
      "Total params: 499,701\n",
      "Trainable params: 499,701\n",
      "Non-trainable params: 0\n",
      "_________________________________________________________________\n"
     ]
    }
   ],
   "source": [
    "model.summary()"
   ]
  },
  {
   "cell_type": "code",
   "execution_count": 21,
   "metadata": {},
   "outputs": [],
   "source": [
    "model.compile(loss='mse', optimizer='adam')"
   ]
  },
  {
   "cell_type": "code",
   "execution_count": null,
   "metadata": {},
   "outputs": [
    {
     "name": "stdout",
     "output_type": "stream",
     "text": [
      "Train on 66 samples, validate on 8 samples\n",
      "Epoch 1/15\n"
     ]
    }
   ],
   "source": [
    "history = model.fit(X_train, Y_train, epochs=15, batch_size=16, verbose=1, validation_split=0.1)"
   ]
  },
  {
   "cell_type": "code",
   "execution_count": 33,
   "metadata": {},
   "outputs": [],
   "source": [
    "# import tensorflow as tf\n",
    "# model = tf.keras.models.load_model('LSTM_168_1216.h5')"
   ]
  },
  {
   "cell_type": "code",
   "execution_count": 34,
   "metadata": {},
   "outputs": [],
   "source": [
    "model.save(\"840_168.h5\")"
   ]
  },
  {
   "cell_type": "code",
   "execution_count": 35,
   "metadata": {},
   "outputs": [],
   "source": [
    "# result = model.predict(X_train, batch_size=128, verbose=0)\n",
    "# for value in result[0,:,0]:\n",
    "# \tprint('%.1f' % value)"
   ]
  },
  {
   "cell_type": "code",
   "execution_count": 67,
   "metadata": {},
   "outputs": [
    {
     "data": {
      "image/png": "[encoded data removed]",
      "text/plain": [
       "<Figure size 432x288 with 1 Axes>"
      ]
     },
     "metadata": {
      "needs_background": "light"
     },
     "output_type": "display_data"
    }
   ],
   "source": [
    "loss = history.history['loss']\n",
    "epoch = range(len(loss))\n",
    "# plt.figure(figsize=(8,8))\n",
    "plt.plot(history.history['loss'])\n",
    "plt.plot(history.history['val_loss'])\n",
    "plt.title('model train vs validation loss')\n",
    "plt.ylabel('loss')\n",
    "plt.xlabel('epoch')\n",
    "plt.legend(['train', 'validation'], loc='upper right')\n",
    "plt.show()"
   ]
  },
  {
   "cell_type": "code",
   "execution_count": 65,
   "metadata": {},
   "outputs": [
    {
     "data": {
      "text/plain": [
       "{'loss': [0.16677434879452221,\n",
       "  0.046782901373954355,\n",
       "  0.034028697384945676,\n",
       "  0.01646277470636437,\n",
       "  0.01613742157881612,\n",
       "  0.014755231928813872,\n",
       "  0.012037099295917855,\n",
       "  0.01105900456891557,\n",
       "  0.011583803591954892,\n",
       "  0.01114745727923616,\n",
       "  0.010272325890347303,\n",
       "  0.010372809779877023,\n",
       "  0.010109132123413463,\n",
       "  0.010628432398626013,\n",
       "  0.010546908944010966]}"
      ]
     },
     "execution_count": 65,
     "metadata": {},
     "output_type": "execute_result"
    }
   ],
   "source": [
    "history.history"
   ]
  },
  {
   "cell_type": "code",
   "execution_count": 37,
   "metadata": {},
   "outputs": [],
   "source": [
    "# from tensorflow import keras\n",
    "# regressor = Sequential()\n",
    "# regressor = keras.models.load_model(\"LSTM_model_1210.h5\")"
   ]
  },
  {
   "cell_type": "code",
   "execution_count": 38,
   "metadata": {},
   "outputs": [
    {
     "data": {
      "text/plain": [
       "1680"
      ]
     },
     "execution_count": 38,
     "metadata": {},
     "output_type": "execute_result"
    }
   ],
   "source": [
    "past_4weeks = data_training.tail(672)\n",
    "df= past_4weeks.append(data_test, ignore_index = True)\n",
    "# test.drop(test.tail(len(test)%168).index,inplace=True)\n",
    "# test = test.drop(['NewDateTime'], axis=1)\n",
    "df = df.drop(['NewDateTime'], axis = 1)\n",
    "len(df)"
   ]
  },
  {
   "cell_type": "code",
   "execution_count": 39,
   "metadata": {},
   "outputs": [
    {
     "data": {
      "text/plain": [
       "array([[0.32775121, 0.33512006, 0.32599428, ..., 0.40370747, 0.27466037,\n",
       "        0.43529412],\n",
       "       [0.31319181, 0.32775095, 0.32137306, ..., 0.40370747, 0.27466037,\n",
       "        0.43529412],\n",
       "       [0.32832751, 0.31315089, 0.32320047, ..., 0.4308878 , 0.29356172,\n",
       "        0.41176471],\n",
       "       ...,\n",
       "       [0.56463109, 0.56334671, 0.56711805, ..., 0.47911513, 0.27643237,\n",
       "        0.09411765],\n",
       "       [0.55813028, 0.56463109, 0.5609499 , ..., 0.47911513, 0.27643237,\n",
       "        0.09411765],\n",
       "       [0.56726229, 0.55813001, 0.56321734, ..., 0.47911513, 0.27643237,\n",
       "        0.08235294]])"
      ]
     },
     "execution_count": 39,
     "metadata": {},
     "output_type": "execute_result"
    }
   ],
   "source": [
    "inputs = scaler.transform(df)\n",
    "inputs"
   ]
  },
  {
   "cell_type": "code",
   "execution_count": 40,
   "metadata": {},
   "outputs": [],
   "source": [
    "X_test = []\n",
    "Y_test = []\n",
    "for i in range(840, inputs.shape[0],24):\n",
    "    X_test.append(inputs[i-840:i-168])\n",
    "    Y_test.append(inputs[i-168:i,0])"
   ]
  },
  {
   "cell_type": "code",
   "execution_count": 41,
   "metadata": {},
   "outputs": [
    {
     "data": {
      "text/plain": [
       "((35, 672, 10), (35, 168))"
      ]
     },
     "execution_count": 41,
     "metadata": {},
     "output_type": "execute_result"
    }
   ],
   "source": [
    "X_test, Y_test = np.array(X_test), np.array(Y_test)\n",
    "X_test.shape, Y_test.shape"
   ]
  },
  {
   "cell_type": "code",
   "execution_count": 42,
   "metadata": {},
   "outputs": [],
   "source": [
    "Y_test=Y_test.reshape(35,168,1)"
   ]
  },
  {
   "cell_type": "code",
   "execution_count": 43,
   "metadata": {},
   "outputs": [
    {
     "data": {
      "text/plain": [
       "(259, 168, 1)"
      ]
     },
     "execution_count": 43,
     "metadata": {},
     "output_type": "execute_result"
    }
   ],
   "source": [
    "X_pred = model.predict(X_train)\n",
    "X_pred.shape"
   ]
  },
  {
   "cell_type": "code",
   "execution_count": 44,
   "metadata": {},
   "outputs": [
    {
     "data": {
      "text/plain": [
       "(array([[[0.2749139 ],\n",
       "         [0.42656085],\n",
       "         [0.5328273 ],\n",
       "         ...,\n",
       "         [0.7575483 ],\n",
       "         [0.7575483 ],\n",
       "         [0.7575483 ]],\n",
       " \n",
       "        [[0.26048192],\n",
       "         [0.4020332 ],\n",
       "         [0.50137824],\n",
       "         ...,\n",
       "         [0.7128883 ],\n",
       "         [0.7128883 ],\n",
       "         [0.7128883 ]],\n",
       " \n",
       "        [[0.27308634],\n",
       "         [0.42352927],\n",
       "         [0.5291468 ],\n",
       "         ...,\n",
       "         [0.75304   ],\n",
       "         [0.75304   ],\n",
       "         [0.75304   ]],\n",
       " \n",
       "        ...,\n",
       " \n",
       "        [[0.23782744],\n",
       "         [0.3635031 ],\n",
       "         [0.45176977],\n",
       "         ...,\n",
       "         [0.6415706 ],\n",
       "         [0.6415706 ],\n",
       "         [0.6415706 ]],\n",
       " \n",
       "        [[0.24257326],\n",
       "         [0.3716685 ],\n",
       "         [0.4623408 ],\n",
       "         ...,\n",
       "         [0.6570326 ],\n",
       "         [0.6570326 ],\n",
       "         [0.6570326 ]],\n",
       " \n",
       "        [[0.25909972],\n",
       "         [0.39966425],\n",
       "         [0.49852276],\n",
       "         ...,\n",
       "         [0.709942  ],\n",
       "         [0.709942  ],\n",
       "         [0.709942  ]]], dtype=float32),\n",
       " array([[[0.83551807],\n",
       "         [0.83117658],\n",
       "         [0.82846195],\n",
       "         ...,\n",
       "         [0.89701898],\n",
       "         [0.89512456],\n",
       "         [0.90286538]],\n",
       " \n",
       "        [[0.77081445],\n",
       "         [0.78868391],\n",
       "         [0.78873891],\n",
       "         ...,\n",
       "         [0.89988214],\n",
       "         [0.89155997],\n",
       "         [0.89426982]],\n",
       " \n",
       "        [[0.85418994],\n",
       "         [0.85438602],\n",
       "         [0.85950335],\n",
       "         ...,\n",
       "         [0.85312529],\n",
       "         [0.84778664],\n",
       "         [0.85437619]],\n",
       " \n",
       "        ...,\n",
       " \n",
       "        [[0.67542971],\n",
       "         [0.66374382],\n",
       "         [0.66740353],\n",
       "         ...,\n",
       "         [0.51720867],\n",
       "         [0.53056659],\n",
       "         [0.52909543]],\n",
       " \n",
       "        [[0.75794727],\n",
       "         [0.75460028],\n",
       "         [0.74581872],\n",
       "         ...,\n",
       "         [0.52926441],\n",
       "         [0.53073292],\n",
       "         [0.53557472]],\n",
       " \n",
       "        [[0.75639692],\n",
       "         [0.74451176],\n",
       "         [0.74711001],\n",
       "         ...,\n",
       "         [0.55318752],\n",
       "         [0.57127325],\n",
       "         [0.56335574]]]))"
      ]
     },
     "execution_count": 44,
     "metadata": {},
     "output_type": "execute_result"
    }
   ],
   "source": [
    "Y_pred = model.predict(X_test)\n",
    "Y_pred, Y_test"
   ]
  },
  {
   "cell_type": "code",
   "execution_count": 45,
   "metadata": {},
   "outputs": [
    {
     "data": {
      "text/plain": [
       "(35, 168, 1)"
      ]
     },
     "execution_count": 45,
     "metadata": {},
     "output_type": "execute_result"
    }
   ],
   "source": [
    "Y_pred.shape"
   ]
  },
  {
   "cell_type": "code",
   "execution_count": 46,
   "metadata": {},
   "outputs": [
    {
     "data": {
      "text/plain": [
       "array([2.65697120e-05, 2.65697120e-05, 2.68145615e-05, 2.66417939e-05,\n",
       "       2.26040745e-05, 4.70137657e+00, 4.76290973e+00, 1.02247277e+01,\n",
       "       2.95333727e+00, 1.17647059e-02])"
      ]
     },
     "execution_count": 46,
     "metadata": {},
     "output_type": "execute_result"
    }
   ],
   "source": [
    "scaler.scale_"
   ]
  },
  {
   "cell_type": "code",
   "execution_count": 47,
   "metadata": {},
   "outputs": [
    {
     "data": {
      "text/plain": [
       "37636.84002295546"
      ]
     },
     "execution_count": 47,
     "metadata": {},
     "output_type": "execute_result"
    }
   ],
   "source": [
    "scale = 1/2.65697120e-05\n",
    "scale"
   ]
  },
  {
   "cell_type": "code",
   "execution_count": 48,
   "metadata": {},
   "outputs": [],
   "source": [
    "# scale.inverse_transform(Y_pred)"
   ]
  },
  {
   "cell_type": "code",
   "execution_count": 49,
   "metadata": {},
   "outputs": [],
   "source": [
    "Y_test = Y_test*scale\n",
    "Y_pred = Y_pred*scale"
   ]
  },
  {
   "cell_type": "code",
   "execution_count": 50,
   "metadata": {},
   "outputs": [
    {
     "data": {
      "text/plain": [
       "(35, 168, 1)"
      ]
     },
     "execution_count": 50,
     "metadata": {},
     "output_type": "execute_result"
    }
   ],
   "source": [
    "Y_pred.shape"
   ]
  },
  {
   "cell_type": "code",
   "execution_count": 51,
   "metadata": {},
   "outputs": [
    {
     "data": {
      "text/plain": [
       "31446.260019179706"
      ]
     },
     "execution_count": 51,
     "metadata": {},
     "output_type": "execute_result"
    }
   ],
   "source": [
    "Y_test[0,0,0]"
   ]
  },
  {
   "cell_type": "code",
   "execution_count": 52,
   "metadata": {},
   "outputs": [
    {
     "data": {
      "text/plain": [
       "168"
      ]
     },
     "execution_count": 52,
     "metadata": {},
     "output_type": "execute_result"
    }
   ],
   "source": [
    "len(Y_pred[1,:,0])"
   ]
  },
  {
   "cell_type": "code",
   "execution_count": 53,
   "metadata": {},
   "outputs": [
    {
     "data": {
      "text/plain": [
       "array([ 9803.717, 15131.26 , 18870.293, 21470.52 , 23274.771, 24513.318,\n",
       "       25352.26 , 25912.156, 26279.484, 26515.963, 26664.662, 26755.342,\n",
       "       26808.352, 26837.418, 26851.684, 26857.113, 26857.549, 26855.404,\n",
       "       26852.12 , 26848.547, 26845.146, 26842.133, 26839.588, 26837.506,\n",
       "       26835.85 , 26834.55 , 26833.564, 26832.81 , 26832.25 , 26831.836,\n",
       "       26831.535, 26831.322, 26831.17 , 26831.062, 26830.992, 26830.94 ,\n",
       "       26830.91 , 26830.883, 26830.873, 26830.865, 26830.861, 26830.861,\n",
       "       26830.857, 26830.857, 26830.857, 26830.857, 26830.857, 26830.857,\n",
       "       26830.861, 26830.857, 26830.863, 26830.863, 26830.863, 26830.863,\n",
       "       26830.863, 26830.863, 26830.863, 26830.863, 26830.863, 26830.863,\n",
       "       26830.863, 26830.863, 26830.863, 26830.863, 26830.863, 26830.863,\n",
       "       26830.863, 26830.863, 26830.863, 26830.863, 26830.863, 26830.863,\n",
       "       26830.863, 26830.863, 26830.863, 26830.863, 26830.863, 26830.863,\n",
       "       26830.863, 26830.863, 26830.863, 26830.863, 26830.863, 26830.863,\n",
       "       26830.863, 26830.863, 26830.863, 26830.863, 26830.863, 26830.863,\n",
       "       26830.863, 26830.863, 26830.863, 26830.863, 26830.863, 26830.863,\n",
       "       26830.863, 26830.863, 26830.863, 26830.863, 26830.863, 26830.863,\n",
       "       26830.863, 26830.863, 26830.863, 26830.863, 26830.863, 26830.863,\n",
       "       26830.863, 26830.863, 26830.863, 26830.863, 26830.863, 26830.863,\n",
       "       26830.863, 26830.863, 26830.863, 26830.863, 26830.863, 26830.863,\n",
       "       26830.863, 26830.863, 26830.863, 26830.863, 26830.863, 26830.863,\n",
       "       26830.863, 26830.863, 26830.863, 26830.863, 26830.863, 26830.863,\n",
       "       26830.863, 26830.863, 26830.863, 26830.863, 26830.863, 26830.863,\n",
       "       26830.863, 26830.863, 26830.863, 26830.863, 26830.863, 26830.863,\n",
       "       26830.863, 26830.863, 26830.863, 26830.863, 26830.863, 26830.863,\n",
       "       26830.863, 26830.863, 26830.863, 26830.863, 26830.863, 26830.863,\n",
       "       26830.863, 26830.863, 26830.863, 26830.863, 26830.863, 26830.863,\n",
       "       26830.863, 26830.863, 26830.863, 26830.863, 26830.863, 26830.863],\n",
       "      dtype=float32)"
      ]
     },
     "execution_count": 53,
     "metadata": {},
     "output_type": "execute_result"
    }
   ],
   "source": [
    "Y_pred[1,:,0]"
   ]
  },
  {
   "cell_type": "code",
   "execution_count": 55,
   "metadata": {},
   "outputs": [
    {
     "data": {
      "image/png": "[encoded data removed]",
      "text/plain": [
       "<Figure size 1008x360 with 1 Axes>"
      ]
     },
     "metadata": {
      "needs_background": "light"
     },
     "output_type": "display_data"
    }
   ],
   "source": [
    "plt.figure(figsize=(14,5))\n",
    "plt.plot(Y_test[1,:,0], color = 'red', label = 'Real Bitcoin Price')\n",
    "plt.plot(Y_pred[1,:,0], color = 'green', label = 'Predicted Bitcoin Price')\n",
    "plt.title('Bitcoin Price Prediction using RNN-LSTM')\n",
    "plt.xlabel('Time')\n",
    "plt.ylabel('Price')\n",
    "plt.legend()\n",
    "plt.show()"
   ]
  },
  {
   "cell_type": "code",
   "execution_count": null,
   "metadata": {},
   "outputs": [],
   "source": []
  },
  {
   "cell_type": "code",
   "execution_count": null,
   "metadata": {},
   "outputs": [],
   "source": []
  }
 ],
 "metadata": {
  "kernelspec": {
   "display_name": "Python 3",
   "language": "python",
   "name": "python3"
  },
  "language_info": {
   "codemirror_mode": {
    "name": "ipython",
    "version": 3
   },
   "file_extension": ".py",
   "mimetype": "text/x-python",
   "name": "python",
   "nbconvert_exporter": "python",
   "pygments_lexer": "ipython3",
   "version": "3.6.9"
  }
 },
 "nbformat": 4,
 "nbformat_minor": 4
}
