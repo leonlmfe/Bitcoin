{
 "cells": [
  {
   "cell_type": "code",
   "execution_count": 1,
   "metadata": {},
   "outputs": [],
   "source": [
    "import numpy as np\n",
    "import matplotlib.pyplot as plt\n",
    "import pandas as pd\n",
    "import gc\n",
    "from sklearn.preprocessing import MinMaxScaler"
   ]
  },
  {
   "cell_type": "code",
   "execution_count": 2,
   "metadata": {},
   "outputs": [
    {
     "data": {
      "text/html": [
       "<div>\n",
       "<style scoped>\n",
       "    .dataframe tbody tr th:only-of-type {\n",
       "        vertical-align: middle;\n",
       "    }\n",
       "\n",
       "    .dataframe tbody tr th {\n",
       "        vertical-align: top;\n",
       "    }\n",
       "\n",
       "    .dataframe thead th {\n",
       "        text-align: right;\n",
       "    }\n",
       "</style>\n",
       "<table border=\"1\" class=\"dataframe\">\n",
       "  <thead>\n",
       "    <tr style=\"text-align: right;\">\n",
       "      <th></th>\n",
       "      <th>unix</th>\n",
       "      <th>date</th>\n",
       "      <th>symbol</th>\n",
       "      <th>open</th>\n",
       "      <th>high</th>\n",
       "      <th>low</th>\n",
       "      <th>close</th>\n",
       "      <th>Volume BTC</th>\n",
       "      <th>Volume USDT</th>\n",
       "      <th>tradecount</th>\n",
       "    </tr>\n",
       "  </thead>\n",
       "  <tbody>\n",
       "    <tr>\n",
       "      <th>4</th>\n",
       "      <td>1.638990e+12</td>\n",
       "      <td>2021/12/8 20:00</td>\n",
       "      <td>BTC/USDT</td>\n",
       "      <td>50423.20</td>\n",
       "      <td>50896.08</td>\n",
       "      <td>50318.55</td>\n",
       "      <td>50689.01</td>\n",
       "      <td>1294.19176</td>\n",
       "      <td>65497668.23</td>\n",
       "      <td>38573.0</td>\n",
       "    </tr>\n",
       "    <tr>\n",
       "      <th>3</th>\n",
       "      <td>1.639000e+12</td>\n",
       "      <td>2021/12/8 21:00</td>\n",
       "      <td>BTC/USDT</td>\n",
       "      <td>50689.01</td>\n",
       "      <td>50827.39</td>\n",
       "      <td>50474.37</td>\n",
       "      <td>50589.94</td>\n",
       "      <td>871.90891</td>\n",
       "      <td>44169699.23</td>\n",
       "      <td>31746.0</td>\n",
       "    </tr>\n",
       "    <tr>\n",
       "      <th>2</th>\n",
       "      <td>1.639000e+12</td>\n",
       "      <td>2021/12/8 22:00</td>\n",
       "      <td>BTC/USDT</td>\n",
       "      <td>50589.93</td>\n",
       "      <td>50822.17</td>\n",
       "      <td>50079.78</td>\n",
       "      <td>50224.42</td>\n",
       "      <td>1079.50101</td>\n",
       "      <td>54531929.92</td>\n",
       "      <td>40691.0</td>\n",
       "    </tr>\n",
       "    <tr>\n",
       "      <th>1</th>\n",
       "      <td>1.639000e+12</td>\n",
       "      <td>2021/12/8 23:00</td>\n",
       "      <td>BTC/USDT</td>\n",
       "      <td>50224.42</td>\n",
       "      <td>50575.81</td>\n",
       "      <td>50165.31</td>\n",
       "      <td>50471.19</td>\n",
       "      <td>971.89830</td>\n",
       "      <td>48998640.80</td>\n",
       "      <td>33395.0</td>\n",
       "    </tr>\n",
       "    <tr>\n",
       "      <th>0</th>\n",
       "      <td>1.639010e+12</td>\n",
       "      <td>2021/12/9 00:00</td>\n",
       "      <td>BTC/USDT</td>\n",
       "      <td>50471.19</td>\n",
       "      <td>50797.76</td>\n",
       "      <td>50435.58</td>\n",
       "      <td>50713.84</td>\n",
       "      <td>348.62747</td>\n",
       "      <td>17655072.46</td>\n",
       "      <td>11293.0</td>\n",
       "    </tr>\n",
       "  </tbody>\n",
       "</table>\n",
       "</div>"
      ],
      "text/plain": [
       "           unix             date    symbol      open      high       low  \\\n",
       "4  1.638990e+12  2021/12/8 20:00  BTC/USDT  50423.20  50896.08  50318.55   \n",
       "3  1.639000e+12  2021/12/8 21:00  BTC/USDT  50689.01  50827.39  50474.37   \n",
       "2  1.639000e+12  2021/12/8 22:00  BTC/USDT  50589.93  50822.17  50079.78   \n",
       "1  1.639000e+12  2021/12/8 23:00  BTC/USDT  50224.42  50575.81  50165.31   \n",
       "0  1.639010e+12  2021/12/9 00:00  BTC/USDT  50471.19  50797.76  50435.58   \n",
       "\n",
       "      close  Volume BTC  Volume USDT  tradecount  \n",
       "4  50689.01  1294.19176  65497668.23     38573.0  \n",
       "3  50589.94   871.90891  44169699.23     31746.0  \n",
       "2  50224.42  1079.50101  54531929.92     40691.0  \n",
       "1  50471.19   971.89830  48998640.80     33395.0  \n",
       "0  50713.84   348.62747  17655072.46     11293.0  "
      ]
     },
     "execution_count": 2,
     "metadata": {},
     "output_type": "execute_result"
    }
   ],
   "source": [
    "df = pd.read_csv('./Binance_BTCUSDT_1h.csv', date_parser = True)\n",
    "df = df.reindex(-np.sort(-np.arange(len(df))))\n",
    "df.tail()"
   ]
  },
  {
   "cell_type": "code",
   "execution_count": 3,
   "metadata": {},
   "outputs": [
    {
     "data": {
      "text/plain": [
       "23"
      ]
     },
     "execution_count": 3,
     "metadata": {},
     "output_type": "execute_result"
    }
   ],
   "source": [
    "#擷取⽇期及收盤價\n",
    "df2 = df.loc[:, ('date','close', 'open','high','low','Volume BTC')] ; del df ; gc.collect()\n",
    "#切出⽇期時間欄位，符號統⼀\n",
    "df2['NewDate'] = df2.loc[:, 'date'].str.slice(start = 0, stop = 10).str.replace('-', '/').str.replace('/0', '/').str.rsplit(pat=' ', n=1).apply(lambda x : x[0])\n",
    "#判斷⽇期欄位格式\n",
    "df2['AMPM'] = df2.loc[:, 'date'].str.contains(pat = 'AM|PM')\n",
    "#依⽇期欄位格式切分兩分DF，有AMPM的在df3，正常格式的在df4\n",
    "df3 = df2[df2['AMPM'] == 1]\n",
    "df4 = df2[df2['AMPM'] == 0]\n",
    "del df2 ; gc.collect()\n"
   ]
  },
  {
   "cell_type": "code",
   "execution_count": 4,
   "metadata": {},
   "outputs": [
    {
     "data": {
      "text/html": [
       "<div>\n",
       "<style scoped>\n",
       "    .dataframe tbody tr th:only-of-type {\n",
       "        vertical-align: middle;\n",
       "    }\n",
       "\n",
       "    .dataframe tbody tr th {\n",
       "        vertical-align: top;\n",
       "    }\n",
       "\n",
       "    .dataframe thead th {\n",
       "        text-align: right;\n",
       "    }\n",
       "</style>\n",
       "<table border=\"1\" class=\"dataframe\">\n",
       "  <thead>\n",
       "    <tr style=\"text-align: right;\">\n",
       "      <th></th>\n",
       "      <th>close</th>\n",
       "      <th>open</th>\n",
       "      <th>high</th>\n",
       "      <th>low</th>\n",
       "      <th>Volume BTC</th>\n",
       "      <th>NewDateTime</th>\n",
       "      <th>NewDate</th>\n",
       "    </tr>\n",
       "  </thead>\n",
       "  <tbody>\n",
       "    <tr>\n",
       "      <th>40423</th>\n",
       "      <td>4308.83</td>\n",
       "      <td>16199.91</td>\n",
       "      <td>16199.91</td>\n",
       "      <td>4261.32</td>\n",
       "      <td>44.5100</td>\n",
       "      <td>2017-08-17 04:00:00</td>\n",
       "      <td>2017/8/17</td>\n",
       "    </tr>\n",
       "    <tr>\n",
       "      <th>40422</th>\n",
       "      <td>4315.32</td>\n",
       "      <td>4308.83</td>\n",
       "      <td>4328.69</td>\n",
       "      <td>4291.37</td>\n",
       "      <td>23.2300</td>\n",
       "      <td>2017-08-17 05:00:00</td>\n",
       "      <td>2017/8/17</td>\n",
       "    </tr>\n",
       "    <tr>\n",
       "      <th>40421</th>\n",
       "      <td>4324.35</td>\n",
       "      <td>4315.32</td>\n",
       "      <td>4345.45</td>\n",
       "      <td>4309.37</td>\n",
       "      <td>7.2300</td>\n",
       "      <td>2017-08-17 06:00:00</td>\n",
       "      <td>2017/8/17</td>\n",
       "    </tr>\n",
       "    <tr>\n",
       "      <th>40420</th>\n",
       "      <td>4349.99</td>\n",
       "      <td>4324.35</td>\n",
       "      <td>4349.99</td>\n",
       "      <td>4287.41</td>\n",
       "      <td>4.4400</td>\n",
       "      <td>2017-08-17 07:00:00</td>\n",
       "      <td>2017/8/17</td>\n",
       "    </tr>\n",
       "    <tr>\n",
       "      <th>40419</th>\n",
       "      <td>4360.69</td>\n",
       "      <td>4349.99</td>\n",
       "      <td>4377.85</td>\n",
       "      <td>4333.32</td>\n",
       "      <td>0.9499</td>\n",
       "      <td>2017-08-17 08:00:00</td>\n",
       "      <td>2017/8/17</td>\n",
       "    </tr>\n",
       "  </tbody>\n",
       "</table>\n",
       "</div>"
      ],
      "text/plain": [
       "         close      open      high      low  Volume BTC         NewDateTime  \\\n",
       "40423  4308.83  16199.91  16199.91  4261.32     44.5100 2017-08-17 04:00:00   \n",
       "40422  4315.32   4308.83   4328.69  4291.37     23.2300 2017-08-17 05:00:00   \n",
       "40421  4324.35   4315.32   4345.45  4309.37      7.2300 2017-08-17 06:00:00   \n",
       "40420  4349.99   4324.35   4349.99  4287.41      4.4400 2017-08-17 07:00:00   \n",
       "40419  4360.69   4349.99   4377.85  4333.32      0.9499 2017-08-17 08:00:00   \n",
       "\n",
       "         NewDate  \n",
       "40423  2017/8/17  \n",
       "40422  2017/8/17  \n",
       "40421  2017/8/17  \n",
       "40420  2017/8/17  \n",
       "40419  2017/8/17  "
      ]
     },
     "execution_count": 4,
     "metadata": {},
     "output_type": "execute_result"
    }
   ],
   "source": [
    "#切出⽇期欄位中的⼩時\n",
    "df3['Hour'] = df3.loc[:, 'date'].str.slice(start = 10, stop = 13).str.replace(':', '').apply(lambda x : pd.to_numeric(x))\n",
    "df3['AMPM'] = df3.loc[:, 'date'].str.slice(start = 14, stop = 16).apply(lambda x: 12 if (x == 'PM') else 0)\n",
    "df3['24Hr'] = (df3['Hour'] + df3['AMPM'])\n",
    "#轉換為24⼩時制\n",
    "df3['24Hr'] = df3['24Hr'].apply(lambda x: (x == 24 and 12) or (x == 12 and '00') or x)\n",
    "df3['24Hr'] = df3['24Hr'].apply(lambda x: '0'+str(x) if len(str(x)) == 1 else str(x))\n",
    "\n",
    "#轉為時間格式\n",
    "df3['NewDateTime'] = (df3['NewDate'] + ' ' +df3['24Hr'])\n",
    "df3['NewDateTime'] = df3['NewDateTime'].apply(lambda x: pd.to_datetime(x, format = \"%Y/%m/%d %H\"))\n",
    "#移除重複\n",
    "df3 = df3[['close', 'open','high','low','Volume BTC', 'NewDateTime','NewDate']].drop_duplicates()\n",
    "df3.head()"
   ]
  },
  {
   "cell_type": "code",
   "execution_count": 5,
   "metadata": {},
   "outputs": [
    {
     "data": {
      "text/html": [
       "<div>\n",
       "<style scoped>\n",
       "    .dataframe tbody tr th:only-of-type {\n",
       "        vertical-align: middle;\n",
       "    }\n",
       "\n",
       "    .dataframe tbody tr th {\n",
       "        vertical-align: top;\n",
       "    }\n",
       "\n",
       "    .dataframe thead th {\n",
       "        text-align: right;\n",
       "    }\n",
       "</style>\n",
       "<table border=\"1\" class=\"dataframe\">\n",
       "  <thead>\n",
       "    <tr style=\"text-align: right;\">\n",
       "      <th></th>\n",
       "      <th>close</th>\n",
       "      <th>open</th>\n",
       "      <th>high</th>\n",
       "      <th>low</th>\n",
       "      <th>Volume BTC</th>\n",
       "      <th>NewDateTime</th>\n",
       "      <th>NewDate</th>\n",
       "    </tr>\n",
       "  </thead>\n",
       "  <tbody>\n",
       "    <tr>\n",
       "      <th>14487</th>\n",
       "      <td>11801.17</td>\n",
       "      <td>11783.31</td>\n",
       "      <td>11820.61</td>\n",
       "      <td>11731.71</td>\n",
       "      <td>2194.598589</td>\n",
       "      <td>2020-08-01 23:00:00</td>\n",
       "      <td>2020/8/1</td>\n",
       "    </tr>\n",
       "    <tr>\n",
       "      <th>14485</th>\n",
       "      <td>11782.63</td>\n",
       "      <td>11801.17</td>\n",
       "      <td>11857.00</td>\n",
       "      <td>11740.00</td>\n",
       "      <td>2872.638184</td>\n",
       "      <td>2020-08-02 00:00:00</td>\n",
       "      <td>2020/8/2</td>\n",
       "    </tr>\n",
       "    <tr>\n",
       "      <th>14483</th>\n",
       "      <td>11942.55</td>\n",
       "      <td>11782.63</td>\n",
       "      <td>11942.55</td>\n",
       "      <td>11772.13</td>\n",
       "      <td>3707.136801</td>\n",
       "      <td>2020-08-02 01:00:00</td>\n",
       "      <td>2020/8/2</td>\n",
       "    </tr>\n",
       "    <tr>\n",
       "      <th>14481</th>\n",
       "      <td>11928.58</td>\n",
       "      <td>11942.54</td>\n",
       "      <td>11965.01</td>\n",
       "      <td>11892.88</td>\n",
       "      <td>3785.415559</td>\n",
       "      <td>2020-08-02 02:00:00</td>\n",
       "      <td>2020/8/2</td>\n",
       "    </tr>\n",
       "    <tr>\n",
       "      <th>14479</th>\n",
       "      <td>12000.00</td>\n",
       "      <td>11928.40</td>\n",
       "      <td>12000.00</td>\n",
       "      <td>11870.00</td>\n",
       "      <td>3746.422743</td>\n",
       "      <td>2020-08-02 03:00:00</td>\n",
       "      <td>2020/8/2</td>\n",
       "    </tr>\n",
       "  </tbody>\n",
       "</table>\n",
       "</div>"
      ],
      "text/plain": [
       "          close      open      high       low   Volume BTC  \\\n",
       "14487  11801.17  11783.31  11820.61  11731.71  2194.598589   \n",
       "14485  11782.63  11801.17  11857.00  11740.00  2872.638184   \n",
       "14483  11942.55  11782.63  11942.55  11772.13  3707.136801   \n",
       "14481  11928.58  11942.54  11965.01  11892.88  3785.415559   \n",
       "14479  12000.00  11928.40  12000.00  11870.00  3746.422743   \n",
       "\n",
       "              NewDateTime   NewDate  \n",
       "14487 2020-08-01 23:00:00  2020/8/1  \n",
       "14485 2020-08-02 00:00:00  2020/8/2  \n",
       "14483 2020-08-02 01:00:00  2020/8/2  \n",
       "14481 2020-08-02 02:00:00  2020/8/2  \n",
       "14479 2020-08-02 03:00:00  2020/8/2  "
      ]
     },
     "execution_count": 5,
     "metadata": {},
     "output_type": "execute_result"
    }
   ],
   "source": [
    "#轉為時間格式並移除重複\n",
    "df4['NewDateTime'] = df4['date'].apply(lambda x: pd.to_datetime(x, format = \"%Y/%m/%d %H:%M\"))\n",
    "df4 = df4[['close', 'open','high','low','Volume BTC', 'NewDateTime','NewDate']].drop_duplicates()\n",
    "df4.head()"
   ]
  },
  {
   "cell_type": "code",
   "execution_count": 6,
   "metadata": {},
   "outputs": [
    {
     "name": "stdout",
     "output_type": "stream",
     "text": [
      "40424 40424\n"
     ]
    },
    {
     "data": {
      "text/plain": [
       "0"
      ]
     },
     "execution_count": 6,
     "metadata": {},
     "output_type": "execute_result"
    }
   ],
   "source": [
    "#合併df3、df4，並移除重複\n",
    "df5 = pd.concat([df3, df4]) ; df6 = df5.drop_duplicates()\n",
    "#確認刪除多少資料\n",
    "print(len(df5), len(df6))\n",
    "del (df3, df4, df5)\n",
    "gc.collect()\n"
   ]
  },
  {
   "cell_type": "code",
   "execution_count": 7,
   "metadata": {},
   "outputs": [
    {
     "data": {
      "text/html": [
       "<div>\n",
       "<style scoped>\n",
       "    .dataframe tbody tr th:only-of-type {\n",
       "        vertical-align: middle;\n",
       "    }\n",
       "\n",
       "    .dataframe tbody tr th {\n",
       "        vertical-align: top;\n",
       "    }\n",
       "\n",
       "    .dataframe thead th {\n",
       "        text-align: right;\n",
       "    }\n",
       "</style>\n",
       "<table border=\"1\" class=\"dataframe\">\n",
       "  <thead>\n",
       "    <tr style=\"text-align: right;\">\n",
       "      <th></th>\n",
       "      <th>close</th>\n",
       "      <th>open</th>\n",
       "      <th>high</th>\n",
       "      <th>low</th>\n",
       "      <th>Volume BTC</th>\n",
       "      <th>NewDateTime</th>\n",
       "      <th>NewDate</th>\n",
       "      <th>returns</th>\n",
       "      <th>log_returns</th>\n",
       "    </tr>\n",
       "  </thead>\n",
       "  <tbody>\n",
       "    <tr>\n",
       "      <th>40422</th>\n",
       "      <td>4315.32</td>\n",
       "      <td>4308.83</td>\n",
       "      <td>4328.69</td>\n",
       "      <td>4291.37</td>\n",
       "      <td>23.2300</td>\n",
       "      <td>2017-08-17 05:00:00</td>\n",
       "      <td>2017/8/17</td>\n",
       "      <td>1.001506</td>\n",
       "      <td>0.001505</td>\n",
       "    </tr>\n",
       "    <tr>\n",
       "      <th>40421</th>\n",
       "      <td>4324.35</td>\n",
       "      <td>4315.32</td>\n",
       "      <td>4345.45</td>\n",
       "      <td>4309.37</td>\n",
       "      <td>7.2300</td>\n",
       "      <td>2017-08-17 06:00:00</td>\n",
       "      <td>2017/8/17</td>\n",
       "      <td>1.002093</td>\n",
       "      <td>0.002090</td>\n",
       "    </tr>\n",
       "    <tr>\n",
       "      <th>40420</th>\n",
       "      <td>4349.99</td>\n",
       "      <td>4324.35</td>\n",
       "      <td>4349.99</td>\n",
       "      <td>4287.41</td>\n",
       "      <td>4.4400</td>\n",
       "      <td>2017-08-17 07:00:00</td>\n",
       "      <td>2017/8/17</td>\n",
       "      <td>1.005929</td>\n",
       "      <td>0.005912</td>\n",
       "    </tr>\n",
       "    <tr>\n",
       "      <th>40419</th>\n",
       "      <td>4360.69</td>\n",
       "      <td>4349.99</td>\n",
       "      <td>4377.85</td>\n",
       "      <td>4333.32</td>\n",
       "      <td>0.9499</td>\n",
       "      <td>2017-08-17 08:00:00</td>\n",
       "      <td>2017/8/17</td>\n",
       "      <td>1.002460</td>\n",
       "      <td>0.002457</td>\n",
       "    </tr>\n",
       "    <tr>\n",
       "      <th>40418</th>\n",
       "      <td>4444.00</td>\n",
       "      <td>4360.69</td>\n",
       "      <td>4445.78</td>\n",
       "      <td>4360.00</td>\n",
       "      <td>10.7600</td>\n",
       "      <td>2017-08-17 09:00:00</td>\n",
       "      <td>2017/8/17</td>\n",
       "      <td>1.019105</td>\n",
       "      <td>0.018925</td>\n",
       "    </tr>\n",
       "  </tbody>\n",
       "</table>\n",
       "</div>"
      ],
      "text/plain": [
       "         close     open     high      low  Volume BTC         NewDateTime  \\\n",
       "40422  4315.32  4308.83  4328.69  4291.37     23.2300 2017-08-17 05:00:00   \n",
       "40421  4324.35  4315.32  4345.45  4309.37      7.2300 2017-08-17 06:00:00   \n",
       "40420  4349.99  4324.35  4349.99  4287.41      4.4400 2017-08-17 07:00:00   \n",
       "40419  4360.69  4349.99  4377.85  4333.32      0.9499 2017-08-17 08:00:00   \n",
       "40418  4444.00  4360.69  4445.78  4360.00     10.7600 2017-08-17 09:00:00   \n",
       "\n",
       "         NewDate   returns  log_returns  \n",
       "40422  2017/8/17  1.001506     0.001505  \n",
       "40421  2017/8/17  1.002093     0.002090  \n",
       "40420  2017/8/17  1.005929     0.005912  \n",
       "40419  2017/8/17  1.002460     0.002457  \n",
       "40418  2017/8/17  1.019105     0.018925  "
      ]
     },
     "execution_count": 7,
     "metadata": {},
     "output_type": "execute_result"
    }
   ],
   "source": [
    "#投報率\n",
    "df6['returns']=df6['close']/df6['close'].shift(1)\n",
    "df6['log_returns']=np.log(df6['returns'])\n",
    "df6 = df6[df6['returns'].notna()]\n",
    "# df6.dropna()\n",
    "df6.head()"
   ]
  },
  {
   "cell_type": "code",
   "execution_count": 8,
   "metadata": {},
   "outputs": [],
   "source": [
    "#依照年份及週次分組\n",
    "df6['Year'] = df6.loc[:, 'NewDateTime'].dt.year\n",
    "df6['Week'] = df6.loc[:, 'NewDateTime'].dt.isocalendar().week\n",
    "test = np.array(df6.groupby(['Year', 'Week']), dtype = object).T\n",
    "#排除⻑度不為168的array\n",
    "Array = np.empty([1, 168])\n",
    "for i in range(0, len(np.array(test[1]))):\n",
    "    if len(np.array(test[1][i]['close'])) == 168 :\n",
    "        Array = np.append(Array, np.array(test[1][i]['close']).reshape(1, -1), axis = 0)"
   ]
  },
  {
   "cell_type": "code",
   "execution_count": 9,
   "metadata": {},
   "outputs": [
    {
     "data": {
      "text/html": [
       "<div>\n",
       "<style scoped>\n",
       "    .dataframe tbody tr th:only-of-type {\n",
       "        vertical-align: middle;\n",
       "    }\n",
       "\n",
       "    .dataframe tbody tr th {\n",
       "        vertical-align: top;\n",
       "    }\n",
       "\n",
       "    .dataframe thead th {\n",
       "        text-align: right;\n",
       "    }\n",
       "</style>\n",
       "<table border=\"1\" class=\"dataframe\">\n",
       "  <thead>\n",
       "    <tr style=\"text-align: right;\">\n",
       "      <th></th>\n",
       "      <th>close</th>\n",
       "      <th>open</th>\n",
       "      <th>high</th>\n",
       "      <th>low</th>\n",
       "      <th>Volume BTC</th>\n",
       "      <th>NewDateTime</th>\n",
       "      <th>NewDate</th>\n",
       "      <th>returns</th>\n",
       "      <th>log_returns</th>\n",
       "      <th>Year</th>\n",
       "      <th>Week</th>\n",
       "    </tr>\n",
       "  </thead>\n",
       "  <tbody>\n",
       "    <tr>\n",
       "      <th>40422</th>\n",
       "      <td>4315.32</td>\n",
       "      <td>4308.83</td>\n",
       "      <td>4328.69</td>\n",
       "      <td>4291.37</td>\n",
       "      <td>23.2300</td>\n",
       "      <td>2017-08-17 05:00:00</td>\n",
       "      <td>2017/8/17</td>\n",
       "      <td>1.001506</td>\n",
       "      <td>0.001505</td>\n",
       "      <td>2017</td>\n",
       "      <td>33</td>\n",
       "    </tr>\n",
       "    <tr>\n",
       "      <th>40421</th>\n",
       "      <td>4324.35</td>\n",
       "      <td>4315.32</td>\n",
       "      <td>4345.45</td>\n",
       "      <td>4309.37</td>\n",
       "      <td>7.2300</td>\n",
       "      <td>2017-08-17 06:00:00</td>\n",
       "      <td>2017/8/17</td>\n",
       "      <td>1.002093</td>\n",
       "      <td>0.002090</td>\n",
       "      <td>2017</td>\n",
       "      <td>33</td>\n",
       "    </tr>\n",
       "    <tr>\n",
       "      <th>40420</th>\n",
       "      <td>4349.99</td>\n",
       "      <td>4324.35</td>\n",
       "      <td>4349.99</td>\n",
       "      <td>4287.41</td>\n",
       "      <td>4.4400</td>\n",
       "      <td>2017-08-17 07:00:00</td>\n",
       "      <td>2017/8/17</td>\n",
       "      <td>1.005929</td>\n",
       "      <td>0.005912</td>\n",
       "      <td>2017</td>\n",
       "      <td>33</td>\n",
       "    </tr>\n",
       "    <tr>\n",
       "      <th>40419</th>\n",
       "      <td>4360.69</td>\n",
       "      <td>4349.99</td>\n",
       "      <td>4377.85</td>\n",
       "      <td>4333.32</td>\n",
       "      <td>0.9499</td>\n",
       "      <td>2017-08-17 08:00:00</td>\n",
       "      <td>2017/8/17</td>\n",
       "      <td>1.002460</td>\n",
       "      <td>0.002457</td>\n",
       "      <td>2017</td>\n",
       "      <td>33</td>\n",
       "    </tr>\n",
       "    <tr>\n",
       "      <th>40418</th>\n",
       "      <td>4444.00</td>\n",
       "      <td>4360.69</td>\n",
       "      <td>4445.78</td>\n",
       "      <td>4360.00</td>\n",
       "      <td>10.7600</td>\n",
       "      <td>2017-08-17 09:00:00</td>\n",
       "      <td>2017/8/17</td>\n",
       "      <td>1.019105</td>\n",
       "      <td>0.018925</td>\n",
       "      <td>2017</td>\n",
       "      <td>33</td>\n",
       "    </tr>\n",
       "  </tbody>\n",
       "</table>\n",
       "</div>"
      ],
      "text/plain": [
       "         close     open     high      low  Volume BTC         NewDateTime  \\\n",
       "40422  4315.32  4308.83  4328.69  4291.37     23.2300 2017-08-17 05:00:00   \n",
       "40421  4324.35  4315.32  4345.45  4309.37      7.2300 2017-08-17 06:00:00   \n",
       "40420  4349.99  4324.35  4349.99  4287.41      4.4400 2017-08-17 07:00:00   \n",
       "40419  4360.69  4349.99  4377.85  4333.32      0.9499 2017-08-17 08:00:00   \n",
       "40418  4444.00  4360.69  4445.78  4360.00     10.7600 2017-08-17 09:00:00   \n",
       "\n",
       "         NewDate   returns  log_returns  Year  Week  \n",
       "40422  2017/8/17  1.001506     0.001505  2017    33  \n",
       "40421  2017/8/17  1.002093     0.002090  2017    33  \n",
       "40420  2017/8/17  1.005929     0.005912  2017    33  \n",
       "40419  2017/8/17  1.002460     0.002457  2017    33  \n",
       "40418  2017/8/17  1.019105     0.018925  2017    33  "
      ]
     },
     "execution_count": 9,
     "metadata": {},
     "output_type": "execute_result"
    }
   ],
   "source": [
    "df6.head()"
   ]
  },
  {
   "cell_type": "code",
   "execution_count": 10,
   "metadata": {},
   "outputs": [
    {
     "data": {
      "text/html": [
       "<div>\n",
       "<style scoped>\n",
       "    .dataframe tbody tr th:only-of-type {\n",
       "        vertical-align: middle;\n",
       "    }\n",
       "\n",
       "    .dataframe tbody tr th {\n",
       "        vertical-align: top;\n",
       "    }\n",
       "\n",
       "    .dataframe thead th {\n",
       "        text-align: right;\n",
       "    }\n",
       "</style>\n",
       "<table border=\"1\" class=\"dataframe\">\n",
       "  <thead>\n",
       "    <tr style=\"text-align: right;\">\n",
       "      <th></th>\n",
       "      <th>close</th>\n",
       "      <th>open</th>\n",
       "      <th>high</th>\n",
       "      <th>low</th>\n",
       "      <th>Volume BTC</th>\n",
       "      <th>NewDateTime</th>\n",
       "      <th>NewDate</th>\n",
       "      <th>returns</th>\n",
       "      <th>log_returns</th>\n",
       "      <th>Year</th>\n",
       "      <th>Week</th>\n",
       "      <th>v</th>\n",
       "    </tr>\n",
       "  </thead>\n",
       "  <tbody>\n",
       "    <tr>\n",
       "      <th>0</th>\n",
       "      <td>7177.02</td>\n",
       "      <td>7195.23</td>\n",
       "      <td>7196.25</td>\n",
       "      <td>7175.46</td>\n",
       "      <td>480.93</td>\n",
       "      <td>2020-01-01 00:00:00</td>\n",
       "      <td>2020/1/1</td>\n",
       "      <td>0.997469</td>\n",
       "      <td>-0.002534</td>\n",
       "      <td>2020</td>\n",
       "      <td>1</td>\n",
       "      <td>0.997801</td>\n",
       "    </tr>\n",
       "    <tr>\n",
       "      <th>1</th>\n",
       "      <td>7216.27</td>\n",
       "      <td>7177.02</td>\n",
       "      <td>7230.00</td>\n",
       "      <td>7175.71</td>\n",
       "      <td>836.51</td>\n",
       "      <td>2020-01-01 01:00:00</td>\n",
       "      <td>2020/1/1</td>\n",
       "      <td>1.005469</td>\n",
       "      <td>0.005454</td>\n",
       "      <td>2020</td>\n",
       "      <td>1</td>\n",
       "      <td>0.997801</td>\n",
       "    </tr>\n",
       "    <tr>\n",
       "      <th>2</th>\n",
       "      <td>7242.85</td>\n",
       "      <td>7216.27</td>\n",
       "      <td>7244.87</td>\n",
       "      <td>7211.41</td>\n",
       "      <td>626.60</td>\n",
       "      <td>2020-01-01 02:00:00</td>\n",
       "      <td>2020/1/1</td>\n",
       "      <td>1.003683</td>\n",
       "      <td>0.003677</td>\n",
       "      <td>2020</td>\n",
       "      <td>1</td>\n",
       "      <td>0.997801</td>\n",
       "    </tr>\n",
       "    <tr>\n",
       "      <th>3</th>\n",
       "      <td>7225.01</td>\n",
       "      <td>7242.85</td>\n",
       "      <td>7245.00</td>\n",
       "      <td>7220.00</td>\n",
       "      <td>748.76</td>\n",
       "      <td>2020-01-01 03:00:00</td>\n",
       "      <td>2020/1/1</td>\n",
       "      <td>0.997537</td>\n",
       "      <td>-0.002466</td>\n",
       "      <td>2020</td>\n",
       "      <td>1</td>\n",
       "      <td>0.997801</td>\n",
       "    </tr>\n",
       "    <tr>\n",
       "      <th>4</th>\n",
       "      <td>7217.27</td>\n",
       "      <td>7225.01</td>\n",
       "      <td>7230.00</td>\n",
       "      <td>7215.03</td>\n",
       "      <td>442.09</td>\n",
       "      <td>2020-01-01 04:00:00</td>\n",
       "      <td>2020/1/1</td>\n",
       "      <td>0.998929</td>\n",
       "      <td>-0.001072</td>\n",
       "      <td>2020</td>\n",
       "      <td>1</td>\n",
       "      <td>0.997801</td>\n",
       "    </tr>\n",
       "  </tbody>\n",
       "</table>\n",
       "</div>"
      ],
      "text/plain": [
       "     close     open     high      low  Volume BTC         NewDateTime  \\\n",
       "0  7177.02  7195.23  7196.25  7175.46      480.93 2020-01-01 00:00:00   \n",
       "1  7216.27  7177.02  7230.00  7175.71      836.51 2020-01-01 01:00:00   \n",
       "2  7242.85  7216.27  7244.87  7211.41      626.60 2020-01-01 02:00:00   \n",
       "3  7225.01  7242.85  7245.00  7220.00      748.76 2020-01-01 03:00:00   \n",
       "4  7217.27  7225.01  7230.00  7215.03      442.09 2020-01-01 04:00:00   \n",
       "\n",
       "    NewDate   returns  log_returns  Year  Week         v  \n",
       "0  2020/1/1  0.997469    -0.002534  2020     1  0.997801  \n",
       "1  2020/1/1  1.005469     0.005454  2020     1  0.997801  \n",
       "2  2020/1/1  1.003683     0.003677  2020     1  0.997801  \n",
       "3  2020/1/1  0.997537    -0.002466  2020     1  0.997801  \n",
       "4  2020/1/1  0.998929    -0.001072  2020     1  0.997801  "
      ]
     },
     "execution_count": 10,
     "metadata": {},
     "output_type": "execute_result"
    }
   ],
   "source": [
    "# 加入SOPR\n",
    "df_SOPR = pd.read_csv('./sopr-btc-24h.csv', date_parser = True)\n",
    "df_SOPR = df_SOPR.reindex(-np.sort(-np.arange(len(df_SOPR))))\n",
    "df_SOPR.tail()\n",
    "df_SOPR2 = df_SOPR.loc[:, ('t','v')] ; del df_SOPR ; gc.collect()\n",
    "#切出⽇期時間欄位，符號統⼀\n",
    "df_SOPR2['NewDate'] = df_SOPR2.loc[:, 't'].str.slice(start = 0, stop = 10).str.replace('-', '/').str.replace('/0', '/').str.rsplit(pat=' ', n=1).apply(lambda x : x[0])\n",
    "df_SOPR2 = df_SOPR2[['v','NewDate']].drop_duplicates()\n",
    "result = pd.merge(df6,df_SOPR2, on='NewDate')\n",
    "result.head()"
   ]
  },
  {
   "cell_type": "code",
   "execution_count": 11,
   "metadata": {},
   "outputs": [
    {
     "data": {
      "text/html": [
       "<div>\n",
       "<style scoped>\n",
       "    .dataframe tbody tr th:only-of-type {\n",
       "        vertical-align: middle;\n",
       "    }\n",
       "\n",
       "    .dataframe tbody tr th {\n",
       "        vertical-align: top;\n",
       "    }\n",
       "\n",
       "    .dataframe thead th {\n",
       "        text-align: right;\n",
       "    }\n",
       "</style>\n",
       "<table border=\"1\" class=\"dataframe\">\n",
       "  <thead>\n",
       "    <tr style=\"text-align: right;\">\n",
       "      <th></th>\n",
       "      <th>close</th>\n",
       "      <th>open</th>\n",
       "      <th>high</th>\n",
       "      <th>low</th>\n",
       "      <th>Volume BTC</th>\n",
       "      <th>NewDateTime</th>\n",
       "      <th>NewDate</th>\n",
       "      <th>returns</th>\n",
       "      <th>log_returns</th>\n",
       "      <th>Year</th>\n",
       "      <th>Week</th>\n",
       "      <th>v</th>\n",
       "    </tr>\n",
       "  </thead>\n",
       "  <tbody>\n",
       "    <tr>\n",
       "      <th>0</th>\n",
       "      <td>7177.02</td>\n",
       "      <td>7195.23</td>\n",
       "      <td>7196.25</td>\n",
       "      <td>7175.46</td>\n",
       "      <td>480.93000</td>\n",
       "      <td>2020-01-01 00:00:00</td>\n",
       "      <td>2020/1/1</td>\n",
       "      <td>0.997469</td>\n",
       "      <td>-0.002534</td>\n",
       "      <td>2020</td>\n",
       "      <td>1</td>\n",
       "      <td>0.997801</td>\n",
       "    </tr>\n",
       "    <tr>\n",
       "      <th>1</th>\n",
       "      <td>7216.27</td>\n",
       "      <td>7177.02</td>\n",
       "      <td>7230.00</td>\n",
       "      <td>7175.71</td>\n",
       "      <td>836.51000</td>\n",
       "      <td>2020-01-01 01:00:00</td>\n",
       "      <td>2020/1/1</td>\n",
       "      <td>1.005469</td>\n",
       "      <td>0.005454</td>\n",
       "      <td>2020</td>\n",
       "      <td>1</td>\n",
       "      <td>0.997801</td>\n",
       "    </tr>\n",
       "    <tr>\n",
       "      <th>2</th>\n",
       "      <td>7242.85</td>\n",
       "      <td>7216.27</td>\n",
       "      <td>7244.87</td>\n",
       "      <td>7211.41</td>\n",
       "      <td>626.60000</td>\n",
       "      <td>2020-01-01 02:00:00</td>\n",
       "      <td>2020/1/1</td>\n",
       "      <td>1.003683</td>\n",
       "      <td>0.003677</td>\n",
       "      <td>2020</td>\n",
       "      <td>1</td>\n",
       "      <td>0.997801</td>\n",
       "    </tr>\n",
       "    <tr>\n",
       "      <th>3</th>\n",
       "      <td>7225.01</td>\n",
       "      <td>7242.85</td>\n",
       "      <td>7245.00</td>\n",
       "      <td>7220.00</td>\n",
       "      <td>748.76000</td>\n",
       "      <td>2020-01-01 03:00:00</td>\n",
       "      <td>2020/1/1</td>\n",
       "      <td>0.997537</td>\n",
       "      <td>-0.002466</td>\n",
       "      <td>2020</td>\n",
       "      <td>1</td>\n",
       "      <td>0.997801</td>\n",
       "    </tr>\n",
       "    <tr>\n",
       "      <th>4</th>\n",
       "      <td>7217.27</td>\n",
       "      <td>7225.01</td>\n",
       "      <td>7230.00</td>\n",
       "      <td>7215.03</td>\n",
       "      <td>442.09000</td>\n",
       "      <td>2020-01-01 04:00:00</td>\n",
       "      <td>2020/1/1</td>\n",
       "      <td>0.998929</td>\n",
       "      <td>-0.001072</td>\n",
       "      <td>2020</td>\n",
       "      <td>1</td>\n",
       "      <td>0.997801</td>\n",
       "    </tr>\n",
       "    <tr>\n",
       "      <th>...</th>\n",
       "      <td>...</td>\n",
       "      <td>...</td>\n",
       "      <td>...</td>\n",
       "      <td>...</td>\n",
       "      <td>...</td>\n",
       "      <td>...</td>\n",
       "      <td>...</td>\n",
       "      <td>...</td>\n",
       "      <td>...</td>\n",
       "      <td>...</td>\n",
       "      <td>...</td>\n",
       "      <td>...</td>\n",
       "    </tr>\n",
       "    <tr>\n",
       "      <th>18130</th>\n",
       "      <td>53962.76</td>\n",
       "      <td>53895.90</td>\n",
       "      <td>54161.82</td>\n",
       "      <td>53802.18</td>\n",
       "      <td>1244.49099</td>\n",
       "      <td>2021-10-07 19:00:00</td>\n",
       "      <td>2021/10/7</td>\n",
       "      <td>1.001241</td>\n",
       "      <td>0.001240</td>\n",
       "      <td>2021</td>\n",
       "      <td>40</td>\n",
       "      <td>1.007150</td>\n",
       "    </tr>\n",
       "    <tr>\n",
       "      <th>18131</th>\n",
       "      <td>54167.17</td>\n",
       "      <td>53962.75</td>\n",
       "      <td>54324.87</td>\n",
       "      <td>53890.00</td>\n",
       "      <td>1066.88373</td>\n",
       "      <td>2021-10-07 20:00:00</td>\n",
       "      <td>2021/10/7</td>\n",
       "      <td>1.003788</td>\n",
       "      <td>0.003781</td>\n",
       "      <td>2021</td>\n",
       "      <td>40</td>\n",
       "      <td>1.007150</td>\n",
       "    </tr>\n",
       "    <tr>\n",
       "      <th>18132</th>\n",
       "      <td>54275.62</td>\n",
       "      <td>54167.18</td>\n",
       "      <td>54500.00</td>\n",
       "      <td>54036.00</td>\n",
       "      <td>1346.45466</td>\n",
       "      <td>2021-10-07 21:00:00</td>\n",
       "      <td>2021/10/7</td>\n",
       "      <td>1.002002</td>\n",
       "      <td>0.002000</td>\n",
       "      <td>2021</td>\n",
       "      <td>40</td>\n",
       "      <td>1.007150</td>\n",
       "    </tr>\n",
       "    <tr>\n",
       "      <th>18133</th>\n",
       "      <td>53899.39</td>\n",
       "      <td>54275.61</td>\n",
       "      <td>54640.30</td>\n",
       "      <td>53765.04</td>\n",
       "      <td>1795.35129</td>\n",
       "      <td>2021-10-07 22:00:00</td>\n",
       "      <td>2021/10/7</td>\n",
       "      <td>0.993068</td>\n",
       "      <td>-0.006956</td>\n",
       "      <td>2021</td>\n",
       "      <td>40</td>\n",
       "      <td>1.007150</td>\n",
       "    </tr>\n",
       "    <tr>\n",
       "      <th>18134</th>\n",
       "      <td>53785.22</td>\n",
       "      <td>53895.57</td>\n",
       "      <td>53964.80</td>\n",
       "      <td>53607.27</td>\n",
       "      <td>889.18787</td>\n",
       "      <td>2021-10-07 23:00:00</td>\n",
       "      <td>2021/10/7</td>\n",
       "      <td>0.997882</td>\n",
       "      <td>-0.002120</td>\n",
       "      <td>2021</td>\n",
       "      <td>40</td>\n",
       "      <td>1.007150</td>\n",
       "    </tr>\n",
       "  </tbody>\n",
       "</table>\n",
       "<p>18135 rows × 12 columns</p>\n",
       "</div>"
      ],
      "text/plain": [
       "          close      open      high       low  Volume BTC         NewDateTime  \\\n",
       "0       7177.02   7195.23   7196.25   7175.46   480.93000 2020-01-01 00:00:00   \n",
       "1       7216.27   7177.02   7230.00   7175.71   836.51000 2020-01-01 01:00:00   \n",
       "2       7242.85   7216.27   7244.87   7211.41   626.60000 2020-01-01 02:00:00   \n",
       "3       7225.01   7242.85   7245.00   7220.00   748.76000 2020-01-01 03:00:00   \n",
       "4       7217.27   7225.01   7230.00   7215.03   442.09000 2020-01-01 04:00:00   \n",
       "...         ...       ...       ...       ...         ...                 ...   \n",
       "18130  53962.76  53895.90  54161.82  53802.18  1244.49099 2021-10-07 19:00:00   \n",
       "18131  54167.17  53962.75  54324.87  53890.00  1066.88373 2021-10-07 20:00:00   \n",
       "18132  54275.62  54167.18  54500.00  54036.00  1346.45466 2021-10-07 21:00:00   \n",
       "18133  53899.39  54275.61  54640.30  53765.04  1795.35129 2021-10-07 22:00:00   \n",
       "18134  53785.22  53895.57  53964.80  53607.27   889.18787 2021-10-07 23:00:00   \n",
       "\n",
       "         NewDate   returns  log_returns  Year  Week         v  \n",
       "0       2020/1/1  0.997469    -0.002534  2020     1  0.997801  \n",
       "1       2020/1/1  1.005469     0.005454  2020     1  0.997801  \n",
       "2       2020/1/1  1.003683     0.003677  2020     1  0.997801  \n",
       "3       2020/1/1  0.997537    -0.002466  2020     1  0.997801  \n",
       "4       2020/1/1  0.998929    -0.001072  2020     1  0.997801  \n",
       "...          ...       ...          ...   ...   ...       ...  \n",
       "18130  2021/10/7  1.001241     0.001240  2021    40  1.007150  \n",
       "18131  2021/10/7  1.003788     0.003781  2021    40  1.007150  \n",
       "18132  2021/10/7  1.002002     0.002000  2021    40  1.007150  \n",
       "18133  2021/10/7  0.993068    -0.006956  2021    40  1.007150  \n",
       "18134  2021/10/7  0.997882    -0.002120  2021    40  1.007150  \n",
       "\n",
       "[18135 rows x 12 columns]"
      ]
     },
     "execution_count": 11,
     "metadata": {},
     "output_type": "execute_result"
    }
   ],
   "source": [
    "data_training = result[result['NewDateTime']>= '2020-01-01'].copy()\n",
    "data_training = data_training[data_training['NewDateTime']< '2021-10-08'].copy()\n",
    "data_training"
   ]
  },
  {
   "cell_type": "code",
   "execution_count": 12,
   "metadata": {},
   "outputs": [
    {
     "data": {
      "text/html": [
       "<div>\n",
       "<style scoped>\n",
       "    .dataframe tbody tr th:only-of-type {\n",
       "        vertical-align: middle;\n",
       "    }\n",
       "\n",
       "    .dataframe tbody tr th {\n",
       "        vertical-align: top;\n",
       "    }\n",
       "\n",
       "    .dataframe thead th {\n",
       "        text-align: right;\n",
       "    }\n",
       "</style>\n",
       "<table border=\"1\" class=\"dataframe\">\n",
       "  <thead>\n",
       "    <tr style=\"text-align: right;\">\n",
       "      <th></th>\n",
       "      <th>close</th>\n",
       "      <th>open</th>\n",
       "      <th>high</th>\n",
       "      <th>low</th>\n",
       "      <th>Volume BTC</th>\n",
       "      <th>NewDateTime</th>\n",
       "      <th>NewDate</th>\n",
       "      <th>returns</th>\n",
       "      <th>log_returns</th>\n",
       "      <th>Year</th>\n",
       "      <th>Week</th>\n",
       "      <th>v</th>\n",
       "    </tr>\n",
       "  </thead>\n",
       "  <tbody>\n",
       "    <tr>\n",
       "      <th>18135</th>\n",
       "      <td>54108.00</td>\n",
       "      <td>53785.22</td>\n",
       "      <td>54235.99</td>\n",
       "      <td>53711.57</td>\n",
       "      <td>1319.71058</td>\n",
       "      <td>2021-10-08 00:00:00</td>\n",
       "      <td>2021/10/8</td>\n",
       "      <td>1.006001</td>\n",
       "      <td>0.005983</td>\n",
       "      <td>2021</td>\n",
       "      <td>40</td>\n",
       "      <td>1.003487</td>\n",
       "    </tr>\n",
       "    <tr>\n",
       "      <th>18136</th>\n",
       "      <td>54297.35</td>\n",
       "      <td>54108.01</td>\n",
       "      <td>54397.00</td>\n",
       "      <td>54051.10</td>\n",
       "      <td>1107.57340</td>\n",
       "      <td>2021-10-08 01:00:00</td>\n",
       "      <td>2021/10/8</td>\n",
       "      <td>1.003499</td>\n",
       "      <td>0.003493</td>\n",
       "      <td>2021</td>\n",
       "      <td>40</td>\n",
       "      <td>1.003487</td>\n",
       "    </tr>\n",
       "    <tr>\n",
       "      <th>18137</th>\n",
       "      <td>53842.00</td>\n",
       "      <td>54297.35</td>\n",
       "      <td>54429.99</td>\n",
       "      <td>53776.50</td>\n",
       "      <td>1547.30709</td>\n",
       "      <td>2021-10-08 02:00:00</td>\n",
       "      <td>2021/10/8</td>\n",
       "      <td>0.991614</td>\n",
       "      <td>-0.008422</td>\n",
       "      <td>2021</td>\n",
       "      <td>40</td>\n",
       "      <td>1.003487</td>\n",
       "    </tr>\n",
       "    <tr>\n",
       "      <th>18138</th>\n",
       "      <td>53815.22</td>\n",
       "      <td>53842.01</td>\n",
       "      <td>53940.00</td>\n",
       "      <td>53691.02</td>\n",
       "      <td>1401.24886</td>\n",
       "      <td>2021-10-08 03:00:00</td>\n",
       "      <td>2021/10/8</td>\n",
       "      <td>0.999503</td>\n",
       "      <td>-0.000498</td>\n",
       "      <td>2021</td>\n",
       "      <td>40</td>\n",
       "      <td>1.003487</td>\n",
       "    </tr>\n",
       "    <tr>\n",
       "      <th>18139</th>\n",
       "      <td>53877.93</td>\n",
       "      <td>53815.21</td>\n",
       "      <td>53972.94</td>\n",
       "      <td>53766.28</td>\n",
       "      <td>1097.26855</td>\n",
       "      <td>2021-10-08 04:00:00</td>\n",
       "      <td>2021/10/8</td>\n",
       "      <td>1.001165</td>\n",
       "      <td>0.001165</td>\n",
       "      <td>2021</td>\n",
       "      <td>40</td>\n",
       "      <td>1.003487</td>\n",
       "    </tr>\n",
       "    <tr>\n",
       "      <th>...</th>\n",
       "      <td>...</td>\n",
       "      <td>...</td>\n",
       "      <td>...</td>\n",
       "      <td>...</td>\n",
       "      <td>...</td>\n",
       "      <td>...</td>\n",
       "      <td>...</td>\n",
       "      <td>...</td>\n",
       "      <td>...</td>\n",
       "      <td>...</td>\n",
       "      <td>...</td>\n",
       "      <td>...</td>\n",
       "    </tr>\n",
       "    <tr>\n",
       "      <th>19594</th>\n",
       "      <td>50884.48</td>\n",
       "      <td>50921.61</td>\n",
       "      <td>51204.77</td>\n",
       "      <td>50666.00</td>\n",
       "      <td>1312.93360</td>\n",
       "      <td>2021-12-07 19:00:00</td>\n",
       "      <td>2021/12/7</td>\n",
       "      <td>0.999271</td>\n",
       "      <td>-0.000729</td>\n",
       "      <td>2021</td>\n",
       "      <td>49</td>\n",
       "      <td>1.004981</td>\n",
       "    </tr>\n",
       "    <tr>\n",
       "      <th>19595</th>\n",
       "      <td>50441.59</td>\n",
       "      <td>50884.49</td>\n",
       "      <td>51006.20</td>\n",
       "      <td>50150.00</td>\n",
       "      <td>2194.52091</td>\n",
       "      <td>2021-12-07 20:00:00</td>\n",
       "      <td>2021/12/7</td>\n",
       "      <td>0.991296</td>\n",
       "      <td>-0.008742</td>\n",
       "      <td>2021</td>\n",
       "      <td>49</td>\n",
       "      <td>1.004981</td>\n",
       "    </tr>\n",
       "    <tr>\n",
       "      <th>19596</th>\n",
       "      <td>50489.92</td>\n",
       "      <td>50441.59</td>\n",
       "      <td>50856.46</td>\n",
       "      <td>50358.99</td>\n",
       "      <td>1468.15088</td>\n",
       "      <td>2021-12-07 21:00:00</td>\n",
       "      <td>2021/12/7</td>\n",
       "      <td>1.000958</td>\n",
       "      <td>0.000958</td>\n",
       "      <td>2021</td>\n",
       "      <td>49</td>\n",
       "      <td>1.004981</td>\n",
       "    </tr>\n",
       "    <tr>\n",
       "      <th>19597</th>\n",
       "      <td>50245.25</td>\n",
       "      <td>50489.93</td>\n",
       "      <td>50626.43</td>\n",
       "      <td>50039.74</td>\n",
       "      <td>1362.13177</td>\n",
       "      <td>2021-12-07 22:00:00</td>\n",
       "      <td>2021/12/7</td>\n",
       "      <td>0.995154</td>\n",
       "      <td>-0.004858</td>\n",
       "      <td>2021</td>\n",
       "      <td>49</td>\n",
       "      <td>1.004981</td>\n",
       "    </tr>\n",
       "    <tr>\n",
       "      <th>19598</th>\n",
       "      <td>50588.95</td>\n",
       "      <td>50245.25</td>\n",
       "      <td>50710.99</td>\n",
       "      <td>50141.60</td>\n",
       "      <td>828.39608</td>\n",
       "      <td>2021-12-07 23:00:00</td>\n",
       "      <td>2021/12/7</td>\n",
       "      <td>1.006840</td>\n",
       "      <td>0.006817</td>\n",
       "      <td>2021</td>\n",
       "      <td>49</td>\n",
       "      <td>1.004981</td>\n",
       "    </tr>\n",
       "  </tbody>\n",
       "</table>\n",
       "<p>1464 rows × 12 columns</p>\n",
       "</div>"
      ],
      "text/plain": [
       "          close      open      high       low  Volume BTC         NewDateTime  \\\n",
       "18135  54108.00  53785.22  54235.99  53711.57  1319.71058 2021-10-08 00:00:00   \n",
       "18136  54297.35  54108.01  54397.00  54051.10  1107.57340 2021-10-08 01:00:00   \n",
       "18137  53842.00  54297.35  54429.99  53776.50  1547.30709 2021-10-08 02:00:00   \n",
       "18138  53815.22  53842.01  53940.00  53691.02  1401.24886 2021-10-08 03:00:00   \n",
       "18139  53877.93  53815.21  53972.94  53766.28  1097.26855 2021-10-08 04:00:00   \n",
       "...         ...       ...       ...       ...         ...                 ...   \n",
       "19594  50884.48  50921.61  51204.77  50666.00  1312.93360 2021-12-07 19:00:00   \n",
       "19595  50441.59  50884.49  51006.20  50150.00  2194.52091 2021-12-07 20:00:00   \n",
       "19596  50489.92  50441.59  50856.46  50358.99  1468.15088 2021-12-07 21:00:00   \n",
       "19597  50245.25  50489.93  50626.43  50039.74  1362.13177 2021-12-07 22:00:00   \n",
       "19598  50588.95  50245.25  50710.99  50141.60   828.39608 2021-12-07 23:00:00   \n",
       "\n",
       "         NewDate   returns  log_returns  Year  Week         v  \n",
       "18135  2021/10/8  1.006001     0.005983  2021    40  1.003487  \n",
       "18136  2021/10/8  1.003499     0.003493  2021    40  1.003487  \n",
       "18137  2021/10/8  0.991614    -0.008422  2021    40  1.003487  \n",
       "18138  2021/10/8  0.999503    -0.000498  2021    40  1.003487  \n",
       "18139  2021/10/8  1.001165     0.001165  2021    40  1.003487  \n",
       "...          ...       ...          ...   ...   ...       ...  \n",
       "19594  2021/12/7  0.999271    -0.000729  2021    49  1.004981  \n",
       "19595  2021/12/7  0.991296    -0.008742  2021    49  1.004981  \n",
       "19596  2021/12/7  1.000958     0.000958  2021    49  1.004981  \n",
       "19597  2021/12/7  0.995154    -0.004858  2021    49  1.004981  \n",
       "19598  2021/12/7  1.006840     0.006817  2021    49  1.004981  \n",
       "\n",
       "[1464 rows x 12 columns]"
      ]
     },
     "execution_count": 12,
     "metadata": {},
     "output_type": "execute_result"
    }
   ],
   "source": [
    "data_test = result[result['NewDateTime']>= '2021-10-08'].copy()\n",
    "data_test"
   ]
  },
  {
   "cell_type": "code",
   "execution_count": 13,
   "metadata": {},
   "outputs": [
    {
     "data": {
      "text/html": [
       "<div>\n",
       "<style scoped>\n",
       "    .dataframe tbody tr th:only-of-type {\n",
       "        vertical-align: middle;\n",
       "    }\n",
       "\n",
       "    .dataframe tbody tr th {\n",
       "        vertical-align: top;\n",
       "    }\n",
       "\n",
       "    .dataframe thead th {\n",
       "        text-align: right;\n",
       "    }\n",
       "</style>\n",
       "<table border=\"1\" class=\"dataframe\">\n",
       "  <thead>\n",
       "    <tr style=\"text-align: right;\">\n",
       "      <th></th>\n",
       "      <th>close</th>\n",
       "      <th>open</th>\n",
       "      <th>high</th>\n",
       "      <th>low</th>\n",
       "      <th>Volume BTC</th>\n",
       "      <th>returns</th>\n",
       "      <th>log_returns</th>\n",
       "      <th>v</th>\n",
       "    </tr>\n",
       "  </thead>\n",
       "  <tbody>\n",
       "    <tr>\n",
       "      <th>0</th>\n",
       "      <td>7177.02</td>\n",
       "      <td>7195.23</td>\n",
       "      <td>7196.25</td>\n",
       "      <td>7175.46</td>\n",
       "      <td>480.93</td>\n",
       "      <td>0.997469</td>\n",
       "      <td>-0.002534</td>\n",
       "      <td>0.997801</td>\n",
       "    </tr>\n",
       "    <tr>\n",
       "      <th>1</th>\n",
       "      <td>7216.27</td>\n",
       "      <td>7177.02</td>\n",
       "      <td>7230.00</td>\n",
       "      <td>7175.71</td>\n",
       "      <td>836.51</td>\n",
       "      <td>1.005469</td>\n",
       "      <td>0.005454</td>\n",
       "      <td>0.997801</td>\n",
       "    </tr>\n",
       "    <tr>\n",
       "      <th>2</th>\n",
       "      <td>7242.85</td>\n",
       "      <td>7216.27</td>\n",
       "      <td>7244.87</td>\n",
       "      <td>7211.41</td>\n",
       "      <td>626.60</td>\n",
       "      <td>1.003683</td>\n",
       "      <td>0.003677</td>\n",
       "      <td>0.997801</td>\n",
       "    </tr>\n",
       "    <tr>\n",
       "      <th>3</th>\n",
       "      <td>7225.01</td>\n",
       "      <td>7242.85</td>\n",
       "      <td>7245.00</td>\n",
       "      <td>7220.00</td>\n",
       "      <td>748.76</td>\n",
       "      <td>0.997537</td>\n",
       "      <td>-0.002466</td>\n",
       "      <td>0.997801</td>\n",
       "    </tr>\n",
       "    <tr>\n",
       "      <th>4</th>\n",
       "      <td>7217.27</td>\n",
       "      <td>7225.01</td>\n",
       "      <td>7230.00</td>\n",
       "      <td>7215.03</td>\n",
       "      <td>442.09</td>\n",
       "      <td>0.998929</td>\n",
       "      <td>-0.001072</td>\n",
       "      <td>0.997801</td>\n",
       "    </tr>\n",
       "  </tbody>\n",
       "</table>\n",
       "</div>"
      ],
      "text/plain": [
       "     close     open     high      low  Volume BTC   returns  log_returns  \\\n",
       "0  7177.02  7195.23  7196.25  7175.46      480.93  0.997469    -0.002534   \n",
       "1  7216.27  7177.02  7230.00  7175.71      836.51  1.005469     0.005454   \n",
       "2  7242.85  7216.27  7244.87  7211.41      626.60  1.003683     0.003677   \n",
       "3  7225.01  7242.85  7245.00  7220.00      748.76  0.997537    -0.002466   \n",
       "4  7217.27  7225.01  7230.00  7215.03      442.09  0.998929    -0.001072   \n",
       "\n",
       "          v  \n",
       "0  0.997801  \n",
       "1  0.997801  \n",
       "2  0.997801  \n",
       "3  0.997801  \n",
       "4  0.997801  "
      ]
     },
     "execution_count": 13,
     "metadata": {},
     "output_type": "execute_result"
    }
   ],
   "source": [
    "training_data = data_training.drop(['NewDateTime','NewDate', 'Year','Week'], axis = 1)\n",
    "training_data.head()"
   ]
  },
  {
   "cell_type": "code",
   "execution_count": 14,
   "metadata": {},
   "outputs": [
    {
     "data": {
      "text/plain": [
       "array([[0.05039786, 0.05069912, 0.04292959, ..., 0.663021  , 0.72421549,\n",
       "        0.53402449],\n",
       "       [0.05104719, 0.05039786, 0.04348981, ..., 0.67830543, 0.73774602,\n",
       "        0.53402449],\n",
       "       [0.05148692, 0.0510472 , 0.04373664, ..., 0.674894  , 0.73473541,\n",
       "        0.53402449],\n",
       "       ...,\n",
       "       [0.82957459, 0.82778075, 0.82813226, ..., 0.67168184, 0.73189576,\n",
       "        0.59014876],\n",
       "       [0.82335042, 0.82957456, 0.83046112, ..., 0.65461232, 0.71672537,\n",
       "        0.59014876],\n",
       "       [0.82146165, 0.82328736, 0.81924839, ..., 0.66380939, 0.72491607,\n",
       "        0.59014876]])"
      ]
     },
     "execution_count": 14,
     "metadata": {},
     "output_type": "execute_result"
    }
   ],
   "source": [
    "scaler = MinMaxScaler()\n",
    "training_data = scaler.fit_transform(training_data)\n",
    "training_data"
   ]
  },
  {
   "cell_type": "code",
   "execution_count": 15,
   "metadata": {},
   "outputs": [],
   "source": [
    "X_train = []\n",
    "Y_train = []"
   ]
  },
  {
   "cell_type": "code",
   "execution_count": 16,
   "metadata": {},
   "outputs": [
    {
     "data": {
      "text/plain": [
       "18135"
      ]
     },
     "execution_count": 16,
     "metadata": {},
     "output_type": "execute_result"
    }
   ],
   "source": [
    "training_data.shape[0]"
   ]
  },
  {
   "cell_type": "code",
   "execution_count": 17,
   "metadata": {},
   "outputs": [],
   "source": [
    "for i in range(168, training_data.shape[0]):\n",
    "    X_train.append(training_data[i-168:i])\n",
    "    Y_train.append(training_data[i,0])"
   ]
  },
  {
   "cell_type": "code",
   "execution_count": 18,
   "metadata": {},
   "outputs": [],
   "source": [
    "X_train, Y_train = np.array(X_train), np.array(Y_train)"
   ]
  },
  {
   "cell_type": "code",
   "execution_count": 19,
   "metadata": {},
   "outputs": [
    {
     "data": {
      "text/plain": [
       "(17967, 168, 8)"
      ]
     },
     "execution_count": 19,
     "metadata": {},
     "output_type": "execute_result"
    }
   ],
   "source": [
    "X_train.shape"
   ]
  },
  {
   "cell_type": "code",
   "execution_count": 20,
   "metadata": {},
   "outputs": [
    {
     "data": {
      "text/plain": [
       "(17967,)"
      ]
     },
     "execution_count": 20,
     "metadata": {},
     "output_type": "execute_result"
    }
   ],
   "source": [
    "Y_train.shape"
   ]
  },
  {
   "cell_type": "code",
   "execution_count": 21,
   "metadata": {},
   "outputs": [],
   "source": [
    "from tensorflow.keras import Sequential\n",
    "from tensorflow.keras.layers import Dense, LSTM, Dropout"
   ]
  },
  {
   "cell_type": "code",
   "execution_count": 22,
   "metadata": {},
   "outputs": [],
   "source": [
    "regressor = Sequential()\n",
    "regressor.add(LSTM(units = 50, activation = 'relu', return_sequences = True, input_shape = (X_train.shape[1], 8)))\n",
    "regressor.add(Dropout(0.1))"
   ]
  },
  {
   "cell_type": "code",
   "execution_count": 23,
   "metadata": {},
   "outputs": [],
   "source": [
    "# regressor.add(LSTM(units = 15, activation = 'relu', return_sequences = True))\n",
    "# regressor.add(Dropout(0.1))\n",
    "\n",
    "regressor.add(LSTM(units = 20, activation = 'relu'))\n",
    "regressor.add(Dropout(0.1))\n",
    "\n",
    "regressor.add(Dense(units =1))"
   ]
  },
  {
   "cell_type": "code",
   "execution_count": 24,
   "metadata": {},
   "outputs": [
    {
     "name": "stdout",
     "output_type": "stream",
     "text": [
      "Model: \"sequential\"\n",
      "_________________________________________________________________\n",
      "Layer (type)                 Output Shape              Param #   \n",
      "=================================================================\n",
      "lstm (LSTM)                  (None, 168, 10)           760       \n",
      "_________________________________________________________________\n",
      "dropout (Dropout)            (None, 168, 10)           0         \n",
      "_________________________________________________________________\n",
      "lstm_1 (LSTM)                (None, 20)                2480      \n",
      "_________________________________________________________________\n",
      "dropout_1 (Dropout)          (None, 20)                0         \n",
      "_________________________________________________________________\n",
      "dense (Dense)                (None, 1)                 21        \n",
      "=================================================================\n",
      "Total params: 3,261\n",
      "Trainable params: 3,261\n",
      "Non-trainable params: 0\n",
      "_________________________________________________________________\n"
     ]
    }
   ],
   "source": [
    "regressor.summary()"
   ]
  },
  {
   "cell_type": "code",
   "execution_count": 25,
   "metadata": {},
   "outputs": [],
   "source": [
    "regressor.compile(optimizer = 'adam', loss = 'mean_squared_error')"
   ]
  },
  {
   "cell_type": "code",
   "execution_count": 26,
   "metadata": {},
   "outputs": [
    {
     "name": "stdout",
     "output_type": "stream",
     "text": [
      "Epoch 1/15\n",
      "180/180 [==============================] - 94s 511ms/step - loss: 0.0096\n",
      "Epoch 2/15\n",
      "180/180 [==============================] - 89s 493ms/step - loss: 0.0032\n",
      "Epoch 3/15\n",
      "180/180 [==============================] - 84s 467ms/step - loss: 0.0027\n",
      "Epoch 4/15\n",
      "180/180 [==============================] - 84s 468ms/step - loss: 0.0022\n",
      "Epoch 5/15\n",
      "180/180 [==============================] - 84s 467ms/step - loss: 0.0019\n",
      "Epoch 6/15\n",
      "180/180 [==============================] - 83s 462ms/step - loss: 0.0017\n",
      "Epoch 7/15\n",
      "180/180 [==============================] - 84s 465ms/step - loss: 0.0015\n",
      "Epoch 8/15\n",
      "180/180 [==============================] - 84s 468ms/step - loss: 0.0014\n",
      "Epoch 9/15\n",
      "180/180 [==============================] - 84s 469ms/step - loss: 0.0013\n",
      "Epoch 10/15\n",
      "180/180 [==============================] - 82s 455ms/step - loss: 0.0012\n",
      "Epoch 11/15\n",
      "180/180 [==============================] - 83s 459ms/step - loss: 0.0013\n",
      "Epoch 12/15\n",
      "180/180 [==============================] - 83s 459ms/step - loss: 0.0012\n",
      "Epoch 13/15\n",
      "180/180 [==============================] - 84s 470ms/step - loss: 0.0011\n",
      "Epoch 14/15\n",
      "180/180 [==============================] - 85s 470ms/step - loss: 0.0011\n",
      "Epoch 15/15\n",
      "180/180 [==============================] - 84s 467ms/step - loss: 0.0012\n"
     ]
    }
   ],
   "source": [
    "history = regressor.fit(X_train, Y_train, epochs = 15, batch_size =100)"
   ]
  },
  {
   "cell_type": "code",
   "execution_count": 27,
   "metadata": {},
   "outputs": [],
   "source": [
    " regressor.save(\"LSTM_model_1210_1.0.h5\")"
   ]
  },
  {
   "cell_type": "code",
   "execution_count": 28,
   "metadata": {},
   "outputs": [
    {
     "data": {
      "image/png": "[encoded data removed]",
      "text/plain": [
       "<Figure size 576x576 with 1 Axes>"
      ]
     },
     "metadata": {
      "needs_background": "light"
     },
     "output_type": "display_data"
    }
   ],
   "source": [
    "loss = history.history['loss']\n",
    "epoch = range(len(loss))\n",
    "plt.figure(figsize=(8,8))\n",
    "plt.plot(loss)\n",
    "plt.plot(epoch)\n",
    "plt.title('model train vs validation loss')\n",
    "plt.ylabel('loss')\n",
    "plt.ylabel('epoch')\n",
    "plt.legend(['train'],loc='upper right')\n",
    "plt.show()"
   ]
  },
  {
   "cell_type": "code",
   "execution_count": 29,
   "metadata": {},
   "outputs": [],
   "source": [
    "from tensorflow import keras\n",
    "regressor = Sequential()\n",
    "regressor = keras.models.load_model(\"LSTM_model_1210.h5\")"
   ]
  },
  {
   "cell_type": "code",
   "execution_count": 30,
   "metadata": {},
   "outputs": [
    {
     "data": {
      "text/plain": [
       "1632"
      ]
     },
     "execution_count": 30,
     "metadata": {},
     "output_type": "execute_result"
    }
   ],
   "source": [
    "past_60_days = data_training.tail(168)\n",
    "df= past_60_days.append(data_test, ignore_index = True)\n",
    "df = df.drop(['NewDateTime', 'Year','Week','NewDate'], axis = 1)\n",
    "len(df)"
   ]
  },
  {
   "cell_type": "code",
   "execution_count": 31,
   "metadata": {},
   "outputs": [
    {
     "data": {
      "text/plain": [
       "array([[0.65452527, 0.65660208, 0.6548204 , ..., 0.66220537, 0.72349041,\n",
       "        0.57821885],\n",
       "       [0.65532366, 0.65455284, 0.65058661, ..., 0.66996676, 0.73037763,\n",
       "        0.57821885],\n",
       "       [0.64930628, 0.65532376, 0.65043639, ..., 0.65196922, 0.71436414,\n",
       "        0.57821885],\n",
       "       ...,\n",
       "       [0.76694578, 0.76614636, 0.76765255, ..., 0.66968714, 0.73012999,\n",
       "        0.57712974],\n",
       "       [0.76289807, 0.76694607, 0.76383424, ..., 0.65859775, 0.72027956,\n",
       "        0.57712974],\n",
       "       [0.76858408, 0.7628982 , 0.76523787, ..., 0.68092605, 0.74005511,\n",
       "        0.57712974]])"
      ]
     },
     "execution_count": 31,
     "metadata": {},
     "output_type": "execute_result"
    }
   ],
   "source": [
    "inputs = scaler.transform(df)\n",
    "inputs"
   ]
  },
  {
   "cell_type": "code",
   "execution_count": 32,
   "metadata": {},
   "outputs": [],
   "source": [
    "X_test = []\n",
    "Y_test = []\n",
    "for i in range (168, inputs.shape[0]):\n",
    "    X_test.append(inputs[i-168:i])\n",
    "    Y_test.append(inputs[i, 0])"
   ]
  },
  {
   "cell_type": "code",
   "execution_count": 33,
   "metadata": {},
   "outputs": [
    {
     "data": {
      "text/plain": [
       "((1464, 168, 8), (1464,))"
      ]
     },
     "execution_count": 33,
     "metadata": {},
     "output_type": "execute_result"
    }
   ],
   "source": [
    "X_test, Y_test = np.array(X_test), np.array(Y_test)\n",
    "X_test.shape, Y_test.shape"
   ]
  },
  {
   "cell_type": "code",
   "execution_count": 34,
   "metadata": {},
   "outputs": [
    {
     "data": {
      "text/plain": [
       "(array([[0.7761842 ],\n",
       "        [0.77614677],\n",
       "        [0.7760204 ],\n",
       "        ...,\n",
       "        [0.73705506],\n",
       "        [0.7367965 ],\n",
       "        [0.73629135]], dtype=float32),\n",
       " array([0.82680156, 0.82993408, 0.82240099, ..., 0.76694578, 0.76289807,\n",
       "        0.76858408]))"
      ]
     },
     "execution_count": 34,
     "metadata": {},
     "output_type": "execute_result"
    }
   ],
   "source": [
    "Y_pred = regressor.predict(X_test)\n",
    "Y_pred, Y_test"
   ]
  },
  {
   "cell_type": "code",
   "execution_count": 35,
   "metadata": {},
   "outputs": [
    {
     "data": {
      "text/plain": [
       "array([1.65435222e-05, 1.65435249e-05, 1.65991634e-05, 1.65295076e-05,\n",
       "       2.11614415e-05, 1.91062882e+00, 1.69385841e+00, 6.00335094e+00])"
      ]
     },
     "execution_count": 35,
     "metadata": {},
     "output_type": "execute_result"
    }
   ],
   "source": [
    "scaler.scale_"
   ]
  },
  {
   "cell_type": "code",
   "execution_count": 36,
   "metadata": {},
   "outputs": [
    {
     "data": {
      "text/plain": [
       "60446.62000695354"
      ]
     },
     "execution_count": 36,
     "metadata": {},
     "output_type": "execute_result"
    }
   ],
   "source": [
    "scale = 1/1.65435222e-05\n",
    "scale"
   ]
  },
  {
   "cell_type": "code",
   "execution_count": 37,
   "metadata": {},
   "outputs": [
    {
     "ename": "AttributeError",
     "evalue": "'float' object has no attribute 'inverse_transform'",
     "output_type": "error",
     "traceback": [
      "\u001b[0;31m---------------------------------------------------------------------------\u001b[0m",
      "\u001b[0;31mAttributeError\u001b[0m                            Traceback (most recent call last)",
      "\u001b[0;32m<ipython-input-37-c0c6313757d6>\u001b[0m in \u001b[0;36m<module>\u001b[0;34m\u001b[0m\n\u001b[0;32m----> 1\u001b[0;31m \u001b[0mscale\u001b[0m\u001b[0;34m.\u001b[0m\u001b[0minverse_transform\u001b[0m\u001b[0;34m(\u001b[0m\u001b[0mY_pred\u001b[0m\u001b[0;34m)\u001b[0m\u001b[0;34m\u001b[0m\u001b[0;34m\u001b[0m\u001b[0m\n\u001b[0m",
      "\u001b[0;31mAttributeError\u001b[0m: 'float' object has no attribute 'inverse_transform'"
     ]
    }
   ],
   "source": [
    "scale.inverse_transform(Y_pred)"
   ]
  },
  {
   "cell_type": "code",
   "execution_count": 38,
   "metadata": {},
   "outputs": [],
   "source": [
    "Y_test = Y_test*scale\n",
    "Y_pred = Y_pred*scale"
   ]
  },
  {
   "cell_type": "code",
   "execution_count": 39,
   "metadata": {},
   "outputs": [
    {
     "data": {
      "text/plain": [
       "(1464, 1)"
      ]
     },
     "execution_count": 39,
     "metadata": {},
     "output_type": "execute_result"
    }
   ],
   "source": [
    "Y_pred.shape"
   ]
  },
  {
   "cell_type": "code",
   "execution_count": 40,
   "metadata": {},
   "outputs": [
    {
     "data": {
      "text/plain": [
       "array([49977.36000575, 50166.71000577, 49711.36000572, ...,\n",
       "       46359.28000533, 46114.6100053 , 46458.31000534])"
      ]
     },
     "execution_count": 40,
     "metadata": {},
     "output_type": "execute_result"
    }
   ],
   "source": [
    "Y_test\n"
   ]
  },
  {
   "cell_type": "code",
   "execution_count": 41,
   "metadata": {},
   "outputs": [
    {
     "data": {
      "image/png": "[encoded data removed]",
      "text/plain": [
       "<Figure size 1008x360 with 1 Axes>"
      ]
     },
     "metadata": {
      "needs_background": "light"
     },
     "output_type": "display_data"
    }
   ],
   "source": [
    "plt.figure(figsize=(14,5))\n",
    "plt.plot(Y_test, color = 'red', label = 'Real Bitcoin Price')\n",
    "plt.plot(Y_pred, color = 'green', label = 'Predicted Bitcoin Price')\n",
    "plt.title('Bitcoin Price Prediction using RNN-LSTM')\n",
    "plt.xlabel('Time')\n",
    "plt.ylabel('Price')\n",
    "plt.legend()\n",
    "plt.show()"
   ]
  },
  {
   "cell_type": "code",
   "execution_count": null,
   "metadata": {},
   "outputs": [],
   "source": []
  }
 ],
 "metadata": {
  "kernelspec": {
   "display_name": "Python 3",
   "language": "python",
   "name": "python3"
  },
  "language_info": {
   "codemirror_mode": {
    "name": "ipython",
    "version": 3
   },
   "file_extension": ".py",
   "mimetype": "text/x-python",
   "name": "python",
   "nbconvert_exporter": "python",
   "pygments_lexer": "ipython3",
   "version": "3.6.9"
  }
 },
 "nbformat": 4,
 "nbformat_minor": 4
}
