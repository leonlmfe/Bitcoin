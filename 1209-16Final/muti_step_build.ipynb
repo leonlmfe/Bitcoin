{
 "cells": [
  {
   "cell_type": "code",
   "execution_count": 1,
   "metadata": {},
   "outputs": [],
   "source": [
    "# univariate multi-step lstm\n",
    "from math import sqrt\n",
    "from numpy import split\n",
    "from numpy import array\n",
    "from pandas import read_csv\n",
    "from sklearn.metrics import mean_squared_error\n",
    "from matplotlib import pyplot\n",
    "from keras.models import Sequential\n",
    "from keras.layers import Dense\n",
    "from keras.layers import Flatten\n",
    "from keras.layers import LSTM, Dropout ,RepeatVector,TimeDistributed\n",
    "from sklearn.preprocessing import MinMaxScaler"
   ]
  },
  {
   "cell_type": "code",
   "execution_count": 2,
   "metadata": {},
   "outputs": [
    {
     "data": {
      "text/html": [
       "<div>\n",
       "<style scoped>\n",
       "    .dataframe tbody tr th:only-of-type {\n",
       "        vertical-align: middle;\n",
       "    }\n",
       "\n",
       "    .dataframe tbody tr th {\n",
       "        vertical-align: top;\n",
       "    }\n",
       "\n",
       "    .dataframe thead th {\n",
       "        text-align: right;\n",
       "    }\n",
       "</style>\n",
       "<table border=\"1\" class=\"dataframe\">\n",
       "  <thead>\n",
       "    <tr style=\"text-align: right;\">\n",
       "      <th></th>\n",
       "      <th>close</th>\n",
       "      <th>open</th>\n",
       "      <th>high</th>\n",
       "      <th>low</th>\n",
       "      <th>Volume BTC</th>\n",
       "      <th>NewDateTime</th>\n",
       "      <th>returns</th>\n",
       "      <th>log_returns</th>\n",
       "      <th>SOPR</th>\n",
       "      <th>fundingRate</th>\n",
       "      <th>googleTrend</th>\n",
       "    </tr>\n",
       "  </thead>\n",
       "  <tbody>\n",
       "    <tr>\n",
       "      <th>0</th>\n",
       "      <td>8431.82</td>\n",
       "      <td>8145.28</td>\n",
       "      <td>8455.00</td>\n",
       "      <td>8142.00</td>\n",
       "      <td>11041.87</td>\n",
       "      <td>2020-01-08 00:00:00</td>\n",
       "      <td>1.035179</td>\n",
       "      <td>0.034574</td>\n",
       "      <td>1.011291</td>\n",
       "      <td>0.01</td>\n",
       "      <td>89</td>\n",
       "    </tr>\n",
       "    <tr>\n",
       "      <th>1</th>\n",
       "      <td>8370.92</td>\n",
       "      <td>8431.82</td>\n",
       "      <td>8448.14</td>\n",
       "      <td>8328.89</td>\n",
       "      <td>7355.82</td>\n",
       "      <td>2020-01-08 01:00:00</td>\n",
       "      <td>0.992777</td>\n",
       "      <td>-0.007249</td>\n",
       "      <td>1.011291</td>\n",
       "      <td>0.01</td>\n",
       "      <td>86</td>\n",
       "    </tr>\n",
       "    <tr>\n",
       "      <th>2</th>\n",
       "      <td>8278.59</td>\n",
       "      <td>8370.92</td>\n",
       "      <td>8422.00</td>\n",
       "      <td>8256.74</td>\n",
       "      <td>4048.91</td>\n",
       "      <td>2020-01-08 02:00:00</td>\n",
       "      <td>0.988970</td>\n",
       "      <td>-0.011091</td>\n",
       "      <td>1.011291</td>\n",
       "      <td>0.01</td>\n",
       "      <td>75</td>\n",
       "    </tr>\n",
       "    <tr>\n",
       "      <th>3</th>\n",
       "      <td>8300.34</td>\n",
       "      <td>8278.59</td>\n",
       "      <td>8344.00</td>\n",
       "      <td>8244.93</td>\n",
       "      <td>3947.38</td>\n",
       "      <td>2020-01-08 03:00:00</td>\n",
       "      <td>1.002627</td>\n",
       "      <td>0.002624</td>\n",
       "      <td>1.011291</td>\n",
       "      <td>0.01</td>\n",
       "      <td>68</td>\n",
       "    </tr>\n",
       "    <tr>\n",
       "      <th>4</th>\n",
       "      <td>8344.63</td>\n",
       "      <td>8300.34</td>\n",
       "      <td>8355.87</td>\n",
       "      <td>8288.00</td>\n",
       "      <td>2374.55</td>\n",
       "      <td>2020-01-08 04:00:00</td>\n",
       "      <td>1.005336</td>\n",
       "      <td>0.005322</td>\n",
       "      <td>1.011291</td>\n",
       "      <td>0.01</td>\n",
       "      <td>68</td>\n",
       "    </tr>\n",
       "  </tbody>\n",
       "</table>\n",
       "</div>"
      ],
      "text/plain": [
       "     close     open     high      low  Volume BTC          NewDateTime  \\\n",
       "0  8431.82  8145.28  8455.00  8142.00    11041.87  2020-01-08 00:00:00   \n",
       "1  8370.92  8431.82  8448.14  8328.89     7355.82  2020-01-08 01:00:00   \n",
       "2  8278.59  8370.92  8422.00  8256.74     4048.91  2020-01-08 02:00:00   \n",
       "3  8300.34  8278.59  8344.00  8244.93     3947.38  2020-01-08 03:00:00   \n",
       "4  8344.63  8300.34  8355.87  8288.00     2374.55  2020-01-08 04:00:00   \n",
       "\n",
       "    returns  log_returns      SOPR  fundingRate  googleTrend  \n",
       "0  1.035179     0.034574  1.011291         0.01           89  \n",
       "1  0.992777    -0.007249  1.011291         0.01           86  \n",
       "2  0.988970    -0.011091  1.011291         0.01           75  \n",
       "3  1.002627     0.002624  1.011291         0.01           68  \n",
       "4  1.005336     0.005322  1.011291         0.01           68  "
      ]
     },
     "execution_count": 2,
     "metadata": {},
     "output_type": "execute_result"
    }
   ],
   "source": [
    "# load the new file\n",
    "dataset = read_csv('./data/bitcoin_data.csv', date_parser = True)\n",
    "dataset.drop(dataset.columns[0], axis=1,inplace = True)\n",
    "dataset.head()\n"
   ]
  },
  {
   "cell_type": "code",
   "execution_count": 3,
   "metadata": {},
   "outputs": [
    {
     "data": {
      "text/html": [
       "<div>\n",
       "<style scoped>\n",
       "    .dataframe tbody tr th:only-of-type {\n",
       "        vertical-align: middle;\n",
       "    }\n",
       "\n",
       "    .dataframe tbody tr th {\n",
       "        vertical-align: top;\n",
       "    }\n",
       "\n",
       "    .dataframe thead th {\n",
       "        text-align: right;\n",
       "    }\n",
       "</style>\n",
       "<table border=\"1\" class=\"dataframe\">\n",
       "  <thead>\n",
       "    <tr style=\"text-align: right;\">\n",
       "      <th></th>\n",
       "      <th>close</th>\n",
       "      <th>open</th>\n",
       "      <th>high</th>\n",
       "      <th>low</th>\n",
       "      <th>Volume BTC</th>\n",
       "      <th>returns</th>\n",
       "      <th>log_returns</th>\n",
       "      <th>SOPR</th>\n",
       "      <th>fundingRate</th>\n",
       "      <th>googleTrend</th>\n",
       "    </tr>\n",
       "  </thead>\n",
       "  <tbody>\n",
       "    <tr>\n",
       "      <th>11417</th>\n",
       "      <td>37822.09</td>\n",
       "      <td>37045.45</td>\n",
       "      <td>37913.72</td>\n",
       "      <td>37038.97</td>\n",
       "      <td>4315.490397</td>\n",
       "      <td>1.020965</td>\n",
       "      <td>0.020748</td>\n",
       "      <td>1.055925</td>\n",
       "      <td>0.1003</td>\n",
       "      <td>44</td>\n",
       "    </tr>\n",
       "    <tr>\n",
       "      <th>11418</th>\n",
       "      <td>37941.36</td>\n",
       "      <td>37825.64</td>\n",
       "      <td>38200.00</td>\n",
       "      <td>37518.00</td>\n",
       "      <td>6363.359069</td>\n",
       "      <td>1.003153</td>\n",
       "      <td>0.003148</td>\n",
       "      <td>1.055925</td>\n",
       "      <td>0.1003</td>\n",
       "      <td>51</td>\n",
       "    </tr>\n",
       "    <tr>\n",
       "      <th>11419</th>\n",
       "      <td>38161.60</td>\n",
       "      <td>37941.37</td>\n",
       "      <td>38429.00</td>\n",
       "      <td>37900.00</td>\n",
       "      <td>5364.346066</td>\n",
       "      <td>1.005805</td>\n",
       "      <td>0.005788</td>\n",
       "      <td>1.055925</td>\n",
       "      <td>0.1003</td>\n",
       "      <td>53</td>\n",
       "    </tr>\n",
       "    <tr>\n",
       "      <th>11420</th>\n",
       "      <td>38453.97</td>\n",
       "      <td>38161.60</td>\n",
       "      <td>38644.76</td>\n",
       "      <td>38079.02</td>\n",
       "      <td>5516.633701</td>\n",
       "      <td>1.007661</td>\n",
       "      <td>0.007632</td>\n",
       "      <td>1.055925</td>\n",
       "      <td>0.1003</td>\n",
       "      <td>53</td>\n",
       "    </tr>\n",
       "    <tr>\n",
       "      <th>11421</th>\n",
       "      <td>38970.42</td>\n",
       "      <td>38450.51</td>\n",
       "      <td>38970.42</td>\n",
       "      <td>38062.75</td>\n",
       "      <td>5401.362641</td>\n",
       "      <td>1.013430</td>\n",
       "      <td>0.013341</td>\n",
       "      <td>1.055925</td>\n",
       "      <td>0.1003</td>\n",
       "      <td>55</td>\n",
       "    </tr>\n",
       "  </tbody>\n",
       "</table>\n",
       "</div>"
      ],
      "text/plain": [
       "          close      open      high       low   Volume BTC   returns  \\\n",
       "11417  37822.09  37045.45  37913.72  37038.97  4315.490397  1.020965   \n",
       "11418  37941.36  37825.64  38200.00  37518.00  6363.359069  1.003153   \n",
       "11419  38161.60  37941.37  38429.00  37900.00  5364.346066  1.005805   \n",
       "11420  38453.97  38161.60  38644.76  38079.02  5516.633701  1.007661   \n",
       "11421  38970.42  38450.51  38970.42  38062.75  5401.362641  1.013430   \n",
       "\n",
       "       log_returns      SOPR  fundingRate  googleTrend  \n",
       "11417     0.020748  1.055925       0.1003           44  \n",
       "11418     0.003148  1.055925       0.1003           51  \n",
       "11419     0.005788  1.055925       0.1003           53  \n",
       "11420     0.007632  1.055925       0.1003           53  \n",
       "11421     0.013341  1.055925       0.1003           55  "
      ]
     },
     "execution_count": 3,
     "metadata": {},
     "output_type": "execute_result"
    }
   ],
   "source": [
    "# split into train and test\n",
    "PDate = '2021-10-08'\n",
    "train = dataset[dataset['NewDateTime']>= '2021-01-01'].copy()\n",
    "train = train[train['NewDateTime']< PDate].copy()\n",
    "test = dataset[dataset['NewDateTime']>= PDate].copy()\n",
    "# restructure into windows of weekly data\n",
    "\n",
    "train.drop(train.head(len(train)%168).index,inplace=True)\n",
    "train = train.drop(['NewDateTime'], axis=1)\n",
    "test.drop(test.tail(len(test)%168).index,inplace=True)\n",
    "test = test.drop(['NewDateTime'], axis=1)\n",
    "\n",
    "train.head()\n"
   ]
  },
  {
   "cell_type": "code",
   "execution_count": 4,
   "metadata": {},
   "outputs": [
    {
     "data": {
      "text/html": [
       "<div>\n",
       "<style scoped>\n",
       "    .dataframe tbody tr th:only-of-type {\n",
       "        vertical-align: middle;\n",
       "    }\n",
       "\n",
       "    .dataframe tbody tr th {\n",
       "        vertical-align: top;\n",
       "    }\n",
       "\n",
       "    .dataframe thead th {\n",
       "        text-align: right;\n",
       "    }\n",
       "</style>\n",
       "<table border=\"1\" class=\"dataframe\">\n",
       "  <thead>\n",
       "    <tr style=\"text-align: right;\">\n",
       "      <th></th>\n",
       "      <th>close</th>\n",
       "      <th>open</th>\n",
       "      <th>high</th>\n",
       "      <th>low</th>\n",
       "      <th>Volume BTC</th>\n",
       "      <th>returns</th>\n",
       "      <th>log_returns</th>\n",
       "      <th>SOPR</th>\n",
       "      <th>fundingRate</th>\n",
       "      <th>googleTrend</th>\n",
       "    </tr>\n",
       "  </thead>\n",
       "  <tbody>\n",
       "    <tr>\n",
       "      <th>17969</th>\n",
       "      <td>54108.00</td>\n",
       "      <td>53785.22</td>\n",
       "      <td>54235.99</td>\n",
       "      <td>53711.57</td>\n",
       "      <td>1319.71058</td>\n",
       "      <td>1.006001</td>\n",
       "      <td>0.005983</td>\n",
       "      <td>1.003487</td>\n",
       "      <td>0.0326</td>\n",
       "      <td>56</td>\n",
       "    </tr>\n",
       "    <tr>\n",
       "      <th>17970</th>\n",
       "      <td>54297.35</td>\n",
       "      <td>54108.01</td>\n",
       "      <td>54397.00</td>\n",
       "      <td>54051.10</td>\n",
       "      <td>1107.57340</td>\n",
       "      <td>1.003499</td>\n",
       "      <td>0.003493</td>\n",
       "      <td>1.003487</td>\n",
       "      <td>0.0326</td>\n",
       "      <td>56</td>\n",
       "    </tr>\n",
       "    <tr>\n",
       "      <th>17971</th>\n",
       "      <td>53842.00</td>\n",
       "      <td>54297.35</td>\n",
       "      <td>54429.99</td>\n",
       "      <td>53776.50</td>\n",
       "      <td>1547.30709</td>\n",
       "      <td>0.991614</td>\n",
       "      <td>-0.008422</td>\n",
       "      <td>1.003487</td>\n",
       "      <td>0.0326</td>\n",
       "      <td>56</td>\n",
       "    </tr>\n",
       "    <tr>\n",
       "      <th>17972</th>\n",
       "      <td>53815.22</td>\n",
       "      <td>53842.01</td>\n",
       "      <td>53940.00</td>\n",
       "      <td>53691.02</td>\n",
       "      <td>1401.24886</td>\n",
       "      <td>0.999503</td>\n",
       "      <td>-0.000498</td>\n",
       "      <td>1.003487</td>\n",
       "      <td>0.0326</td>\n",
       "      <td>56</td>\n",
       "    </tr>\n",
       "    <tr>\n",
       "      <th>17973</th>\n",
       "      <td>53877.93</td>\n",
       "      <td>53815.21</td>\n",
       "      <td>53972.94</td>\n",
       "      <td>53766.28</td>\n",
       "      <td>1097.26855</td>\n",
       "      <td>1.001165</td>\n",
       "      <td>0.001165</td>\n",
       "      <td>1.003487</td>\n",
       "      <td>0.0326</td>\n",
       "      <td>56</td>\n",
       "    </tr>\n",
       "  </tbody>\n",
       "</table>\n",
       "</div>"
      ],
      "text/plain": [
       "          close      open      high       low  Volume BTC   returns  \\\n",
       "17969  54108.00  53785.22  54235.99  53711.57  1319.71058  1.006001   \n",
       "17970  54297.35  54108.01  54397.00  54051.10  1107.57340  1.003499   \n",
       "17971  53842.00  54297.35  54429.99  53776.50  1547.30709  0.991614   \n",
       "17972  53815.22  53842.01  53940.00  53691.02  1401.24886  0.999503   \n",
       "17973  53877.93  53815.21  53972.94  53766.28  1097.26855  1.001165   \n",
       "\n",
       "       log_returns      SOPR  fundingRate  googleTrend  \n",
       "17969     0.005983  1.003487       0.0326           56  \n",
       "17970     0.003493  1.003487       0.0326           56  \n",
       "17971    -0.008422  1.003487       0.0326           56  \n",
       "17972    -0.000498  1.003487       0.0326           56  \n",
       "17973     0.001165  1.003487       0.0326           56  "
      ]
     },
     "execution_count": 4,
     "metadata": {},
     "output_type": "execute_result"
    }
   ],
   "source": [
    "test.head()\n"
   ]
  },
  {
   "cell_type": "code",
   "execution_count": 5,
   "metadata": {},
   "outputs": [
    {
     "data": {
      "text/plain": [
       "array([2.82979331e-05, 2.82979491e-05, 2.84517928e-05, 2.81888654e-05,\n",
       "       2.26040745e-05, 4.70137657e+00, 4.76290973e+00, 1.02247277e+01,\n",
       "       2.95333727e+00, 1.17647059e-02])"
      ]
     },
     "execution_count": 5,
     "metadata": {},
     "output_type": "execute_result"
    }
   ],
   "source": [
    "scaler = MinMaxScaler()\n",
    "train_data = scaler.fit_transform(train)\n",
    "test_in = scaler.inverse_transform(train_data)\n",
    "# test = scaler.transform(test)\n",
    "scaler.scale_"
   ]
  },
  {
   "cell_type": "code",
   "execution_count": 6,
   "metadata": {},
   "outputs": [
    {
     "data": {
      "text/plain": [
       "array([[3.78220900e+04, 3.70454500e+04, 3.79137200e+04, ...,\n",
       "        1.05592485e+00, 1.00300000e-01, 4.40000000e+01],\n",
       "       [3.79413600e+04, 3.78256400e+04, 3.82000000e+04, ...,\n",
       "        1.05592485e+00, 1.00300000e-01, 5.10000000e+01],\n",
       "       [3.81616000e+04, 3.79413700e+04, 3.84290000e+04, ...,\n",
       "        1.05592485e+00, 1.00300000e-01, 5.30000000e+01],\n",
       "       ...,\n",
       "       [5.42756200e+04, 5.41671800e+04, 5.45000000e+04, ...,\n",
       "        1.00714983e+00, 2.91000000e-02, 6.40000000e+01],\n",
       "       [5.38993900e+04, 5.42756100e+04, 5.46403000e+04, ...,\n",
       "        1.00714983e+00, 2.91000000e-02, 6.40000000e+01],\n",
       "       [5.37852200e+04, 5.38955700e+04, 5.39648000e+04, ...,\n",
       "        1.00714983e+00, 2.91000000e-02, 6.40000000e+01]])"
      ]
     },
     "execution_count": 6,
     "metadata": {},
     "output_type": "execute_result"
    }
   ],
   "source": [
    "test_in"
   ]
  },
  {
   "cell_type": "code",
   "execution_count": 7,
   "metadata": {},
   "outputs": [
    {
     "data": {
      "text/plain": [
       "array([2.82979331e-05, 2.82979491e-05, 2.84517928e-05, 2.81888654e-05,\n",
       "       2.26040745e-05, 4.70137657e+00, 4.76290973e+00, 1.02247277e+01,\n",
       "       2.95333727e+00, 1.17647059e-02])"
      ]
     },
     "execution_count": 7,
     "metadata": {},
     "output_type": "execute_result"
    }
   ],
   "source": [
    "scaler.scale_"
   ]
  },
  {
   "cell_type": "code",
   "execution_count": 8,
   "metadata": {},
   "outputs": [
    {
     "data": {
      "text/plain": [
       "35338.26998834767"
      ]
     },
     "execution_count": 8,
     "metadata": {},
     "output_type": "execute_result"
    }
   ],
   "source": [
    "scale =1/2.82979331e-05\n",
    "scale"
   ]
  },
  {
   "cell_type": "code",
   "execution_count": 9,
   "metadata": {},
   "outputs": [
    {
     "data": {
      "text/plain": [
       "8583.100014467134"
      ]
     },
     "execution_count": 9,
     "metadata": {},
     "output_type": "execute_result"
    }
   ],
   "source": [
    "0.24288399*scale"
   ]
  },
  {
   "cell_type": "code",
   "execution_count": 10,
   "metadata": {},
   "outputs": [
    {
     "data": {
      "text/plain": [
       "array([[[5.41080000e+04, 5.37852200e+04, 5.42359900e+04, ...,\n",
       "         1.00348744e+00, 3.26000000e-02, 5.60000000e+01],\n",
       "        [5.42973500e+04, 5.41080100e+04, 5.43970000e+04, ...,\n",
       "         1.00348744e+00, 3.26000000e-02, 5.60000000e+01],\n",
       "        [5.38420000e+04, 5.42973500e+04, 5.44299900e+04, ...,\n",
       "         1.00348744e+00, 3.26000000e-02, 5.60000000e+01],\n",
       "        ...,\n",
       "        [5.41622000e+04, 5.40017000e+04, 5.43316900e+04, ...,\n",
       "         1.00348744e+00, 2.33000000e-02, 5.60000000e+01],\n",
       "        [5.40600500e+04, 5.41622000e+04, 5.42640000e+04, ...,\n",
       "         1.00348744e+00, 2.33000000e-02, 5.60000000e+01],\n",
       "        [5.39514300e+04, 5.40600500e+04, 5.41366000e+04, ...,\n",
       "         1.00348744e+00, 2.33000000e-02, 5.60000000e+01]],\n",
       "\n",
       "       [[5.42641700e+04, 5.39556700e+04, 5.42983500e+04, ...,\n",
       "         1.00282975e+00, 1.34000000e-02, 4.80000000e+01],\n",
       "        [5.40075500e+04, 5.42641600e+04, 5.43077100e+04, ...,\n",
       "         1.00282975e+00, 1.34000000e-02, 4.80000000e+01],\n",
       "        [5.41563800e+04, 5.40075500e+04, 5.41977600e+04, ...,\n",
       "         1.00282975e+00, 1.34000000e-02, 4.80000000e+01],\n",
       "        ...,\n",
       "        [5.48489400e+04, 5.46638300e+04, 5.48631800e+04, ...,\n",
       "         1.00282975e+00, 1.00000000e-02, 4.80000000e+01],\n",
       "        [5.48964100e+04, 5.48489400e+04, 5.49691200e+04, ...,\n",
       "         1.00282975e+00, 1.00000000e-02, 4.80000000e+01],\n",
       "        [5.49497200e+04, 5.48963900e+04, 5.51650000e+04, ...,\n",
       "         1.00282975e+00, 1.00000000e-02, 4.80000000e+01]],\n",
       "\n",
       "       [[5.49052700e+04, 5.49497200e+04, 5.51990000e+04, ...,\n",
       "         1.00421943e+00, 1.57000000e-02, 5.20000000e+01],\n",
       "        [5.43828300e+04, 5.49052700e+04, 5.49538200e+04, ...,\n",
       "         1.00421943e+00, 1.57000000e-02, 5.20000000e+01],\n",
       "        [5.46335200e+04, 5.43828300e+04, 5.47687800e+04, ...,\n",
       "         1.00421943e+00, 1.57000000e-02, 5.20000000e+01],\n",
       "        ...,\n",
       "        [5.48010700e+04, 5.54298000e+04, 5.54428800e+04, ...,\n",
       "         1.00421943e+00, 2.09000000e-02, 5.20000000e+01],\n",
       "        [5.49134500e+04, 5.48010700e+04, 5.49737400e+04, ...,\n",
       "         1.00421943e+00, 2.09000000e-02, 5.20000000e+01],\n",
       "        [5.46590000e+04, 5.49134500e+04, 5.49452400e+04, ...,\n",
       "         1.00421943e+00, 2.09000000e-02, 5.20000000e+01]],\n",
       "\n",
       "       ...,\n",
       "\n",
       "       [[5.77073800e+04, 5.77762500e+04, 5.79641800e+04, ...,\n",
       "         1.00153746e+00, 2.07000000e-02, 7.80000000e+01],\n",
       "        [5.72600600e+04, 5.77073800e+04, 5.77757000e+04, ...,\n",
       "         1.00153746e+00, 2.07000000e-02, 7.80000000e+01],\n",
       "        [5.73578500e+04, 5.72600500e+04, 5.75124100e+04, ...,\n",
       "         1.00153746e+00, 2.07000000e-02, 7.80000000e+01],\n",
       "        ...,\n",
       "        [5.70977900e+04, 5.74004100e+04, 5.77860800e+04, ...,\n",
       "         1.00153746e+00, 1.00000000e-02, 7.80000000e+01],\n",
       "        [5.72679100e+04, 5.70978000e+04, 5.75345400e+04, ...,\n",
       "         1.00153746e+00, 1.00000000e-02, 7.80000000e+01],\n",
       "        [5.69505600e+04, 5.72679000e+04, 5.74242300e+04, ...,\n",
       "         1.00153746e+00, 1.00000000e-02, 7.80000000e+01]],\n",
       "\n",
       "       [[5.75770700e+04, 5.69505600e+04, 5.76861200e+04, ...,\n",
       "         1.00367987e+00, 1.00000000e-02, 4.50000000e+01],\n",
       "        [5.69945800e+04, 5.75770700e+04, 5.75770800e+04, ...,\n",
       "         1.00367987e+00, 1.00000000e-02, 4.50000000e+01],\n",
       "        [5.72615200e+04, 5.69905200e+04, 5.73626800e+04, ...,\n",
       "         1.00367987e+00, 1.00000000e-02, 4.50000000e+01],\n",
       "        ...,\n",
       "        [5.69878200e+04, 5.67885400e+04, 5.70301400e+04, ...,\n",
       "         1.00367987e+00, 2.91000000e-02, 4.50000000e+01],\n",
       "        [5.70573800e+04, 5.69878200e+04, 5.71400600e+04, ...,\n",
       "         1.00367987e+00, 2.91000000e-02, 4.50000000e+01],\n",
       "        [5.71840700e+04, 5.70573900e+04, 5.72441100e+04, ...,\n",
       "         1.00367987e+00, 2.91000000e-02, 4.50000000e+01]],\n",
       "\n",
       "       [[5.70092900e+04, 5.71840700e+04, 5.71956700e+04, ...,\n",
       "         9.99855067e-01, 1.00000000e-02, 4.20000000e+01],\n",
       "        [5.72014100e+04, 5.70093000e+04, 5.73754700e+04, ...,\n",
       "         9.99855067e-01, 1.00000000e-02, 4.20000000e+01],\n",
       "        [5.69503600e+04, 5.72014000e+04, 5.72217300e+04, ...,\n",
       "         9.99855067e-01, 1.00000000e-02, 4.20000000e+01],\n",
       "        ...,\n",
       "        [5.68587100e+04, 5.70281200e+04, 5.70342000e+04, ...,\n",
       "         9.99855067e-01, 1.00000000e-02, 1.80000000e+01],\n",
       "        [5.68417000e+04, 5.68587000e+04, 5.69183500e+04, ...,\n",
       "         9.99855067e-01, 1.00000000e-02, 1.70000000e+01],\n",
       "        [5.64803400e+04, 5.68417000e+04, 5.69173000e+04, ...,\n",
       "         9.99855067e-01, 1.00000000e-02, 1.70000000e+01]]])"
      ]
     },
     "execution_count": 10,
     "metadata": {},
     "output_type": "execute_result"
    }
   ],
   "source": [
    "train = array(split(train, len(train)/24))\n",
    "# print(len(test))\n",
    "\n",
    "test = array(split(test, len(test)/24))\n",
    "test"
   ]
  },
  {
   "cell_type": "code",
   "execution_count": 11,
   "metadata": {},
   "outputs": [],
   "source": [
    "# evaluate model and get scores\n",
    "n_input = 168\n"
   ]
  },
  {
   "cell_type": "code",
   "execution_count": 12,
   "metadata": {},
   "outputs": [
    {
     "data": {
      "text/plain": [
       "(6360, 24)"
      ]
     },
     "execution_count": 12,
     "metadata": {},
     "output_type": "execute_result"
    }
   ],
   "source": [
    "\n",
    "# history is a list of weekly data\n",
    "# prepare data\n",
    "# train_x, train_y = to_supervised(train, n_input)\n",
    "n_out=24\n",
    "# flatten data\n",
    "data = train.reshape((train.shape[0]*train.shape[1], train.shape[2]))\n",
    "X, y = list(), list()\n",
    "in_start = 0\n",
    "# step over the entire history one time step at a time\n",
    "for _ in range(len(data)):\n",
    "\t# define the end of the input sequence\n",
    "\tin_end = in_start + n_input\n",
    "\tout_end = in_end + n_out\n",
    "\t# ensure we have enough data for this instance\n",
    "\tif out_end < len(data):\n",
    "\t\tX.append(data[in_start:in_end, :])\n",
    "\t\ty.append(data[in_end:out_end, 0])\n",
    "\t# move along one time step\n",
    "\tin_start += 1\n",
    "train_x ,train_y =array(X), array(y)\n",
    "train_y.shape"
   ]
  },
  {
   "cell_type": "code",
   "execution_count": 13,
   "metadata": {},
   "outputs": [],
   "source": [
    "# # define parameters\n",
    "# verbose, epochs, batch_size = 1, 50, 64\n",
    "# n_timesteps, n_features, n_outputs = train_x.shape[1], train_x.shape[2], train_y.shape[1]\n",
    "# # reshape output into [samples, timesteps, features]\n",
    "# train_y = train_y.reshape((train_y.shape[0], train_y.shape[1], 1))\n",
    "# # define model\n",
    "# # define model\n",
    "# model = Sequential()\n",
    "# model.add(LSTM(200, activation='relu', input_shape=(n_timesteps, n_features)))\n",
    "# model.add(RepeatVector(n_outputs))\n",
    "# # model.add(Dropout(0.1))\n",
    "# model.add(LSTM(200, activation='relu', return_sequences=True))\n",
    "# model.add(TimeDistributed(Dense(100, activation='relu')))\n",
    "# model.add(TimeDistributed(Dense(1)))\n",
    "\n",
    "# model.summary()\n"
   ]
  },
  {
   "cell_type": "code",
   "execution_count": 14,
   "metadata": {},
   "outputs": [],
   "source": [
    "# model.compile(loss='mse', optimizer='adam')\n",
    "# # fit network\n",
    "# model.fit(train_x, train_y, epochs=epochs, batch_size=batch_size)"
   ]
  },
  {
   "cell_type": "code",
   "execution_count": 15,
   "metadata": {},
   "outputs": [],
   "source": [
    "# model.save(\"LSTM_model_1215.h5\")"
   ]
  },
  {
   "cell_type": "code",
   "execution_count": 16,
   "metadata": {},
   "outputs": [],
   "source": [
    "# !jupyter nbconvert --to script muti_step_build.ipynb"
   ]
  },
  {
   "cell_type": "code",
   "execution_count": 17,
   "metadata": {},
   "outputs": [],
   "source": [
    "from tensorflow import keras\n",
    "model = Sequential()\n",
    "model = keras.models.load_model(\"ms_model_t002.h5\")"
   ]
  },
  {
   "cell_type": "code",
   "execution_count": 1,
   "metadata": {},
   "outputs": [
    {
     "ename": "NameError",
     "evalue": "name 'train' is not defined",
     "output_type": "error",
     "traceback": [
      "\u001b[0;31m---------------------------------------------------------------------------\u001b[0m",
      "\u001b[0;31mNameError\u001b[0m                                 Traceback (most recent call last)",
      "\u001b[0;32m<ipython-input-1-f79151390798>\u001b[0m in \u001b[0;36m<module>\u001b[0;34m\u001b[0m\n\u001b[0;32m----> 1\u001b[0;31m \u001b[0mhistory\u001b[0m \u001b[0;34m=\u001b[0m \u001b[0;34m[\u001b[0m\u001b[0mx\u001b[0m \u001b[0;32mfor\u001b[0m \u001b[0mx\u001b[0m \u001b[0;32min\u001b[0m \u001b[0mtrain\u001b[0m\u001b[0;34m]\u001b[0m\u001b[0;34m\u001b[0m\u001b[0;34m\u001b[0m\u001b[0m\n\u001b[0m\u001b[1;32m      2\u001b[0m \u001b[0;31m# walk-forward validation over each week\u001b[0m\u001b[0;34m\u001b[0m\u001b[0;34m\u001b[0m\u001b[0;34m\u001b[0m\u001b[0m\n\u001b[1;32m      3\u001b[0m \u001b[0mpredictions\u001b[0m \u001b[0;34m=\u001b[0m \u001b[0mlist\u001b[0m\u001b[0;34m(\u001b[0m\u001b[0;34m)\u001b[0m\u001b[0;34m\u001b[0m\u001b[0;34m\u001b[0m\u001b[0m\n\u001b[1;32m      4\u001b[0m \u001b[0;32mfor\u001b[0m \u001b[0mi\u001b[0m \u001b[0;32min\u001b[0m \u001b[0mrange\u001b[0m\u001b[0;34m(\u001b[0m\u001b[0mlen\u001b[0m\u001b[0;34m(\u001b[0m\u001b[0mtest\u001b[0m\u001b[0;34m)\u001b[0m\u001b[0;34m)\u001b[0m\u001b[0;34m:\u001b[0m\u001b[0;34m\u001b[0m\u001b[0;34m\u001b[0m\u001b[0m\n\u001b[1;32m      5\u001b[0m     \u001b[0;31m# predict the week\u001b[0m\u001b[0;34m\u001b[0m\u001b[0;34m\u001b[0m\u001b[0;34m\u001b[0m\u001b[0m\n",
      "\u001b[0;31mNameError\u001b[0m: name 'train' is not defined"
     ]
    }
   ],
   "source": [
    "history = [x for x in train]\n",
    "# walk-forward validation over each week\n",
    "predictions = list()\n",
    "for i in range(len(test)):\n",
    "    # predict the week\n",
    "    data = array(history)\n",
    "    data = data.reshape((data.shape[0]*data.shape[1], data.shape[2]))\n",
    "    # retrieve last observations for input data\n",
    "    input_x = data[-n_input:, :]\n",
    "    # reshape into [1, n_input, n]\n",
    "    input_x = input_x.reshape((1, input_x.shape[0], input_x.shape[1]))\n",
    "    # forecast the next week\n",
    "#     print(input_x/scale)\n",
    "    yhat = model.predict(input_x, verbose=0)  \n",
    "    # we only want the vector forecast\n",
    "    yhat = yhat[0]\n",
    "    yhat = yhat/scale\n",
    "#     print(yhat)\n",
    "    # store the predictions\n",
    "    predictions.append(yhat)\n",
    "    # get real observation and add to history for predicting the next week\n",
    "    history.append(test[i, :])\n",
    "# evaluate predictions days for each week\n",
    "predictions = array(predictions)"
   ]
  },
  {
   "cell_type": "code",
   "execution_count": 19,
   "metadata": {},
   "outputs": [
    {
     "data": {
      "text/plain": [
       "168"
      ]
     },
     "execution_count": 19,
     "metadata": {},
     "output_type": "execute_result"
    }
   ],
   "source": [
    "n_input"
   ]
  },
  {
   "cell_type": "code",
   "execution_count": 20,
   "metadata": {},
   "outputs": [],
   "source": [
    "actual = test[:, :, 0]\n",
    "predicted = predictions\n",
    "scores = list()\n",
    "# calculate an RMSE score for each day\n",
    "for i in range(actual.shape[1]):\n",
    "\t# calculate mse\n",
    "\tmse = mean_squared_error(actual[:, i], predicted[:, i])\n",
    "\t# calculate rmse\n",
    "\trmse = sqrt(mse)\n",
    "\t# store\n",
    "\tscores.append(rmse)\n",
    "# calculate overall RMSE\n",
    "s = 0\n",
    "for row in range(actual.shape[0]):\n",
    "\tfor col in range(actual.shape[1]):\n",
    "\t\ts += (actual[row, col] - predicted[row, col])**2\n",
    "score = sqrt(s / (actual.shape[0] * actual.shape[1]))"
   ]
  },
  {
   "cell_type": "code",
   "execution_count": 21,
   "metadata": {},
   "outputs": [
    {
     "name": "stdout",
     "output_type": "stream",
     "text": [
      "lstm: [73104.748] 77953.2, 77511.3, 76340.5, 75361.0, 74576.0, 73984.2, 73507.2, 73104.0, 72777.4, 72531.8, 72338.6, 72189.5, 72072.4, 71978.9, 71907.1, 71852.4, 71810.0, 71778.1, 71754.6, 71737.9, 71726.6, 71719.5, 71715.7, 71714.3\n"
     ]
    }
   ],
   "source": [
    "s_scores = ', '.join(['%.1f' % s for s in scores])\n",
    "print('%s: [%.3f] %s' % ('lstm', score, s_scores))"
   ]
  },
  {
   "cell_type": "code",
   "execution_count": 22,
   "metadata": {},
   "outputs": [
    {
     "data": {
      "image/png": "[encoded data removed]",
      "text/plain": [
       "<Figure size 432x288 with 1 Axes>"
      ]
     },
     "metadata": {
      "needs_background": "light"
     },
     "output_type": "display_data"
    }
   ],
   "source": [
    "# plot scores\n",
    "days = ['1','2','3','4','5','6','7','8','9','10','11','12','13','14','15','16','17','18','19','20','21','22','23','24']\n",
    "pyplot.plot(days, scores, marker='o', label='lstm')\n",
    "pyplot.show()"
   ]
  },
  {
   "cell_type": "code",
   "execution_count": null,
   "metadata": {},
   "outputs": [],
   "source": []
  }
 ],
 "metadata": {
  "kernelspec": {
   "display_name": "Python 3",
   "language": "python",
   "name": "python3"
  },
  "language_info": {
   "codemirror_mode": {
    "name": "ipython",
    "version": 3
   },
   "file_extension": ".py",
   "mimetype": "text/x-python",
   "name": "python",
   "nbconvert_exporter": "python",
   "pygments_lexer": "ipython3",
   "version": "3.6.9"
  }
 },
 "nbformat": 4,
 "nbformat_minor": 4
}
