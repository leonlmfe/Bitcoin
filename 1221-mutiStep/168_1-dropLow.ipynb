{
 "cells": [
  {
   "cell_type": "code",
   "execution_count": 4,
   "metadata": {},
   "outputs": [],
   "source": [
    "import numpy as np\n",
    "import matplotlib.pyplot as plt\n",
    "import pandas as pd\n",
    "import gc\n",
    "from sklearn.preprocessing import MinMaxScaler\n",
    "from pandas import read_csv"
   ]
  },
  {
   "cell_type": "code",
   "execution_count": 5,
   "metadata": {},
   "outputs": [
    {
     "data": {
      "text/plain": [
       "19468"
      ]
     },
     "execution_count": 5,
     "metadata": {},
     "output_type": "execute_result"
    }
   ],
   "source": [
    "# load the new file\n",
    "df = read_csv('./data/bitcoin_data.csv', date_parser = True)\n",
    "df.drop(df.columns[0], axis=1,inplace = True)\n",
    "len(df)"
   ]
  },
  {
   "cell_type": "code",
   "execution_count": 6,
   "metadata": {},
   "outputs": [
    {
     "data": {
      "text/plain": [
       "8206"
      ]
     },
     "execution_count": 6,
     "metadata": {},
     "output_type": "execute_result"
    }
   ],
   "source": [
    "df = df[df['NewDateTime']>= '2021-01-01'].copy()\n",
    "len(df)"
   ]
  },
  {
   "cell_type": "code",
   "execution_count": 7,
   "metadata": {},
   "outputs": [],
   "source": [
    "# df.drop(df.head(len(df)%168).index,inplace=True)\n",
    "# len(df)"
   ]
  },
  {
   "cell_type": "code",
   "execution_count": 8,
   "metadata": {},
   "outputs": [
    {
     "data": {
      "text/plain": [
       "7180"
      ]
     },
     "execution_count": 8,
     "metadata": {},
     "output_type": "execute_result"
    }
   ],
   "source": [
    "int(len(df)/8*7)"
   ]
  },
  {
   "cell_type": "code",
   "execution_count": 9,
   "metadata": {},
   "outputs": [
    {
     "data": {
      "text/plain": [
       "7180"
      ]
     },
     "execution_count": 9,
     "metadata": {},
     "output_type": "execute_result"
    }
   ],
   "source": [
    "data_training = df.iloc[0:int(len(df)/8*7),:]\n",
    "data_test = df.iloc[int(len(df)/8*7):int(len(df)),:]\n",
    "\n",
    "len(data_training)"
   ]
  },
  {
   "cell_type": "code",
   "execution_count": 10,
   "metadata": {},
   "outputs": [
    {
     "data": {
      "text/html": [
       "<div>\n",
       "<style scoped>\n",
       "    .dataframe tbody tr th:only-of-type {\n",
       "        vertical-align: middle;\n",
       "    }\n",
       "\n",
       "    .dataframe tbody tr th {\n",
       "        vertical-align: top;\n",
       "    }\n",
       "\n",
       "    .dataframe thead th {\n",
       "        text-align: right;\n",
       "    }\n",
       "</style>\n",
       "<table border=\"1\" class=\"dataframe\">\n",
       "  <thead>\n",
       "    <tr style=\"text-align: right;\">\n",
       "      <th></th>\n",
       "      <th>close</th>\n",
       "      <th>open</th>\n",
       "      <th>high</th>\n",
       "      <th>low</th>\n",
       "      <th>Volume BTC</th>\n",
       "      <th>returns</th>\n",
       "      <th>log_returns</th>\n",
       "      <th>SOPR</th>\n",
       "      <th>fundingRate</th>\n",
       "      <th>googleTrend</th>\n",
       "    </tr>\n",
       "  </thead>\n",
       "  <tbody>\n",
       "    <tr>\n",
       "      <th>11262</th>\n",
       "      <td>28995.13</td>\n",
       "      <td>28923.63</td>\n",
       "      <td>29031.34</td>\n",
       "      <td>28690.17</td>\n",
       "      <td>2311.811445</td>\n",
       "      <td>1.002472</td>\n",
       "      <td>0.002469</td>\n",
       "      <td>1.041846</td>\n",
       "      <td>0.0367</td>\n",
       "      <td>38</td>\n",
       "    </tr>\n",
       "    <tr>\n",
       "      <th>11263</th>\n",
       "      <td>29409.99</td>\n",
       "      <td>28995.13</td>\n",
       "      <td>29470.00</td>\n",
       "      <td>28960.35</td>\n",
       "      <td>5403.068471</td>\n",
       "      <td>1.014308</td>\n",
       "      <td>0.014207</td>\n",
       "      <td>1.041846</td>\n",
       "      <td>0.0367</td>\n",
       "      <td>36</td>\n",
       "    </tr>\n",
       "    <tr>\n",
       "      <th>11264</th>\n",
       "      <td>29194.65</td>\n",
       "      <td>29410.00</td>\n",
       "      <td>29465.26</td>\n",
       "      <td>29120.03</td>\n",
       "      <td>2384.231560</td>\n",
       "      <td>0.992678</td>\n",
       "      <td>-0.007349</td>\n",
       "      <td>1.041846</td>\n",
       "      <td>0.0367</td>\n",
       "      <td>34</td>\n",
       "    </tr>\n",
       "    <tr>\n",
       "      <th>11265</th>\n",
       "      <td>29278.40</td>\n",
       "      <td>29195.25</td>\n",
       "      <td>29367.00</td>\n",
       "      <td>29150.02</td>\n",
       "      <td>1461.345077</td>\n",
       "      <td>1.002869</td>\n",
       "      <td>0.002865</td>\n",
       "      <td>1.041846</td>\n",
       "      <td>0.0367</td>\n",
       "      <td>33</td>\n",
       "    </tr>\n",
       "    <tr>\n",
       "      <th>11266</th>\n",
       "      <td>29220.31</td>\n",
       "      <td>29278.41</td>\n",
       "      <td>29395.00</td>\n",
       "      <td>29029.40</td>\n",
       "      <td>2038.046803</td>\n",
       "      <td>0.998016</td>\n",
       "      <td>-0.001986</td>\n",
       "      <td>1.041846</td>\n",
       "      <td>0.0367</td>\n",
       "      <td>32</td>\n",
       "    </tr>\n",
       "    <tr>\n",
       "      <th>...</th>\n",
       "      <td>...</td>\n",
       "      <td>...</td>\n",
       "      <td>...</td>\n",
       "      <td>...</td>\n",
       "      <td>...</td>\n",
       "      <td>...</td>\n",
       "      <td>...</td>\n",
       "      <td>...</td>\n",
       "      <td>...</td>\n",
       "      <td>...</td>\n",
       "    </tr>\n",
       "    <tr>\n",
       "      <th>18437</th>\n",
       "      <td>59029.03</td>\n",
       "      <td>58564.00</td>\n",
       "      <td>59091.84</td>\n",
       "      <td>58270.00</td>\n",
       "      <td>2793.149050</td>\n",
       "      <td>1.007941</td>\n",
       "      <td>0.007909</td>\n",
       "      <td>0.998682</td>\n",
       "      <td>0.0331</td>\n",
       "      <td>70</td>\n",
       "    </tr>\n",
       "    <tr>\n",
       "      <th>18438</th>\n",
       "      <td>59012.57</td>\n",
       "      <td>59031.50</td>\n",
       "      <td>59324.90</td>\n",
       "      <td>58899.70</td>\n",
       "      <td>2007.475280</td>\n",
       "      <td>0.999721</td>\n",
       "      <td>-0.000279</td>\n",
       "      <td>0.998682</td>\n",
       "      <td>0.0331</td>\n",
       "      <td>70</td>\n",
       "    </tr>\n",
       "    <tr>\n",
       "      <th>18439</th>\n",
       "      <td>59162.25</td>\n",
       "      <td>59012.57</td>\n",
       "      <td>59449.00</td>\n",
       "      <td>58709.08</td>\n",
       "      <td>2394.305750</td>\n",
       "      <td>1.002536</td>\n",
       "      <td>0.002533</td>\n",
       "      <td>0.998682</td>\n",
       "      <td>0.0331</td>\n",
       "      <td>70</td>\n",
       "    </tr>\n",
       "    <tr>\n",
       "      <th>18440</th>\n",
       "      <td>58819.14</td>\n",
       "      <td>59162.25</td>\n",
       "      <td>59360.20</td>\n",
       "      <td>58758.00</td>\n",
       "      <td>2149.769660</td>\n",
       "      <td>0.994201</td>\n",
       "      <td>-0.005816</td>\n",
       "      <td>0.998682</td>\n",
       "      <td>0.0331</td>\n",
       "      <td>70</td>\n",
       "    </tr>\n",
       "    <tr>\n",
       "      <th>18441</th>\n",
       "      <td>58867.81</td>\n",
       "      <td>58819.15</td>\n",
       "      <td>59066.05</td>\n",
       "      <td>58547.38</td>\n",
       "      <td>2366.259530</td>\n",
       "      <td>1.000827</td>\n",
       "      <td>0.000827</td>\n",
       "      <td>0.998682</td>\n",
       "      <td>0.0303</td>\n",
       "      <td>70</td>\n",
       "    </tr>\n",
       "  </tbody>\n",
       "</table>\n",
       "<p>7180 rows × 10 columns</p>\n",
       "</div>"
      ],
      "text/plain": [
       "          close      open      high       low   Volume BTC   returns  \\\n",
       "11262  28995.13  28923.63  29031.34  28690.17  2311.811445  1.002472   \n",
       "11263  29409.99  28995.13  29470.00  28960.35  5403.068471  1.014308   \n",
       "11264  29194.65  29410.00  29465.26  29120.03  2384.231560  0.992678   \n",
       "11265  29278.40  29195.25  29367.00  29150.02  1461.345077  1.002869   \n",
       "11266  29220.31  29278.41  29395.00  29029.40  2038.046803  0.998016   \n",
       "...         ...       ...       ...       ...          ...       ...   \n",
       "18437  59029.03  58564.00  59091.84  58270.00  2793.149050  1.007941   \n",
       "18438  59012.57  59031.50  59324.90  58899.70  2007.475280  0.999721   \n",
       "18439  59162.25  59012.57  59449.00  58709.08  2394.305750  1.002536   \n",
       "18440  58819.14  59162.25  59360.20  58758.00  2149.769660  0.994201   \n",
       "18441  58867.81  58819.15  59066.05  58547.38  2366.259530  1.000827   \n",
       "\n",
       "       log_returns      SOPR  fundingRate  googleTrend  \n",
       "11262     0.002469  1.041846       0.0367           38  \n",
       "11263     0.014207  1.041846       0.0367           36  \n",
       "11264    -0.007349  1.041846       0.0367           34  \n",
       "11265     0.002865  1.041846       0.0367           33  \n",
       "11266    -0.001986  1.041846       0.0367           32  \n",
       "...            ...       ...          ...          ...  \n",
       "18437     0.007909  0.998682       0.0331           70  \n",
       "18438    -0.000279  0.998682       0.0331           70  \n",
       "18439     0.002533  0.998682       0.0331           70  \n",
       "18440    -0.005816  0.998682       0.0331           70  \n",
       "18441     0.000827  0.998682       0.0303           70  \n",
       "\n",
       "[7180 rows x 10 columns]"
      ]
     },
     "execution_count": 10,
     "metadata": {},
     "output_type": "execute_result"
    }
   ],
   "source": [
    "training_data = data_training.drop(['NewDateTime'], axis = 1)\n",
    "\n",
    "\n",
    "training_data"
   ]
  },
  {
   "cell_type": "code",
   "execution_count": 11,
   "metadata": {},
   "outputs": [
    {
     "data": {
      "text/plain": [
       "array([[0.        , 0.        , 0.        , ..., 0.85604275, 0.37330183,\n",
       "        0.27058824],\n",
       "       [0.01095175, 0.00188395, 0.01155321, ..., 0.85604275, 0.37330183,\n",
       "        0.24705882],\n",
       "       [0.00526706, 0.01281533, 0.01142837, ..., 0.85604275, 0.37330183,\n",
       "        0.22352941],\n",
       "       ...,\n",
       "       [0.79637177, 0.79281128, 0.80112545, ..., 0.41470725, 0.36266982,\n",
       "        0.64705882],\n",
       "       [0.78731412, 0.79675518, 0.79878668, ..., 0.41470725, 0.36266982,\n",
       "        0.64705882],\n",
       "       [0.78859894, 0.78771487, 0.7910395 , ..., 0.41470725, 0.35440047,\n",
       "        0.64705882]])"
      ]
     },
     "execution_count": 11,
     "metadata": {},
     "output_type": "execute_result"
    }
   ],
   "source": [
    "scaler = MinMaxScaler()\n",
    "training_data = scaler.fit_transform(training_data)\n",
    "training_data"
   ]
  },
  {
   "cell_type": "code",
   "execution_count": 12,
   "metadata": {},
   "outputs": [],
   "source": [
    "X_train = []\n",
    "Y_train = []"
   ]
  },
  {
   "cell_type": "code",
   "execution_count": 13,
   "metadata": {},
   "outputs": [
    {
     "data": {
      "text/plain": [
       "(7180, 10)"
      ]
     },
     "execution_count": 13,
     "metadata": {},
     "output_type": "execute_result"
    }
   ],
   "source": [
    "training_data.shape"
   ]
  },
  {
   "cell_type": "code",
   "execution_count": 14,
   "metadata": {},
   "outputs": [],
   "source": [
    "for i in range(168, training_data.shape[0]):\n",
    "    X_train.append(training_data[i-168:i])\n",
    "    Y_train.append(training_data[i])"
   ]
  },
  {
   "cell_type": "code",
   "execution_count": 15,
   "metadata": {},
   "outputs": [],
   "source": [
    "X_train, Y_train = np.array(X_train), np.array(Y_train)"
   ]
  },
  {
   "cell_type": "code",
   "execution_count": 16,
   "metadata": {},
   "outputs": [
    {
     "data": {
      "text/plain": [
       "(7012, 168, 10)"
      ]
     },
     "execution_count": 16,
     "metadata": {},
     "output_type": "execute_result"
    }
   ],
   "source": [
    "X_train.shape"
   ]
  },
  {
   "cell_type": "code",
   "execution_count": 17,
   "metadata": {},
   "outputs": [
    {
     "data": {
      "text/plain": [
       "(7012, 10)"
      ]
     },
     "execution_count": 17,
     "metadata": {},
     "output_type": "execute_result"
    }
   ],
   "source": [
    "Y_train.shape"
   ]
  },
  {
   "cell_type": "code",
   "execution_count": 18,
   "metadata": {},
   "outputs": [
    {
     "data": {
      "text/plain": [
       "0.255703828070759"
      ]
     },
     "execution_count": 18,
     "metadata": {},
     "output_type": "execute_result"
    }
   ],
   "source": [
    "Y_train[1,0]"
   ]
  },
  {
   "cell_type": "code",
   "execution_count": 19,
   "metadata": {},
   "outputs": [
    {
     "data": {
      "text/plain": [
       "0.255703828070759"
      ]
     },
     "execution_count": 19,
     "metadata": {},
     "output_type": "execute_result"
    }
   ],
   "source": [
    "X_train[2,167,0]"
   ]
  },
  {
   "cell_type": "code",
   "execution_count": 20,
   "metadata": {},
   "outputs": [],
   "source": [
    "# Y_train=Y_train.reshape(Y_train.shape[0],24,1)"
   ]
  },
  {
   "cell_type": "code",
   "execution_count": 21,
   "metadata": {},
   "outputs": [],
   "source": [
    "# Y_train[1,:,0]"
   ]
  },
  {
   "cell_type": "code",
   "execution_count": 22,
   "metadata": {},
   "outputs": [],
   "source": [
    "\n",
    "from tensorflow.keras import Sequential\n",
    "from tensorflow.keras.layers import Dense, LSTM, Dropout,RepeatVector,TimeDistributed"
   ]
  },
  {
   "cell_type": "code",
   "execution_count": 23,
   "metadata": {},
   "outputs": [],
   "source": [
    "model = Sequential()\n",
    "model.add(LSTM(units = 50, activation = 'relu', return_sequences = True, input_shape = (X_train.shape[1], 10)))\n",
    "model.add(Dropout(0.15))\n",
    "model.add(LSTM(units = 60, activation = 'relu', return_sequences = True))\n",
    "model.add(Dropout(0.15))\n",
    "\n",
    "model.add(LSTM(units = 80, activation = 'relu'))\n",
    "model.add(Dropout(0.15))\n",
    "\n",
    "model.add(Dense(units =10))"
   ]
  },
  {
   "cell_type": "code",
   "execution_count": 24,
   "metadata": {},
   "outputs": [
    {
     "name": "stdout",
     "output_type": "stream",
     "text": [
      "Model: \"sequential_1\"\n",
      "_________________________________________________________________\n",
      "Layer (type)                 Output Shape              Param #   \n",
      "=================================================================\n",
      "lstm (LSTM)                  (None, 168, 50)           12200     \n",
      "_________________________________________________________________\n",
      "dropout (Dropout)            (None, 168, 50)           0         \n",
      "_________________________________________________________________\n",
      "lstm_1 (LSTM)                (None, 168, 60)           26640     \n",
      "_________________________________________________________________\n",
      "dropout_1 (Dropout)          (None, 168, 60)           0         \n",
      "_________________________________________________________________\n",
      "lstm_2 (LSTM)                (None, 80)                45120     \n",
      "_________________________________________________________________\n",
      "dropout_2 (Dropout)          (None, 80)                0         \n",
      "_________________________________________________________________\n",
      "dense (Dense)                (None, 10)                810       \n",
      "=================================================================\n",
      "Total params: 84,770\n",
      "Trainable params: 84,770\n",
      "Non-trainable params: 0\n",
      "_________________________________________________________________\n"
     ]
    }
   ],
   "source": [
    "model.summary()"
   ]
  },
  {
   "cell_type": "code",
   "execution_count": 25,
   "metadata": {},
   "outputs": [],
   "source": [
    "model.compile(loss='mse', optimizer='adam')"
   ]
  },
  {
   "cell_type": "code",
   "execution_count": null,
   "metadata": {},
   "outputs": [],
   "source": [
    "history = model.fit(X_train, Y_train, epochs=10, batch_size=64, verbose=1, validation_split=0.1)"
   ]
  },
  {
   "cell_type": "code",
   "execution_count": null,
   "metadata": {},
   "outputs": [
    {
     "name": "stdout",
     "output_type": "stream",
     "text": [
      "WARNING:tensorflow:Deprecation warnings have been disabled. Set TF_ENABLE_DEPRECATION_WARNINGS=1 to re-enable them.\n"
     ]
    }
   ],
   "source": [
    "import tensorflow as tf\n",
    "model = tf.keras.models.load_model('168_1.h5')"
   ]
  },
  {
   "cell_type": "code",
   "execution_count": 1,
   "metadata": {},
   "outputs": [
    {
     "ename": "NameError",
     "evalue": "name 'model' is not defined",
     "output_type": "error",
     "traceback": [
      "\u001b[0;31m---------------------------------------------------------------------------\u001b[0m",
      "\u001b[0;31mNameError\u001b[0m                                 Traceback (most recent call last)",
      "\u001b[0;32m<ipython-input-1-c95bf1201795>\u001b[0m in \u001b[0;36m<module>\u001b[0;34m\u001b[0m\n\u001b[0;32m----> 1\u001b[0;31m \u001b[0mmodel\u001b[0m\u001b[0;34m.\u001b[0m\u001b[0msave\u001b[0m\u001b[0;34m(\u001b[0m\u001b[0;34m\"168_1.h5\"\u001b[0m\u001b[0;34m)\u001b[0m\u001b[0;34m\u001b[0m\u001b[0;34m\u001b[0m\u001b[0m\n\u001b[0m",
      "\u001b[0;31mNameError\u001b[0m: name 'model' is not defined"
     ]
    }
   ],
   "source": [
    "model.save(\"168_1.h5\")"
   ]
  },
  {
   "cell_type": "code",
   "execution_count": 34,
   "metadata": {},
   "outputs": [],
   "source": [
    "# result = model.predict(X_train, batch_size=128, verbose=0)\n",
    "# for value in result[0,:,0]:\n",
    "# \tprint('%.1f' % value)"
   ]
  },
  {
   "cell_type": "code",
   "execution_count": 50,
   "metadata": {},
   "outputs": [
    {
     "data": {
      "image/png": "[encoded data removed]",
      "text/plain": [
       "<Figure size 432x288 with 1 Axes>"
      ]
     },
     "metadata": {
      "needs_background": "light"
     },
     "output_type": "display_data"
    }
   ],
   "source": [
    "loss = history.history['loss']\n",
    "epoch = range(len(loss))\n",
    "# plt.figure(figsize=(8,8))\n",
    "plt.plot(history.history['loss'])\n",
    "plt.plot(history.history['val_loss'])\n",
    "plt.title('model train vs validation loss')\n",
    "plt.ylabel('loss')\n",
    "plt.xlabel('epoch')\n",
    "plt.legend(['train', 'validation'], loc='upper right')\n",
    "plt.show()"
   ]
  },
  {
   "cell_type": "code",
   "execution_count": 51,
   "metadata": {},
   "outputs": [
    {
     "data": {
      "text/plain": [
       "{'loss': [0.04788814728604349,\n",
       "  0.010726330612185404,\n",
       "  0.007969511516404038,\n",
       "  0.007164430677619203,\n",
       "  0.006527131463204719,\n",
       "  0.005985387603910241,\n",
       "  0.005506638710559737,\n",
       "  0.005281831258863636,\n",
       "  0.004946912739945431,\n",
       "  0.004834154767623369],\n",
       " 'val_loss': [0.007165024807926087,\n",
       "  0.002848245763349907,\n",
       "  0.00339661476645417,\n",
       "  0.002219690380092615,\n",
       "  0.0022356357011530134,\n",
       "  0.0018552244634916766,\n",
       "  0.003060048812220239,\n",
       "  0.0017186870753361798,\n",
       "  0.0014677861585358737,\n",
       "  0.002302867572680328]}"
      ]
     },
     "execution_count": 51,
     "metadata": {},
     "output_type": "execute_result"
    }
   ],
   "source": [
    "history.history"
   ]
  },
  {
   "cell_type": "code",
   "execution_count": 52,
   "metadata": {},
   "outputs": [],
   "source": [
    "# from tensorflow import keras\n",
    "# regressor = Sequential()\n",
    "# regressor = keras.models.load_model(\"LSTM_model_1210.h5\")"
   ]
  },
  {
   "cell_type": "code",
   "execution_count": 53,
   "metadata": {},
   "outputs": [
    {
     "data": {
      "text/html": [
       "<div>\n",
       "<style scoped>\n",
       "    .dataframe tbody tr th:only-of-type {\n",
       "        vertical-align: middle;\n",
       "    }\n",
       "\n",
       "    .dataframe tbody tr th {\n",
       "        vertical-align: top;\n",
       "    }\n",
       "\n",
       "    .dataframe thead th {\n",
       "        text-align: right;\n",
       "    }\n",
       "</style>\n",
       "<table border=\"1\" class=\"dataframe\">\n",
       "  <thead>\n",
       "    <tr style=\"text-align: right;\">\n",
       "      <th></th>\n",
       "      <th>close</th>\n",
       "      <th>open</th>\n",
       "      <th>high</th>\n",
       "      <th>low</th>\n",
       "      <th>Volume BTC</th>\n",
       "      <th>NewDateTime</th>\n",
       "      <th>returns</th>\n",
       "      <th>log_returns</th>\n",
       "      <th>SOPR</th>\n",
       "      <th>fundingRate</th>\n",
       "      <th>googleTrend</th>\n",
       "    </tr>\n",
       "  </thead>\n",
       "  <tbody>\n",
       "    <tr>\n",
       "      <th>0</th>\n",
       "      <td>66363.02</td>\n",
       "      <td>66449.01</td>\n",
       "      <td>66538.61</td>\n",
       "      <td>66104.32</td>\n",
       "      <td>2434.60668</td>\n",
       "      <td>2021-10-20 17:00:00</td>\n",
       "      <td>0.998706</td>\n",
       "      <td>-0.001295</td>\n",
       "      <td>1.009247</td>\n",
       "      <td>0.01</td>\n",
       "      <td>100</td>\n",
       "    </tr>\n",
       "    <tr>\n",
       "      <th>1</th>\n",
       "      <td>66644.01</td>\n",
       "      <td>66363.02</td>\n",
       "      <td>66700.00</td>\n",
       "      <td>66323.27</td>\n",
       "      <td>1671.16055</td>\n",
       "      <td>2021-10-20 18:00:00</td>\n",
       "      <td>1.004234</td>\n",
       "      <td>0.004225</td>\n",
       "      <td>1.009247</td>\n",
       "      <td>0.01</td>\n",
       "      <td>100</td>\n",
       "    </tr>\n",
       "    <tr>\n",
       "      <th>2</th>\n",
       "      <td>66397.59</td>\n",
       "      <td>66644.00</td>\n",
       "      <td>66700.00</td>\n",
       "      <td>66238.00</td>\n",
       "      <td>1722.61368</td>\n",
       "      <td>2021-10-20 19:00:00</td>\n",
       "      <td>0.996302</td>\n",
       "      <td>-0.003704</td>\n",
       "      <td>1.009247</td>\n",
       "      <td>0.01</td>\n",
       "      <td>100</td>\n",
       "    </tr>\n",
       "    <tr>\n",
       "      <th>3</th>\n",
       "      <td>66002.03</td>\n",
       "      <td>66397.60</td>\n",
       "      <td>66444.47</td>\n",
       "      <td>65662.95</td>\n",
       "      <td>2444.83825</td>\n",
       "      <td>2021-10-20 20:00:00</td>\n",
       "      <td>0.994043</td>\n",
       "      <td>-0.005975</td>\n",
       "      <td>1.009247</td>\n",
       "      <td>0.01</td>\n",
       "      <td>100</td>\n",
       "    </tr>\n",
       "    <tr>\n",
       "      <th>4</th>\n",
       "      <td>65807.50</td>\n",
       "      <td>65993.78</td>\n",
       "      <td>66064.90</td>\n",
       "      <td>65567.00</td>\n",
       "      <td>1289.63837</td>\n",
       "      <td>2021-10-20 21:00:00</td>\n",
       "      <td>0.997053</td>\n",
       "      <td>-0.002952</td>\n",
       "      <td>1.009247</td>\n",
       "      <td>0.01</td>\n",
       "      <td>100</td>\n",
       "    </tr>\n",
       "    <tr>\n",
       "      <th>...</th>\n",
       "      <td>...</td>\n",
       "      <td>...</td>\n",
       "      <td>...</td>\n",
       "      <td>...</td>\n",
       "      <td>...</td>\n",
       "      <td>...</td>\n",
       "      <td>...</td>\n",
       "      <td>...</td>\n",
       "      <td>...</td>\n",
       "      <td>...</td>\n",
       "      <td>...</td>\n",
       "    </tr>\n",
       "    <tr>\n",
       "      <th>1189</th>\n",
       "      <td>49620.68</td>\n",
       "      <td>49767.77</td>\n",
       "      <td>49874.47</td>\n",
       "      <td>49477.00</td>\n",
       "      <td>1150.77841</td>\n",
       "      <td>2021-12-09 06:00:00</td>\n",
       "      <td>0.997044</td>\n",
       "      <td>-0.002960</td>\n",
       "      <td>0.996332</td>\n",
       "      <td>0.01</td>\n",
       "      <td>23</td>\n",
       "    </tr>\n",
       "    <tr>\n",
       "      <th>1190</th>\n",
       "      <td>50016.89</td>\n",
       "      <td>49620.69</td>\n",
       "      <td>50350.00</td>\n",
       "      <td>49184.49</td>\n",
       "      <td>1981.99757</td>\n",
       "      <td>2021-12-09 07:00:00</td>\n",
       "      <td>1.007985</td>\n",
       "      <td>0.007953</td>\n",
       "      <td>0.996332</td>\n",
       "      <td>0.01</td>\n",
       "      <td>25</td>\n",
       "    </tr>\n",
       "    <tr>\n",
       "      <th>1191</th>\n",
       "      <td>49511.54</td>\n",
       "      <td>50016.86</td>\n",
       "      <td>50016.89</td>\n",
       "      <td>49215.74</td>\n",
       "      <td>1339.34458</td>\n",
       "      <td>2021-12-09 08:00:00</td>\n",
       "      <td>0.989896</td>\n",
       "      <td>-0.010155</td>\n",
       "      <td>0.996332</td>\n",
       "      <td>0.01</td>\n",
       "      <td>29</td>\n",
       "    </tr>\n",
       "    <tr>\n",
       "      <th>1192</th>\n",
       "      <td>49206.95</td>\n",
       "      <td>49511.54</td>\n",
       "      <td>49540.01</td>\n",
       "      <td>48898.00</td>\n",
       "      <td>2016.55157</td>\n",
       "      <td>2021-12-09 09:00:00</td>\n",
       "      <td>0.993848</td>\n",
       "      <td>-0.006171</td>\n",
       "      <td>0.996332</td>\n",
       "      <td>0.01</td>\n",
       "      <td>39</td>\n",
       "    </tr>\n",
       "    <tr>\n",
       "      <th>1193</th>\n",
       "      <td>49312.05</td>\n",
       "      <td>49206.95</td>\n",
       "      <td>49408.78</td>\n",
       "      <td>48905.36</td>\n",
       "      <td>1549.04156</td>\n",
       "      <td>2021-12-09 10:00:00</td>\n",
       "      <td>1.002136</td>\n",
       "      <td>0.002134</td>\n",
       "      <td>0.996332</td>\n",
       "      <td>0.01</td>\n",
       "      <td>39</td>\n",
       "    </tr>\n",
       "  </tbody>\n",
       "</table>\n",
       "<p>1194 rows × 11 columns</p>\n",
       "</div>"
      ],
      "text/plain": [
       "         close      open      high       low  Volume BTC          NewDateTime  \\\n",
       "0     66363.02  66449.01  66538.61  66104.32  2434.60668  2021-10-20 17:00:00   \n",
       "1     66644.01  66363.02  66700.00  66323.27  1671.16055  2021-10-20 18:00:00   \n",
       "2     66397.59  66644.00  66700.00  66238.00  1722.61368  2021-10-20 19:00:00   \n",
       "3     66002.03  66397.60  66444.47  65662.95  2444.83825  2021-10-20 20:00:00   \n",
       "4     65807.50  65993.78  66064.90  65567.00  1289.63837  2021-10-20 21:00:00   \n",
       "...        ...       ...       ...       ...         ...                  ...   \n",
       "1189  49620.68  49767.77  49874.47  49477.00  1150.77841  2021-12-09 06:00:00   \n",
       "1190  50016.89  49620.69  50350.00  49184.49  1981.99757  2021-12-09 07:00:00   \n",
       "1191  49511.54  50016.86  50016.89  49215.74  1339.34458  2021-12-09 08:00:00   \n",
       "1192  49206.95  49511.54  49540.01  48898.00  2016.55157  2021-12-09 09:00:00   \n",
       "1193  49312.05  49206.95  49408.78  48905.36  1549.04156  2021-12-09 10:00:00   \n",
       "\n",
       "       returns  log_returns      SOPR  fundingRate  googleTrend  \n",
       "0     0.998706    -0.001295  1.009247         0.01          100  \n",
       "1     1.004234     0.004225  1.009247         0.01          100  \n",
       "2     0.996302    -0.003704  1.009247         0.01          100  \n",
       "3     0.994043    -0.005975  1.009247         0.01          100  \n",
       "4     0.997053    -0.002952  1.009247         0.01          100  \n",
       "...        ...          ...       ...          ...          ...  \n",
       "1189  0.997044    -0.002960  0.996332         0.01           23  \n",
       "1190  1.007985     0.007953  0.996332         0.01           25  \n",
       "1191  0.989896    -0.010155  0.996332         0.01           29  \n",
       "1192  0.993848    -0.006171  0.996332         0.01           39  \n",
       "1193  1.002136     0.002134  0.996332         0.01           39  \n",
       "\n",
       "[1194 rows x 11 columns]"
      ]
     },
     "execution_count": 53,
     "metadata": {},
     "output_type": "execute_result"
    }
   ],
   "source": [
    "past_weeks = data_training.tail(168)\n",
    "df= past_weeks.append(data_test, ignore_index = True)\n",
    "# test.drop(test.tail(len(test)%168).index,inplace=True)\n",
    "# test = test.drop(['NewDateTime'], axis=1)\n",
    "df"
   ]
  },
  {
   "cell_type": "code",
   "execution_count": 54,
   "metadata": {},
   "outputs": [
    {
     "data": {
      "text/html": [
       "<div>\n",
       "<style scoped>\n",
       "    .dataframe tbody tr th:only-of-type {\n",
       "        vertical-align: middle;\n",
       "    }\n",
       "\n",
       "    .dataframe tbody tr th {\n",
       "        vertical-align: top;\n",
       "    }\n",
       "\n",
       "    .dataframe thead th {\n",
       "        text-align: right;\n",
       "    }\n",
       "</style>\n",
       "<table border=\"1\" class=\"dataframe\">\n",
       "  <thead>\n",
       "    <tr style=\"text-align: right;\">\n",
       "      <th></th>\n",
       "      <th>close</th>\n",
       "      <th>open</th>\n",
       "      <th>high</th>\n",
       "      <th>low</th>\n",
       "      <th>Volume BTC</th>\n",
       "      <th>NewDateTime</th>\n",
       "      <th>returns</th>\n",
       "      <th>log_returns</th>\n",
       "      <th>SOPR</th>\n",
       "      <th>fundingRate</th>\n",
       "      <th>googleTrend</th>\n",
       "    </tr>\n",
       "  </thead>\n",
       "  <tbody>\n",
       "    <tr>\n",
       "      <th>18274</th>\n",
       "      <td>66363.02</td>\n",
       "      <td>66449.01</td>\n",
       "      <td>66538.61</td>\n",
       "      <td>66104.32</td>\n",
       "      <td>2434.60668</td>\n",
       "      <td>2021-10-20 17:00:00</td>\n",
       "      <td>0.998706</td>\n",
       "      <td>-0.001295</td>\n",
       "      <td>1.009247</td>\n",
       "      <td>0.0100</td>\n",
       "      <td>100</td>\n",
       "    </tr>\n",
       "    <tr>\n",
       "      <th>18275</th>\n",
       "      <td>66644.01</td>\n",
       "      <td>66363.02</td>\n",
       "      <td>66700.00</td>\n",
       "      <td>66323.27</td>\n",
       "      <td>1671.16055</td>\n",
       "      <td>2021-10-20 18:00:00</td>\n",
       "      <td>1.004234</td>\n",
       "      <td>0.004225</td>\n",
       "      <td>1.009247</td>\n",
       "      <td>0.0100</td>\n",
       "      <td>100</td>\n",
       "    </tr>\n",
       "    <tr>\n",
       "      <th>18276</th>\n",
       "      <td>66397.59</td>\n",
       "      <td>66644.00</td>\n",
       "      <td>66700.00</td>\n",
       "      <td>66238.00</td>\n",
       "      <td>1722.61368</td>\n",
       "      <td>2021-10-20 19:00:00</td>\n",
       "      <td>0.996302</td>\n",
       "      <td>-0.003704</td>\n",
       "      <td>1.009247</td>\n",
       "      <td>0.0100</td>\n",
       "      <td>100</td>\n",
       "    </tr>\n",
       "    <tr>\n",
       "      <th>18277</th>\n",
       "      <td>66002.03</td>\n",
       "      <td>66397.60</td>\n",
       "      <td>66444.47</td>\n",
       "      <td>65662.95</td>\n",
       "      <td>2444.83825</td>\n",
       "      <td>2021-10-20 20:00:00</td>\n",
       "      <td>0.994043</td>\n",
       "      <td>-0.005975</td>\n",
       "      <td>1.009247</td>\n",
       "      <td>0.0100</td>\n",
       "      <td>100</td>\n",
       "    </tr>\n",
       "    <tr>\n",
       "      <th>18278</th>\n",
       "      <td>65807.50</td>\n",
       "      <td>65993.78</td>\n",
       "      <td>66064.90</td>\n",
       "      <td>65567.00</td>\n",
       "      <td>1289.63837</td>\n",
       "      <td>2021-10-20 21:00:00</td>\n",
       "      <td>0.997053</td>\n",
       "      <td>-0.002952</td>\n",
       "      <td>1.009247</td>\n",
       "      <td>0.0100</td>\n",
       "      <td>100</td>\n",
       "    </tr>\n",
       "    <tr>\n",
       "      <th>...</th>\n",
       "      <td>...</td>\n",
       "      <td>...</td>\n",
       "      <td>...</td>\n",
       "      <td>...</td>\n",
       "      <td>...</td>\n",
       "      <td>...</td>\n",
       "      <td>...</td>\n",
       "      <td>...</td>\n",
       "      <td>...</td>\n",
       "      <td>...</td>\n",
       "      <td>...</td>\n",
       "    </tr>\n",
       "    <tr>\n",
       "      <th>18437</th>\n",
       "      <td>59029.03</td>\n",
       "      <td>58564.00</td>\n",
       "      <td>59091.84</td>\n",
       "      <td>58270.00</td>\n",
       "      <td>2793.14905</td>\n",
       "      <td>2021-10-27 12:00:00</td>\n",
       "      <td>1.007941</td>\n",
       "      <td>0.007909</td>\n",
       "      <td>0.998682</td>\n",
       "      <td>0.0331</td>\n",
       "      <td>70</td>\n",
       "    </tr>\n",
       "    <tr>\n",
       "      <th>18438</th>\n",
       "      <td>59012.57</td>\n",
       "      <td>59031.50</td>\n",
       "      <td>59324.90</td>\n",
       "      <td>58899.70</td>\n",
       "      <td>2007.47528</td>\n",
       "      <td>2021-10-27 13:00:00</td>\n",
       "      <td>0.999721</td>\n",
       "      <td>-0.000279</td>\n",
       "      <td>0.998682</td>\n",
       "      <td>0.0331</td>\n",
       "      <td>70</td>\n",
       "    </tr>\n",
       "    <tr>\n",
       "      <th>18439</th>\n",
       "      <td>59162.25</td>\n",
       "      <td>59012.57</td>\n",
       "      <td>59449.00</td>\n",
       "      <td>58709.08</td>\n",
       "      <td>2394.30575</td>\n",
       "      <td>2021-10-27 14:00:00</td>\n",
       "      <td>1.002536</td>\n",
       "      <td>0.002533</td>\n",
       "      <td>0.998682</td>\n",
       "      <td>0.0331</td>\n",
       "      <td>70</td>\n",
       "    </tr>\n",
       "    <tr>\n",
       "      <th>18440</th>\n",
       "      <td>58819.14</td>\n",
       "      <td>59162.25</td>\n",
       "      <td>59360.20</td>\n",
       "      <td>58758.00</td>\n",
       "      <td>2149.76966</td>\n",
       "      <td>2021-10-27 15:00:00</td>\n",
       "      <td>0.994201</td>\n",
       "      <td>-0.005816</td>\n",
       "      <td>0.998682</td>\n",
       "      <td>0.0331</td>\n",
       "      <td>70</td>\n",
       "    </tr>\n",
       "    <tr>\n",
       "      <th>18441</th>\n",
       "      <td>58867.81</td>\n",
       "      <td>58819.15</td>\n",
       "      <td>59066.05</td>\n",
       "      <td>58547.38</td>\n",
       "      <td>2366.25953</td>\n",
       "      <td>2021-10-27 16:00:00</td>\n",
       "      <td>1.000827</td>\n",
       "      <td>0.000827</td>\n",
       "      <td>0.998682</td>\n",
       "      <td>0.0303</td>\n",
       "      <td>70</td>\n",
       "    </tr>\n",
       "  </tbody>\n",
       "</table>\n",
       "<p>168 rows × 11 columns</p>\n",
       "</div>"
      ],
      "text/plain": [
       "          close      open      high       low  Volume BTC  \\\n",
       "18274  66363.02  66449.01  66538.61  66104.32  2434.60668   \n",
       "18275  66644.01  66363.02  66700.00  66323.27  1671.16055   \n",
       "18276  66397.59  66644.00  66700.00  66238.00  1722.61368   \n",
       "18277  66002.03  66397.60  66444.47  65662.95  2444.83825   \n",
       "18278  65807.50  65993.78  66064.90  65567.00  1289.63837   \n",
       "...         ...       ...       ...       ...         ...   \n",
       "18437  59029.03  58564.00  59091.84  58270.00  2793.14905   \n",
       "18438  59012.57  59031.50  59324.90  58899.70  2007.47528   \n",
       "18439  59162.25  59012.57  59449.00  58709.08  2394.30575   \n",
       "18440  58819.14  59162.25  59360.20  58758.00  2149.76966   \n",
       "18441  58867.81  58819.15  59066.05  58547.38  2366.25953   \n",
       "\n",
       "               NewDateTime   returns  log_returns      SOPR  fundingRate  \\\n",
       "18274  2021-10-20 17:00:00  0.998706    -0.001295  1.009247       0.0100   \n",
       "18275  2021-10-20 18:00:00  1.004234     0.004225  1.009247       0.0100   \n",
       "18276  2021-10-20 19:00:00  0.996302    -0.003704  1.009247       0.0100   \n",
       "18277  2021-10-20 20:00:00  0.994043    -0.005975  1.009247       0.0100   \n",
       "18278  2021-10-20 21:00:00  0.997053    -0.002952  1.009247       0.0100   \n",
       "...                    ...       ...          ...       ...          ...   \n",
       "18437  2021-10-27 12:00:00  1.007941     0.007909  0.998682       0.0331   \n",
       "18438  2021-10-27 13:00:00  0.999721    -0.000279  0.998682       0.0331   \n",
       "18439  2021-10-27 14:00:00  1.002536     0.002533  0.998682       0.0331   \n",
       "18440  2021-10-27 15:00:00  0.994201    -0.005816  0.998682       0.0331   \n",
       "18441  2021-10-27 16:00:00  1.000827     0.000827  0.998682       0.0303   \n",
       "\n",
       "       googleTrend  \n",
       "18274          100  \n",
       "18275          100  \n",
       "18276          100  \n",
       "18277          100  \n",
       "18278          100  \n",
       "...            ...  \n",
       "18437           70  \n",
       "18438           70  \n",
       "18439           70  \n",
       "18440           70  \n",
       "18441           70  \n",
       "\n",
       "[168 rows x 11 columns]"
      ]
     },
     "execution_count": 54,
     "metadata": {},
     "output_type": "execute_result"
    }
   ],
   "source": [
    "past_weeks"
   ]
  },
  {
   "cell_type": "code",
   "execution_count": 55,
   "metadata": {},
   "outputs": [
    {
     "data": {
      "text/plain": [
       "1194"
      ]
     },
     "execution_count": 55,
     "metadata": {},
     "output_type": "execute_result"
    }
   ],
   "source": [
    "df = df.drop(['NewDateTime'], axis = 1)\n",
    "len(df)"
   ]
  },
  {
   "cell_type": "code",
   "execution_count": 56,
   "metadata": {},
   "outputs": [
    {
     "data": {
      "text/plain": [
       "array([[0.897459  , 0.90128406, 0.88607661, ..., 0.58190393, 0.09090909,\n",
       "        1.        ],\n",
       "       [0.9101482 , 0.89740109, 0.89354641, ..., 0.58190393, 0.09090909,\n",
       "        1.        ],\n",
       "       [0.89902014, 0.91008902, 0.89354641, ..., 0.58190393, 0.09090909,\n",
       "        1.        ],\n",
       "       ...,\n",
       "       [0.13646438, 0.15927418, 0.12138255, ..., 0.194165  , 0.09090909,\n",
       "        0.14457831],\n",
       "       [0.12270943, 0.13645596, 0.09931055, ..., 0.194165  , 0.09090909,\n",
       "        0.26506024],\n",
       "       [0.12745563, 0.1227019 , 0.09323668, ..., 0.194165  , 0.09090909,\n",
       "        0.26506024]])"
      ]
     },
     "execution_count": 56,
     "metadata": {},
     "output_type": "execute_result"
    }
   ],
   "source": [
    "yscaler = MinMaxScaler()\n",
    "inputs = yscaler.fit_transform(df)\n",
    "inputs"
   ]
  },
  {
   "cell_type": "code",
   "execution_count": 57,
   "metadata": {},
   "outputs": [],
   "source": [
    "X_test = []\n",
    "Y_test = []\n",
    "for i in range(168, inputs.shape[0]):\n",
    "    X_test.append(inputs[i-168:i])\n",
    "    Y_test.append(inputs[i])"
   ]
  },
  {
   "cell_type": "code",
   "execution_count": 58,
   "metadata": {},
   "outputs": [
    {
     "data": {
      "text/plain": [
       "((1026, 168, 10), (1026, 10))"
      ]
     },
     "execution_count": 58,
     "metadata": {},
     "output_type": "execute_result"
    }
   ],
   "source": [
    "X_test, Y_test = np.array(X_test), np.array(Y_test)\n",
    "X_test.shape, Y_test.shape"
   ]
  },
  {
   "cell_type": "code",
   "execution_count": 59,
   "metadata": {},
   "outputs": [
    {
     "data": {
      "text/plain": [
       "array([2.63986674e-05, 2.63489267e-05, 2.63375110e-05, 2.61711525e-05,\n",
       "       2.26040745e-05, 4.70137657e+00, 4.76290973e+00, 1.02247277e+01,\n",
       "       2.95333727e+00, 1.17647059e-02])"
      ]
     },
     "execution_count": 59,
     "metadata": {},
     "output_type": "execute_result"
    }
   ],
   "source": [
    "scaler.scale_"
   ]
  },
  {
   "cell_type": "code",
   "execution_count": 61,
   "metadata": {},
   "outputs": [
    {
     "data": {
      "text/plain": [
       "22144.019975960982"
      ]
     },
     "execution_count": 61,
     "metadata": {},
     "output_type": "execute_result"
    }
   ],
   "source": [
    "scale = 1/2.63986674e-05\n",
    "scale"
   ]
  },
  {
   "cell_type": "code",
   "execution_count": 62,
   "metadata": {},
   "outputs": [
    {
     "data": {
      "text/plain": [
       "array([[ 5.0485902e+04,  5.0916602e+04,  5.1146398e+04,  4.9747363e+04,\n",
       "         6.2818550e+03,  1.0001169e+00, -2.2523240e-04,  9.9053687e-01,\n",
       "         3.3675183e-02,  5.4319458e+01]], dtype=float32)"
      ]
     },
     "execution_count": 62,
     "metadata": {},
     "output_type": "execute_result"
    }
   ],
   "source": [
    "data = (X_test[0,:,:]).reshape(1,168,10)\n",
    "predata = model.predict(data)\n",
    "# data = data[0,1:168,:].reshape(1,167,10)\n",
    "# data = np.append(data, predata)\n",
    "# data = data.reshape(1,168,10)\n",
    "# data.shape\n",
    "# predata = predata.reshape(1,1,10)\n",
    "predata = scaler.inverse_transform(predata)\n",
    "predata"
   ]
  },
  {
   "cell_type": "code",
   "execution_count": 63,
   "metadata": {},
   "outputs": [
    {
     "data": {
      "text/plain": [
       "1279650920.2518816"
      ]
     },
     "execution_count": 63,
     "metadata": {},
     "output_type": "execute_result"
    }
   ],
   "source": [
    "5.7787652e+04*scale"
   ]
  },
  {
   "cell_type": "code",
   "execution_count": 64,
   "metadata": {},
   "outputs": [
    {
     "data": {
      "text/plain": [
       "(list, 12396.499986542658)"
      ]
     },
     "execution_count": 64,
     "metadata": {},
     "output_type": "execute_result"
    }
   ],
   "source": [
    "pred = []\n",
    "real = []\n",
    "data = (X_test[0,:,:]).reshape(1,168,10)\n",
    "for i in range(0,168):\n",
    "    predata = model.predict(data).reshape(1,1,10)\n",
    "    data = data[0,1:168,:].reshape(1,167,10)\n",
    "    data = np.append(data, predata)\n",
    "    data = data.reshape(1,168,10)\n",
    "    pred.append((predata[0,:,0])*scale)\n",
    "    real.append((Y_test[i,0])*scale)\n",
    "\n",
    "\n",
    "type(pred) , real[0]"
   ]
  },
  {
   "cell_type": "code",
   "execution_count": 65,
   "metadata": {},
   "outputs": [
    {
     "data": {
      "image/png": "[encoded data removed]",
      "text/plain": [
       "<Figure size 1008x360 with 1 Axes>"
      ]
     },
     "metadata": {
      "needs_background": "light"
     },
     "output_type": "display_data"
    }
   ],
   "source": [
    "plt.figure(figsize=(14,5))\n",
    "plt.plot(np.array(real).flat, color = 'red', label = 'Real Bitcoin Price')\n",
    "plt.plot(np.array(pred).flat, color = 'green', label = 'Predicted Bitcoin Price')\n",
    "plt.title('Bitcoin Price Prediction using RNN-LSTM')\n",
    "plt.xlabel('Time')\n",
    "plt.ylabel('Price')\n",
    "plt.legend()\n",
    "plt.show()"
   ]
  },
  {
   "cell_type": "code",
   "execution_count": null,
   "metadata": {},
   "outputs": [],
   "source": []
  },
  {
   "cell_type": "code",
   "execution_count": null,
   "metadata": {},
   "outputs": [],
   "source": []
  }
 ],
 "metadata": {
  "kernelspec": {
   "display_name": "Python 3",
   "language": "python",
   "name": "python3"
  },
  "language_info": {
   "codemirror_mode": {
    "name": "ipython",
    "version": 3
   },
   "file_extension": ".py",
   "mimetype": "text/x-python",
   "name": "python",
   "nbconvert_exporter": "python",
   "pygments_lexer": "ipython3",
   "version": "3.6.9"
  }
 },
 "nbformat": 4,
 "nbformat_minor": 4
}
