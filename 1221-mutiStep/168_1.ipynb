{
 "cells": [
  {
   "cell_type": "code",
   "execution_count": 1,
   "metadata": {},
   "outputs": [],
   "source": [
    "import numpy as np\n",
    "import matplotlib.pyplot as plt\n",
    "import pandas as pd\n",
    "import gc\n",
    "from sklearn.preprocessing import MinMaxScaler\n",
    "from pandas import read_csv"
   ]
  },
  {
   "cell_type": "code",
   "execution_count": 2,
   "metadata": {},
   "outputs": [
    {
     "data": {
      "text/plain": [
       "19468"
      ]
     },
     "execution_count": 2,
     "metadata": {},
     "output_type": "execute_result"
    }
   ],
   "source": [
    "# load the new file\n",
    "df = read_csv('./data/bitcoin_data.csv', date_parser = True)\n",
    "df.drop(df.columns[0], axis=1,inplace = True)\n",
    "len(df)"
   ]
  },
  {
   "cell_type": "code",
   "execution_count": 3,
   "metadata": {},
   "outputs": [
    {
     "data": {
      "text/plain": [
       "8206"
      ]
     },
     "execution_count": 3,
     "metadata": {},
     "output_type": "execute_result"
    }
   ],
   "source": [
    "df = df[df['NewDateTime']>= '2021-01-01'].copy()\n",
    "len(df)"
   ]
  },
  {
   "cell_type": "code",
   "execution_count": 4,
   "metadata": {},
   "outputs": [],
   "source": [
    "# df.drop(df.head(len(df)%168).index,inplace=True)\n",
    "# len(df)"
   ]
  },
  {
   "cell_type": "code",
   "execution_count": 5,
   "metadata": {},
   "outputs": [
    {
     "data": {
      "text/plain": [
       "7180"
      ]
     },
     "execution_count": 5,
     "metadata": {},
     "output_type": "execute_result"
    }
   ],
   "source": [
    "int(len(df)/8*7)"
   ]
  },
  {
   "cell_type": "code",
   "execution_count": 6,
   "metadata": {},
   "outputs": [
    {
     "data": {
      "text/plain": [
       "7180"
      ]
     },
     "execution_count": 6,
     "metadata": {},
     "output_type": "execute_result"
    }
   ],
   "source": [
    "data_training = df.iloc[0:int(len(df)/8*7),:]\n",
    "data_test = df.iloc[int(len(df)/8*7):int(len(df)),:]\n",
    "\n",
    "len(data_training)"
   ]
  },
  {
   "cell_type": "code",
   "execution_count": 7,
   "metadata": {},
   "outputs": [
    {
     "data": {
      "text/html": [
       "<div>\n",
       "<style scoped>\n",
       "    .dataframe tbody tr th:only-of-type {\n",
       "        vertical-align: middle;\n",
       "    }\n",
       "\n",
       "    .dataframe tbody tr th {\n",
       "        vertical-align: top;\n",
       "    }\n",
       "\n",
       "    .dataframe thead th {\n",
       "        text-align: right;\n",
       "    }\n",
       "</style>\n",
       "<table border=\"1\" class=\"dataframe\">\n",
       "  <thead>\n",
       "    <tr style=\"text-align: right;\">\n",
       "      <th></th>\n",
       "      <th>close</th>\n",
       "      <th>open</th>\n",
       "      <th>high</th>\n",
       "      <th>low</th>\n",
       "      <th>Volume BTC</th>\n",
       "      <th>returns</th>\n",
       "      <th>log_returns</th>\n",
       "      <th>SOPR</th>\n",
       "      <th>fundingRate</th>\n",
       "      <th>googleTrend</th>\n",
       "    </tr>\n",
       "  </thead>\n",
       "  <tbody>\n",
       "    <tr>\n",
       "      <th>11262</th>\n",
       "      <td>28995.13</td>\n",
       "      <td>28923.63</td>\n",
       "      <td>29031.34</td>\n",
       "      <td>28690.17</td>\n",
       "      <td>2311.811445</td>\n",
       "      <td>1.002472</td>\n",
       "      <td>0.002469</td>\n",
       "      <td>1.041846</td>\n",
       "      <td>0.0367</td>\n",
       "      <td>38</td>\n",
       "    </tr>\n",
       "    <tr>\n",
       "      <th>11263</th>\n",
       "      <td>29409.99</td>\n",
       "      <td>28995.13</td>\n",
       "      <td>29470.00</td>\n",
       "      <td>28960.35</td>\n",
       "      <td>5403.068471</td>\n",
       "      <td>1.014308</td>\n",
       "      <td>0.014207</td>\n",
       "      <td>1.041846</td>\n",
       "      <td>0.0367</td>\n",
       "      <td>36</td>\n",
       "    </tr>\n",
       "    <tr>\n",
       "      <th>11264</th>\n",
       "      <td>29194.65</td>\n",
       "      <td>29410.00</td>\n",
       "      <td>29465.26</td>\n",
       "      <td>29120.03</td>\n",
       "      <td>2384.231560</td>\n",
       "      <td>0.992678</td>\n",
       "      <td>-0.007349</td>\n",
       "      <td>1.041846</td>\n",
       "      <td>0.0367</td>\n",
       "      <td>34</td>\n",
       "    </tr>\n",
       "    <tr>\n",
       "      <th>11265</th>\n",
       "      <td>29278.40</td>\n",
       "      <td>29195.25</td>\n",
       "      <td>29367.00</td>\n",
       "      <td>29150.02</td>\n",
       "      <td>1461.345077</td>\n",
       "      <td>1.002869</td>\n",
       "      <td>0.002865</td>\n",
       "      <td>1.041846</td>\n",
       "      <td>0.0367</td>\n",
       "      <td>33</td>\n",
       "    </tr>\n",
       "    <tr>\n",
       "      <th>11266</th>\n",
       "      <td>29220.31</td>\n",
       "      <td>29278.41</td>\n",
       "      <td>29395.00</td>\n",
       "      <td>29029.40</td>\n",
       "      <td>2038.046803</td>\n",
       "      <td>0.998016</td>\n",
       "      <td>-0.001986</td>\n",
       "      <td>1.041846</td>\n",
       "      <td>0.0367</td>\n",
       "      <td>32</td>\n",
       "    </tr>\n",
       "    <tr>\n",
       "      <th>...</th>\n",
       "      <td>...</td>\n",
       "      <td>...</td>\n",
       "      <td>...</td>\n",
       "      <td>...</td>\n",
       "      <td>...</td>\n",
       "      <td>...</td>\n",
       "      <td>...</td>\n",
       "      <td>...</td>\n",
       "      <td>...</td>\n",
       "      <td>...</td>\n",
       "    </tr>\n",
       "    <tr>\n",
       "      <th>18437</th>\n",
       "      <td>59029.03</td>\n",
       "      <td>58564.00</td>\n",
       "      <td>59091.84</td>\n",
       "      <td>58270.00</td>\n",
       "      <td>2793.149050</td>\n",
       "      <td>1.007941</td>\n",
       "      <td>0.007909</td>\n",
       "      <td>0.998682</td>\n",
       "      <td>0.0331</td>\n",
       "      <td>70</td>\n",
       "    </tr>\n",
       "    <tr>\n",
       "      <th>18438</th>\n",
       "      <td>59012.57</td>\n",
       "      <td>59031.50</td>\n",
       "      <td>59324.90</td>\n",
       "      <td>58899.70</td>\n",
       "      <td>2007.475280</td>\n",
       "      <td>0.999721</td>\n",
       "      <td>-0.000279</td>\n",
       "      <td>0.998682</td>\n",
       "      <td>0.0331</td>\n",
       "      <td>70</td>\n",
       "    </tr>\n",
       "    <tr>\n",
       "      <th>18439</th>\n",
       "      <td>59162.25</td>\n",
       "      <td>59012.57</td>\n",
       "      <td>59449.00</td>\n",
       "      <td>58709.08</td>\n",
       "      <td>2394.305750</td>\n",
       "      <td>1.002536</td>\n",
       "      <td>0.002533</td>\n",
       "      <td>0.998682</td>\n",
       "      <td>0.0331</td>\n",
       "      <td>70</td>\n",
       "    </tr>\n",
       "    <tr>\n",
       "      <th>18440</th>\n",
       "      <td>58819.14</td>\n",
       "      <td>59162.25</td>\n",
       "      <td>59360.20</td>\n",
       "      <td>58758.00</td>\n",
       "      <td>2149.769660</td>\n",
       "      <td>0.994201</td>\n",
       "      <td>-0.005816</td>\n",
       "      <td>0.998682</td>\n",
       "      <td>0.0331</td>\n",
       "      <td>70</td>\n",
       "    </tr>\n",
       "    <tr>\n",
       "      <th>18441</th>\n",
       "      <td>58867.81</td>\n",
       "      <td>58819.15</td>\n",
       "      <td>59066.05</td>\n",
       "      <td>58547.38</td>\n",
       "      <td>2366.259530</td>\n",
       "      <td>1.000827</td>\n",
       "      <td>0.000827</td>\n",
       "      <td>0.998682</td>\n",
       "      <td>0.0303</td>\n",
       "      <td>70</td>\n",
       "    </tr>\n",
       "  </tbody>\n",
       "</table>\n",
       "<p>7180 rows × 10 columns</p>\n",
       "</div>"
      ],
      "text/plain": [
       "          close      open      high       low   Volume BTC   returns  \\\n",
       "11262  28995.13  28923.63  29031.34  28690.17  2311.811445  1.002472   \n",
       "11263  29409.99  28995.13  29470.00  28960.35  5403.068471  1.014308   \n",
       "11264  29194.65  29410.00  29465.26  29120.03  2384.231560  0.992678   \n",
       "11265  29278.40  29195.25  29367.00  29150.02  1461.345077  1.002869   \n",
       "11266  29220.31  29278.41  29395.00  29029.40  2038.046803  0.998016   \n",
       "...         ...       ...       ...       ...          ...       ...   \n",
       "18437  59029.03  58564.00  59091.84  58270.00  2793.149050  1.007941   \n",
       "18438  59012.57  59031.50  59324.90  58899.70  2007.475280  0.999721   \n",
       "18439  59162.25  59012.57  59449.00  58709.08  2394.305750  1.002536   \n",
       "18440  58819.14  59162.25  59360.20  58758.00  2149.769660  0.994201   \n",
       "18441  58867.81  58819.15  59066.05  58547.38  2366.259530  1.000827   \n",
       "\n",
       "       log_returns      SOPR  fundingRate  googleTrend  \n",
       "11262     0.002469  1.041846       0.0367           38  \n",
       "11263     0.014207  1.041846       0.0367           36  \n",
       "11264    -0.007349  1.041846       0.0367           34  \n",
       "11265     0.002865  1.041846       0.0367           33  \n",
       "11266    -0.001986  1.041846       0.0367           32  \n",
       "...            ...       ...          ...          ...  \n",
       "18437     0.007909  0.998682       0.0331           70  \n",
       "18438    -0.000279  0.998682       0.0331           70  \n",
       "18439     0.002533  0.998682       0.0331           70  \n",
       "18440    -0.005816  0.998682       0.0331           70  \n",
       "18441     0.000827  0.998682       0.0303           70  \n",
       "\n",
       "[7180 rows x 10 columns]"
      ]
     },
     "execution_count": 7,
     "metadata": {},
     "output_type": "execute_result"
    }
   ],
   "source": [
    "training_data = data_training.drop(['NewDateTime'], axis = 1)\n",
    "\n",
    "\n",
    "training_data"
   ]
  },
  {
   "cell_type": "code",
   "execution_count": 15,
   "metadata": {},
   "outputs": [
    {
     "data": {
      "text/plain": [
       "array([[0.        , 0.        , 0.        , ..., 0.85604275, 0.37330183,\n",
       "        0.27058824],\n",
       "       [0.01095175, 0.00188395, 0.01155321, ..., 0.85604275, 0.37330183,\n",
       "        0.24705882],\n",
       "       [0.00526706, 0.01281533, 0.01142837, ..., 0.85604275, 0.37330183,\n",
       "        0.22352941],\n",
       "       ...,\n",
       "       [0.79637177, 0.79281128, 0.80112545, ..., 0.41470725, 0.36266982,\n",
       "        0.64705882],\n",
       "       [0.78731412, 0.79675518, 0.79878668, ..., 0.41470725, 0.36266982,\n",
       "        0.64705882],\n",
       "       [0.78859894, 0.78771487, 0.7910395 , ..., 0.41470725, 0.35440047,\n",
       "        0.64705882]])"
      ]
     },
     "execution_count": 15,
     "metadata": {},
     "output_type": "execute_result"
    }
   ],
   "source": [
    "scaler = MinMaxScaler()\n",
    "training_data = scaler.fit_transform(training_data)\n",
    "training_data"
   ]
  },
  {
   "cell_type": "code",
   "execution_count": 16,
   "metadata": {},
   "outputs": [],
   "source": [
    "X_train = []\n",
    "Y_train = []"
   ]
  },
  {
   "cell_type": "code",
   "execution_count": 17,
   "metadata": {},
   "outputs": [
    {
     "data": {
      "text/plain": [
       "(7180, 10)"
      ]
     },
     "execution_count": 17,
     "metadata": {},
     "output_type": "execute_result"
    }
   ],
   "source": [
    "training_data.shape"
   ]
  },
  {
   "cell_type": "code",
   "execution_count": 18,
   "metadata": {},
   "outputs": [],
   "source": [
    "for i in range(168, training_data.shape[0],8):\n",
    "    X_train.append(training_data[i-168:i])\n",
    "    Y_train.append(training_data[i])"
   ]
  },
  {
   "cell_type": "code",
   "execution_count": 19,
   "metadata": {},
   "outputs": [],
   "source": [
    "X_train, Y_train = np.array(X_train), np.array(Y_train)"
   ]
  },
  {
   "cell_type": "code",
   "execution_count": 20,
   "metadata": {},
   "outputs": [
    {
     "data": {
      "text/plain": [
       "(877, 168, 10)"
      ]
     },
     "execution_count": 20,
     "metadata": {},
     "output_type": "execute_result"
    }
   ],
   "source": [
    "X_train.shape"
   ]
  },
  {
   "cell_type": "code",
   "execution_count": 21,
   "metadata": {},
   "outputs": [
    {
     "data": {
      "text/plain": [
       "(877, 10)"
      ]
     },
     "execution_count": 21,
     "metadata": {},
     "output_type": "execute_result"
    }
   ],
   "source": [
    "Y_train.shape"
   ]
  },
  {
   "cell_type": "code",
   "execution_count": 22,
   "metadata": {},
   "outputs": [
    {
     "data": {
      "text/plain": [
       "0.2548479832738043"
      ]
     },
     "execution_count": 22,
     "metadata": {},
     "output_type": "execute_result"
    }
   ],
   "source": [
    "Y_train[1,0]"
   ]
  },
  {
   "cell_type": "code",
   "execution_count": 23,
   "metadata": {},
   "outputs": [
    {
     "data": {
      "text/plain": [
       "0.3124005100222541"
      ]
     },
     "execution_count": 23,
     "metadata": {},
     "output_type": "execute_result"
    }
   ],
   "source": [
    "X_train[2,167,0]"
   ]
  },
  {
   "cell_type": "code",
   "execution_count": 24,
   "metadata": {},
   "outputs": [],
   "source": [
    "# Y_train=Y_train.reshape(Y_train.shape[0],24,1)"
   ]
  },
  {
   "cell_type": "code",
   "execution_count": 25,
   "metadata": {},
   "outputs": [],
   "source": [
    "# Y_train[1,:,0]"
   ]
  },
  {
   "cell_type": "code",
   "execution_count": 26,
   "metadata": {},
   "outputs": [
    {
     "name": "stdout",
     "output_type": "stream",
     "text": [
      "WARNING:tensorflow:Deprecation warnings have been disabled. Set TF_ENABLE_DEPRECATION_WARNINGS=1 to re-enable them.\n"
     ]
    }
   ],
   "source": [
    "\n",
    "from tensorflow.keras import Sequential\n",
    "from tensorflow.keras.layers import Dense, LSTM, Dropout,RepeatVector,TimeDistributed"
   ]
  },
  {
   "cell_type": "code",
   "execution_count": 27,
   "metadata": {},
   "outputs": [],
   "source": [
    "model = Sequential()\n",
    "model.add(LSTM(units = 50, activation = 'relu', return_sequences = True, input_shape = (X_train.shape[1], 10)))\n",
    "model.add(Dropout(0.1))\n",
    "model.add(LSTM(units = 60, activation = 'relu', return_sequences = True))\n",
    "model.add(Dropout(0.1))\n",
    "# model.add(LSTM(units = 80, activation = 'relu', return_sequences = True))\n",
    "# model.add(Dropout(0.3))\n",
    "\n",
    "model.add(LSTM(units = 80, activation = 'relu'))\n",
    "model.add(Dropout(0.1))\n",
    "\n",
    "model.add(Dense(units =10))"
   ]
  },
  {
   "cell_type": "code",
   "execution_count": 28,
   "metadata": {},
   "outputs": [
    {
     "name": "stdout",
     "output_type": "stream",
     "text": [
      "Model: \"sequential\"\n",
      "_________________________________________________________________\n",
      "Layer (type)                 Output Shape              Param #   \n",
      "=================================================================\n",
      "lstm (LSTM)                  (None, 168, 50)           12200     \n",
      "_________________________________________________________________\n",
      "dropout (Dropout)            (None, 168, 50)           0         \n",
      "_________________________________________________________________\n",
      "lstm_1 (LSTM)                (None, 168, 60)           26640     \n",
      "_________________________________________________________________\n",
      "dropout_1 (Dropout)          (None, 168, 60)           0         \n",
      "_________________________________________________________________\n",
      "lstm_2 (LSTM)                (None, 80)                45120     \n",
      "_________________________________________________________________\n",
      "dropout_2 (Dropout)          (None, 80)                0         \n",
      "_________________________________________________________________\n",
      "dense (Dense)                (None, 10)                810       \n",
      "=================================================================\n",
      "Total params: 84,770\n",
      "Trainable params: 84,770\n",
      "Non-trainable params: 0\n",
      "_________________________________________________________________\n"
     ]
    }
   ],
   "source": [
    "model.summary()"
   ]
  },
  {
   "cell_type": "code",
   "execution_count": 29,
   "metadata": {},
   "outputs": [],
   "source": [
    "model.compile(loss='mse', optimizer='adam')"
   ]
  },
  {
   "cell_type": "code",
   "execution_count": null,
   "metadata": {},
   "outputs": [
    {
     "name": "stdout",
     "output_type": "stream",
     "text": [
      "Train on 789 samples, validate on 88 samples\n",
      "Epoch 1/10\n"
     ]
    }
   ],
   "source": [
    "history = model.fit(X_train, Y_train, epochs=10, batch_size=32, verbose=1, validation_split=0.1)"
   ]
  },
  {
   "cell_type": "code",
   "execution_count": 29,
   "metadata": {},
   "outputs": [],
   "source": [
    "import tensorflow as tf\n",
    "model = tf.keras.models.load_model('168_1.h5')"
   ]
  },
  {
   "cell_type": "code",
   "execution_count": 30,
   "metadata": {},
   "outputs": [],
   "source": [
    "model.save(\"168_1.h5\")"
   ]
  },
  {
   "cell_type": "code",
   "execution_count": 31,
   "metadata": {},
   "outputs": [],
   "source": [
    "# result = model.predict(X_train, batch_size=128, verbose=0)\n",
    "# for value in result[0,:,0]:\n",
    "# \tprint('%.1f' % value)"
   ]
  },
  {
   "cell_type": "code",
   "execution_count": 32,
   "metadata": {},
   "outputs": [
    {
     "ename": "NameError",
     "evalue": "name 'history' is not defined",
     "output_type": "error",
     "traceback": [
      "\u001b[0;31m---------------------------------------------------------------------------\u001b[0m",
      "\u001b[0;31mNameError\u001b[0m                                 Traceback (most recent call last)",
      "\u001b[0;32m<ipython-input-32-febfcfd9cc7e>\u001b[0m in \u001b[0;36m<module>\u001b[0;34m\u001b[0m\n\u001b[0;32m----> 1\u001b[0;31m \u001b[0mloss\u001b[0m \u001b[0;34m=\u001b[0m \u001b[0mhistory\u001b[0m\u001b[0;34m.\u001b[0m\u001b[0mhistory\u001b[0m\u001b[0;34m[\u001b[0m\u001b[0;34m'loss'\u001b[0m\u001b[0;34m]\u001b[0m\u001b[0;34m\u001b[0m\u001b[0;34m\u001b[0m\u001b[0m\n\u001b[0m\u001b[1;32m      2\u001b[0m \u001b[0mepoch\u001b[0m \u001b[0;34m=\u001b[0m \u001b[0mrange\u001b[0m\u001b[0;34m(\u001b[0m\u001b[0mlen\u001b[0m\u001b[0;34m(\u001b[0m\u001b[0mloss\u001b[0m\u001b[0;34m)\u001b[0m\u001b[0;34m)\u001b[0m\u001b[0;34m\u001b[0m\u001b[0;34m\u001b[0m\u001b[0m\n\u001b[1;32m      3\u001b[0m \u001b[0;31m# plt.figure(figsize=(8,8))\u001b[0m\u001b[0;34m\u001b[0m\u001b[0;34m\u001b[0m\u001b[0;34m\u001b[0m\u001b[0m\n\u001b[1;32m      4\u001b[0m \u001b[0mplt\u001b[0m\u001b[0;34m.\u001b[0m\u001b[0mplot\u001b[0m\u001b[0;34m(\u001b[0m\u001b[0mhistory\u001b[0m\u001b[0;34m.\u001b[0m\u001b[0mhistory\u001b[0m\u001b[0;34m[\u001b[0m\u001b[0;34m'loss'\u001b[0m\u001b[0;34m]\u001b[0m\u001b[0;34m)\u001b[0m\u001b[0;34m\u001b[0m\u001b[0;34m\u001b[0m\u001b[0m\n\u001b[1;32m      5\u001b[0m \u001b[0mplt\u001b[0m\u001b[0;34m.\u001b[0m\u001b[0mplot\u001b[0m\u001b[0;34m(\u001b[0m\u001b[0mhistory\u001b[0m\u001b[0;34m.\u001b[0m\u001b[0mhistory\u001b[0m\u001b[0;34m[\u001b[0m\u001b[0;34m'val_loss'\u001b[0m\u001b[0;34m]\u001b[0m\u001b[0;34m)\u001b[0m\u001b[0;34m\u001b[0m\u001b[0;34m\u001b[0m\u001b[0m\n",
      "\u001b[0;31mNameError\u001b[0m: name 'history' is not defined"
     ]
    }
   ],
   "source": [
    "loss = history.history['loss']\n",
    "epoch = range(len(loss))\n",
    "# plt.figure(figsize=(8,8))\n",
    "plt.plot(history.history['loss'])\n",
    "plt.plot(history.history['val_loss'])\n",
    "plt.title('model train vs validation loss')\n",
    "plt.ylabel('loss')\n",
    "plt.xlabel('epoch')\n",
    "plt.legend(['train', 'validation'], loc='upper right')\n",
    "plt.show()"
   ]
  },
  {
   "cell_type": "code",
   "execution_count": 33,
   "metadata": {},
   "outputs": [
    {
     "ename": "NameError",
     "evalue": "name 'history' is not defined",
     "output_type": "error",
     "traceback": [
      "\u001b[0;31m---------------------------------------------------------------------------\u001b[0m",
      "\u001b[0;31mNameError\u001b[0m                                 Traceback (most recent call last)",
      "\u001b[0;32m<ipython-input-33-6cd13d6a221b>\u001b[0m in \u001b[0;36m<module>\u001b[0;34m\u001b[0m\n\u001b[0;32m----> 1\u001b[0;31m \u001b[0mhistory\u001b[0m\u001b[0;34m.\u001b[0m\u001b[0mhistory\u001b[0m\u001b[0;34m\u001b[0m\u001b[0;34m\u001b[0m\u001b[0m\n\u001b[0m",
      "\u001b[0;31mNameError\u001b[0m: name 'history' is not defined"
     ]
    }
   ],
   "source": [
    "history.history"
   ]
  },
  {
   "cell_type": "code",
   "execution_count": 34,
   "metadata": {},
   "outputs": [],
   "source": [
    "# from tensorflow import keras\n",
    "# regressor = Sequential()\n",
    "# regressor = keras.models.load_model(\"LSTM_model_1210.h5\")"
   ]
  },
  {
   "cell_type": "code",
   "execution_count": 35,
   "metadata": {},
   "outputs": [
    {
     "data": {
      "text/html": [
       "<div>\n",
       "<style scoped>\n",
       "    .dataframe tbody tr th:only-of-type {\n",
       "        vertical-align: middle;\n",
       "    }\n",
       "\n",
       "    .dataframe tbody tr th {\n",
       "        vertical-align: top;\n",
       "    }\n",
       "\n",
       "    .dataframe thead th {\n",
       "        text-align: right;\n",
       "    }\n",
       "</style>\n",
       "<table border=\"1\" class=\"dataframe\">\n",
       "  <thead>\n",
       "    <tr style=\"text-align: right;\">\n",
       "      <th></th>\n",
       "      <th>close</th>\n",
       "      <th>open</th>\n",
       "      <th>high</th>\n",
       "      <th>low</th>\n",
       "      <th>Volume BTC</th>\n",
       "      <th>NewDateTime</th>\n",
       "      <th>returns</th>\n",
       "      <th>log_returns</th>\n",
       "      <th>SOPR</th>\n",
       "      <th>fundingRate</th>\n",
       "      <th>googleTrend</th>\n",
       "    </tr>\n",
       "  </thead>\n",
       "  <tbody>\n",
       "    <tr>\n",
       "      <th>0</th>\n",
       "      <td>66363.02</td>\n",
       "      <td>66449.01</td>\n",
       "      <td>66538.61</td>\n",
       "      <td>66104.32</td>\n",
       "      <td>2434.60668</td>\n",
       "      <td>2021-10-20 17:00:00</td>\n",
       "      <td>0.998706</td>\n",
       "      <td>-0.001295</td>\n",
       "      <td>1.009247</td>\n",
       "      <td>0.01</td>\n",
       "      <td>100</td>\n",
       "    </tr>\n",
       "    <tr>\n",
       "      <th>1</th>\n",
       "      <td>66644.01</td>\n",
       "      <td>66363.02</td>\n",
       "      <td>66700.00</td>\n",
       "      <td>66323.27</td>\n",
       "      <td>1671.16055</td>\n",
       "      <td>2021-10-20 18:00:00</td>\n",
       "      <td>1.004234</td>\n",
       "      <td>0.004225</td>\n",
       "      <td>1.009247</td>\n",
       "      <td>0.01</td>\n",
       "      <td>100</td>\n",
       "    </tr>\n",
       "    <tr>\n",
       "      <th>2</th>\n",
       "      <td>66397.59</td>\n",
       "      <td>66644.00</td>\n",
       "      <td>66700.00</td>\n",
       "      <td>66238.00</td>\n",
       "      <td>1722.61368</td>\n",
       "      <td>2021-10-20 19:00:00</td>\n",
       "      <td>0.996302</td>\n",
       "      <td>-0.003704</td>\n",
       "      <td>1.009247</td>\n",
       "      <td>0.01</td>\n",
       "      <td>100</td>\n",
       "    </tr>\n",
       "    <tr>\n",
       "      <th>3</th>\n",
       "      <td>66002.03</td>\n",
       "      <td>66397.60</td>\n",
       "      <td>66444.47</td>\n",
       "      <td>65662.95</td>\n",
       "      <td>2444.83825</td>\n",
       "      <td>2021-10-20 20:00:00</td>\n",
       "      <td>0.994043</td>\n",
       "      <td>-0.005975</td>\n",
       "      <td>1.009247</td>\n",
       "      <td>0.01</td>\n",
       "      <td>100</td>\n",
       "    </tr>\n",
       "    <tr>\n",
       "      <th>4</th>\n",
       "      <td>65807.50</td>\n",
       "      <td>65993.78</td>\n",
       "      <td>66064.90</td>\n",
       "      <td>65567.00</td>\n",
       "      <td>1289.63837</td>\n",
       "      <td>2021-10-20 21:00:00</td>\n",
       "      <td>0.997053</td>\n",
       "      <td>-0.002952</td>\n",
       "      <td>1.009247</td>\n",
       "      <td>0.01</td>\n",
       "      <td>100</td>\n",
       "    </tr>\n",
       "    <tr>\n",
       "      <th>...</th>\n",
       "      <td>...</td>\n",
       "      <td>...</td>\n",
       "      <td>...</td>\n",
       "      <td>...</td>\n",
       "      <td>...</td>\n",
       "      <td>...</td>\n",
       "      <td>...</td>\n",
       "      <td>...</td>\n",
       "      <td>...</td>\n",
       "      <td>...</td>\n",
       "      <td>...</td>\n",
       "    </tr>\n",
       "    <tr>\n",
       "      <th>1189</th>\n",
       "      <td>49620.68</td>\n",
       "      <td>49767.77</td>\n",
       "      <td>49874.47</td>\n",
       "      <td>49477.00</td>\n",
       "      <td>1150.77841</td>\n",
       "      <td>2021-12-09 06:00:00</td>\n",
       "      <td>0.997044</td>\n",
       "      <td>-0.002960</td>\n",
       "      <td>0.996332</td>\n",
       "      <td>0.01</td>\n",
       "      <td>23</td>\n",
       "    </tr>\n",
       "    <tr>\n",
       "      <th>1190</th>\n",
       "      <td>50016.89</td>\n",
       "      <td>49620.69</td>\n",
       "      <td>50350.00</td>\n",
       "      <td>49184.49</td>\n",
       "      <td>1981.99757</td>\n",
       "      <td>2021-12-09 07:00:00</td>\n",
       "      <td>1.007985</td>\n",
       "      <td>0.007953</td>\n",
       "      <td>0.996332</td>\n",
       "      <td>0.01</td>\n",
       "      <td>25</td>\n",
       "    </tr>\n",
       "    <tr>\n",
       "      <th>1191</th>\n",
       "      <td>49511.54</td>\n",
       "      <td>50016.86</td>\n",
       "      <td>50016.89</td>\n",
       "      <td>49215.74</td>\n",
       "      <td>1339.34458</td>\n",
       "      <td>2021-12-09 08:00:00</td>\n",
       "      <td>0.989896</td>\n",
       "      <td>-0.010155</td>\n",
       "      <td>0.996332</td>\n",
       "      <td>0.01</td>\n",
       "      <td>29</td>\n",
       "    </tr>\n",
       "    <tr>\n",
       "      <th>1192</th>\n",
       "      <td>49206.95</td>\n",
       "      <td>49511.54</td>\n",
       "      <td>49540.01</td>\n",
       "      <td>48898.00</td>\n",
       "      <td>2016.55157</td>\n",
       "      <td>2021-12-09 09:00:00</td>\n",
       "      <td>0.993848</td>\n",
       "      <td>-0.006171</td>\n",
       "      <td>0.996332</td>\n",
       "      <td>0.01</td>\n",
       "      <td>39</td>\n",
       "    </tr>\n",
       "    <tr>\n",
       "      <th>1193</th>\n",
       "      <td>49312.05</td>\n",
       "      <td>49206.95</td>\n",
       "      <td>49408.78</td>\n",
       "      <td>48905.36</td>\n",
       "      <td>1549.04156</td>\n",
       "      <td>2021-12-09 10:00:00</td>\n",
       "      <td>1.002136</td>\n",
       "      <td>0.002134</td>\n",
       "      <td>0.996332</td>\n",
       "      <td>0.01</td>\n",
       "      <td>39</td>\n",
       "    </tr>\n",
       "  </tbody>\n",
       "</table>\n",
       "<p>1194 rows × 11 columns</p>\n",
       "</div>"
      ],
      "text/plain": [
       "         close      open      high       low  Volume BTC          NewDateTime  \\\n",
       "0     66363.02  66449.01  66538.61  66104.32  2434.60668  2021-10-20 17:00:00   \n",
       "1     66644.01  66363.02  66700.00  66323.27  1671.16055  2021-10-20 18:00:00   \n",
       "2     66397.59  66644.00  66700.00  66238.00  1722.61368  2021-10-20 19:00:00   \n",
       "3     66002.03  66397.60  66444.47  65662.95  2444.83825  2021-10-20 20:00:00   \n",
       "4     65807.50  65993.78  66064.90  65567.00  1289.63837  2021-10-20 21:00:00   \n",
       "...        ...       ...       ...       ...         ...                  ...   \n",
       "1189  49620.68  49767.77  49874.47  49477.00  1150.77841  2021-12-09 06:00:00   \n",
       "1190  50016.89  49620.69  50350.00  49184.49  1981.99757  2021-12-09 07:00:00   \n",
       "1191  49511.54  50016.86  50016.89  49215.74  1339.34458  2021-12-09 08:00:00   \n",
       "1192  49206.95  49511.54  49540.01  48898.00  2016.55157  2021-12-09 09:00:00   \n",
       "1193  49312.05  49206.95  49408.78  48905.36  1549.04156  2021-12-09 10:00:00   \n",
       "\n",
       "       returns  log_returns      SOPR  fundingRate  googleTrend  \n",
       "0     0.998706    -0.001295  1.009247         0.01          100  \n",
       "1     1.004234     0.004225  1.009247         0.01          100  \n",
       "2     0.996302    -0.003704  1.009247         0.01          100  \n",
       "3     0.994043    -0.005975  1.009247         0.01          100  \n",
       "4     0.997053    -0.002952  1.009247         0.01          100  \n",
       "...        ...          ...       ...          ...          ...  \n",
       "1189  0.997044    -0.002960  0.996332         0.01           23  \n",
       "1190  1.007985     0.007953  0.996332         0.01           25  \n",
       "1191  0.989896    -0.010155  0.996332         0.01           29  \n",
       "1192  0.993848    -0.006171  0.996332         0.01           39  \n",
       "1193  1.002136     0.002134  0.996332         0.01           39  \n",
       "\n",
       "[1194 rows x 11 columns]"
      ]
     },
     "execution_count": 35,
     "metadata": {},
     "output_type": "execute_result"
    }
   ],
   "source": [
    "past_weeks = data_training.tail(168)\n",
    "df= past_weeks.append(data_test, ignore_index = True)\n",
    "# test.drop(test.tail(len(test)%168).index,inplace=True)\n",
    "# test = test.drop(['NewDateTime'], axis=1)\n",
    "df"
   ]
  },
  {
   "cell_type": "code",
   "execution_count": 36,
   "metadata": {},
   "outputs": [
    {
     "data": {
      "text/html": [
       "<div>\n",
       "<style scoped>\n",
       "    .dataframe tbody tr th:only-of-type {\n",
       "        vertical-align: middle;\n",
       "    }\n",
       "\n",
       "    .dataframe tbody tr th {\n",
       "        vertical-align: top;\n",
       "    }\n",
       "\n",
       "    .dataframe thead th {\n",
       "        text-align: right;\n",
       "    }\n",
       "</style>\n",
       "<table border=\"1\" class=\"dataframe\">\n",
       "  <thead>\n",
       "    <tr style=\"text-align: right;\">\n",
       "      <th></th>\n",
       "      <th>close</th>\n",
       "      <th>open</th>\n",
       "      <th>high</th>\n",
       "      <th>low</th>\n",
       "      <th>Volume BTC</th>\n",
       "      <th>NewDateTime</th>\n",
       "      <th>returns</th>\n",
       "      <th>log_returns</th>\n",
       "      <th>SOPR</th>\n",
       "      <th>fundingRate</th>\n",
       "      <th>googleTrend</th>\n",
       "    </tr>\n",
       "  </thead>\n",
       "  <tbody>\n",
       "    <tr>\n",
       "      <th>18274</th>\n",
       "      <td>66363.02</td>\n",
       "      <td>66449.01</td>\n",
       "      <td>66538.61</td>\n",
       "      <td>66104.32</td>\n",
       "      <td>2434.60668</td>\n",
       "      <td>2021-10-20 17:00:00</td>\n",
       "      <td>0.998706</td>\n",
       "      <td>-0.001295</td>\n",
       "      <td>1.009247</td>\n",
       "      <td>0.0100</td>\n",
       "      <td>100</td>\n",
       "    </tr>\n",
       "    <tr>\n",
       "      <th>18275</th>\n",
       "      <td>66644.01</td>\n",
       "      <td>66363.02</td>\n",
       "      <td>66700.00</td>\n",
       "      <td>66323.27</td>\n",
       "      <td>1671.16055</td>\n",
       "      <td>2021-10-20 18:00:00</td>\n",
       "      <td>1.004234</td>\n",
       "      <td>0.004225</td>\n",
       "      <td>1.009247</td>\n",
       "      <td>0.0100</td>\n",
       "      <td>100</td>\n",
       "    </tr>\n",
       "    <tr>\n",
       "      <th>18276</th>\n",
       "      <td>66397.59</td>\n",
       "      <td>66644.00</td>\n",
       "      <td>66700.00</td>\n",
       "      <td>66238.00</td>\n",
       "      <td>1722.61368</td>\n",
       "      <td>2021-10-20 19:00:00</td>\n",
       "      <td>0.996302</td>\n",
       "      <td>-0.003704</td>\n",
       "      <td>1.009247</td>\n",
       "      <td>0.0100</td>\n",
       "      <td>100</td>\n",
       "    </tr>\n",
       "    <tr>\n",
       "      <th>18277</th>\n",
       "      <td>66002.03</td>\n",
       "      <td>66397.60</td>\n",
       "      <td>66444.47</td>\n",
       "      <td>65662.95</td>\n",
       "      <td>2444.83825</td>\n",
       "      <td>2021-10-20 20:00:00</td>\n",
       "      <td>0.994043</td>\n",
       "      <td>-0.005975</td>\n",
       "      <td>1.009247</td>\n",
       "      <td>0.0100</td>\n",
       "      <td>100</td>\n",
       "    </tr>\n",
       "    <tr>\n",
       "      <th>18278</th>\n",
       "      <td>65807.50</td>\n",
       "      <td>65993.78</td>\n",
       "      <td>66064.90</td>\n",
       "      <td>65567.00</td>\n",
       "      <td>1289.63837</td>\n",
       "      <td>2021-10-20 21:00:00</td>\n",
       "      <td>0.997053</td>\n",
       "      <td>-0.002952</td>\n",
       "      <td>1.009247</td>\n",
       "      <td>0.0100</td>\n",
       "      <td>100</td>\n",
       "    </tr>\n",
       "    <tr>\n",
       "      <th>...</th>\n",
       "      <td>...</td>\n",
       "      <td>...</td>\n",
       "      <td>...</td>\n",
       "      <td>...</td>\n",
       "      <td>...</td>\n",
       "      <td>...</td>\n",
       "      <td>...</td>\n",
       "      <td>...</td>\n",
       "      <td>...</td>\n",
       "      <td>...</td>\n",
       "      <td>...</td>\n",
       "    </tr>\n",
       "    <tr>\n",
       "      <th>18437</th>\n",
       "      <td>59029.03</td>\n",
       "      <td>58564.00</td>\n",
       "      <td>59091.84</td>\n",
       "      <td>58270.00</td>\n",
       "      <td>2793.14905</td>\n",
       "      <td>2021-10-27 12:00:00</td>\n",
       "      <td>1.007941</td>\n",
       "      <td>0.007909</td>\n",
       "      <td>0.998682</td>\n",
       "      <td>0.0331</td>\n",
       "      <td>70</td>\n",
       "    </tr>\n",
       "    <tr>\n",
       "      <th>18438</th>\n",
       "      <td>59012.57</td>\n",
       "      <td>59031.50</td>\n",
       "      <td>59324.90</td>\n",
       "      <td>58899.70</td>\n",
       "      <td>2007.47528</td>\n",
       "      <td>2021-10-27 13:00:00</td>\n",
       "      <td>0.999721</td>\n",
       "      <td>-0.000279</td>\n",
       "      <td>0.998682</td>\n",
       "      <td>0.0331</td>\n",
       "      <td>70</td>\n",
       "    </tr>\n",
       "    <tr>\n",
       "      <th>18439</th>\n",
       "      <td>59162.25</td>\n",
       "      <td>59012.57</td>\n",
       "      <td>59449.00</td>\n",
       "      <td>58709.08</td>\n",
       "      <td>2394.30575</td>\n",
       "      <td>2021-10-27 14:00:00</td>\n",
       "      <td>1.002536</td>\n",
       "      <td>0.002533</td>\n",
       "      <td>0.998682</td>\n",
       "      <td>0.0331</td>\n",
       "      <td>70</td>\n",
       "    </tr>\n",
       "    <tr>\n",
       "      <th>18440</th>\n",
       "      <td>58819.14</td>\n",
       "      <td>59162.25</td>\n",
       "      <td>59360.20</td>\n",
       "      <td>58758.00</td>\n",
       "      <td>2149.76966</td>\n",
       "      <td>2021-10-27 15:00:00</td>\n",
       "      <td>0.994201</td>\n",
       "      <td>-0.005816</td>\n",
       "      <td>0.998682</td>\n",
       "      <td>0.0331</td>\n",
       "      <td>70</td>\n",
       "    </tr>\n",
       "    <tr>\n",
       "      <th>18441</th>\n",
       "      <td>58867.81</td>\n",
       "      <td>58819.15</td>\n",
       "      <td>59066.05</td>\n",
       "      <td>58547.38</td>\n",
       "      <td>2366.25953</td>\n",
       "      <td>2021-10-27 16:00:00</td>\n",
       "      <td>1.000827</td>\n",
       "      <td>0.000827</td>\n",
       "      <td>0.998682</td>\n",
       "      <td>0.0303</td>\n",
       "      <td>70</td>\n",
       "    </tr>\n",
       "  </tbody>\n",
       "</table>\n",
       "<p>168 rows × 11 columns</p>\n",
       "</div>"
      ],
      "text/plain": [
       "          close      open      high       low  Volume BTC  \\\n",
       "18274  66363.02  66449.01  66538.61  66104.32  2434.60668   \n",
       "18275  66644.01  66363.02  66700.00  66323.27  1671.16055   \n",
       "18276  66397.59  66644.00  66700.00  66238.00  1722.61368   \n",
       "18277  66002.03  66397.60  66444.47  65662.95  2444.83825   \n",
       "18278  65807.50  65993.78  66064.90  65567.00  1289.63837   \n",
       "...         ...       ...       ...       ...         ...   \n",
       "18437  59029.03  58564.00  59091.84  58270.00  2793.14905   \n",
       "18438  59012.57  59031.50  59324.90  58899.70  2007.47528   \n",
       "18439  59162.25  59012.57  59449.00  58709.08  2394.30575   \n",
       "18440  58819.14  59162.25  59360.20  58758.00  2149.76966   \n",
       "18441  58867.81  58819.15  59066.05  58547.38  2366.25953   \n",
       "\n",
       "               NewDateTime   returns  log_returns      SOPR  fundingRate  \\\n",
       "18274  2021-10-20 17:00:00  0.998706    -0.001295  1.009247       0.0100   \n",
       "18275  2021-10-20 18:00:00  1.004234     0.004225  1.009247       0.0100   \n",
       "18276  2021-10-20 19:00:00  0.996302    -0.003704  1.009247       0.0100   \n",
       "18277  2021-10-20 20:00:00  0.994043    -0.005975  1.009247       0.0100   \n",
       "18278  2021-10-20 21:00:00  0.997053    -0.002952  1.009247       0.0100   \n",
       "...                    ...       ...          ...       ...          ...   \n",
       "18437  2021-10-27 12:00:00  1.007941     0.007909  0.998682       0.0331   \n",
       "18438  2021-10-27 13:00:00  0.999721    -0.000279  0.998682       0.0331   \n",
       "18439  2021-10-27 14:00:00  1.002536     0.002533  0.998682       0.0331   \n",
       "18440  2021-10-27 15:00:00  0.994201    -0.005816  0.998682       0.0331   \n",
       "18441  2021-10-27 16:00:00  1.000827     0.000827  0.998682       0.0303   \n",
       "\n",
       "       googleTrend  \n",
       "18274          100  \n",
       "18275          100  \n",
       "18276          100  \n",
       "18277          100  \n",
       "18278          100  \n",
       "...            ...  \n",
       "18437           70  \n",
       "18438           70  \n",
       "18439           70  \n",
       "18440           70  \n",
       "18441           70  \n",
       "\n",
       "[168 rows x 11 columns]"
      ]
     },
     "execution_count": 36,
     "metadata": {},
     "output_type": "execute_result"
    }
   ],
   "source": [
    "past_weeks"
   ]
  },
  {
   "cell_type": "code",
   "execution_count": 37,
   "metadata": {},
   "outputs": [
    {
     "data": {
      "text/plain": [
       "1194"
      ]
     },
     "execution_count": 37,
     "metadata": {},
     "output_type": "execute_result"
    }
   ],
   "source": [
    "df = df.drop(['NewDateTime'], axis = 1)\n",
    "len(df)"
   ]
  },
  {
   "cell_type": "code",
   "execution_count": 38,
   "metadata": {},
   "outputs": [
    {
     "data": {
      "text/plain": [
       "array([[0.9864625 , 0.98875349, 0.98784814, ..., 0.52272693, 0.29444773,\n",
       "        1.        ],\n",
       "       [0.99388026, 0.98648774, 0.99209875, ..., 0.52272693, 0.29444773,\n",
       "        1.        ],\n",
       "       [0.9873751 , 0.99389126, 0.99209875, ..., 0.52272693, 0.29444773,\n",
       "        1.        ],\n",
       "       ...,\n",
       "       [0.54160588, 0.55578397, 0.55270715, ..., 0.39067442, 0.29444773,\n",
       "        0.16470588],\n",
       "       [0.53356511, 0.54246933, 0.54014732, ..., 0.39067442, 0.29444773,\n",
       "        0.28235294],\n",
       "       [0.53633961, 0.53444371, 0.53669105, ..., 0.39067442, 0.29444773,\n",
       "        0.28235294]])"
      ]
     },
     "execution_count": 38,
     "metadata": {},
     "output_type": "execute_result"
    }
   ],
   "source": [
    "inputs = scaler.transform(df)\n",
    "inputs"
   ]
  },
  {
   "cell_type": "code",
   "execution_count": 39,
   "metadata": {},
   "outputs": [],
   "source": [
    "X_test = []\n",
    "Y_test = []\n",
    "for i in range(168, inputs.shape[0]):\n",
    "    X_test.append(inputs[i-168:i])\n",
    "    Y_test.append(inputs[i])"
   ]
  },
  {
   "cell_type": "code",
   "execution_count": 40,
   "metadata": {},
   "outputs": [
    {
     "data": {
      "text/plain": [
       "((1026, 168, 10), (1026, 10))"
      ]
     },
     "execution_count": 40,
     "metadata": {},
     "output_type": "execute_result"
    }
   ],
   "source": [
    "X_test, Y_test = np.array(X_test), np.array(Y_test)\n",
    "X_test.shape, Y_test.shape"
   ]
  },
  {
   "cell_type": "code",
   "execution_count": 41,
   "metadata": {},
   "outputs": [
    {
     "data": {
      "text/plain": [
       "array([2.63986674e-05, 2.63489267e-05, 2.63375110e-05, 2.61711525e-05,\n",
       "       2.26040745e-05, 4.70137657e+00, 4.76290973e+00, 1.02247277e+01,\n",
       "       2.95333727e+00, 1.17647059e-02])"
      ]
     },
     "execution_count": 41,
     "metadata": {},
     "output_type": "execute_result"
    }
   ],
   "source": [
    "scaler.scale_"
   ]
  },
  {
   "cell_type": "code",
   "execution_count": 42,
   "metadata": {},
   "outputs": [
    {
     "data": {
      "text/plain": [
       "37880.69999321253"
      ]
     },
     "execution_count": 42,
     "metadata": {},
     "output_type": "execute_result"
    }
   ],
   "source": [
    "scale = 1/2.63986674e-05\n",
    "scale"
   ]
  },
  {
   "cell_type": "code",
   "execution_count": 43,
   "metadata": {},
   "outputs": [
    {
     "data": {
      "text/plain": [
       "array([[0.7706331 , 0.7690325 , 0.7776096 , 0.76498175, 0.07804858,\n",
       "        0.415861  , 0.4436869 , 0.4923516 , 0.38263407, 0.63149446]],\n",
       "      dtype=float32)"
      ]
     },
     "execution_count": 43,
     "metadata": {},
     "output_type": "execute_result"
    }
   ],
   "source": [
    "data = (X_test[10,:,:]).reshape(1,168,10)\n",
    "predata = model.predict(data)\n",
    "# data = data[0,1:168,:].reshape(1,167,10)\n",
    "# data = np.append(data, predata)\n",
    "# data = data.reshape(1,168,10)\n",
    "# data.shape\n",
    "# predata = predata.reshape(1,1,10)\n",
    "predata "
   ]
  },
  {
   "cell_type": "code",
   "execution_count": null,
   "metadata": {},
   "outputs": [],
   "source": [
    "pred = []\n",
    "real = []\n",
    "data = (X_test[0,:,:]).reshape(1,168,10)\n",
    "for i in range(0,168):\n",
    "    predata = model.predict(data).reshape(1,1,10)\n",
    "    data = data[0,1:168,:].reshape(1,167,10)\n",
    "    data = np.append(data, predata)\n",
    "    data = data.reshape(1,168,10)\n",
    "    pred.append((predata[0,:,0])*scale)\n",
    "    real.append((Y_test[i,0])*scale)\n",
    "\n",
    "\n",
    "type(pred) , real[0]"
   ]
  },
  {
   "cell_type": "code",
   "execution_count": 81,
   "metadata": {},
   "outputs": [
    {
     "data": {
      "text/plain": [
       "[array([28974.275], dtype=float32),\n",
       " array([28864.186], dtype=float32),\n",
       " array([28739.559], dtype=float32),\n",
       " array([28607.498], dtype=float32),\n",
       " array([28473.229], dtype=float32),\n",
       " array([28339.855], dtype=float32),\n",
       " array([28209.18], dtype=float32),\n",
       " array([28083.037], dtype=float32),\n",
       " array([27961.523], dtype=float32),\n",
       " array([27844.598], dtype=float32),\n",
       " array([27731.982], dtype=float32),\n",
       " array([27623.371], dtype=float32),\n",
       " array([27518.512], dtype=float32),\n",
       " array([27417.215], dtype=float32),\n",
       " array([27319.346], dtype=float32),\n",
       " array([27224.812], dtype=float32),\n",
       " array([27133.531], dtype=float32),\n",
       " array([27045.209], dtype=float32),\n",
       " array([26959.475], dtype=float32),\n",
       " array([26876.127], dtype=float32),\n",
       " array([26795.021], dtype=float32),\n",
       " array([26716.066], dtype=float32),\n",
       " array([26639.172], dtype=float32),\n",
       " array([26564.28], dtype=float32),\n",
       " array([26491.322], dtype=float32),\n",
       " array([26420.254], dtype=float32),\n",
       " array([26351.025], dtype=float32),\n",
       " array([26283.592], dtype=float32),\n",
       " array([26217.75], dtype=float32),\n",
       " array([26153.38], dtype=float32),\n",
       " array([26090.416], dtype=float32),\n",
       " array([26028.783], dtype=float32),\n",
       " array([25968.668], dtype=float32),\n",
       " array([25910.174], dtype=float32),\n",
       " array([25853.35], dtype=float32),\n",
       " array([25798.22], dtype=float32),\n",
       " array([25744.79], dtype=float32),\n",
       " array([25693.031], dtype=float32),\n",
       " array([25642.924], dtype=float32),\n",
       " array([25594.424], dtype=float32),\n",
       " array([25547.541], dtype=float32),\n",
       " array([25502.361], dtype=float32),\n",
       " array([25458.758], dtype=float32),\n",
       " array([25416.63], dtype=float32),\n",
       " array([25375.895], dtype=float32),\n",
       " array([25336.148], dtype=float32),\n",
       " array([25297.23], dtype=float32),\n",
       " array([25259.08], dtype=float32),\n",
       " array([25221.693], dtype=float32),\n",
       " array([25185.082], dtype=float32),\n",
       " array([25149.266], dtype=float32),\n",
       " array([25114.26], dtype=float32),\n",
       " array([25080.068], dtype=float32),\n",
       " array([25046.652], dtype=float32),\n",
       " array([25013.979], dtype=float32),\n",
       " array([24982.], dtype=float32),\n",
       " array([24950.686], dtype=float32),\n",
       " array([24920.006], dtype=float32),\n",
       " array([24889.936], dtype=float32),\n",
       " array([24860.451], dtype=float32),\n",
       " array([24831.54], dtype=float32),\n",
       " array([24803.184], dtype=float32),\n",
       " array([24775.371], dtype=float32),\n",
       " array([24748.096], dtype=float32),\n",
       " array([24721.342], dtype=float32),\n",
       " array([24695.107], dtype=float32),\n",
       " array([24669.379], dtype=float32),\n",
       " array([24644.15], dtype=float32),\n",
       " array([24619.41], dtype=float32),\n",
       " array([24595.154], dtype=float32),\n",
       " array([24571.37], dtype=float32),\n",
       " array([24548.053], dtype=float32),\n",
       " array([24525.193], dtype=float32),\n",
       " array([24502.78], dtype=float32),\n",
       " array([24480.736], dtype=float32),\n",
       " array([24458.99], dtype=float32),\n",
       " array([24437.51], dtype=float32),\n",
       " array([24416.273], dtype=float32),\n",
       " array([24395.275], dtype=float32),\n",
       " array([24374.506], dtype=float32),\n",
       " array([24353.965], dtype=float32),\n",
       " array([24333.648], dtype=float32),\n",
       " array([24313.555], dtype=float32),\n",
       " array([24293.688], dtype=float32),\n",
       " array([24274.043], dtype=float32),\n",
       " array([24254.617], dtype=float32),\n",
       " array([24235.42], dtype=float32),\n",
       " array([24216.44], dtype=float32),\n",
       " array([24197.68], dtype=float32),\n",
       " array([24179.14], dtype=float32),\n",
       " array([24160.812], dtype=float32),\n",
       " array([24142.7], dtype=float32),\n",
       " array([24124.799], dtype=float32),\n",
       " array([24107.107], dtype=float32),\n",
       " array([24089.623], dtype=float32),\n",
       " array([24072.338], dtype=float32),\n",
       " array([24055.256], dtype=float32),\n",
       " array([24038.37], dtype=float32),\n",
       " array([24021.678], dtype=float32),\n",
       " array([24005.182], dtype=float32),\n",
       " array([23988.871], dtype=float32),\n",
       " array([23972.746], dtype=float32),\n",
       " array([23956.809], dtype=float32),\n",
       " array([23941.05], dtype=float32),\n",
       " array([23925.47], dtype=float32),\n",
       " array([23910.062], dtype=float32),\n",
       " array([23894.834], dtype=float32),\n",
       " array([23879.773], dtype=float32),\n",
       " array([23864.883], dtype=float32),\n",
       " array([23850.154], dtype=float32),\n",
       " array([23835.594], dtype=float32),\n",
       " array([23821.191], dtype=float32),\n",
       " array([23806.95], dtype=float32),\n",
       " array([23792.861], dtype=float32),\n",
       " array([23778.932], dtype=float32),\n",
       " array([23765.148], dtype=float32),\n",
       " array([23751.52], dtype=float32),\n",
       " array([23738.037], dtype=float32),\n",
       " array([23724.7], dtype=float32),\n",
       " array([23711.506], dtype=float32),\n",
       " array([23698.44], dtype=float32),\n",
       " array([23685.51], dtype=float32),\n",
       " array([23672.72], dtype=float32),\n",
       " array([23660.072], dtype=float32),\n",
       " array([23647.566], dtype=float32),\n",
       " array([23635.2], dtype=float32),\n",
       " array([23622.973], dtype=float32),\n",
       " array([23610.887], dtype=float32),\n",
       " array([23598.938], dtype=float32),\n",
       " array([23587.125], dtype=float32),\n",
       " array([23575.45], dtype=float32),\n",
       " array([23563.908], dtype=float32),\n",
       " array([23552.498], dtype=float32),\n",
       " array([23541.219], dtype=float32),\n",
       " array([23530.07], dtype=float32),\n",
       " array([23519.05], dtype=float32),\n",
       " array([23508.154], dtype=float32),\n",
       " array([23497.38], dtype=float32),\n",
       " array([23486.73], dtype=float32),\n",
       " array([23476.201], dtype=float32),\n",
       " array([23465.785], dtype=float32),\n",
       " array([23455.486], dtype=float32),\n",
       " array([23445.297], dtype=float32),\n",
       " array([23435.223], dtype=float32),\n",
       " array([23425.254], dtype=float32),\n",
       " array([23415.385], dtype=float32),\n",
       " array([23405.62], dtype=float32),\n",
       " array([23395.965], dtype=float32),\n",
       " array([23386.426], dtype=float32),\n",
       " array([23376.996], dtype=float32),\n",
       " array([23367.686], dtype=float32),\n",
       " array([23358.484], dtype=float32),\n",
       " array([23349.396], dtype=float32),\n",
       " array([23340.42], dtype=float32),\n",
       " array([23331.55], dtype=float32),\n",
       " array([23322.795], dtype=float32),\n",
       " array([23314.143], dtype=float32),\n",
       " array([23305.598], dtype=float32),\n",
       " array([23297.158], dtype=float32),\n",
       " array([23288.822], dtype=float32),\n",
       " array([23280.59], dtype=float32),\n",
       " array([23272.459], dtype=float32),\n",
       " array([23264.428], dtype=float32),\n",
       " array([23256.5], dtype=float32),\n",
       " array([23248.666], dtype=float32),\n",
       " array([23240.932], dtype=float32),\n",
       " array([23233.295], dtype=float32),\n",
       " array([23225.752], dtype=float32)]"
      ]
     },
     "execution_count": 81,
     "metadata": {},
     "output_type": "execute_result"
    }
   ],
   "source": [
    "pred"
   ]
  },
  {
   "cell_type": "code",
   "execution_count": 82,
   "metadata": {},
   "outputs": [
    {
     "data": {
      "image/png": "[encoded data removed]",
      "text/plain": [
       "<Figure size 1008x360 with 1 Axes>"
      ]
     },
     "metadata": {
      "needs_background": "light"
     },
     "output_type": "display_data"
    }
   ],
   "source": [
    "plt.figure(figsize=(14,5))\n",
    "plt.plot(np.array(real).flat, color = 'red', label = 'Real Bitcoin Price')\n",
    "plt.plot(np.array(pred).flat, color = 'green', label = 'Predicted Bitcoin Price')\n",
    "plt.title('Bitcoin Price Prediction using RNN-LSTM')\n",
    "plt.xlabel('Time')\n",
    "plt.ylabel('Price')\n",
    "plt.legend()\n",
    "plt.show()"
   ]
  },
  {
   "cell_type": "code",
   "execution_count": null,
   "metadata": {},
   "outputs": [],
   "source": []
  },
  {
   "cell_type": "code",
   "execution_count": null,
   "metadata": {},
   "outputs": [],
   "source": []
  }
 ],
 "metadata": {
  "kernelspec": {
   "display_name": "Python 3",
   "language": "python",
   "name": "python3"
  },
  "language_info": {
   "codemirror_mode": {
    "name": "ipython",
    "version": 3
   },
   "file_extension": ".py",
   "mimetype": "text/x-python",
   "name": "python",
   "nbconvert_exporter": "python",
   "pygments_lexer": "ipython3",
   "version": "3.6.9"
  }
 },
 "nbformat": 4,
 "nbformat_minor": 4
}
