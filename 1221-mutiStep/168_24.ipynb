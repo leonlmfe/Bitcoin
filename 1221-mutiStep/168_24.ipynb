{
 "cells": [
  {
   "cell_type": "code",
   "execution_count": 1,
   "metadata": {},
   "outputs": [],
   "source": [
    "import numpy as np\n",
    "import matplotlib.pyplot as plt\n",
    "import pandas as pd\n",
    "import gc\n",
    "from sklearn.preprocessing import MinMaxScaler\n",
    "from pandas import read_csv"
   ]
  },
  {
   "cell_type": "code",
   "execution_count": 2,
   "metadata": {},
   "outputs": [
    {
     "data": {
      "text/plain": [
       "19793"
      ]
     },
     "execution_count": 2,
     "metadata": {},
     "output_type": "execute_result"
    }
   ],
   "source": [
    "# load the new file\n",
    "df = read_csv('./data/bitcoin_data.csv', date_parser = True)\n",
    "df.drop(df.columns[0], axis=1,inplace = True)\n",
    "len(df)"
   ]
  },
  {
   "cell_type": "code",
   "execution_count": 3,
   "metadata": {},
   "outputs": [
    {
     "data": {
      "text/plain": [
       "8531"
      ]
     },
     "execution_count": 3,
     "metadata": {},
     "output_type": "execute_result"
    }
   ],
   "source": [
    "df = df[df['NewDateTime']>= '2021-01-01'].copy()\n",
    "len(df)"
   ]
  },
  {
   "cell_type": "code",
   "execution_count": 4,
   "metadata": {},
   "outputs": [],
   "source": [
    "# df.drop(df.head(len(df)%168).index,inplace=True)\n",
    "# len(df)"
   ]
  },
  {
   "cell_type": "code",
   "execution_count": 5,
   "metadata": {},
   "outputs": [
    {
     "data": {
      "text/plain": [
       "7464"
      ]
     },
     "execution_count": 5,
     "metadata": {},
     "output_type": "execute_result"
    }
   ],
   "source": [
    "int(len(df)/8*7)"
   ]
  },
  {
   "cell_type": "code",
   "execution_count": 6,
   "metadata": {},
   "outputs": [
    {
     "data": {
      "text/plain": [
       "8363"
      ]
     },
     "execution_count": 6,
     "metadata": {},
     "output_type": "execute_result"
    }
   ],
   "source": [
    "data_training = df.iloc[0:int(len(df)-168),:]\n",
    "data_test = df.iloc[int(len(df)-168):int(len(df)),:]\n",
    "\n",
    "len(data_training)"
   ]
  },
  {
   "cell_type": "code",
   "execution_count": 7,
   "metadata": {},
   "outputs": [
    {
     "data": {
      "text/html": [
       "<div>\n",
       "<style scoped>\n",
       "    .dataframe tbody tr th:only-of-type {\n",
       "        vertical-align: middle;\n",
       "    }\n",
       "\n",
       "    .dataframe tbody tr th {\n",
       "        vertical-align: top;\n",
       "    }\n",
       "\n",
       "    .dataframe thead th {\n",
       "        text-align: right;\n",
       "    }\n",
       "</style>\n",
       "<table border=\"1\" class=\"dataframe\">\n",
       "  <thead>\n",
       "    <tr style=\"text-align: right;\">\n",
       "      <th></th>\n",
       "      <th>close</th>\n",
       "      <th>open</th>\n",
       "      <th>high</th>\n",
       "      <th>low</th>\n",
       "      <th>Volume BTC</th>\n",
       "      <th>returns</th>\n",
       "      <th>log_returns</th>\n",
       "      <th>SOPR</th>\n",
       "      <th>fundingRate</th>\n",
       "      <th>googleTrend</th>\n",
       "    </tr>\n",
       "  </thead>\n",
       "  <tbody>\n",
       "    <tr>\n",
       "      <th>11262</th>\n",
       "      <td>28995.13</td>\n",
       "      <td>28923.63</td>\n",
       "      <td>29031.34</td>\n",
       "      <td>28690.17</td>\n",
       "      <td>2311.811445</td>\n",
       "      <td>1.002472</td>\n",
       "      <td>0.002469</td>\n",
       "      <td>1.041846</td>\n",
       "      <td>0.0367</td>\n",
       "      <td>38</td>\n",
       "    </tr>\n",
       "    <tr>\n",
       "      <th>11263</th>\n",
       "      <td>29409.99</td>\n",
       "      <td>28995.13</td>\n",
       "      <td>29470.00</td>\n",
       "      <td>28960.35</td>\n",
       "      <td>5403.068471</td>\n",
       "      <td>1.014308</td>\n",
       "      <td>0.014207</td>\n",
       "      <td>1.041846</td>\n",
       "      <td>0.0367</td>\n",
       "      <td>36</td>\n",
       "    </tr>\n",
       "    <tr>\n",
       "      <th>11264</th>\n",
       "      <td>29194.65</td>\n",
       "      <td>29410.00</td>\n",
       "      <td>29465.26</td>\n",
       "      <td>29120.03</td>\n",
       "      <td>2384.231560</td>\n",
       "      <td>0.992678</td>\n",
       "      <td>-0.007349</td>\n",
       "      <td>1.041846</td>\n",
       "      <td>0.0367</td>\n",
       "      <td>34</td>\n",
       "    </tr>\n",
       "    <tr>\n",
       "      <th>11265</th>\n",
       "      <td>29278.40</td>\n",
       "      <td>29195.25</td>\n",
       "      <td>29367.00</td>\n",
       "      <td>29150.02</td>\n",
       "      <td>1461.345077</td>\n",
       "      <td>1.002869</td>\n",
       "      <td>0.002865</td>\n",
       "      <td>1.041846</td>\n",
       "      <td>0.0367</td>\n",
       "      <td>33</td>\n",
       "    </tr>\n",
       "    <tr>\n",
       "      <th>11266</th>\n",
       "      <td>29220.31</td>\n",
       "      <td>29278.41</td>\n",
       "      <td>29395.00</td>\n",
       "      <td>29029.40</td>\n",
       "      <td>2038.046803</td>\n",
       "      <td>0.998016</td>\n",
       "      <td>-0.001986</td>\n",
       "      <td>1.041846</td>\n",
       "      <td>0.0367</td>\n",
       "      <td>32</td>\n",
       "    </tr>\n",
       "    <tr>\n",
       "      <th>...</th>\n",
       "      <td>...</td>\n",
       "      <td>...</td>\n",
       "      <td>...</td>\n",
       "      <td>...</td>\n",
       "      <td>...</td>\n",
       "      <td>...</td>\n",
       "      <td>...</td>\n",
       "      <td>...</td>\n",
       "      <td>...</td>\n",
       "      <td>...</td>\n",
       "    </tr>\n",
       "    <tr>\n",
       "      <th>19620</th>\n",
       "      <td>48674.90</td>\n",
       "      <td>47830.00</td>\n",
       "      <td>49259.98</td>\n",
       "      <td>47212.00</td>\n",
       "      <td>10878.121400</td>\n",
       "      <td>1.017665</td>\n",
       "      <td>0.017511</td>\n",
       "      <td>1.000075</td>\n",
       "      <td>0.0100</td>\n",
       "      <td>47</td>\n",
       "    </tr>\n",
       "    <tr>\n",
       "      <th>19621</th>\n",
       "      <td>49211.84</td>\n",
       "      <td>48674.90</td>\n",
       "      <td>49500.00</td>\n",
       "      <td>48527.01</td>\n",
       "      <td>4690.616610</td>\n",
       "      <td>1.011031</td>\n",
       "      <td>0.010971</td>\n",
       "      <td>1.000075</td>\n",
       "      <td>0.0100</td>\n",
       "      <td>47</td>\n",
       "    </tr>\n",
       "    <tr>\n",
       "      <th>19622</th>\n",
       "      <td>49168.89</td>\n",
       "      <td>49211.83</td>\n",
       "      <td>49358.75</td>\n",
       "      <td>48865.94</td>\n",
       "      <td>2276.034320</td>\n",
       "      <td>0.999127</td>\n",
       "      <td>-0.000873</td>\n",
       "      <td>1.000075</td>\n",
       "      <td>0.0100</td>\n",
       "      <td>45</td>\n",
       "    </tr>\n",
       "    <tr>\n",
       "      <th>19623</th>\n",
       "      <td>48747.30</td>\n",
       "      <td>49168.89</td>\n",
       "      <td>49235.38</td>\n",
       "      <td>48653.00</td>\n",
       "      <td>1159.597200</td>\n",
       "      <td>0.991426</td>\n",
       "      <td>-0.008611</td>\n",
       "      <td>1.000075</td>\n",
       "      <td>0.0100</td>\n",
       "      <td>41</td>\n",
       "    </tr>\n",
       "    <tr>\n",
       "      <th>19624</th>\n",
       "      <td>48864.98</td>\n",
       "      <td>48747.31</td>\n",
       "      <td>48974.09</td>\n",
       "      <td>48700.19</td>\n",
       "      <td>1285.217240</td>\n",
       "      <td>1.002414</td>\n",
       "      <td>0.002411</td>\n",
       "      <td>1.000075</td>\n",
       "      <td>0.0100</td>\n",
       "      <td>39</td>\n",
       "    </tr>\n",
       "  </tbody>\n",
       "</table>\n",
       "<p>8363 rows × 10 columns</p>\n",
       "</div>"
      ],
      "text/plain": [
       "          close      open      high       low    Volume BTC   returns  \\\n",
       "11262  28995.13  28923.63  29031.34  28690.17   2311.811445  1.002472   \n",
       "11263  29409.99  28995.13  29470.00  28960.35   5403.068471  1.014308   \n",
       "11264  29194.65  29410.00  29465.26  29120.03   2384.231560  0.992678   \n",
       "11265  29278.40  29195.25  29367.00  29150.02   1461.345077  1.002869   \n",
       "11266  29220.31  29278.41  29395.00  29029.40   2038.046803  0.998016   \n",
       "...         ...       ...       ...       ...           ...       ...   \n",
       "19620  48674.90  47830.00  49259.98  47212.00  10878.121400  1.017665   \n",
       "19621  49211.84  48674.90  49500.00  48527.01   4690.616610  1.011031   \n",
       "19622  49168.89  49211.83  49358.75  48865.94   2276.034320  0.999127   \n",
       "19623  48747.30  49168.89  49235.38  48653.00   1159.597200  0.991426   \n",
       "19624  48864.98  48747.31  48974.09  48700.19   1285.217240  1.002414   \n",
       "\n",
       "       log_returns      SOPR  fundingRate  googleTrend  \n",
       "11262     0.002469  1.041846       0.0367           38  \n",
       "11263     0.014207  1.041846       0.0367           36  \n",
       "11264    -0.007349  1.041846       0.0367           34  \n",
       "11265     0.002865  1.041846       0.0367           33  \n",
       "11266    -0.001986  1.041846       0.0367           32  \n",
       "...            ...       ...          ...          ...  \n",
       "19620     0.017511  1.000075       0.0100           47  \n",
       "19621     0.010971  1.000075       0.0100           47  \n",
       "19622    -0.000873  1.000075       0.0100           45  \n",
       "19623    -0.008611  1.000075       0.0100           41  \n",
       "19624     0.002411  1.000075       0.0100           39  \n",
       "\n",
       "[8363 rows x 10 columns]"
      ]
     },
     "execution_count": 7,
     "metadata": {},
     "output_type": "execute_result"
    }
   ],
   "source": [
    "training_data = data_training.drop(['NewDateTime'], axis = 1)\n",
    "\n",
    "\n",
    "training_data"
   ]
  },
  {
   "cell_type": "code",
   "execution_count": 8,
   "metadata": {},
   "outputs": [
    {
     "data": {
      "text/plain": [
       "array([[0.        , 0.        , 0.        , ..., 0.85604275, 0.37330183,\n",
       "        0.27058824],\n",
       "       [0.01046607, 0.00180049, 0.0109751 , ..., 0.85604275, 0.37330183,\n",
       "        0.24705882],\n",
       "       [0.00503348, 0.01224759, 0.01085651, ..., 0.85604275, 0.37330183,\n",
       "        0.22352941],\n",
       "       ...,\n",
       "       [0.50894281, 0.51088992, 0.50858373, ..., 0.4289545 , 0.29444773,\n",
       "        0.35294118],\n",
       "       [0.49830695, 0.50980862, 0.50549706, ..., 0.4289545 , 0.29444773,\n",
       "        0.30588235],\n",
       "       [0.50127578, 0.49919255, 0.49895968, ..., 0.4289545 , 0.29444773,\n",
       "        0.28235294]])"
      ]
     },
     "execution_count": 8,
     "metadata": {},
     "output_type": "execute_result"
    }
   ],
   "source": [
    "scaler = MinMaxScaler()\n",
    "training_data = scaler.fit_transform(training_data)\n",
    "training_data"
   ]
  },
  {
   "cell_type": "code",
   "execution_count": 9,
   "metadata": {},
   "outputs": [],
   "source": [
    "X_train = []\n",
    "Y_train = []"
   ]
  },
  {
   "cell_type": "code",
   "execution_count": 10,
   "metadata": {},
   "outputs": [
    {
     "data": {
      "text/plain": [
       "(8363, 10)"
      ]
     },
     "execution_count": 10,
     "metadata": {},
     "output_type": "execute_result"
    }
   ],
   "source": [
    "training_data.shape"
   ]
  },
  {
   "cell_type": "code",
   "execution_count": 11,
   "metadata": {},
   "outputs": [],
   "source": [
    "for i in range(192, training_data.shape[0],12):\n",
    "    X_train.append(training_data[i-192:i-24])\n",
    "    Y_train.append(training_data[i-24:i])"
   ]
  },
  {
   "cell_type": "code",
   "execution_count": 12,
   "metadata": {},
   "outputs": [],
   "source": [
    "X_train, Y_train = np.array(X_train), np.array(Y_train)"
   ]
  },
  {
   "cell_type": "code",
   "execution_count": 13,
   "metadata": {},
   "outputs": [
    {
     "data": {
      "text/plain": [
       "(681, 168, 10)"
      ]
     },
     "execution_count": 13,
     "metadata": {},
     "output_type": "execute_result"
    }
   ],
   "source": [
    "X_train.shape"
   ]
  },
  {
   "cell_type": "code",
   "execution_count": 14,
   "metadata": {},
   "outputs": [
    {
     "data": {
      "text/plain": [
       "(681, 24, 10)"
      ]
     },
     "execution_count": 14,
     "metadata": {},
     "output_type": "execute_result"
    }
   ],
   "source": [
    "Y_train.shape"
   ]
  },
  {
   "cell_type": "code",
   "execution_count": 15,
   "metadata": {},
   "outputs": [
    {
     "data": {
      "text/plain": [
       "array([0.31085337, 0.31132148, 0.31911403, 0.31564966, 0.17157123,\n",
       "       0.42442684, 0.45029811, 0.97588661, 0.89545186, 0.62352941])"
      ]
     },
     "execution_count": 15,
     "metadata": {},
     "output_type": "execute_result"
    }
   ],
   "source": [
    "Y_train[1,0]"
   ]
  },
  {
   "cell_type": "code",
   "execution_count": 16,
   "metadata": {},
   "outputs": [
    {
     "data": {
      "text/plain": [
       "0.29233352573857374"
      ]
     },
     "execution_count": 16,
     "metadata": {},
     "output_type": "execute_result"
    }
   ],
   "source": [
    "X_train[2,167,0]"
   ]
  },
  {
   "cell_type": "code",
   "execution_count": 17,
   "metadata": {},
   "outputs": [],
   "source": [
    "# Y_train=Y_train.reshape(Y_train.shape[0],24,1)"
   ]
  },
  {
   "cell_type": "code",
   "execution_count": 18,
   "metadata": {},
   "outputs": [],
   "source": [
    "# Y_train[1,:,0]"
   ]
  },
  {
   "cell_type": "code",
   "execution_count": 19,
   "metadata": {},
   "outputs": [
    {
     "name": "stdout",
     "output_type": "stream",
     "text": [
      "WARNING:tensorflow:Deprecation warnings have been disabled. Set TF_ENABLE_DEPRECATION_WARNINGS=1 to re-enable them.\n"
     ]
    }
   ],
   "source": [
    "\n",
    "from tensorflow.keras import Sequential\n",
    "from tensorflow.keras.layers import Dense, LSTM, Dropout,RepeatVector,TimeDistributed"
   ]
  },
  {
   "cell_type": "code",
   "execution_count": 53,
   "metadata": {},
   "outputs": [],
   "source": [
    "model = Sequential()\n",
    "model.add(LSTM(300, activation='relu', input_shape=(X_train.shape[1], 10)))\n",
    "# model.add(Dropout(0.4))\n",
    "model.add(RepeatVector(24))\n",
    "model.add(LSTM(200, activation='relu', return_sequences=True))\n",
    "# model.add(Dropout(0.3))\n",
    "model.add(TimeDistributed(Dense(100, activation='relu')))\n",
    "model.add(TimeDistributed(Dense(10)))"
   ]
  },
  {
   "cell_type": "code",
   "execution_count": 54,
   "metadata": {},
   "outputs": [
    {
     "name": "stdout",
     "output_type": "stream",
     "text": [
      "Model: \"sequential_3\"\n",
      "_________________________________________________________________\n",
      "Layer (type)                 Output Shape              Param #   \n",
      "=================================================================\n",
      "lstm_6 (LSTM)                (None, 300)               373200    \n",
      "_________________________________________________________________\n",
      "repeat_vector_3 (RepeatVecto (None, 24, 300)           0         \n",
      "_________________________________________________________________\n",
      "lstm_7 (LSTM)                (None, 24, 200)           400800    \n",
      "_________________________________________________________________\n",
      "time_distributed_6 (TimeDist (None, 24, 100)           20100     \n",
      "_________________________________________________________________\n",
      "time_distributed_7 (TimeDist (None, 24, 10)            1010      \n",
      "=================================================================\n",
      "Total params: 795,110\n",
      "Trainable params: 795,110\n",
      "Non-trainable params: 0\n",
      "_________________________________________________________________\n"
     ]
    }
   ],
   "source": [
    "model.summary()"
   ]
  },
  {
   "cell_type": "code",
   "execution_count": 55,
   "metadata": {},
   "outputs": [],
   "source": [
    "model.compile(loss='mse', optimizer='adam')"
   ]
  },
  {
   "cell_type": "code",
   "execution_count": 56,
   "metadata": {},
   "outputs": [
    {
     "name": "stdout",
     "output_type": "stream",
     "text": [
      "Train on 612 samples, validate on 69 samples\n",
      "Epoch 1/10\n",
      "612/612 [==============================] - 62s 102ms/sample - loss: 0.0656 - val_loss: 0.0220\n",
      "Epoch 2/10\n",
      "612/612 [==============================] - 18s 29ms/sample - loss: 0.0124 - val_loss: 0.0087\n",
      "Epoch 3/10\n",
      "612/612 [==============================] - 22s 35ms/sample - loss: 0.0074 - val_loss: 0.0063\n",
      "Epoch 4/10\n",
      "612/612 [==============================] - 36s 59ms/sample - loss: 0.0056 - val_loss: 0.0053\n",
      "Epoch 5/10\n",
      "612/612 [==============================] - 23s 38ms/sample - loss: 0.0051 - val_loss: 0.0049\n",
      "Epoch 6/10\n",
      "612/612 [==============================] - 40s 66ms/sample - loss: 0.0049 - val_loss: 0.0058\n",
      "Epoch 7/10\n",
      "612/612 [==============================] - 15s 24ms/sample - loss: 0.0048 - val_loss: 0.0040\n",
      "Epoch 8/10\n",
      "612/612 [==============================] - 17s 27ms/sample - loss: 0.0047 - val_loss: 0.0053\n",
      "Epoch 9/10\n",
      "612/612 [==============================] - 112s 182ms/sample - loss: 0.0046 - val_loss: 0.0051\n",
      "Epoch 10/10\n",
      "612/612 [==============================] - 41s 67ms/sample - loss: 0.0044 - val_loss: 0.0040\n"
     ]
    }
   ],
   "source": [
    "history = model.fit(X_train, Y_train, epochs=10, batch_size=16, verbose=1, validation_split=0.1)"
   ]
  },
  {
   "cell_type": "code",
   "execution_count": 24,
   "metadata": {},
   "outputs": [],
   "source": [
    "# import tensorflow as tf\n",
    "# model = tf.keras.models.load_model('168_24.h5')"
   ]
  },
  {
   "cell_type": "code",
   "execution_count": 25,
   "metadata": {},
   "outputs": [],
   "source": [
    "model.save(\"168_24.h5\")"
   ]
  },
  {
   "cell_type": "code",
   "execution_count": 26,
   "metadata": {},
   "outputs": [],
   "source": [
    "# result = model.predict(X_train, batch_size=128, verbose=0)\n",
    "# for value in result[0,:,0]:\n",
    "# \tprint('%.1f' % value)"
   ]
  },
  {
   "cell_type": "code",
   "execution_count": 59,
   "metadata": {},
   "outputs": [
    {
     "data": {
      "image/png": "[encoded data removed]",
      "text/plain": [
       "<Figure size 432x288 with 1 Axes>"
      ]
     },
     "metadata": {
      "needs_background": "light"
     },
     "output_type": "display_data"
    }
   ],
   "source": [
    "loss = history.history['loss']\n",
    "epoch = range(len(loss))\n",
    "# plt.figure(figsize=(8,8))\n",
    "plt.plot(history.history['loss'])\n",
    "plt.plot(history.history['val_loss'])\n",
    "plt.title('model train vs validation loss')\n",
    "plt.ylabel('loss')\n",
    "plt.xlabel('epoch')\n",
    "plt.legend(['train', 'validation'], loc='upper right')\n",
    "plt.show()"
   ]
  },
  {
   "cell_type": "code",
   "execution_count": 28,
   "metadata": {},
   "outputs": [
    {
     "data": {
      "text/plain": [
       "{'loss': [0.029314138450464187,\n",
       "  0.004901654337126911,\n",
       "  0.004444946041615023,\n",
       "  0.004266566538134503,\n",
       "  0.004148685533966822,\n",
       "  0.004034139560768047,\n",
       "  0.003888090479090374,\n",
       "  0.0038530133818767136,\n",
       "  0.003932518524464737,\n",
       "  0.003793871181371811],\n",
       " 'val_loss': [0.0036891404491381586,\n",
       "  0.0027392600424513114,\n",
       "  0.002446730516568487,\n",
       "  0.0029304406012092667,\n",
       "  0.0033970170015487845,\n",
       "  0.002817839589929248,\n",
       "  0.0026992784259449133,\n",
       "  0.0026382621649508825,\n",
       "  0.0034216875676731867,\n",
       "  0.003194190920843544]}"
      ]
     },
     "execution_count": 28,
     "metadata": {},
     "output_type": "execute_result"
    }
   ],
   "source": [
    "history.history"
   ]
  },
  {
   "cell_type": "code",
   "execution_count": 29,
   "metadata": {},
   "outputs": [],
   "source": [
    "# from tensorflow import keras\n",
    "# regressor = Sequential()\n",
    "# regressor = keras.models.load_model(\"LSTM_model_1210.h5\")"
   ]
  },
  {
   "cell_type": "code",
   "execution_count": 27,
   "metadata": {},
   "outputs": [
    {
     "data": {
      "text/html": [
       "<div>\n",
       "<style scoped>\n",
       "    .dataframe tbody tr th:only-of-type {\n",
       "        vertical-align: middle;\n",
       "    }\n",
       "\n",
       "    .dataframe tbody tr th {\n",
       "        vertical-align: top;\n",
       "    }\n",
       "\n",
       "    .dataframe thead th {\n",
       "        text-align: right;\n",
       "    }\n",
       "</style>\n",
       "<table border=\"1\" class=\"dataframe\">\n",
       "  <thead>\n",
       "    <tr style=\"text-align: right;\">\n",
       "      <th></th>\n",
       "      <th>close</th>\n",
       "      <th>open</th>\n",
       "      <th>high</th>\n",
       "      <th>low</th>\n",
       "      <th>Volume BTC</th>\n",
       "      <th>NewDateTime</th>\n",
       "      <th>returns</th>\n",
       "      <th>log_returns</th>\n",
       "      <th>SOPR</th>\n",
       "      <th>fundingRate</th>\n",
       "      <th>googleTrend</th>\n",
       "    </tr>\n",
       "  </thead>\n",
       "  <tbody>\n",
       "    <tr>\n",
       "      <th>0</th>\n",
       "      <td>50399.83</td>\n",
       "      <td>50471.19</td>\n",
       "      <td>50797.76</td>\n",
       "      <td>50323.83</td>\n",
       "      <td>1165.14158</td>\n",
       "      <td>2021-12-09 00:00:00</td>\n",
       "      <td>0.998586</td>\n",
       "      <td>-0.001415</td>\n",
       "      <td>0.996332</td>\n",
       "      <td>0.01</td>\n",
       "      <td>19</td>\n",
       "    </tr>\n",
       "    <tr>\n",
       "      <th>1</th>\n",
       "      <td>50182.70</td>\n",
       "      <td>50399.84</td>\n",
       "      <td>50483.68</td>\n",
       "      <td>50147.89</td>\n",
       "      <td>871.61111</td>\n",
       "      <td>2021-12-09 01:00:00</td>\n",
       "      <td>0.995692</td>\n",
       "      <td>-0.004317</td>\n",
       "      <td>0.996332</td>\n",
       "      <td>0.01</td>\n",
       "      <td>19</td>\n",
       "    </tr>\n",
       "    <tr>\n",
       "      <th>2</th>\n",
       "      <td>49886.02</td>\n",
       "      <td>50182.71</td>\n",
       "      <td>50276.81</td>\n",
       "      <td>49620.62</td>\n",
       "      <td>1628.84987</td>\n",
       "      <td>2021-12-09 02:00:00</td>\n",
       "      <td>0.994088</td>\n",
       "      <td>-0.005930</td>\n",
       "      <td>0.996332</td>\n",
       "      <td>0.01</td>\n",
       "      <td>21</td>\n",
       "    </tr>\n",
       "    <tr>\n",
       "      <th>3</th>\n",
       "      <td>49513.35</td>\n",
       "      <td>49886.02</td>\n",
       "      <td>49934.12</td>\n",
       "      <td>49425.74</td>\n",
       "      <td>951.66432</td>\n",
       "      <td>2021-12-09 03:00:00</td>\n",
       "      <td>0.992530</td>\n",
       "      <td>-0.007498</td>\n",
       "      <td>0.996332</td>\n",
       "      <td>0.01</td>\n",
       "      <td>22</td>\n",
       "    </tr>\n",
       "    <tr>\n",
       "      <th>4</th>\n",
       "      <td>49816.07</td>\n",
       "      <td>49517.00</td>\n",
       "      <td>49821.01</td>\n",
       "      <td>49420.33</td>\n",
       "      <td>1052.17101</td>\n",
       "      <td>2021-12-09 04:00:00</td>\n",
       "      <td>1.006114</td>\n",
       "      <td>0.006095</td>\n",
       "      <td>0.996332</td>\n",
       "      <td>0.01</td>\n",
       "      <td>22</td>\n",
       "    </tr>\n",
       "    <tr>\n",
       "      <th>...</th>\n",
       "      <td>...</td>\n",
       "      <td>...</td>\n",
       "      <td>...</td>\n",
       "      <td>...</td>\n",
       "      <td>...</td>\n",
       "      <td>...</td>\n",
       "      <td>...</td>\n",
       "      <td>...</td>\n",
       "      <td>...</td>\n",
       "      <td>...</td>\n",
       "      <td>...</td>\n",
       "    </tr>\n",
       "    <tr>\n",
       "      <th>331</th>\n",
       "      <td>48931.99</td>\n",
       "      <td>48576.02</td>\n",
       "      <td>48950.00</td>\n",
       "      <td>48506.01</td>\n",
       "      <td>799.48215</td>\n",
       "      <td>2021-12-22 19:00:00</td>\n",
       "      <td>1.007328</td>\n",
       "      <td>0.007301</td>\n",
       "      <td>1.001202</td>\n",
       "      <td>0.01</td>\n",
       "      <td>46</td>\n",
       "    </tr>\n",
       "    <tr>\n",
       "      <th>332</th>\n",
       "      <td>48974.34</td>\n",
       "      <td>48931.99</td>\n",
       "      <td>49144.99</td>\n",
       "      <td>48860.47</td>\n",
       "      <td>1309.98901</td>\n",
       "      <td>2021-12-22 20:00:00</td>\n",
       "      <td>1.000865</td>\n",
       "      <td>0.000865</td>\n",
       "      <td>1.001202</td>\n",
       "      <td>0.01</td>\n",
       "      <td>47</td>\n",
       "    </tr>\n",
       "    <tr>\n",
       "      <th>333</th>\n",
       "      <td>49048.84</td>\n",
       "      <td>48974.33</td>\n",
       "      <td>49139.97</td>\n",
       "      <td>48836.72</td>\n",
       "      <td>894.46650</td>\n",
       "      <td>2021-12-22 21:00:00</td>\n",
       "      <td>1.001521</td>\n",
       "      <td>0.001520</td>\n",
       "      <td>1.001202</td>\n",
       "      <td>0.01</td>\n",
       "      <td>47</td>\n",
       "    </tr>\n",
       "    <tr>\n",
       "      <th>334</th>\n",
       "      <td>48977.21</td>\n",
       "      <td>49048.83</td>\n",
       "      <td>49084.45</td>\n",
       "      <td>48788.49</td>\n",
       "      <td>710.47289</td>\n",
       "      <td>2021-12-22 22:00:00</td>\n",
       "      <td>0.998540</td>\n",
       "      <td>-0.001461</td>\n",
       "      <td>1.001202</td>\n",
       "      <td>0.01</td>\n",
       "      <td>46</td>\n",
       "    </tr>\n",
       "    <tr>\n",
       "      <th>335</th>\n",
       "      <td>48588.16</td>\n",
       "      <td>48977.21</td>\n",
       "      <td>48995.89</td>\n",
       "      <td>48555.00</td>\n",
       "      <td>1186.22529</td>\n",
       "      <td>2021-12-22 23:00:00</td>\n",
       "      <td>0.992057</td>\n",
       "      <td>-0.007975</td>\n",
       "      <td>1.001202</td>\n",
       "      <td>0.01</td>\n",
       "      <td>49</td>\n",
       "    </tr>\n",
       "  </tbody>\n",
       "</table>\n",
       "<p>336 rows × 11 columns</p>\n",
       "</div>"
      ],
      "text/plain": [
       "        close      open      high       low  Volume BTC          NewDateTime  \\\n",
       "0    50399.83  50471.19  50797.76  50323.83  1165.14158  2021-12-09 00:00:00   \n",
       "1    50182.70  50399.84  50483.68  50147.89   871.61111  2021-12-09 01:00:00   \n",
       "2    49886.02  50182.71  50276.81  49620.62  1628.84987  2021-12-09 02:00:00   \n",
       "3    49513.35  49886.02  49934.12  49425.74   951.66432  2021-12-09 03:00:00   \n",
       "4    49816.07  49517.00  49821.01  49420.33  1052.17101  2021-12-09 04:00:00   \n",
       "..        ...       ...       ...       ...         ...                  ...   \n",
       "331  48931.99  48576.02  48950.00  48506.01   799.48215  2021-12-22 19:00:00   \n",
       "332  48974.34  48931.99  49144.99  48860.47  1309.98901  2021-12-22 20:00:00   \n",
       "333  49048.84  48974.33  49139.97  48836.72   894.46650  2021-12-22 21:00:00   \n",
       "334  48977.21  49048.83  49084.45  48788.49   710.47289  2021-12-22 22:00:00   \n",
       "335  48588.16  48977.21  48995.89  48555.00  1186.22529  2021-12-22 23:00:00   \n",
       "\n",
       "      returns  log_returns      SOPR  fundingRate  googleTrend  \n",
       "0    0.998586    -0.001415  0.996332         0.01           19  \n",
       "1    0.995692    -0.004317  0.996332         0.01           19  \n",
       "2    0.994088    -0.005930  0.996332         0.01           21  \n",
       "3    0.992530    -0.007498  0.996332         0.01           22  \n",
       "4    1.006114     0.006095  0.996332         0.01           22  \n",
       "..        ...          ...       ...          ...          ...  \n",
       "331  1.007328     0.007301  1.001202         0.01           46  \n",
       "332  1.000865     0.000865  1.001202         0.01           47  \n",
       "333  1.001521     0.001520  1.001202         0.01           47  \n",
       "334  0.998540    -0.001461  1.001202         0.01           46  \n",
       "335  0.992057    -0.007975  1.001202         0.01           49  \n",
       "\n",
       "[336 rows x 11 columns]"
      ]
     },
     "execution_count": 27,
     "metadata": {},
     "output_type": "execute_result"
    }
   ],
   "source": [
    "past_weeks = data_training.tail(168)\n",
    "df= past_weeks.append(data_test, ignore_index = True)\n",
    "# test.drop(test.tail(len(test)%168).index,inplace=True)\n",
    "# test = test.drop(['NewDateTime'], axis=1)\n",
    "df"
   ]
  },
  {
   "cell_type": "code",
   "execution_count": 28,
   "metadata": {},
   "outputs": [
    {
     "data": {
      "text/html": [
       "<div>\n",
       "<style scoped>\n",
       "    .dataframe tbody tr th:only-of-type {\n",
       "        vertical-align: middle;\n",
       "    }\n",
       "\n",
       "    .dataframe tbody tr th {\n",
       "        vertical-align: top;\n",
       "    }\n",
       "\n",
       "    .dataframe thead th {\n",
       "        text-align: right;\n",
       "    }\n",
       "</style>\n",
       "<table border=\"1\" class=\"dataframe\">\n",
       "  <thead>\n",
       "    <tr style=\"text-align: right;\">\n",
       "      <th></th>\n",
       "      <th>close</th>\n",
       "      <th>open</th>\n",
       "      <th>high</th>\n",
       "      <th>low</th>\n",
       "      <th>Volume BTC</th>\n",
       "      <th>NewDateTime</th>\n",
       "      <th>returns</th>\n",
       "      <th>log_returns</th>\n",
       "      <th>SOPR</th>\n",
       "      <th>fundingRate</th>\n",
       "      <th>googleTrend</th>\n",
       "    </tr>\n",
       "  </thead>\n",
       "  <tbody>\n",
       "    <tr>\n",
       "      <th>19457</th>\n",
       "      <td>50399.83</td>\n",
       "      <td>50471.19</td>\n",
       "      <td>50797.76</td>\n",
       "      <td>50323.83</td>\n",
       "      <td>1165.14158</td>\n",
       "      <td>2021-12-09 00:00:00</td>\n",
       "      <td>0.998586</td>\n",
       "      <td>-0.001415</td>\n",
       "      <td>0.996332</td>\n",
       "      <td>0.01</td>\n",
       "      <td>19</td>\n",
       "    </tr>\n",
       "    <tr>\n",
       "      <th>19458</th>\n",
       "      <td>50182.70</td>\n",
       "      <td>50399.84</td>\n",
       "      <td>50483.68</td>\n",
       "      <td>50147.89</td>\n",
       "      <td>871.61111</td>\n",
       "      <td>2021-12-09 01:00:00</td>\n",
       "      <td>0.995692</td>\n",
       "      <td>-0.004317</td>\n",
       "      <td>0.996332</td>\n",
       "      <td>0.01</td>\n",
       "      <td>19</td>\n",
       "    </tr>\n",
       "    <tr>\n",
       "      <th>19459</th>\n",
       "      <td>49886.02</td>\n",
       "      <td>50182.71</td>\n",
       "      <td>50276.81</td>\n",
       "      <td>49620.62</td>\n",
       "      <td>1628.84987</td>\n",
       "      <td>2021-12-09 02:00:00</td>\n",
       "      <td>0.994088</td>\n",
       "      <td>-0.005930</td>\n",
       "      <td>0.996332</td>\n",
       "      <td>0.01</td>\n",
       "      <td>21</td>\n",
       "    </tr>\n",
       "    <tr>\n",
       "      <th>19460</th>\n",
       "      <td>49513.35</td>\n",
       "      <td>49886.02</td>\n",
       "      <td>49934.12</td>\n",
       "      <td>49425.74</td>\n",
       "      <td>951.66432</td>\n",
       "      <td>2021-12-09 03:00:00</td>\n",
       "      <td>0.992530</td>\n",
       "      <td>-0.007498</td>\n",
       "      <td>0.996332</td>\n",
       "      <td>0.01</td>\n",
       "      <td>22</td>\n",
       "    </tr>\n",
       "    <tr>\n",
       "      <th>19461</th>\n",
       "      <td>49816.07</td>\n",
       "      <td>49517.00</td>\n",
       "      <td>49821.01</td>\n",
       "      <td>49420.33</td>\n",
       "      <td>1052.17101</td>\n",
       "      <td>2021-12-09 04:00:00</td>\n",
       "      <td>1.006114</td>\n",
       "      <td>0.006095</td>\n",
       "      <td>0.996332</td>\n",
       "      <td>0.01</td>\n",
       "      <td>22</td>\n",
       "    </tr>\n",
       "    <tr>\n",
       "      <th>...</th>\n",
       "      <td>...</td>\n",
       "      <td>...</td>\n",
       "      <td>...</td>\n",
       "      <td>...</td>\n",
       "      <td>...</td>\n",
       "      <td>...</td>\n",
       "      <td>...</td>\n",
       "      <td>...</td>\n",
       "      <td>...</td>\n",
       "      <td>...</td>\n",
       "      <td>...</td>\n",
       "    </tr>\n",
       "    <tr>\n",
       "      <th>19620</th>\n",
       "      <td>48674.90</td>\n",
       "      <td>47830.00</td>\n",
       "      <td>49259.98</td>\n",
       "      <td>47212.00</td>\n",
       "      <td>10878.12140</td>\n",
       "      <td>2021-12-15 19:00:00</td>\n",
       "      <td>1.017665</td>\n",
       "      <td>0.017511</td>\n",
       "      <td>1.000075</td>\n",
       "      <td>0.01</td>\n",
       "      <td>47</td>\n",
       "    </tr>\n",
       "    <tr>\n",
       "      <th>19621</th>\n",
       "      <td>49211.84</td>\n",
       "      <td>48674.90</td>\n",
       "      <td>49500.00</td>\n",
       "      <td>48527.01</td>\n",
       "      <td>4690.61661</td>\n",
       "      <td>2021-12-15 20:00:00</td>\n",
       "      <td>1.011031</td>\n",
       "      <td>0.010971</td>\n",
       "      <td>1.000075</td>\n",
       "      <td>0.01</td>\n",
       "      <td>47</td>\n",
       "    </tr>\n",
       "    <tr>\n",
       "      <th>19622</th>\n",
       "      <td>49168.89</td>\n",
       "      <td>49211.83</td>\n",
       "      <td>49358.75</td>\n",
       "      <td>48865.94</td>\n",
       "      <td>2276.03432</td>\n",
       "      <td>2021-12-15 21:00:00</td>\n",
       "      <td>0.999127</td>\n",
       "      <td>-0.000873</td>\n",
       "      <td>1.000075</td>\n",
       "      <td>0.01</td>\n",
       "      <td>45</td>\n",
       "    </tr>\n",
       "    <tr>\n",
       "      <th>19623</th>\n",
       "      <td>48747.30</td>\n",
       "      <td>49168.89</td>\n",
       "      <td>49235.38</td>\n",
       "      <td>48653.00</td>\n",
       "      <td>1159.59720</td>\n",
       "      <td>2021-12-15 22:00:00</td>\n",
       "      <td>0.991426</td>\n",
       "      <td>-0.008611</td>\n",
       "      <td>1.000075</td>\n",
       "      <td>0.01</td>\n",
       "      <td>41</td>\n",
       "    </tr>\n",
       "    <tr>\n",
       "      <th>19624</th>\n",
       "      <td>48864.98</td>\n",
       "      <td>48747.31</td>\n",
       "      <td>48974.09</td>\n",
       "      <td>48700.19</td>\n",
       "      <td>1285.21724</td>\n",
       "      <td>2021-12-15 23:00:00</td>\n",
       "      <td>1.002414</td>\n",
       "      <td>0.002411</td>\n",
       "      <td>1.000075</td>\n",
       "      <td>0.01</td>\n",
       "      <td>39</td>\n",
       "    </tr>\n",
       "  </tbody>\n",
       "</table>\n",
       "<p>168 rows × 11 columns</p>\n",
       "</div>"
      ],
      "text/plain": [
       "          close      open      high       low   Volume BTC  \\\n",
       "19457  50399.83  50471.19  50797.76  50323.83   1165.14158   \n",
       "19458  50182.70  50399.84  50483.68  50147.89    871.61111   \n",
       "19459  49886.02  50182.71  50276.81  49620.62   1628.84987   \n",
       "19460  49513.35  49886.02  49934.12  49425.74    951.66432   \n",
       "19461  49816.07  49517.00  49821.01  49420.33   1052.17101   \n",
       "...         ...       ...       ...       ...          ...   \n",
       "19620  48674.90  47830.00  49259.98  47212.00  10878.12140   \n",
       "19621  49211.84  48674.90  49500.00  48527.01   4690.61661   \n",
       "19622  49168.89  49211.83  49358.75  48865.94   2276.03432   \n",
       "19623  48747.30  49168.89  49235.38  48653.00   1159.59720   \n",
       "19624  48864.98  48747.31  48974.09  48700.19   1285.21724   \n",
       "\n",
       "               NewDateTime   returns  log_returns      SOPR  fundingRate  \\\n",
       "19457  2021-12-09 00:00:00  0.998586    -0.001415  0.996332         0.01   \n",
       "19458  2021-12-09 01:00:00  0.995692    -0.004317  0.996332         0.01   \n",
       "19459  2021-12-09 02:00:00  0.994088    -0.005930  0.996332         0.01   \n",
       "19460  2021-12-09 03:00:00  0.992530    -0.007498  0.996332         0.01   \n",
       "19461  2021-12-09 04:00:00  1.006114     0.006095  0.996332         0.01   \n",
       "...                    ...       ...          ...       ...          ...   \n",
       "19620  2021-12-15 19:00:00  1.017665     0.017511  1.000075         0.01   \n",
       "19621  2021-12-15 20:00:00  1.011031     0.010971  1.000075         0.01   \n",
       "19622  2021-12-15 21:00:00  0.999127    -0.000873  1.000075         0.01   \n",
       "19623  2021-12-15 22:00:00  0.991426    -0.008611  1.000075         0.01   \n",
       "19624  2021-12-15 23:00:00  1.002414     0.002411  1.000075         0.01   \n",
       "\n",
       "       googleTrend  \n",
       "19457           19  \n",
       "19458           19  \n",
       "19459           21  \n",
       "19460           22  \n",
       "19461           22  \n",
       "...            ...  \n",
       "19620           47  \n",
       "19621           47  \n",
       "19622           45  \n",
       "19623           41  \n",
       "19624           39  \n",
       "\n",
       "[168 rows x 11 columns]"
      ]
     },
     "execution_count": 28,
     "metadata": {},
     "output_type": "execute_result"
    }
   ],
   "source": [
    "past_weeks"
   ]
  },
  {
   "cell_type": "code",
   "execution_count": 29,
   "metadata": {},
   "outputs": [
    {
     "data": {
      "text/plain": [
       "336"
      ]
     },
     "execution_count": 29,
     "metadata": {},
     "output_type": "execute_result"
    }
   ],
   "source": [
    "df = df.drop(['NewDateTime'], axis = 1)\n",
    "len(df)"
   ]
  },
  {
   "cell_type": "code",
   "execution_count": 30,
   "metadata": {},
   "outputs": [
    {
     "data": {
      "text/plain": [
       "array([[0.53999691, 0.54260266, 0.54458718, ..., 0.39067441, 0.29444773,\n",
       "        0.04705882],\n",
       "       [0.53451917, 0.54080595, 0.53672903, ..., 0.39067441, 0.29444773,\n",
       "        0.04705882],\n",
       "       [0.52703453, 0.53533826, 0.53155322, ..., 0.39067441, 0.29444773,\n",
       "        0.07058824],\n",
       "       ...,\n",
       "       [0.50591419, 0.50490928, 0.50310994, ..., 0.44047072, 0.29444773,\n",
       "        0.37647059],\n",
       "       [0.50410711, 0.50678532, 0.50172085, ..., 0.44047072, 0.29444773,\n",
       "        0.36470588],\n",
       "       [0.49429217, 0.50498181, 0.49950511, ..., 0.44047072, 0.29444773,\n",
       "        0.4       ]])"
      ]
     },
     "execution_count": 30,
     "metadata": {},
     "output_type": "execute_result"
    }
   ],
   "source": [
    "inputs = scaler.transform(df)\n",
    "inputs"
   ]
  },
  {
   "cell_type": "code",
   "execution_count": 34,
   "metadata": {},
   "outputs": [],
   "source": [
    "X_test = []\n",
    "Y_test = []\n",
    "for i in range(192, inputs.shape[0]+1,24):\n",
    "    X_test.append(inputs[i-192:i-24])\n",
    "    Y_test.append(inputs[i-24:i])"
   ]
  },
  {
   "cell_type": "code",
   "execution_count": 35,
   "metadata": {},
   "outputs": [
    {
     "data": {
      "text/plain": [
       "((7, 168, 10), (7, 24, 10))"
      ]
     },
     "execution_count": 35,
     "metadata": {},
     "output_type": "execute_result"
    }
   ],
   "source": [
    "X_test, Y_test = np.array(X_test), np.array(Y_test)\n",
    "X_test.shape, Y_test.shape"
   ]
  },
  {
   "cell_type": "code",
   "execution_count": 36,
   "metadata": {},
   "outputs": [
    {
     "data": {
      "text/plain": [
       "array([2.52279598e-05, 2.51816288e-05, 2.50196029e-05, 2.48008553e-05,\n",
       "       2.26040745e-05, 4.70137657e+00, 4.76290973e+00, 1.02247277e+01,\n",
       "       2.95333727e+00, 1.17647059e-02])"
      ]
     },
     "execution_count": 36,
     "metadata": {},
     "output_type": "execute_result"
    }
   ],
   "source": [
    "scaler.scale_"
   ]
  },
  {
   "cell_type": "code",
   "execution_count": 37,
   "metadata": {},
   "outputs": [
    {
     "data": {
      "text/plain": [
       "39638.560070957465"
      ]
     },
     "execution_count": 37,
     "metadata": {},
     "output_type": "execute_result"
    }
   ],
   "source": [
    "scale = 1/2.52279598e-05\n",
    "scale"
   ]
  },
  {
   "cell_type": "code",
   "execution_count": 38,
   "metadata": {},
   "outputs": [
    {
     "data": {
      "text/plain": [
       "(1, 168, 10)"
      ]
     },
     "execution_count": 38,
     "metadata": {},
     "output_type": "execute_result"
    }
   ],
   "source": [
    "data = (X_test[0,:,:]).reshape(1,168,10)\n",
    "predata = model.predict(data)\n",
    "data = data[0,24:168,:].reshape(1,144,10)\n",
    "data = np.append(data, predata)\n",
    "data = data.reshape(1,168,10)\n",
    "data.shape"
   ]
  },
  {
   "cell_type": "code",
   "execution_count": 57,
   "metadata": {},
   "outputs": [
    {
     "data": {
      "text/plain": [
       "(list,\n",
       " array([20057.3200359 , 20031.88003586, 20013.99003583, 19824.47003549,\n",
       "        19748.04003535, 19518.77003494, 19899.52003562, 19717.1000353 ,\n",
       "        19770.26003539, 19953.75003572, 20152.53003608, 20212.66003618,\n",
       "        19694.32003526, 20011.66003582, 19541.53003498, 19590.68003507,\n",
       "        19511.45003493, 19089.01003417, 18988.37003399, 18870.88003378,\n",
       "        18934.40003389, 19094.48003418, 18826.1400337 , 18637.25003336]))"
      ]
     },
     "execution_count": 57,
     "metadata": {},
     "output_type": "execute_result"
    }
   ],
   "source": [
    "pred = []\n",
    "real = []\n",
    "data = (X_test[0,:,:]).reshape(1,168,10)\n",
    "for i in range(0,7):\n",
    "    predata = model.predict(data)\n",
    "    data = data[0,24:168,:].reshape(1,144,10)\n",
    "    data = np.append(data, predata)\n",
    "    data = data.reshape(1,168,10)\n",
    "    pred.append((predata[0,:,0])*scale)\n",
    "    real.append((Y_test[i,:,0])*scale)\n",
    "\n",
    "\n",
    "type(pred) , real[0]"
   ]
  },
  {
   "cell_type": "code",
   "execution_count": 58,
   "metadata": {},
   "outputs": [
    {
     "data": {
      "image/png": "[encoded data removed]",
      "text/plain": [
       "<Figure size 1008x360 with 1 Axes>"
      ]
     },
     "metadata": {
      "needs_background": "light"
     },
     "output_type": "display_data"
    }
   ],
   "source": [
    "plt.figure(figsize=(14,5))\n",
    "plt.plot(np.array(real).flat, color = 'red', label = 'Real Bitcoin Price')\n",
    "plt.plot(np.array(pred).flat, color = 'green', label = 'Predicted Bitcoin Price')\n",
    "plt.title('Bitcoin Price Prediction using RNN-LSTM')\n",
    "plt.xlabel('Time')\n",
    "plt.ylabel('Price')\n",
    "plt.legend()\n",
    "plt.show()"
   ]
  },
  {
   "cell_type": "code",
   "execution_count": null,
   "metadata": {},
   "outputs": [],
   "source": []
  },
  {
   "cell_type": "code",
   "execution_count": null,
   "metadata": {},
   "outputs": [],
   "source": []
  }
 ],
 "metadata": {
  "kernelspec": {
   "display_name": "Python 3",
   "language": "python",
   "name": "python3"
  },
  "language_info": {
   "codemirror_mode": {
    "name": "ipython",
    "version": 3
   },
   "file_extension": ".py",
   "mimetype": "text/x-python",
   "name": "python",
   "nbconvert_exporter": "python",
   "pygments_lexer": "ipython3",
   "version": "3.6.9"
  }
 },
 "nbformat": 4,
 "nbformat_minor": 4
}
