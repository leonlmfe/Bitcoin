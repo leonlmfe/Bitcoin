{
 "cells": [
  {
   "cell_type": "code",
   "execution_count": 1,
   "metadata": {},
   "outputs": [],
   "source": [
    "import numpy as np\n",
    "import matplotlib.pyplot as plt\n",
    "import pandas as pd\n",
    "import gc\n",
    "from sklearn.preprocessing import MinMaxScaler\n",
    "from pandas import read_csv"
   ]
  },
  {
   "cell_type": "code",
   "execution_count": 2,
   "metadata": {},
   "outputs": [
    {
     "data": {
      "text/plain": [
       "19793"
      ]
     },
     "execution_count": 2,
     "metadata": {},
     "output_type": "execute_result"
    }
   ],
   "source": [
    "# load the new file\n",
    "df = read_csv('./data/bitcoin_data.csv', date_parser = True)\n",
    "df.drop(df.columns[0], axis=1,inplace = True)\n",
    "len(df)"
   ]
  },
  {
   "cell_type": "code",
   "execution_count": 3,
   "metadata": {},
   "outputs": [
    {
     "data": {
      "text/plain": [
       "8531"
      ]
     },
     "execution_count": 3,
     "metadata": {},
     "output_type": "execute_result"
    }
   ],
   "source": [
    "df = df[df['NewDateTime']>= '2021-01-01'].copy()\n",
    "len(df)"
   ]
  },
  {
   "cell_type": "code",
   "execution_count": 4,
   "metadata": {},
   "outputs": [],
   "source": [
    "# df.drop(df.head(len(df)%168).index,inplace=True)\n",
    "# len(df)"
   ]
  },
  {
   "cell_type": "code",
   "execution_count": 5,
   "metadata": {},
   "outputs": [
    {
     "data": {
      "text/plain": [
       "8363"
      ]
     },
     "execution_count": 5,
     "metadata": {},
     "output_type": "execute_result"
    }
   ],
   "source": [
    "int(len(df)-168)"
   ]
  },
  {
   "cell_type": "code",
   "execution_count": 6,
   "metadata": {},
   "outputs": [
    {
     "data": {
      "text/html": [
       "<div>\n",
       "<style scoped>\n",
       "    .dataframe tbody tr th:only-of-type {\n",
       "        vertical-align: middle;\n",
       "    }\n",
       "\n",
       "    .dataframe tbody tr th {\n",
       "        vertical-align: top;\n",
       "    }\n",
       "\n",
       "    .dataframe thead th {\n",
       "        text-align: right;\n",
       "    }\n",
       "</style>\n",
       "<table border=\"1\" class=\"dataframe\">\n",
       "  <thead>\n",
       "    <tr style=\"text-align: right;\">\n",
       "      <th></th>\n",
       "      <th>close</th>\n",
       "      <th>open</th>\n",
       "      <th>high</th>\n",
       "      <th>low</th>\n",
       "      <th>Volume BTC</th>\n",
       "      <th>NewDateTime</th>\n",
       "      <th>returns</th>\n",
       "      <th>log_returns</th>\n",
       "      <th>SOPR</th>\n",
       "      <th>fundingRate</th>\n",
       "      <th>googleTrend</th>\n",
       "    </tr>\n",
       "  </thead>\n",
       "  <tbody>\n",
       "    <tr>\n",
       "      <th>11262</th>\n",
       "      <td>28995.13</td>\n",
       "      <td>28923.63</td>\n",
       "      <td>29031.34</td>\n",
       "      <td>28690.17</td>\n",
       "      <td>2311.811445</td>\n",
       "      <td>2021-01-01 00:00:00</td>\n",
       "      <td>1.002472</td>\n",
       "      <td>0.002469</td>\n",
       "      <td>1.041846</td>\n",
       "      <td>0.0367</td>\n",
       "      <td>38</td>\n",
       "    </tr>\n",
       "    <tr>\n",
       "      <th>11263</th>\n",
       "      <td>29409.99</td>\n",
       "      <td>28995.13</td>\n",
       "      <td>29470.00</td>\n",
       "      <td>28960.35</td>\n",
       "      <td>5403.068471</td>\n",
       "      <td>2021-01-01 01:00:00</td>\n",
       "      <td>1.014308</td>\n",
       "      <td>0.014207</td>\n",
       "      <td>1.041846</td>\n",
       "      <td>0.0367</td>\n",
       "      <td>36</td>\n",
       "    </tr>\n",
       "    <tr>\n",
       "      <th>11264</th>\n",
       "      <td>29194.65</td>\n",
       "      <td>29410.00</td>\n",
       "      <td>29465.26</td>\n",
       "      <td>29120.03</td>\n",
       "      <td>2384.231560</td>\n",
       "      <td>2021-01-01 02:00:00</td>\n",
       "      <td>0.992678</td>\n",
       "      <td>-0.007349</td>\n",
       "      <td>1.041846</td>\n",
       "      <td>0.0367</td>\n",
       "      <td>34</td>\n",
       "    </tr>\n",
       "    <tr>\n",
       "      <th>11265</th>\n",
       "      <td>29278.40</td>\n",
       "      <td>29195.25</td>\n",
       "      <td>29367.00</td>\n",
       "      <td>29150.02</td>\n",
       "      <td>1461.345077</td>\n",
       "      <td>2021-01-01 03:00:00</td>\n",
       "      <td>1.002869</td>\n",
       "      <td>0.002865</td>\n",
       "      <td>1.041846</td>\n",
       "      <td>0.0367</td>\n",
       "      <td>33</td>\n",
       "    </tr>\n",
       "    <tr>\n",
       "      <th>11266</th>\n",
       "      <td>29220.31</td>\n",
       "      <td>29278.41</td>\n",
       "      <td>29395.00</td>\n",
       "      <td>29029.40</td>\n",
       "      <td>2038.046803</td>\n",
       "      <td>2021-01-01 04:00:00</td>\n",
       "      <td>0.998016</td>\n",
       "      <td>-0.001986</td>\n",
       "      <td>1.041846</td>\n",
       "      <td>0.0367</td>\n",
       "      <td>32</td>\n",
       "    </tr>\n",
       "    <tr>\n",
       "      <th>...</th>\n",
       "      <td>...</td>\n",
       "      <td>...</td>\n",
       "      <td>...</td>\n",
       "      <td>...</td>\n",
       "      <td>...</td>\n",
       "      <td>...</td>\n",
       "      <td>...</td>\n",
       "      <td>...</td>\n",
       "      <td>...</td>\n",
       "      <td>...</td>\n",
       "      <td>...</td>\n",
       "    </tr>\n",
       "    <tr>\n",
       "      <th>19620</th>\n",
       "      <td>48674.90</td>\n",
       "      <td>47830.00</td>\n",
       "      <td>49259.98</td>\n",
       "      <td>47212.00</td>\n",
       "      <td>10878.121400</td>\n",
       "      <td>2021-12-15 19:00:00</td>\n",
       "      <td>1.017665</td>\n",
       "      <td>0.017511</td>\n",
       "      <td>1.000075</td>\n",
       "      <td>0.0100</td>\n",
       "      <td>47</td>\n",
       "    </tr>\n",
       "    <tr>\n",
       "      <th>19621</th>\n",
       "      <td>49211.84</td>\n",
       "      <td>48674.90</td>\n",
       "      <td>49500.00</td>\n",
       "      <td>48527.01</td>\n",
       "      <td>4690.616610</td>\n",
       "      <td>2021-12-15 20:00:00</td>\n",
       "      <td>1.011031</td>\n",
       "      <td>0.010971</td>\n",
       "      <td>1.000075</td>\n",
       "      <td>0.0100</td>\n",
       "      <td>47</td>\n",
       "    </tr>\n",
       "    <tr>\n",
       "      <th>19622</th>\n",
       "      <td>49168.89</td>\n",
       "      <td>49211.83</td>\n",
       "      <td>49358.75</td>\n",
       "      <td>48865.94</td>\n",
       "      <td>2276.034320</td>\n",
       "      <td>2021-12-15 21:00:00</td>\n",
       "      <td>0.999127</td>\n",
       "      <td>-0.000873</td>\n",
       "      <td>1.000075</td>\n",
       "      <td>0.0100</td>\n",
       "      <td>45</td>\n",
       "    </tr>\n",
       "    <tr>\n",
       "      <th>19623</th>\n",
       "      <td>48747.30</td>\n",
       "      <td>49168.89</td>\n",
       "      <td>49235.38</td>\n",
       "      <td>48653.00</td>\n",
       "      <td>1159.597200</td>\n",
       "      <td>2021-12-15 22:00:00</td>\n",
       "      <td>0.991426</td>\n",
       "      <td>-0.008611</td>\n",
       "      <td>1.000075</td>\n",
       "      <td>0.0100</td>\n",
       "      <td>41</td>\n",
       "    </tr>\n",
       "    <tr>\n",
       "      <th>19624</th>\n",
       "      <td>48864.98</td>\n",
       "      <td>48747.31</td>\n",
       "      <td>48974.09</td>\n",
       "      <td>48700.19</td>\n",
       "      <td>1285.217240</td>\n",
       "      <td>2021-12-15 23:00:00</td>\n",
       "      <td>1.002414</td>\n",
       "      <td>0.002411</td>\n",
       "      <td>1.000075</td>\n",
       "      <td>0.0100</td>\n",
       "      <td>39</td>\n",
       "    </tr>\n",
       "  </tbody>\n",
       "</table>\n",
       "<p>8363 rows × 11 columns</p>\n",
       "</div>"
      ],
      "text/plain": [
       "          close      open      high       low    Volume BTC  \\\n",
       "11262  28995.13  28923.63  29031.34  28690.17   2311.811445   \n",
       "11263  29409.99  28995.13  29470.00  28960.35   5403.068471   \n",
       "11264  29194.65  29410.00  29465.26  29120.03   2384.231560   \n",
       "11265  29278.40  29195.25  29367.00  29150.02   1461.345077   \n",
       "11266  29220.31  29278.41  29395.00  29029.40   2038.046803   \n",
       "...         ...       ...       ...       ...           ...   \n",
       "19620  48674.90  47830.00  49259.98  47212.00  10878.121400   \n",
       "19621  49211.84  48674.90  49500.00  48527.01   4690.616610   \n",
       "19622  49168.89  49211.83  49358.75  48865.94   2276.034320   \n",
       "19623  48747.30  49168.89  49235.38  48653.00   1159.597200   \n",
       "19624  48864.98  48747.31  48974.09  48700.19   1285.217240   \n",
       "\n",
       "               NewDateTime   returns  log_returns      SOPR  fundingRate  \\\n",
       "11262  2021-01-01 00:00:00  1.002472     0.002469  1.041846       0.0367   \n",
       "11263  2021-01-01 01:00:00  1.014308     0.014207  1.041846       0.0367   \n",
       "11264  2021-01-01 02:00:00  0.992678    -0.007349  1.041846       0.0367   \n",
       "11265  2021-01-01 03:00:00  1.002869     0.002865  1.041846       0.0367   \n",
       "11266  2021-01-01 04:00:00  0.998016    -0.001986  1.041846       0.0367   \n",
       "...                    ...       ...          ...       ...          ...   \n",
       "19620  2021-12-15 19:00:00  1.017665     0.017511  1.000075       0.0100   \n",
       "19621  2021-12-15 20:00:00  1.011031     0.010971  1.000075       0.0100   \n",
       "19622  2021-12-15 21:00:00  0.999127    -0.000873  1.000075       0.0100   \n",
       "19623  2021-12-15 22:00:00  0.991426    -0.008611  1.000075       0.0100   \n",
       "19624  2021-12-15 23:00:00  1.002414     0.002411  1.000075       0.0100   \n",
       "\n",
       "       googleTrend  \n",
       "11262           38  \n",
       "11263           36  \n",
       "11264           34  \n",
       "11265           33  \n",
       "11266           32  \n",
       "...            ...  \n",
       "19620           47  \n",
       "19621           47  \n",
       "19622           45  \n",
       "19623           41  \n",
       "19624           39  \n",
       "\n",
       "[8363 rows x 11 columns]"
      ]
     },
     "execution_count": 6,
     "metadata": {},
     "output_type": "execute_result"
    }
   ],
   "source": [
    "data_training = df.iloc[0:int(len(df)-168),:]\n",
    "data_test = df.iloc[int(len(df)-168):int(len(df)),:]\n",
    "\n",
    "data_training"
   ]
  },
  {
   "cell_type": "code",
   "execution_count": 7,
   "metadata": {},
   "outputs": [
    {
     "data": {
      "text/html": [
       "<div>\n",
       "<style scoped>\n",
       "    .dataframe tbody tr th:only-of-type {\n",
       "        vertical-align: middle;\n",
       "    }\n",
       "\n",
       "    .dataframe tbody tr th {\n",
       "        vertical-align: top;\n",
       "    }\n",
       "\n",
       "    .dataframe thead th {\n",
       "        text-align: right;\n",
       "    }\n",
       "</style>\n",
       "<table border=\"1\" class=\"dataframe\">\n",
       "  <thead>\n",
       "    <tr style=\"text-align: right;\">\n",
       "      <th></th>\n",
       "      <th>close</th>\n",
       "      <th>open</th>\n",
       "      <th>high</th>\n",
       "      <th>low</th>\n",
       "      <th>Volume BTC</th>\n",
       "      <th>returns</th>\n",
       "      <th>log_returns</th>\n",
       "      <th>SOPR</th>\n",
       "      <th>fundingRate</th>\n",
       "      <th>googleTrend</th>\n",
       "    </tr>\n",
       "  </thead>\n",
       "  <tbody>\n",
       "    <tr>\n",
       "      <th>11262</th>\n",
       "      <td>28995.13</td>\n",
       "      <td>28923.63</td>\n",
       "      <td>29031.34</td>\n",
       "      <td>28690.17</td>\n",
       "      <td>2311.811445</td>\n",
       "      <td>1.002472</td>\n",
       "      <td>0.002469</td>\n",
       "      <td>1.041846</td>\n",
       "      <td>0.0367</td>\n",
       "      <td>38</td>\n",
       "    </tr>\n",
       "    <tr>\n",
       "      <th>11263</th>\n",
       "      <td>29409.99</td>\n",
       "      <td>28995.13</td>\n",
       "      <td>29470.00</td>\n",
       "      <td>28960.35</td>\n",
       "      <td>5403.068471</td>\n",
       "      <td>1.014308</td>\n",
       "      <td>0.014207</td>\n",
       "      <td>1.041846</td>\n",
       "      <td>0.0367</td>\n",
       "      <td>36</td>\n",
       "    </tr>\n",
       "    <tr>\n",
       "      <th>11264</th>\n",
       "      <td>29194.65</td>\n",
       "      <td>29410.00</td>\n",
       "      <td>29465.26</td>\n",
       "      <td>29120.03</td>\n",
       "      <td>2384.231560</td>\n",
       "      <td>0.992678</td>\n",
       "      <td>-0.007349</td>\n",
       "      <td>1.041846</td>\n",
       "      <td>0.0367</td>\n",
       "      <td>34</td>\n",
       "    </tr>\n",
       "    <tr>\n",
       "      <th>11265</th>\n",
       "      <td>29278.40</td>\n",
       "      <td>29195.25</td>\n",
       "      <td>29367.00</td>\n",
       "      <td>29150.02</td>\n",
       "      <td>1461.345077</td>\n",
       "      <td>1.002869</td>\n",
       "      <td>0.002865</td>\n",
       "      <td>1.041846</td>\n",
       "      <td>0.0367</td>\n",
       "      <td>33</td>\n",
       "    </tr>\n",
       "    <tr>\n",
       "      <th>11266</th>\n",
       "      <td>29220.31</td>\n",
       "      <td>29278.41</td>\n",
       "      <td>29395.00</td>\n",
       "      <td>29029.40</td>\n",
       "      <td>2038.046803</td>\n",
       "      <td>0.998016</td>\n",
       "      <td>-0.001986</td>\n",
       "      <td>1.041846</td>\n",
       "      <td>0.0367</td>\n",
       "      <td>32</td>\n",
       "    </tr>\n",
       "    <tr>\n",
       "      <th>...</th>\n",
       "      <td>...</td>\n",
       "      <td>...</td>\n",
       "      <td>...</td>\n",
       "      <td>...</td>\n",
       "      <td>...</td>\n",
       "      <td>...</td>\n",
       "      <td>...</td>\n",
       "      <td>...</td>\n",
       "      <td>...</td>\n",
       "      <td>...</td>\n",
       "    </tr>\n",
       "    <tr>\n",
       "      <th>19620</th>\n",
       "      <td>48674.90</td>\n",
       "      <td>47830.00</td>\n",
       "      <td>49259.98</td>\n",
       "      <td>47212.00</td>\n",
       "      <td>10878.121400</td>\n",
       "      <td>1.017665</td>\n",
       "      <td>0.017511</td>\n",
       "      <td>1.000075</td>\n",
       "      <td>0.0100</td>\n",
       "      <td>47</td>\n",
       "    </tr>\n",
       "    <tr>\n",
       "      <th>19621</th>\n",
       "      <td>49211.84</td>\n",
       "      <td>48674.90</td>\n",
       "      <td>49500.00</td>\n",
       "      <td>48527.01</td>\n",
       "      <td>4690.616610</td>\n",
       "      <td>1.011031</td>\n",
       "      <td>0.010971</td>\n",
       "      <td>1.000075</td>\n",
       "      <td>0.0100</td>\n",
       "      <td>47</td>\n",
       "    </tr>\n",
       "    <tr>\n",
       "      <th>19622</th>\n",
       "      <td>49168.89</td>\n",
       "      <td>49211.83</td>\n",
       "      <td>49358.75</td>\n",
       "      <td>48865.94</td>\n",
       "      <td>2276.034320</td>\n",
       "      <td>0.999127</td>\n",
       "      <td>-0.000873</td>\n",
       "      <td>1.000075</td>\n",
       "      <td>0.0100</td>\n",
       "      <td>45</td>\n",
       "    </tr>\n",
       "    <tr>\n",
       "      <th>19623</th>\n",
       "      <td>48747.30</td>\n",
       "      <td>49168.89</td>\n",
       "      <td>49235.38</td>\n",
       "      <td>48653.00</td>\n",
       "      <td>1159.597200</td>\n",
       "      <td>0.991426</td>\n",
       "      <td>-0.008611</td>\n",
       "      <td>1.000075</td>\n",
       "      <td>0.0100</td>\n",
       "      <td>41</td>\n",
       "    </tr>\n",
       "    <tr>\n",
       "      <th>19624</th>\n",
       "      <td>48864.98</td>\n",
       "      <td>48747.31</td>\n",
       "      <td>48974.09</td>\n",
       "      <td>48700.19</td>\n",
       "      <td>1285.217240</td>\n",
       "      <td>1.002414</td>\n",
       "      <td>0.002411</td>\n",
       "      <td>1.000075</td>\n",
       "      <td>0.0100</td>\n",
       "      <td>39</td>\n",
       "    </tr>\n",
       "  </tbody>\n",
       "</table>\n",
       "<p>8363 rows × 10 columns</p>\n",
       "</div>"
      ],
      "text/plain": [
       "          close      open      high       low    Volume BTC   returns  \\\n",
       "11262  28995.13  28923.63  29031.34  28690.17   2311.811445  1.002472   \n",
       "11263  29409.99  28995.13  29470.00  28960.35   5403.068471  1.014308   \n",
       "11264  29194.65  29410.00  29465.26  29120.03   2384.231560  0.992678   \n",
       "11265  29278.40  29195.25  29367.00  29150.02   1461.345077  1.002869   \n",
       "11266  29220.31  29278.41  29395.00  29029.40   2038.046803  0.998016   \n",
       "...         ...       ...       ...       ...           ...       ...   \n",
       "19620  48674.90  47830.00  49259.98  47212.00  10878.121400  1.017665   \n",
       "19621  49211.84  48674.90  49500.00  48527.01   4690.616610  1.011031   \n",
       "19622  49168.89  49211.83  49358.75  48865.94   2276.034320  0.999127   \n",
       "19623  48747.30  49168.89  49235.38  48653.00   1159.597200  0.991426   \n",
       "19624  48864.98  48747.31  48974.09  48700.19   1285.217240  1.002414   \n",
       "\n",
       "       log_returns      SOPR  fundingRate  googleTrend  \n",
       "11262     0.002469  1.041846       0.0367           38  \n",
       "11263     0.014207  1.041846       0.0367           36  \n",
       "11264    -0.007349  1.041846       0.0367           34  \n",
       "11265     0.002865  1.041846       0.0367           33  \n",
       "11266    -0.001986  1.041846       0.0367           32  \n",
       "...            ...       ...          ...          ...  \n",
       "19620     0.017511  1.000075       0.0100           47  \n",
       "19621     0.010971  1.000075       0.0100           47  \n",
       "19622    -0.000873  1.000075       0.0100           45  \n",
       "19623    -0.008611  1.000075       0.0100           41  \n",
       "19624     0.002411  1.000075       0.0100           39  \n",
       "\n",
       "[8363 rows x 10 columns]"
      ]
     },
     "execution_count": 7,
     "metadata": {},
     "output_type": "execute_result"
    }
   ],
   "source": [
    "training_data = data_training.drop(['NewDateTime'], axis = 1)\n",
    "\n",
    "\n",
    "training_data"
   ]
  },
  {
   "cell_type": "code",
   "execution_count": 8,
   "metadata": {},
   "outputs": [
    {
     "data": {
      "text/plain": [
       "array([[0.        , 0.        , 0.        , ..., 0.85604275, 0.37330183,\n",
       "        0.27058824],\n",
       "       [0.01046607, 0.00180049, 0.0109751 , ..., 0.85604275, 0.37330183,\n",
       "        0.24705882],\n",
       "       [0.00503348, 0.01224759, 0.01085651, ..., 0.85604275, 0.37330183,\n",
       "        0.22352941],\n",
       "       ...,\n",
       "       [0.50894281, 0.51088992, 0.50858373, ..., 0.4289545 , 0.29444773,\n",
       "        0.35294118],\n",
       "       [0.49830695, 0.50980862, 0.50549706, ..., 0.4289545 , 0.29444773,\n",
       "        0.30588235],\n",
       "       [0.50127578, 0.49919255, 0.49895968, ..., 0.4289545 , 0.29444773,\n",
       "        0.28235294]])"
      ]
     },
     "execution_count": 8,
     "metadata": {},
     "output_type": "execute_result"
    }
   ],
   "source": [
    "scaler = MinMaxScaler()\n",
    "training_data = scaler.fit_transform(training_data)\n",
    "training_data"
   ]
  },
  {
   "cell_type": "code",
   "execution_count": 9,
   "metadata": {},
   "outputs": [],
   "source": [
    "X_train = []\n",
    "Y_train = []"
   ]
  },
  {
   "cell_type": "code",
   "execution_count": 10,
   "metadata": {},
   "outputs": [
    {
     "data": {
      "text/plain": [
       "(8363, 10)"
      ]
     },
     "execution_count": 10,
     "metadata": {},
     "output_type": "execute_result"
    }
   ],
   "source": [
    "training_data.shape"
   ]
  },
  {
   "cell_type": "code",
   "execution_count": 11,
   "metadata": {},
   "outputs": [],
   "source": [
    "for i in range(168, training_data.shape[0],8):\n",
    "    X_train.append(training_data[i-168:i])\n",
    "    Y_train.append(training_data[i])"
   ]
  },
  {
   "cell_type": "code",
   "execution_count": 12,
   "metadata": {},
   "outputs": [],
   "source": [
    "X_train, Y_train = np.array(X_train), np.array(Y_train)"
   ]
  },
  {
   "cell_type": "code",
   "execution_count": 13,
   "metadata": {},
   "outputs": [
    {
     "data": {
      "text/plain": [
       "(1025, 168, 10)"
      ]
     },
     "execution_count": 13,
     "metadata": {},
     "output_type": "execute_result"
    }
   ],
   "source": [
    "X_train.shape"
   ]
  },
  {
   "cell_type": "code",
   "execution_count": 14,
   "metadata": {},
   "outputs": [
    {
     "data": {
      "text/plain": [
       "(1025, 10)"
      ]
     },
     "execution_count": 14,
     "metadata": {},
     "output_type": "execute_result"
    }
   ],
   "source": [
    "Y_train.shape"
   ]
  },
  {
   "cell_type": "code",
   "execution_count": 15,
   "metadata": {},
   "outputs": [
    {
     "data": {
      "text/plain": [
       "0.24354618331241096"
      ]
     },
     "execution_count": 15,
     "metadata": {},
     "output_type": "execute_result"
    }
   ],
   "source": [
    "Y_train[1,0]"
   ]
  },
  {
   "cell_type": "code",
   "execution_count": 16,
   "metadata": {},
   "outputs": [
    {
     "data": {
      "text/plain": [
       "0.29854641540964155"
      ]
     },
     "execution_count": 16,
     "metadata": {},
     "output_type": "execute_result"
    }
   ],
   "source": [
    "X_train[2,167,0]"
   ]
  },
  {
   "cell_type": "code",
   "execution_count": 17,
   "metadata": {},
   "outputs": [],
   "source": [
    "# Y_train=Y_train.reshape(Y_train.shape[0],24,1)"
   ]
  },
  {
   "cell_type": "code",
   "execution_count": 18,
   "metadata": {},
   "outputs": [],
   "source": [
    "# Y_train[1,:,0]"
   ]
  },
  {
   "cell_type": "code",
   "execution_count": 19,
   "metadata": {},
   "outputs": [
    {
     "name": "stdout",
     "output_type": "stream",
     "text": [
      "WARNING:tensorflow:Deprecation warnings have been disabled. Set TF_ENABLE_DEPRECATION_WARNINGS=1 to re-enable them.\n"
     ]
    }
   ],
   "source": [
    "\n",
    "from tensorflow.keras import Sequential\n",
    "from tensorflow.keras.layers import Dense, LSTM, Dropout,RepeatVector,TimeDistributed"
   ]
  },
  {
   "cell_type": "code",
   "execution_count": 107,
   "metadata": {},
   "outputs": [],
   "source": [
    "model = Sequential()\n",
    "model.add(LSTM(units = 20, activation = 'relu', return_sequences = True, input_shape = (X_train.shape[1], 10)))\n",
    "model.add(Dropout(0.2))\n",
    "model.add(LSTM(units = 30, activation = 'relu', return_sequences = True))\n",
    "model.add(Dropout(0.2))\n",
    "model.add(LSTM(units = 50, activation = 'relu', return_sequences = True))\n",
    "model.add(Dropout(0.3))\n",
    "\n",
    "model.add(LSTM(units = 40, activation = 'relu'))\n",
    "model.add(Dropout(0.3))\n",
    "\n",
    "model.add(Dense(units =10))"
   ]
  },
  {
   "cell_type": "code",
   "execution_count": 108,
   "metadata": {},
   "outputs": [
    {
     "name": "stdout",
     "output_type": "stream",
     "text": [
      "Model: \"sequential_14\"\n",
      "_________________________________________________________________\n",
      "Layer (type)                 Output Shape              Param #   \n",
      "=================================================================\n",
      "lstm_42 (LSTM)               (None, 168, 20)           2480      \n",
      "_________________________________________________________________\n",
      "dropout_27 (Dropout)         (None, 168, 20)           0         \n",
      "_________________________________________________________________\n",
      "lstm_43 (LSTM)               (None, 168, 30)           6120      \n",
      "_________________________________________________________________\n",
      "dropout_28 (Dropout)         (None, 168, 30)           0         \n",
      "_________________________________________________________________\n",
      "lstm_44 (LSTM)               (None, 168, 50)           16200     \n",
      "_________________________________________________________________\n",
      "dropout_29 (Dropout)         (None, 168, 50)           0         \n",
      "_________________________________________________________________\n",
      "lstm_45 (LSTM)               (None, 40)                14560     \n",
      "_________________________________________________________________\n",
      "dropout_30 (Dropout)         (None, 40)                0         \n",
      "_________________________________________________________________\n",
      "dense_14 (Dense)             (None, 10)                410       \n",
      "=================================================================\n",
      "Total params: 39,770\n",
      "Trainable params: 39,770\n",
      "Non-trainable params: 0\n",
      "_________________________________________________________________\n"
     ]
    }
   ],
   "source": [
    "model.summary()"
   ]
  },
  {
   "cell_type": "code",
   "execution_count": 109,
   "metadata": {},
   "outputs": [],
   "source": [
    "model.compile(loss='mse', optimizer='adam')"
   ]
  },
  {
   "cell_type": "code",
   "execution_count": 110,
   "metadata": {},
   "outputs": [
    {
     "name": "stdout",
     "output_type": "stream",
     "text": [
      "Train on 686 samples, validate on 339 samples\n",
      "Epoch 1/30\n",
      "686/686 [==============================] - 53s 77ms/sample - loss: 0.1337 - val_loss: 0.0450\n",
      "Epoch 2/30\n",
      "686/686 [==============================] - 33s 48ms/sample - loss: 0.0426 - val_loss: 0.0218\n",
      "Epoch 3/30\n",
      "686/686 [==============================] - 29s 43ms/sample - loss: 0.0346 - val_loss: 0.0212\n",
      "Epoch 4/30\n",
      "686/686 [==============================] - 29s 43ms/sample - loss: 0.0324 - val_loss: 0.0189\n",
      "Epoch 5/30\n",
      "686/686 [==============================] - 32s 46ms/sample - loss: 0.0285 - val_loss: 0.0146\n",
      "Epoch 6/30\n",
      "686/686 [==============================] - 34s 50ms/sample - loss: 0.0252 - val_loss: 0.0213\n",
      "Epoch 7/30\n",
      "686/686 [==============================] - 30s 44ms/sample - loss: 0.0225 - val_loss: 0.0113\n",
      "Epoch 8/30\n",
      "686/686 [==============================] - 29s 42ms/sample - loss: 0.0202 - val_loss: 0.0118\n",
      "Epoch 9/30\n",
      "686/686 [==============================] - 30s 44ms/sample - loss: 0.0186 - val_loss: 0.0092\n",
      "Epoch 10/30\n",
      "686/686 [==============================] - 32s 47ms/sample - loss: 0.0169 - val_loss: 0.0160\n",
      "Epoch 11/30\n",
      "686/686 [==============================] - 47s 69ms/sample - loss: 0.0169 - val_loss: 0.0091\n",
      "Epoch 12/30\n",
      "686/686 [==============================] - 29s 42ms/sample - loss: 0.0161 - val_loss: 0.0121\n",
      "Epoch 13/30\n",
      "686/686 [==============================] - 32s 46ms/sample - loss: 0.0157 - val_loss: 0.0121\n",
      "Epoch 14/30\n",
      "686/686 [==============================] - 29s 42ms/sample - loss: 0.0148 - val_loss: 0.0085\n",
      "Epoch 15/30\n",
      "686/686 [==============================] - 30s 44ms/sample - loss: 0.0147 - val_loss: 0.0081\n",
      "Epoch 16/30\n",
      "686/686 [==============================] - 29s 43ms/sample - loss: 0.0136 - val_loss: 0.0065\n",
      "Epoch 17/30\n",
      "686/686 [==============================] - 29s 43ms/sample - loss: 0.0135 - val_loss: 0.0062\n",
      "Epoch 18/30\n",
      "686/686 [==============================] - 31s 45ms/sample - loss: 0.0147 - val_loss: 0.0085\n",
      "Epoch 19/30\n",
      "686/686 [==============================] - 30s 43ms/sample - loss: 0.0125 - val_loss: 0.0091\n",
      "Epoch 20/30\n",
      "686/686 [==============================] - 29s 43ms/sample - loss: 0.0123 - val_loss: 0.0074\n",
      "Epoch 21/30\n",
      "686/686 [==============================] - 29s 42ms/sample - loss: 0.0120 - val_loss: 0.0061\n",
      "Epoch 22/30\n",
      "686/686 [==============================] - 30s 44ms/sample - loss: 0.0114 - val_loss: 0.0073\n",
      "Epoch 23/30\n",
      "686/686 [==============================] - 29s 43ms/sample - loss: 0.0110 - val_loss: 0.0063\n",
      "Epoch 24/30\n",
      "686/686 [==============================] - 30s 43ms/sample - loss: 0.0110 - val_loss: 0.0074\n",
      "Epoch 25/30\n",
      "686/686 [==============================] - 29s 42ms/sample - loss: 0.0108 - val_loss: 0.0052\n",
      "Epoch 26/30\n",
      "686/686 [==============================] - 31s 45ms/sample - loss: 0.0109 - val_loss: 0.0092\n",
      "Epoch 27/30\n",
      "686/686 [==============================] - 31s 45ms/sample - loss: 0.0109 - val_loss: 0.0062\n",
      "Epoch 28/30\n",
      "686/686 [==============================] - 29s 43ms/sample - loss: 0.0098 - val_loss: 0.0067\n",
      "Epoch 29/30\n",
      "686/686 [==============================] - 33s 48ms/sample - loss: 0.0102 - val_loss: 0.0076\n",
      "Epoch 30/30\n",
      "686/686 [==============================] - 35s 50ms/sample - loss: 0.0095 - val_loss: 0.0053\n"
     ]
    }
   ],
   "source": [
    "history = model.fit(X_train, Y_train, epochs=30, batch_size=32, verbose=1, validation_split=0.33)"
   ]
  },
  {
   "cell_type": "code",
   "execution_count": 22,
   "metadata": {},
   "outputs": [],
   "source": [
    "import tensorflow as tf\n",
    "model = tf.keras.models.load_model('168_1_mw8.h5')"
   ]
  },
  {
   "cell_type": "code",
   "execution_count": 111,
   "metadata": {},
   "outputs": [],
   "source": [
    "model.save(\"168_1_mw8.h5\")"
   ]
  },
  {
   "cell_type": "code",
   "execution_count": 57,
   "metadata": {},
   "outputs": [],
   "source": [
    "# result = model.predict(X_train, batch_size=128, verbose=0)\n",
    "# for value in result[0,:,0]:\n",
    "# \tprint('%.1f' % value)"
   ]
  },
  {
   "cell_type": "code",
   "execution_count": 112,
   "metadata": {},
   "outputs": [
    {
     "data": {
      "image/png": "[encoded data removed]",
      "text/plain": [
       "<Figure size 432x288 with 1 Axes>"
      ]
     },
     "metadata": {
      "needs_background": "light"
     },
     "output_type": "display_data"
    }
   ],
   "source": [
    "loss = history.history['loss']\n",
    "epoch = range(len(loss))\n",
    "# plt.figure(figsize=(8,8))\n",
    "plt.plot(history.history['loss'])\n",
    "plt.plot(history.history['val_loss'])\n",
    "plt.title('model train vs validation loss')\n",
    "plt.ylabel('loss')\n",
    "plt.xlabel('epoch')\n",
    "plt.legend(['train', 'validation'], loc='upper right')\n",
    "plt.show()"
   ]
  },
  {
   "cell_type": "code",
   "execution_count": 113,
   "metadata": {},
   "outputs": [
    {
     "data": {
      "text/html": [
       "<div>\n",
       "<style scoped>\n",
       "    .dataframe tbody tr th:only-of-type {\n",
       "        vertical-align: middle;\n",
       "    }\n",
       "\n",
       "    .dataframe tbody tr th {\n",
       "        vertical-align: top;\n",
       "    }\n",
       "\n",
       "    .dataframe thead th {\n",
       "        text-align: right;\n",
       "    }\n",
       "</style>\n",
       "<table border=\"1\" class=\"dataframe\">\n",
       "  <thead>\n",
       "    <tr style=\"text-align: right;\">\n",
       "      <th></th>\n",
       "      <th>close</th>\n",
       "      <th>open</th>\n",
       "      <th>high</th>\n",
       "      <th>low</th>\n",
       "      <th>Volume BTC</th>\n",
       "      <th>NewDateTime</th>\n",
       "      <th>returns</th>\n",
       "      <th>log_returns</th>\n",
       "      <th>SOPR</th>\n",
       "      <th>fundingRate</th>\n",
       "      <th>googleTrend</th>\n",
       "    </tr>\n",
       "  </thead>\n",
       "  <tbody>\n",
       "    <tr>\n",
       "      <th>0</th>\n",
       "      <td>50399.83</td>\n",
       "      <td>50471.19</td>\n",
       "      <td>50797.76</td>\n",
       "      <td>50323.83</td>\n",
       "      <td>1165.14158</td>\n",
       "      <td>2021-12-09 00:00:00</td>\n",
       "      <td>0.998586</td>\n",
       "      <td>-0.001415</td>\n",
       "      <td>0.996332</td>\n",
       "      <td>0.01</td>\n",
       "      <td>19</td>\n",
       "    </tr>\n",
       "    <tr>\n",
       "      <th>1</th>\n",
       "      <td>50182.70</td>\n",
       "      <td>50399.84</td>\n",
       "      <td>50483.68</td>\n",
       "      <td>50147.89</td>\n",
       "      <td>871.61111</td>\n",
       "      <td>2021-12-09 01:00:00</td>\n",
       "      <td>0.995692</td>\n",
       "      <td>-0.004317</td>\n",
       "      <td>0.996332</td>\n",
       "      <td>0.01</td>\n",
       "      <td>19</td>\n",
       "    </tr>\n",
       "    <tr>\n",
       "      <th>2</th>\n",
       "      <td>49886.02</td>\n",
       "      <td>50182.71</td>\n",
       "      <td>50276.81</td>\n",
       "      <td>49620.62</td>\n",
       "      <td>1628.84987</td>\n",
       "      <td>2021-12-09 02:00:00</td>\n",
       "      <td>0.994088</td>\n",
       "      <td>-0.005930</td>\n",
       "      <td>0.996332</td>\n",
       "      <td>0.01</td>\n",
       "      <td>21</td>\n",
       "    </tr>\n",
       "    <tr>\n",
       "      <th>3</th>\n",
       "      <td>49513.35</td>\n",
       "      <td>49886.02</td>\n",
       "      <td>49934.12</td>\n",
       "      <td>49425.74</td>\n",
       "      <td>951.66432</td>\n",
       "      <td>2021-12-09 03:00:00</td>\n",
       "      <td>0.992530</td>\n",
       "      <td>-0.007498</td>\n",
       "      <td>0.996332</td>\n",
       "      <td>0.01</td>\n",
       "      <td>22</td>\n",
       "    </tr>\n",
       "    <tr>\n",
       "      <th>4</th>\n",
       "      <td>49816.07</td>\n",
       "      <td>49517.00</td>\n",
       "      <td>49821.01</td>\n",
       "      <td>49420.33</td>\n",
       "      <td>1052.17101</td>\n",
       "      <td>2021-12-09 04:00:00</td>\n",
       "      <td>1.006114</td>\n",
       "      <td>0.006095</td>\n",
       "      <td>0.996332</td>\n",
       "      <td>0.01</td>\n",
       "      <td>22</td>\n",
       "    </tr>\n",
       "    <tr>\n",
       "      <th>...</th>\n",
       "      <td>...</td>\n",
       "      <td>...</td>\n",
       "      <td>...</td>\n",
       "      <td>...</td>\n",
       "      <td>...</td>\n",
       "      <td>...</td>\n",
       "      <td>...</td>\n",
       "      <td>...</td>\n",
       "      <td>...</td>\n",
       "      <td>...</td>\n",
       "      <td>...</td>\n",
       "    </tr>\n",
       "    <tr>\n",
       "      <th>331</th>\n",
       "      <td>48931.99</td>\n",
       "      <td>48576.02</td>\n",
       "      <td>48950.00</td>\n",
       "      <td>48506.01</td>\n",
       "      <td>799.48215</td>\n",
       "      <td>2021-12-22 19:00:00</td>\n",
       "      <td>1.007328</td>\n",
       "      <td>0.007301</td>\n",
       "      <td>1.001202</td>\n",
       "      <td>0.01</td>\n",
       "      <td>46</td>\n",
       "    </tr>\n",
       "    <tr>\n",
       "      <th>332</th>\n",
       "      <td>48974.34</td>\n",
       "      <td>48931.99</td>\n",
       "      <td>49144.99</td>\n",
       "      <td>48860.47</td>\n",
       "      <td>1309.98901</td>\n",
       "      <td>2021-12-22 20:00:00</td>\n",
       "      <td>1.000865</td>\n",
       "      <td>0.000865</td>\n",
       "      <td>1.001202</td>\n",
       "      <td>0.01</td>\n",
       "      <td>47</td>\n",
       "    </tr>\n",
       "    <tr>\n",
       "      <th>333</th>\n",
       "      <td>49048.84</td>\n",
       "      <td>48974.33</td>\n",
       "      <td>49139.97</td>\n",
       "      <td>48836.72</td>\n",
       "      <td>894.46650</td>\n",
       "      <td>2021-12-22 21:00:00</td>\n",
       "      <td>1.001521</td>\n",
       "      <td>0.001520</td>\n",
       "      <td>1.001202</td>\n",
       "      <td>0.01</td>\n",
       "      <td>47</td>\n",
       "    </tr>\n",
       "    <tr>\n",
       "      <th>334</th>\n",
       "      <td>48977.21</td>\n",
       "      <td>49048.83</td>\n",
       "      <td>49084.45</td>\n",
       "      <td>48788.49</td>\n",
       "      <td>710.47289</td>\n",
       "      <td>2021-12-22 22:00:00</td>\n",
       "      <td>0.998540</td>\n",
       "      <td>-0.001461</td>\n",
       "      <td>1.001202</td>\n",
       "      <td>0.01</td>\n",
       "      <td>46</td>\n",
       "    </tr>\n",
       "    <tr>\n",
       "      <th>335</th>\n",
       "      <td>48588.16</td>\n",
       "      <td>48977.21</td>\n",
       "      <td>48995.89</td>\n",
       "      <td>48555.00</td>\n",
       "      <td>1186.22529</td>\n",
       "      <td>2021-12-22 23:00:00</td>\n",
       "      <td>0.992057</td>\n",
       "      <td>-0.007975</td>\n",
       "      <td>1.001202</td>\n",
       "      <td>0.01</td>\n",
       "      <td>49</td>\n",
       "    </tr>\n",
       "  </tbody>\n",
       "</table>\n",
       "<p>336 rows × 11 columns</p>\n",
       "</div>"
      ],
      "text/plain": [
       "        close      open      high       low  Volume BTC          NewDateTime  \\\n",
       "0    50399.83  50471.19  50797.76  50323.83  1165.14158  2021-12-09 00:00:00   \n",
       "1    50182.70  50399.84  50483.68  50147.89   871.61111  2021-12-09 01:00:00   \n",
       "2    49886.02  50182.71  50276.81  49620.62  1628.84987  2021-12-09 02:00:00   \n",
       "3    49513.35  49886.02  49934.12  49425.74   951.66432  2021-12-09 03:00:00   \n",
       "4    49816.07  49517.00  49821.01  49420.33  1052.17101  2021-12-09 04:00:00   \n",
       "..        ...       ...       ...       ...         ...                  ...   \n",
       "331  48931.99  48576.02  48950.00  48506.01   799.48215  2021-12-22 19:00:00   \n",
       "332  48974.34  48931.99  49144.99  48860.47  1309.98901  2021-12-22 20:00:00   \n",
       "333  49048.84  48974.33  49139.97  48836.72   894.46650  2021-12-22 21:00:00   \n",
       "334  48977.21  49048.83  49084.45  48788.49   710.47289  2021-12-22 22:00:00   \n",
       "335  48588.16  48977.21  48995.89  48555.00  1186.22529  2021-12-22 23:00:00   \n",
       "\n",
       "      returns  log_returns      SOPR  fundingRate  googleTrend  \n",
       "0    0.998586    -0.001415  0.996332         0.01           19  \n",
       "1    0.995692    -0.004317  0.996332         0.01           19  \n",
       "2    0.994088    -0.005930  0.996332         0.01           21  \n",
       "3    0.992530    -0.007498  0.996332         0.01           22  \n",
       "4    1.006114     0.006095  0.996332         0.01           22  \n",
       "..        ...          ...       ...          ...          ...  \n",
       "331  1.007328     0.007301  1.001202         0.01           46  \n",
       "332  1.000865     0.000865  1.001202         0.01           47  \n",
       "333  1.001521     0.001520  1.001202         0.01           47  \n",
       "334  0.998540    -0.001461  1.001202         0.01           46  \n",
       "335  0.992057    -0.007975  1.001202         0.01           49  \n",
       "\n",
       "[336 rows x 11 columns]"
      ]
     },
     "execution_count": 113,
     "metadata": {},
     "output_type": "execute_result"
    }
   ],
   "source": [
    "past_weeks = data_training.tail(168)\n",
    "df= past_weeks.append(data_test, ignore_index = True)\n",
    "# test.drop(test.tail(len(test)%168).index,inplace=True)\n",
    "# test = test.drop(['NewDateTime'], axis=1)\n",
    "df"
   ]
  },
  {
   "cell_type": "code",
   "execution_count": 114,
   "metadata": {},
   "outputs": [
    {
     "data": {
      "text/html": [
       "<div>\n",
       "<style scoped>\n",
       "    .dataframe tbody tr th:only-of-type {\n",
       "        vertical-align: middle;\n",
       "    }\n",
       "\n",
       "    .dataframe tbody tr th {\n",
       "        vertical-align: top;\n",
       "    }\n",
       "\n",
       "    .dataframe thead th {\n",
       "        text-align: right;\n",
       "    }\n",
       "</style>\n",
       "<table border=\"1\" class=\"dataframe\">\n",
       "  <thead>\n",
       "    <tr style=\"text-align: right;\">\n",
       "      <th></th>\n",
       "      <th>close</th>\n",
       "      <th>open</th>\n",
       "      <th>high</th>\n",
       "      <th>low</th>\n",
       "      <th>Volume BTC</th>\n",
       "      <th>NewDateTime</th>\n",
       "      <th>returns</th>\n",
       "      <th>log_returns</th>\n",
       "      <th>SOPR</th>\n",
       "      <th>fundingRate</th>\n",
       "      <th>googleTrend</th>\n",
       "    </tr>\n",
       "  </thead>\n",
       "  <tbody>\n",
       "    <tr>\n",
       "      <th>19457</th>\n",
       "      <td>50399.83</td>\n",
       "      <td>50471.19</td>\n",
       "      <td>50797.76</td>\n",
       "      <td>50323.83</td>\n",
       "      <td>1165.14158</td>\n",
       "      <td>2021-12-09 00:00:00</td>\n",
       "      <td>0.998586</td>\n",
       "      <td>-0.001415</td>\n",
       "      <td>0.996332</td>\n",
       "      <td>0.01</td>\n",
       "      <td>19</td>\n",
       "    </tr>\n",
       "    <tr>\n",
       "      <th>19458</th>\n",
       "      <td>50182.70</td>\n",
       "      <td>50399.84</td>\n",
       "      <td>50483.68</td>\n",
       "      <td>50147.89</td>\n",
       "      <td>871.61111</td>\n",
       "      <td>2021-12-09 01:00:00</td>\n",
       "      <td>0.995692</td>\n",
       "      <td>-0.004317</td>\n",
       "      <td>0.996332</td>\n",
       "      <td>0.01</td>\n",
       "      <td>19</td>\n",
       "    </tr>\n",
       "    <tr>\n",
       "      <th>19459</th>\n",
       "      <td>49886.02</td>\n",
       "      <td>50182.71</td>\n",
       "      <td>50276.81</td>\n",
       "      <td>49620.62</td>\n",
       "      <td>1628.84987</td>\n",
       "      <td>2021-12-09 02:00:00</td>\n",
       "      <td>0.994088</td>\n",
       "      <td>-0.005930</td>\n",
       "      <td>0.996332</td>\n",
       "      <td>0.01</td>\n",
       "      <td>21</td>\n",
       "    </tr>\n",
       "    <tr>\n",
       "      <th>19460</th>\n",
       "      <td>49513.35</td>\n",
       "      <td>49886.02</td>\n",
       "      <td>49934.12</td>\n",
       "      <td>49425.74</td>\n",
       "      <td>951.66432</td>\n",
       "      <td>2021-12-09 03:00:00</td>\n",
       "      <td>0.992530</td>\n",
       "      <td>-0.007498</td>\n",
       "      <td>0.996332</td>\n",
       "      <td>0.01</td>\n",
       "      <td>22</td>\n",
       "    </tr>\n",
       "    <tr>\n",
       "      <th>19461</th>\n",
       "      <td>49816.07</td>\n",
       "      <td>49517.00</td>\n",
       "      <td>49821.01</td>\n",
       "      <td>49420.33</td>\n",
       "      <td>1052.17101</td>\n",
       "      <td>2021-12-09 04:00:00</td>\n",
       "      <td>1.006114</td>\n",
       "      <td>0.006095</td>\n",
       "      <td>0.996332</td>\n",
       "      <td>0.01</td>\n",
       "      <td>22</td>\n",
       "    </tr>\n",
       "    <tr>\n",
       "      <th>...</th>\n",
       "      <td>...</td>\n",
       "      <td>...</td>\n",
       "      <td>...</td>\n",
       "      <td>...</td>\n",
       "      <td>...</td>\n",
       "      <td>...</td>\n",
       "      <td>...</td>\n",
       "      <td>...</td>\n",
       "      <td>...</td>\n",
       "      <td>...</td>\n",
       "      <td>...</td>\n",
       "    </tr>\n",
       "    <tr>\n",
       "      <th>19620</th>\n",
       "      <td>48674.90</td>\n",
       "      <td>47830.00</td>\n",
       "      <td>49259.98</td>\n",
       "      <td>47212.00</td>\n",
       "      <td>10878.12140</td>\n",
       "      <td>2021-12-15 19:00:00</td>\n",
       "      <td>1.017665</td>\n",
       "      <td>0.017511</td>\n",
       "      <td>1.000075</td>\n",
       "      <td>0.01</td>\n",
       "      <td>47</td>\n",
       "    </tr>\n",
       "    <tr>\n",
       "      <th>19621</th>\n",
       "      <td>49211.84</td>\n",
       "      <td>48674.90</td>\n",
       "      <td>49500.00</td>\n",
       "      <td>48527.01</td>\n",
       "      <td>4690.61661</td>\n",
       "      <td>2021-12-15 20:00:00</td>\n",
       "      <td>1.011031</td>\n",
       "      <td>0.010971</td>\n",
       "      <td>1.000075</td>\n",
       "      <td>0.01</td>\n",
       "      <td>47</td>\n",
       "    </tr>\n",
       "    <tr>\n",
       "      <th>19622</th>\n",
       "      <td>49168.89</td>\n",
       "      <td>49211.83</td>\n",
       "      <td>49358.75</td>\n",
       "      <td>48865.94</td>\n",
       "      <td>2276.03432</td>\n",
       "      <td>2021-12-15 21:00:00</td>\n",
       "      <td>0.999127</td>\n",
       "      <td>-0.000873</td>\n",
       "      <td>1.000075</td>\n",
       "      <td>0.01</td>\n",
       "      <td>45</td>\n",
       "    </tr>\n",
       "    <tr>\n",
       "      <th>19623</th>\n",
       "      <td>48747.30</td>\n",
       "      <td>49168.89</td>\n",
       "      <td>49235.38</td>\n",
       "      <td>48653.00</td>\n",
       "      <td>1159.59720</td>\n",
       "      <td>2021-12-15 22:00:00</td>\n",
       "      <td>0.991426</td>\n",
       "      <td>-0.008611</td>\n",
       "      <td>1.000075</td>\n",
       "      <td>0.01</td>\n",
       "      <td>41</td>\n",
       "    </tr>\n",
       "    <tr>\n",
       "      <th>19624</th>\n",
       "      <td>48864.98</td>\n",
       "      <td>48747.31</td>\n",
       "      <td>48974.09</td>\n",
       "      <td>48700.19</td>\n",
       "      <td>1285.21724</td>\n",
       "      <td>2021-12-15 23:00:00</td>\n",
       "      <td>1.002414</td>\n",
       "      <td>0.002411</td>\n",
       "      <td>1.000075</td>\n",
       "      <td>0.01</td>\n",
       "      <td>39</td>\n",
       "    </tr>\n",
       "  </tbody>\n",
       "</table>\n",
       "<p>168 rows × 11 columns</p>\n",
       "</div>"
      ],
      "text/plain": [
       "          close      open      high       low   Volume BTC  \\\n",
       "19457  50399.83  50471.19  50797.76  50323.83   1165.14158   \n",
       "19458  50182.70  50399.84  50483.68  50147.89    871.61111   \n",
       "19459  49886.02  50182.71  50276.81  49620.62   1628.84987   \n",
       "19460  49513.35  49886.02  49934.12  49425.74    951.66432   \n",
       "19461  49816.07  49517.00  49821.01  49420.33   1052.17101   \n",
       "...         ...       ...       ...       ...          ...   \n",
       "19620  48674.90  47830.00  49259.98  47212.00  10878.12140   \n",
       "19621  49211.84  48674.90  49500.00  48527.01   4690.61661   \n",
       "19622  49168.89  49211.83  49358.75  48865.94   2276.03432   \n",
       "19623  48747.30  49168.89  49235.38  48653.00   1159.59720   \n",
       "19624  48864.98  48747.31  48974.09  48700.19   1285.21724   \n",
       "\n",
       "               NewDateTime   returns  log_returns      SOPR  fundingRate  \\\n",
       "19457  2021-12-09 00:00:00  0.998586    -0.001415  0.996332         0.01   \n",
       "19458  2021-12-09 01:00:00  0.995692    -0.004317  0.996332         0.01   \n",
       "19459  2021-12-09 02:00:00  0.994088    -0.005930  0.996332         0.01   \n",
       "19460  2021-12-09 03:00:00  0.992530    -0.007498  0.996332         0.01   \n",
       "19461  2021-12-09 04:00:00  1.006114     0.006095  0.996332         0.01   \n",
       "...                    ...       ...          ...       ...          ...   \n",
       "19620  2021-12-15 19:00:00  1.017665     0.017511  1.000075         0.01   \n",
       "19621  2021-12-15 20:00:00  1.011031     0.010971  1.000075         0.01   \n",
       "19622  2021-12-15 21:00:00  0.999127    -0.000873  1.000075         0.01   \n",
       "19623  2021-12-15 22:00:00  0.991426    -0.008611  1.000075         0.01   \n",
       "19624  2021-12-15 23:00:00  1.002414     0.002411  1.000075         0.01   \n",
       "\n",
       "       googleTrend  \n",
       "19457           19  \n",
       "19458           19  \n",
       "19459           21  \n",
       "19460           22  \n",
       "19461           22  \n",
       "...            ...  \n",
       "19620           47  \n",
       "19621           47  \n",
       "19622           45  \n",
       "19623           41  \n",
       "19624           39  \n",
       "\n",
       "[168 rows x 11 columns]"
      ]
     },
     "execution_count": 114,
     "metadata": {},
     "output_type": "execute_result"
    }
   ],
   "source": [
    "past_weeks"
   ]
  },
  {
   "cell_type": "code",
   "execution_count": 115,
   "metadata": {},
   "outputs": [
    {
     "data": {
      "text/plain": [
       "336"
      ]
     },
     "execution_count": 115,
     "metadata": {},
     "output_type": "execute_result"
    }
   ],
   "source": [
    "df = df.drop(['NewDateTime'], axis = 1)\n",
    "len(df)"
   ]
  },
  {
   "cell_type": "code",
   "execution_count": 116,
   "metadata": {},
   "outputs": [
    {
     "data": {
      "text/plain": [
       "array([[0.53999691, 0.54260266, 0.54458718, ..., 0.39067441, 0.29444773,\n",
       "        0.04705882],\n",
       "       [0.53451917, 0.54080595, 0.53672903, ..., 0.39067441, 0.29444773,\n",
       "        0.04705882],\n",
       "       [0.52703453, 0.53533826, 0.53155322, ..., 0.39067441, 0.29444773,\n",
       "        0.07058824],\n",
       "       ...,\n",
       "       [0.50591419, 0.50490928, 0.50310994, ..., 0.44047072, 0.29444773,\n",
       "        0.37647059],\n",
       "       [0.50410711, 0.50678532, 0.50172085, ..., 0.44047072, 0.29444773,\n",
       "        0.36470588],\n",
       "       [0.49429217, 0.50498181, 0.49950511, ..., 0.44047072, 0.29444773,\n",
       "        0.4       ]])"
      ]
     },
     "execution_count": 116,
     "metadata": {},
     "output_type": "execute_result"
    }
   ],
   "source": [
    "inputs = scaler.transform(df)\n",
    "inputs"
   ]
  },
  {
   "cell_type": "code",
   "execution_count": 117,
   "metadata": {},
   "outputs": [],
   "source": [
    "X_test = []\n",
    "Y_test = []\n",
    "for i in range(168, inputs.shape[0]):\n",
    "    X_test.append(inputs[i-168:i])\n",
    "    Y_test.append(inputs[i])"
   ]
  },
  {
   "cell_type": "code",
   "execution_count": 118,
   "metadata": {},
   "outputs": [
    {
     "data": {
      "text/plain": [
       "((168, 168, 10), (168, 10))"
      ]
     },
     "execution_count": 118,
     "metadata": {},
     "output_type": "execute_result"
    }
   ],
   "source": [
    "X_test, Y_test = np.array(X_test), np.array(Y_test)\n",
    "X_test.shape, Y_test.shape"
   ]
  },
  {
   "cell_type": "code",
   "execution_count": 119,
   "metadata": {},
   "outputs": [
    {
     "data": {
      "text/plain": [
       "array([2.52279598e-05, 2.51816288e-05, 2.50196029e-05, 2.48008553e-05,\n",
       "       2.26040745e-05, 4.70137657e+00, 4.76290973e+00, 1.02247277e+01,\n",
       "       2.95333727e+00, 1.17647059e-02])"
      ]
     },
     "execution_count": 119,
     "metadata": {},
     "output_type": "execute_result"
    }
   ],
   "source": [
    "scaler.scale_"
   ]
  },
  {
   "cell_type": "code",
   "execution_count": 120,
   "metadata": {},
   "outputs": [
    {
     "data": {
      "text/plain": [
       "39638.560070957465"
      ]
     },
     "execution_count": 120,
     "metadata": {},
     "output_type": "execute_result"
    }
   ],
   "source": [
    "scale = 1/2.52279598e-05\n",
    "scale"
   ]
  },
  {
   "cell_type": "code",
   "execution_count": 121,
   "metadata": {},
   "outputs": [
    {
     "data": {
      "text/plain": [
       "(168, 168, 10)"
      ]
     },
     "execution_count": 121,
     "metadata": {},
     "output_type": "execute_result"
    }
   ],
   "source": [
    "data = (X_test[10,:,:]).reshape(1,168,10)\n",
    "predata = model.predict(data)\n",
    "# data = data[0,1:168,:].reshape(1,167,10)\n",
    "# data = np.append(data, predata)\n",
    "# data = data.reshape(1,168,10)\n",
    "# data.shape\n",
    "# predata = predata.reshape(1,1,10)\n",
    "X_test.shape "
   ]
  },
  {
   "cell_type": "code",
   "execution_count": 122,
   "metadata": {},
   "outputs": [
    {
     "data": {
      "text/plain": [
       "(list, 20057.320035904853)"
      ]
     },
     "execution_count": 122,
     "metadata": {},
     "output_type": "execute_result"
    }
   ],
   "source": [
    "pred = []\n",
    "real = []\n",
    "data = (X_test[0,:,:]).reshape(1,168,10)\n",
    "for i in range(0,168):\n",
    "    predata = model.predict(data).reshape(1,1,10)\n",
    "    data = data[0,1:168,:].reshape(1,167,10)\n",
    "    data = np.append(data, predata)\n",
    "    data = data.reshape(1,168,10)\n",
    "    pred.append((predata[0,:,0])*scale)\n",
    "    real.append((Y_test[i,0])*scale)\n",
    "\n",
    "\n",
    "type(pred) , real[0]"
   ]
  },
  {
   "cell_type": "code",
   "execution_count": 123,
   "metadata": {},
   "outputs": [
    {
     "data": {
      "text/plain": [
       "[array([18022.969], dtype=float32),\n",
       " array([17993.098], dtype=float32),\n",
       " array([17967.893], dtype=float32),\n",
       " array([17943.06], dtype=float32),\n",
       " array([17915.113], dtype=float32),\n",
       " array([17881.867], dtype=float32),\n",
       " array([17842.47], dtype=float32),\n",
       " array([17797.137], dtype=float32),\n",
       " array([17746.783], dtype=float32),\n",
       " array([17692.697], dtype=float32),\n",
       " array([17636.371], dtype=float32),\n",
       " array([17579.268], dtype=float32),\n",
       " array([17522.652], dtype=float32),\n",
       " array([17467.5], dtype=float32),\n",
       " array([17414.494], dtype=float32),\n",
       " array([17364.062], dtype=float32),\n",
       " array([17316.47], dtype=float32),\n",
       " array([17271.852], dtype=float32),\n",
       " array([17230.188], dtype=float32),\n",
       " array([17190.768], dtype=float32),\n",
       " array([17153.223], dtype=float32),\n",
       " array([17117.547], dtype=float32),\n",
       " array([17083.717], dtype=float32),\n",
       " array([17051.71], dtype=float32),\n",
       " array([17021.494], dtype=float32),\n",
       " array([16993.03], dtype=float32),\n",
       " array([16966.266], dtype=float32),\n",
       " array([16941.148], dtype=float32),\n",
       " array([16917.621], dtype=float32),\n",
       " array([16895.625], dtype=float32),\n",
       " array([16875.1], dtype=float32),\n",
       " array([16855.986], dtype=float32),\n",
       " array([16838.234], dtype=float32),\n",
       " array([16821.783], dtype=float32),\n",
       " array([16806.59], dtype=float32),\n",
       " array([16792.598], dtype=float32),\n",
       " array([16779.766], dtype=float32),\n",
       " array([16768.055], dtype=float32),\n",
       " array([16757.418], dtype=float32),\n",
       " array([16747.82], dtype=float32),\n",
       " array([16739.229], dtype=float32),\n",
       " array([16731.604], dtype=float32),\n",
       " array([16724.92], dtype=float32),\n",
       " array([16719.145], dtype=float32),\n",
       " array([16714.254], dtype=float32),\n",
       " array([16710.215], dtype=float32),\n",
       " array([16707.008], dtype=float32),\n",
       " array([16704.605], dtype=float32),\n",
       " array([16702.99], dtype=float32),\n",
       " array([16702.135], dtype=float32),\n",
       " array([16702.023], dtype=float32),\n",
       " array([16702.635], dtype=float32),\n",
       " array([16703.951], dtype=float32),\n",
       " array([16705.959], dtype=float32),\n",
       " array([16708.637], dtype=float32),\n",
       " array([16711.947], dtype=float32),\n",
       " array([16715.838], dtype=float32),\n",
       " array([16720.275], dtype=float32),\n",
       " array([16725.238], dtype=float32),\n",
       " array([16730.72], dtype=float32),\n",
       " array([16736.707], dtype=float32),\n",
       " array([16743.193], dtype=float32),\n",
       " array([16750.172], dtype=float32),\n",
       " array([16757.5], dtype=float32),\n",
       " array([16765.104], dtype=float32),\n",
       " array([16772.96], dtype=float32),\n",
       " array([16781.062], dtype=float32),\n",
       " array([16789.416], dtype=float32),\n",
       " array([16798.018], dtype=float32),\n",
       " array([16806.875], dtype=float32),\n",
       " array([16815.99], dtype=float32),\n",
       " array([16825.361], dtype=float32),\n",
       " array([16834.99], dtype=float32),\n",
       " array([16844.88], dtype=float32),\n",
       " array([16855.025], dtype=float32),\n",
       " array([16865.426], dtype=float32),\n",
       " array([16876.076], dtype=float32),\n",
       " array([16886.979], dtype=float32),\n",
       " array([16898.125], dtype=float32),\n",
       " array([16909.547], dtype=float32),\n",
       " array([16921.283], dtype=float32),\n",
       " array([16933.326], dtype=float32),\n",
       " array([16945.625], dtype=float32),\n",
       " array([16958.14], dtype=float32),\n",
       " array([16970.824], dtype=float32),\n",
       " array([16983.65], dtype=float32),\n",
       " array([16996.607], dtype=float32),\n",
       " array([17009.69], dtype=float32),\n",
       " array([17022.941], dtype=float32),\n",
       " array([17036.44], dtype=float32),\n",
       " array([17050.178], dtype=float32),\n",
       " array([17064.104], dtype=float32),\n",
       " array([17078.156], dtype=float32),\n",
       " array([17092.297], dtype=float32),\n",
       " array([17106.463], dtype=float32),\n",
       " array([17120.57], dtype=float32),\n",
       " array([17134.541], dtype=float32),\n",
       " array([17148.291], dtype=float32),\n",
       " array([17161.768], dtype=float32),\n",
       " array([17174.922], dtype=float32),\n",
       " array([17187.729], dtype=float32),\n",
       " array([17200.16], dtype=float32),\n",
       " array([17212.207], dtype=float32),\n",
       " array([17223.871], dtype=float32),\n",
       " array([17235.17], dtype=float32),\n",
       " array([17246.133], dtype=float32),\n",
       " array([17256.78], dtype=float32),\n",
       " array([17267.125], dtype=float32),\n",
       " array([17277.188], dtype=float32),\n",
       " array([17286.97], dtype=float32),\n",
       " array([17296.479], dtype=float32),\n",
       " array([17305.717], dtype=float32),\n",
       " array([17314.686], dtype=float32),\n",
       " array([17323.387], dtype=float32),\n",
       " array([17331.828], dtype=float32),\n",
       " array([17340.016], dtype=float32),\n",
       " array([17347.951], dtype=float32),\n",
       " array([17355.645], dtype=float32),\n",
       " array([17363.105], dtype=float32),\n",
       " array([17370.336], dtype=float32),\n",
       " array([17377.35], dtype=float32),\n",
       " array([17384.15], dtype=float32),\n",
       " array([17390.75], dtype=float32),\n",
       " array([17397.154], dtype=float32),\n",
       " array([17403.371], dtype=float32),\n",
       " array([17409.408], dtype=float32),\n",
       " array([17415.271], dtype=float32),\n",
       " array([17420.969], dtype=float32),\n",
       " array([17426.502], dtype=float32),\n",
       " array([17431.88], dtype=float32),\n",
       " array([17437.11], dtype=float32),\n",
       " array([17442.197], dtype=float32),\n",
       " array([17447.139], dtype=float32),\n",
       " array([17451.95], dtype=float32),\n",
       " array([17456.627], dtype=float32),\n",
       " array([17461.18], dtype=float32),\n",
       " array([17465.611], dtype=float32),\n",
       " array([17469.92], dtype=float32),\n",
       " array([17474.115], dtype=float32),\n",
       " array([17478.2], dtype=float32),\n",
       " array([17482.172], dtype=float32),\n",
       " array([17486.041], dtype=float32),\n",
       " array([17489.809], dtype=float32),\n",
       " array([17493.475], dtype=float32),\n",
       " array([17497.047], dtype=float32),\n",
       " array([17500.525], dtype=float32),\n",
       " array([17503.914], dtype=float32),\n",
       " array([17507.21], dtype=float32),\n",
       " array([17510.428], dtype=float32),\n",
       " array([17513.559], dtype=float32),\n",
       " array([17516.607], dtype=float32),\n",
       " array([17519.578], dtype=float32),\n",
       " array([17522.475], dtype=float32),\n",
       " array([17525.295], dtype=float32),\n",
       " array([17528.045], dtype=float32),\n",
       " array([17530.723], dtype=float32),\n",
       " array([17533.336], dtype=float32),\n",
       " array([17535.877], dtype=float32),\n",
       " array([17538.36], dtype=float32),\n",
       " array([17540.775], dtype=float32),\n",
       " array([17543.133], dtype=float32),\n",
       " array([17545.43], dtype=float32),\n",
       " array([17547.67], dtype=float32),\n",
       " array([17549.854], dtype=float32),\n",
       " array([17551.982], dtype=float32),\n",
       " array([17554.059], dtype=float32),\n",
       " array([17556.08], dtype=float32),\n",
       " array([17558.057], dtype=float32)]"
      ]
     },
     "execution_count": 123,
     "metadata": {},
     "output_type": "execute_result"
    }
   ],
   "source": [
    "pred"
   ]
  },
  {
   "cell_type": "code",
   "execution_count": 124,
   "metadata": {},
   "outputs": [
    {
     "data": {
      "image/png": "[encoded data removed]",
      "text/plain": [
       "<Figure size 1008x360 with 1 Axes>"
      ]
     },
     "metadata": {
      "needs_background": "light"
     },
     "output_type": "display_data"
    }
   ],
   "source": [
    "plt.figure(figsize=(14,5))\n",
    "plt.plot(np.array(real).flat, color = 'red', label = 'Real Bitcoin Price')\n",
    "plt.plot(np.array(pred).flat, color = 'green', label = 'Predicted Bitcoin Price')\n",
    "plt.title('Bitcoin Price Prediction using RNN-LSTM')\n",
    "plt.xlabel('Time')\n",
    "plt.ylabel('Price')\n",
    "plt.legend()\n",
    "plt.show()"
   ]
  },
  {
   "cell_type": "code",
   "execution_count": null,
   "metadata": {},
   "outputs": [],
   "source": []
  },
  {
   "cell_type": "code",
   "execution_count": null,
   "metadata": {},
   "outputs": [],
   "source": []
  }
 ],
 "metadata": {
  "kernelspec": {
   "display_name": "Python 3",
   "language": "python",
   "name": "python3"
  },
  "language_info": {
   "codemirror_mode": {
    "name": "ipython",
    "version": 3
   },
   "file_extension": ".py",
   "mimetype": "text/x-python",
   "name": "python",
   "nbconvert_exporter": "python",
   "pygments_lexer": "ipython3",
   "version": "3.6.9"
  }
 },
 "nbformat": 4,
 "nbformat_minor": 4
}
