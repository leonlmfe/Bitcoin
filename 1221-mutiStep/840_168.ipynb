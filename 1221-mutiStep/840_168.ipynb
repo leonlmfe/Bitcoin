{
 "cells": [
  {
   "cell_type": "code",
   "execution_count": 1,
   "metadata": {},
   "outputs": [],
   "source": [
    "import numpy as np\n",
    "import matplotlib.pyplot as plt\n",
    "import pandas as pd\n",
    "import gc\n",
    "from sklearn.preprocessing import MinMaxScaler\n",
    "from pandas import read_csv"
   ]
  },
  {
   "cell_type": "code",
   "execution_count": 2,
   "metadata": {},
   "outputs": [
    {
     "data": {
      "text/plain": [
       "19793"
      ]
     },
     "execution_count": 2,
     "metadata": {},
     "output_type": "execute_result"
    }
   ],
   "source": [
    "# load the new file\n",
    "df = read_csv('./data/bitcoin_data.csv', date_parser = True)\n",
    "df.drop(df.columns[0], axis=1,inplace = True)\n",
    "len(df)"
   ]
  },
  {
   "cell_type": "code",
   "execution_count": 3,
   "metadata": {},
   "outputs": [
    {
     "data": {
      "text/plain": [
       "8531"
      ]
     },
     "execution_count": 3,
     "metadata": {},
     "output_type": "execute_result"
    }
   ],
   "source": [
    "df = df[df['NewDateTime']>= '2021-01-01'].copy()\n",
    "len(df)"
   ]
  },
  {
   "cell_type": "code",
   "execution_count": 4,
   "metadata": {},
   "outputs": [
    {
     "data": {
      "text/plain": [
       "8400"
      ]
     },
     "execution_count": 4,
     "metadata": {},
     "output_type": "execute_result"
    }
   ],
   "source": [
    "df.drop(df.head(len(df)%168).index,inplace=True)\n",
    "len(df)"
   ]
  },
  {
   "cell_type": "code",
   "execution_count": 5,
   "metadata": {},
   "outputs": [
    {
     "data": {
      "text/plain": [
       "7350"
      ]
     },
     "execution_count": 5,
     "metadata": {},
     "output_type": "execute_result"
    }
   ],
   "source": [
    "int(len(df)/8*7)"
   ]
  },
  {
   "cell_type": "code",
   "execution_count": 6,
   "metadata": {},
   "outputs": [
    {
     "data": {
      "text/plain": [
       "8232"
      ]
     },
     "execution_count": 6,
     "metadata": {},
     "output_type": "execute_result"
    }
   ],
   "source": [
    "data_training = df.iloc[0:int(len(df)-168),:]\n",
    "data_test = df.iloc[int(len(df)-168):int(len(df)),:]\n",
    "\n",
    "len(data_training)"
   ]
  },
  {
   "cell_type": "code",
   "execution_count": 7,
   "metadata": {},
   "outputs": [
    {
     "data": {
      "text/html": [
       "<div>\n",
       "<style scoped>\n",
       "    .dataframe tbody tr th:only-of-type {\n",
       "        vertical-align: middle;\n",
       "    }\n",
       "\n",
       "    .dataframe tbody tr th {\n",
       "        vertical-align: top;\n",
       "    }\n",
       "\n",
       "    .dataframe thead th {\n",
       "        text-align: right;\n",
       "    }\n",
       "</style>\n",
       "<table border=\"1\" class=\"dataframe\">\n",
       "  <thead>\n",
       "    <tr style=\"text-align: right;\">\n",
       "      <th></th>\n",
       "      <th>close</th>\n",
       "      <th>open</th>\n",
       "      <th>high</th>\n",
       "      <th>low</th>\n",
       "      <th>Volume BTC</th>\n",
       "      <th>returns</th>\n",
       "      <th>log_returns</th>\n",
       "      <th>SOPR</th>\n",
       "      <th>fundingRate</th>\n",
       "      <th>googleTrend</th>\n",
       "    </tr>\n",
       "  </thead>\n",
       "  <tbody>\n",
       "    <tr>\n",
       "      <th>19620</th>\n",
       "      <td>48674.90</td>\n",
       "      <td>47830.00</td>\n",
       "      <td>49259.98</td>\n",
       "      <td>47212.00</td>\n",
       "      <td>10878.12140</td>\n",
       "      <td>1.017665</td>\n",
       "      <td>0.017511</td>\n",
       "      <td>1.000075</td>\n",
       "      <td>0.01</td>\n",
       "      <td>47</td>\n",
       "    </tr>\n",
       "    <tr>\n",
       "      <th>19621</th>\n",
       "      <td>49211.84</td>\n",
       "      <td>48674.90</td>\n",
       "      <td>49500.00</td>\n",
       "      <td>48527.01</td>\n",
       "      <td>4690.61661</td>\n",
       "      <td>1.011031</td>\n",
       "      <td>0.010971</td>\n",
       "      <td>1.000075</td>\n",
       "      <td>0.01</td>\n",
       "      <td>47</td>\n",
       "    </tr>\n",
       "    <tr>\n",
       "      <th>19622</th>\n",
       "      <td>49168.89</td>\n",
       "      <td>49211.83</td>\n",
       "      <td>49358.75</td>\n",
       "      <td>48865.94</td>\n",
       "      <td>2276.03432</td>\n",
       "      <td>0.999127</td>\n",
       "      <td>-0.000873</td>\n",
       "      <td>1.000075</td>\n",
       "      <td>0.01</td>\n",
       "      <td>45</td>\n",
       "    </tr>\n",
       "    <tr>\n",
       "      <th>19623</th>\n",
       "      <td>48747.30</td>\n",
       "      <td>49168.89</td>\n",
       "      <td>49235.38</td>\n",
       "      <td>48653.00</td>\n",
       "      <td>1159.59720</td>\n",
       "      <td>0.991426</td>\n",
       "      <td>-0.008611</td>\n",
       "      <td>1.000075</td>\n",
       "      <td>0.01</td>\n",
       "      <td>41</td>\n",
       "    </tr>\n",
       "    <tr>\n",
       "      <th>19624</th>\n",
       "      <td>48864.98</td>\n",
       "      <td>48747.31</td>\n",
       "      <td>48974.09</td>\n",
       "      <td>48700.19</td>\n",
       "      <td>1285.21724</td>\n",
       "      <td>1.002414</td>\n",
       "      <td>0.002411</td>\n",
       "      <td>1.000075</td>\n",
       "      <td>0.01</td>\n",
       "      <td>39</td>\n",
       "    </tr>\n",
       "  </tbody>\n",
       "</table>\n",
       "</div>"
      ],
      "text/plain": [
       "          close      open      high       low   Volume BTC   returns  \\\n",
       "19620  48674.90  47830.00  49259.98  47212.00  10878.12140  1.017665   \n",
       "19621  49211.84  48674.90  49500.00  48527.01   4690.61661  1.011031   \n",
       "19622  49168.89  49211.83  49358.75  48865.94   2276.03432  0.999127   \n",
       "19623  48747.30  49168.89  49235.38  48653.00   1159.59720  0.991426   \n",
       "19624  48864.98  48747.31  48974.09  48700.19   1285.21724  1.002414   \n",
       "\n",
       "       log_returns      SOPR  fundingRate  googleTrend  \n",
       "19620     0.017511  1.000075         0.01           47  \n",
       "19621     0.010971  1.000075         0.01           47  \n",
       "19622    -0.000873  1.000075         0.01           45  \n",
       "19623    -0.008611  1.000075         0.01           41  \n",
       "19624     0.002411  1.000075         0.01           39  "
      ]
     },
     "execution_count": 7,
     "metadata": {},
     "output_type": "execute_result"
    }
   ],
   "source": [
    "training_data = data_training.drop(['NewDateTime'], axis = 1)\n",
    "\n",
    "\n",
    "training_data.tail()"
   ]
  },
  {
   "cell_type": "code",
   "execution_count": 8,
   "metadata": {},
   "outputs": [
    {
     "data": {
      "text/plain": [
       "array([[0.14417015, 0.13144365, 0.13979961, ..., 0.8892874 , 0.64028352,\n",
       "        0.28235294],\n",
       "       [0.14445801, 0.14416496, 0.13694925, ..., 0.8892874 , 0.64028352,\n",
       "        0.29411765],\n",
       "       [0.13481534, 0.14445255, 0.13598216, ..., 0.8892874 , 0.64028352,\n",
       "        0.28235294],\n",
       "       ...,\n",
       "       [0.50590308, 0.50697454, 0.50013577, ..., 0.4289545 , 0.29444773,\n",
       "        0.35294118],\n",
       "       [0.49520138, 0.50588459, 0.49699604, ..., 0.4289545 , 0.29444773,\n",
       "        0.30588235],\n",
       "       [0.49818859, 0.49518354, 0.49034629, ..., 0.4289545 , 0.29444773,\n",
       "        0.28235294]])"
      ]
     },
     "execution_count": 8,
     "metadata": {},
     "output_type": "execute_result"
    }
   ],
   "source": [
    "scaler = MinMaxScaler()\n",
    "training_data = scaler.fit_transform(training_data)\n",
    "training_data"
   ]
  },
  {
   "cell_type": "code",
   "execution_count": 9,
   "metadata": {},
   "outputs": [],
   "source": [
    "X_train = []\n",
    "Y_train = []"
   ]
  },
  {
   "cell_type": "code",
   "execution_count": 10,
   "metadata": {},
   "outputs": [
    {
     "data": {
      "text/plain": [
       "(8232, 10)"
      ]
     },
     "execution_count": 10,
     "metadata": {},
     "output_type": "execute_result"
    }
   ],
   "source": [
    "training_data.shape"
   ]
  },
  {
   "cell_type": "code",
   "execution_count": 11,
   "metadata": {},
   "outputs": [],
   "source": [
    "for i in range(840, training_data.shape[0],24):\n",
    "    \n",
    "    X_train.append(training_data[i-840:i-168])\n",
    "    Y_train.append(training_data[i-168:i,0])"
   ]
  },
  {
   "cell_type": "code",
   "execution_count": 12,
   "metadata": {},
   "outputs": [],
   "source": [
    "X_train, Y_train = np.array(X_train), np.array(Y_train)"
   ]
  },
  {
   "cell_type": "code",
   "execution_count": 13,
   "metadata": {},
   "outputs": [
    {
     "data": {
      "text/plain": [
       "(308, 672, 10)"
      ]
     },
     "execution_count": 13,
     "metadata": {},
     "output_type": "execute_result"
    }
   ],
   "source": [
    "X_train.shape"
   ]
  },
  {
   "cell_type": "code",
   "execution_count": 14,
   "metadata": {},
   "outputs": [
    {
     "data": {
      "text/plain": [
       "(308, 168)"
      ]
     },
     "execution_count": 14,
     "metadata": {},
     "output_type": "execute_result"
    }
   ],
   "source": [
    "Y_train.shape"
   ]
  },
  {
   "cell_type": "code",
   "execution_count": 15,
   "metadata": {},
   "outputs": [
    {
     "data": {
      "text/plain": [
       "308"
      ]
     },
     "execution_count": 15,
     "metadata": {},
     "output_type": "execute_result"
    }
   ],
   "source": [
    "Y_train.shape[0]"
   ]
  },
  {
   "cell_type": "code",
   "execution_count": 16,
   "metadata": {},
   "outputs": [],
   "source": [
    "Y_train=Y_train.reshape(Y_train.shape[0],168,1)"
   ]
  },
  {
   "cell_type": "code",
   "execution_count": 17,
   "metadata": {},
   "outputs": [],
   "source": [
    "# Y_train[1,:,0]"
   ]
  },
  {
   "cell_type": "code",
   "execution_count": 18,
   "metadata": {},
   "outputs": [],
   "source": [
    "\n",
    "from tensorflow.keras import Sequential\n",
    "from tensorflow.keras.layers import Dense, LSTM, Dropout,RepeatVector,TimeDistributed"
   ]
  },
  {
   "cell_type": "code",
   "execution_count": 31,
   "metadata": {},
   "outputs": [],
   "source": [
    "\n",
    "model = Sequential()\n",
    "model.add(LSTM(200, activation='relu', input_shape=(X_train.shape[1], 10)))\n",
    "model.add(Dropout(0.2))\n",
    "model.add(RepeatVector(168))\n",
    "model.add(LSTM(200, activation='relu', return_sequences=True))\n",
    "model.add(Dropout(0.2))\n",
    "model.add(TimeDistributed(Dense(50, activation='relu')))\n",
    "model.add(TimeDistributed(Dense(1)))\n",
    "\n",
    "# model.add(LSTM(units = 200, activation = 'relu', return_sequences = True, input_shape = (X_train.shape[1], 10)))\n",
    "# model.add(Dropout(0.1))\n",
    "# model.add(LSTM(units = 200, return_sequences = True, activation = 'relu'))\n",
    "\n",
    "# model.add(Dropout(0.1))\n",
    "# model.add(Dense(units =1))"
   ]
  },
  {
   "cell_type": "code",
   "execution_count": 32,
   "metadata": {},
   "outputs": [
    {
     "name": "stdout",
     "output_type": "stream",
     "text": [
      "Model: \"sequential_3\"\n",
      "_________________________________________________________________\n",
      "Layer (type)                 Output Shape              Param #   \n",
      "=================================================================\n",
      "lstm_6 (LSTM)                (None, 200)               168800    \n",
      "_________________________________________________________________\n",
      "dropout_6 (Dropout)          (None, 200)               0         \n",
      "_________________________________________________________________\n",
      "repeat_vector_1 (RepeatVecto (None, 168, 200)          0         \n",
      "_________________________________________________________________\n",
      "lstm_7 (LSTM)                (None, 168, 200)          320800    \n",
      "_________________________________________________________________\n",
      "dropout_7 (Dropout)          (None, 168, 200)          0         \n",
      "_________________________________________________________________\n",
      "time_distributed_4 (TimeDist (None, 168, 50)           10050     \n",
      "_________________________________________________________________\n",
      "time_distributed_5 (TimeDist (None, 168, 1)            51        \n",
      "=================================================================\n",
      "Total params: 499,701\n",
      "Trainable params: 499,701\n",
      "Non-trainable params: 0\n",
      "_________________________________________________________________\n"
     ]
    }
   ],
   "source": [
    "model.summary()"
   ]
  },
  {
   "cell_type": "code",
   "execution_count": 34,
   "metadata": {},
   "outputs": [],
   "source": [
    "model.compile(loss='mse', optimizer='adam')"
   ]
  },
  {
   "cell_type": "code",
   "execution_count": 35,
   "metadata": {},
   "outputs": [
    {
     "name": "stdout",
     "output_type": "stream",
     "text": [
      "Train on 277 samples, validate on 31 samples\n",
      "Epoch 1/15\n",
      "277/277 [==============================] - 97s 349ms/sample - loss: 0.1204 - val_loss: 0.0338\n",
      "Epoch 2/15\n",
      "277/277 [==============================] - 93s 337ms/sample - loss: 0.0292 - val_loss: 0.0137\n",
      "Epoch 3/15\n",
      "277/277 [==============================] - 94s 338ms/sample - loss: 0.0165 - val_loss: 0.0122\n",
      "Epoch 4/15\n",
      "277/277 [==============================] - 92s 334ms/sample - loss: 0.0146 - val_loss: 0.0109\n",
      "Epoch 5/15\n",
      "277/277 [==============================] - 94s 340ms/sample - loss: 0.0122 - val_loss: 0.0114\n",
      "Epoch 6/15\n",
      "277/277 [==============================] - 92s 332ms/sample - loss: 0.0124 - val_loss: 0.0102\n",
      "Epoch 7/15\n",
      "277/277 [==============================] - 93s 335ms/sample - loss: 0.0117 - val_loss: 0.0088\n",
      "Epoch 8/15\n",
      "277/277 [==============================] - 92s 334ms/sample - loss: 0.0107 - val_loss: 0.0083\n",
      "Epoch 9/15\n",
      "277/277 [==============================] - 94s 338ms/sample - loss: 0.0099 - val_loss: 0.0087\n",
      "Epoch 10/15\n",
      "277/277 [==============================] - 92s 332ms/sample - loss: 0.0104 - val_loss: 0.0080\n",
      "Epoch 11/15\n",
      "277/277 [==============================] - 92s 332ms/sample - loss: 0.0097 - val_loss: 0.0074\n",
      "Epoch 12/15\n",
      "277/277 [==============================] - 92s 332ms/sample - loss: 0.0097 - val_loss: 0.0129\n",
      "Epoch 13/15\n",
      "277/277 [==============================] - 94s 341ms/sample - loss: 0.0103 - val_loss: 0.0076\n",
      "Epoch 14/15\n",
      "277/277 [==============================] - 92s 331ms/sample - loss: 0.0095 - val_loss: 0.0067\n",
      "Epoch 15/15\n",
      "277/277 [==============================] - 93s 334ms/sample - loss: 0.0090 - val_loss: 0.0064\n"
     ]
    }
   ],
   "source": [
    "history = model.fit(X_train, Y_train, epochs=15, batch_size=32, verbose=1, validation_split=0.1)"
   ]
  },
  {
   "cell_type": "code",
   "execution_count": 36,
   "metadata": {},
   "outputs": [],
   "source": [
    "# import tensorflow as tf\n",
    "# model = tf.keras.models.load_model('LSTM_168_1216.h5')"
   ]
  },
  {
   "cell_type": "code",
   "execution_count": 37,
   "metadata": {},
   "outputs": [],
   "source": [
    "model.save(\"840_168.h5\")"
   ]
  },
  {
   "cell_type": "code",
   "execution_count": 38,
   "metadata": {},
   "outputs": [],
   "source": [
    "# result = model.predict(X_train, batch_size=128, verbose=0)\n",
    "# for value in result[0,:,0]:\n",
    "# \tprint('%.1f' % value)"
   ]
  },
  {
   "cell_type": "code",
   "execution_count": 39,
   "metadata": {},
   "outputs": [
    {
     "data": {
      "image/png": "[encoded data removed]",
      "text/plain": [
       "<Figure size 432x288 with 1 Axes>"
      ]
     },
     "metadata": {
      "needs_background": "light"
     },
     "output_type": "display_data"
    }
   ],
   "source": [
    "loss = history.history['loss']\n",
    "epoch = range(len(loss))\n",
    "# plt.figure(figsize=(8,8))\n",
    "plt.plot(history.history['loss'])\n",
    "plt.plot(history.history['val_loss'])\n",
    "plt.title('model train vs validation loss')\n",
    "plt.ylabel('loss')\n",
    "plt.xlabel('epoch')\n",
    "plt.legend(['train', 'validation'], loc='upper right')\n",
    "plt.show()"
   ]
  },
  {
   "cell_type": "code",
   "execution_count": 40,
   "metadata": {},
   "outputs": [
    {
     "data": {
      "text/plain": [
       "{'loss': [0.12037701869134654,\n",
       "  0.02916545493508074,\n",
       "  0.016486267959329195,\n",
       "  0.014553126317553141,\n",
       "  0.01221181297614256,\n",
       "  0.0124203864458128,\n",
       "  0.011672597358319303,\n",
       "  0.010689695355640422,\n",
       "  0.009899072954263068,\n",
       "  0.010394830636626332,\n",
       "  0.009733025230036961,\n",
       "  0.009678079107850252,\n",
       "  0.010256698334905645,\n",
       "  0.009545405808876568,\n",
       "  0.009012314097599432],\n",
       " 'val_loss': [0.03376215696334839,\n",
       "  0.013652482070028782,\n",
       "  0.012185672298073769,\n",
       "  0.010853094980120659,\n",
       "  0.01136960182338953,\n",
       "  0.01015838235616684,\n",
       "  0.008767307735979557,\n",
       "  0.008260183967649937,\n",
       "  0.00872524082660675,\n",
       "  0.00800135638564825,\n",
       "  0.007416065316647291,\n",
       "  0.012928832322359085,\n",
       "  0.0075569176115095615,\n",
       "  0.006737766787409782,\n",
       "  0.0063979108817875385]}"
      ]
     },
     "execution_count": 40,
     "metadata": {},
     "output_type": "execute_result"
    }
   ],
   "source": [
    "history.history"
   ]
  },
  {
   "cell_type": "code",
   "execution_count": 41,
   "metadata": {},
   "outputs": [],
   "source": [
    "# from tensorflow import keras\n",
    "# regressor = Sequential()\n",
    "# regressor = keras.models.load_model(\"LSTM_model_1210.h5\")"
   ]
  },
  {
   "cell_type": "code",
   "execution_count": 42,
   "metadata": {},
   "outputs": [
    {
     "data": {
      "text/plain": [
       "840"
      ]
     },
     "execution_count": 42,
     "metadata": {},
     "output_type": "execute_result"
    }
   ],
   "source": [
    "past_4weeks = data_training.tail(672)\n",
    "df= past_4weeks.append(data_test, ignore_index = True)\n",
    "# test.drop(test.tail(len(test)%168).index,inplace=True)\n",
    "# test = test.drop(['NewDateTime'], axis=1)\n",
    "df = df.drop(['NewDateTime'], axis = 1)\n",
    "len(df)"
   ]
  },
  {
   "cell_type": "code",
   "execution_count": 43,
   "metadata": {},
   "outputs": [
    {
     "data": {
      "text/plain": [
       "array([[0.79328894, 0.78956659, 0.78979706, ..., 0.41218561, 0.29444773,\n",
       "        0.89411765],\n",
       "       [0.79530368, 0.7932601 , 0.79579148, ..., 0.41218561, 0.29444773,\n",
       "        0.89411765],\n",
       "       [0.79747859, 0.79527451, 0.79137799, ..., 0.41218561, 0.29444773,\n",
       "        0.89411765],\n",
       "       ...,\n",
       "       [0.50285571, 0.50094603, 0.49456789, ..., 0.44047072, 0.29444773,\n",
       "        0.37647059],\n",
       "       [0.50103745, 0.50283708, 0.49315492, ..., 0.44047072, 0.29444773,\n",
       "        0.36470588],\n",
       "       [0.49116176, 0.50101914, 0.49090109, ..., 0.44047072, 0.29444773,\n",
       "        0.4       ]])"
      ]
     },
     "execution_count": 43,
     "metadata": {},
     "output_type": "execute_result"
    }
   ],
   "source": [
    "inputs = scaler.transform(df)\n",
    "inputs"
   ]
  },
  {
   "cell_type": "code",
   "execution_count": 46,
   "metadata": {},
   "outputs": [],
   "source": [
    "X_test = []\n",
    "Y_test = []\n",
    "for i in range(840, inputs.shape[0]+1,24):\n",
    "    X_test.append(inputs[i-840:i-168])\n",
    "    Y_test.append(inputs[i-168:i,0])"
   ]
  },
  {
   "cell_type": "code",
   "execution_count": 47,
   "metadata": {},
   "outputs": [
    {
     "data": {
      "text/plain": [
       "((1, 672, 10), (1, 168))"
      ]
     },
     "execution_count": 47,
     "metadata": {},
     "output_type": "execute_result"
    }
   ],
   "source": [
    "X_test, Y_test = np.array(X_test), np.array(Y_test)\n",
    "X_test.shape, Y_test.shape"
   ]
  },
  {
   "cell_type": "code",
   "execution_count": 42,
   "metadata": {},
   "outputs": [],
   "source": [
    "Y_test=Y_test.reshape(1,168,1)"
   ]
  },
  {
   "cell_type": "code",
   "execution_count": 43,
   "metadata": {},
   "outputs": [
    {
     "data": {
      "text/plain": [
       "(259, 168, 1)"
      ]
     },
     "execution_count": 43,
     "metadata": {},
     "output_type": "execute_result"
    }
   ],
   "source": [
    "X_pred = model.predict(X_train)\n",
    "X_pred.shape"
   ]
  },
  {
   "cell_type": "code",
   "execution_count": 48,
   "metadata": {},
   "outputs": [
    {
     "data": {
      "text/plain": [
       "(array([[[0.25748634],\n",
       "         [0.35756218],\n",
       "         [0.41996953],\n",
       "         [0.45590362],\n",
       "         [0.47519153],\n",
       "         [0.48399562],\n",
       "         [0.4866209 ],\n",
       "         [0.485874  ],\n",
       "         [0.48346668],\n",
       "         [0.48047686],\n",
       "         [0.477647  ],\n",
       "         [0.47547323],\n",
       "         [0.47355905],\n",
       "         [0.4719466 ],\n",
       "         [0.47063336],\n",
       "         [0.46958858],\n",
       "         [0.46877283],\n",
       "         [0.4681455 ],\n",
       "         [0.46766964],\n",
       "         [0.46731275],\n",
       "         [0.46704787],\n",
       "         [0.46685323],\n",
       "         [0.46671143],\n",
       "         [0.4666091 ],\n",
       "         [0.46653575],\n",
       "         [0.46648368],\n",
       "         [0.46644703],\n",
       "         [0.46642134],\n",
       "         [0.4664036 ],\n",
       "         [0.46639144],\n",
       "         [0.4663831 ],\n",
       "         [0.4663775 ],\n",
       "         [0.4663738 ],\n",
       "         [0.46637136],\n",
       "         [0.46636975],\n",
       "         [0.4663688 ],\n",
       "         [0.4663681 ],\n",
       "         [0.4663677 ],\n",
       "         [0.46636745],\n",
       "         [0.46636736],\n",
       "         [0.46636733],\n",
       "         [0.46636724],\n",
       "         [0.46636724],\n",
       "         [0.46636721],\n",
       "         [0.46636724],\n",
       "         [0.46636724],\n",
       "         [0.46636724],\n",
       "         [0.46636727],\n",
       "         [0.46636727],\n",
       "         [0.46636727],\n",
       "         [0.46636727],\n",
       "         [0.46636727],\n",
       "         [0.46636727],\n",
       "         [0.46636727],\n",
       "         [0.46636721],\n",
       "         [0.46636721],\n",
       "         [0.46636724],\n",
       "         [0.46636724],\n",
       "         [0.46636724],\n",
       "         [0.46636724],\n",
       "         [0.46636727],\n",
       "         [0.46636724],\n",
       "         [0.46636724],\n",
       "         [0.46636727],\n",
       "         [0.46636724],\n",
       "         [0.46636724],\n",
       "         [0.46636724],\n",
       "         [0.46636724],\n",
       "         [0.46636724],\n",
       "         [0.46636724],\n",
       "         [0.46636724],\n",
       "         [0.46636724],\n",
       "         [0.46636724],\n",
       "         [0.46636724],\n",
       "         [0.46636724],\n",
       "         [0.46636724],\n",
       "         [0.46636724],\n",
       "         [0.46636724],\n",
       "         [0.46636724],\n",
       "         [0.46636724],\n",
       "         [0.46636724],\n",
       "         [0.46636724],\n",
       "         [0.46636724],\n",
       "         [0.46636724],\n",
       "         [0.46636724],\n",
       "         [0.46636724],\n",
       "         [0.46636724],\n",
       "         [0.46636724],\n",
       "         [0.46636724],\n",
       "         [0.46636724],\n",
       "         [0.46636724],\n",
       "         [0.46636724],\n",
       "         [0.46636724],\n",
       "         [0.46636724],\n",
       "         [0.46636724],\n",
       "         [0.46636724],\n",
       "         [0.46636724],\n",
       "         [0.46636724],\n",
       "         [0.46636724],\n",
       "         [0.46636724],\n",
       "         [0.46636724],\n",
       "         [0.46636724],\n",
       "         [0.46636724],\n",
       "         [0.46636724],\n",
       "         [0.46636724],\n",
       "         [0.46636724],\n",
       "         [0.46636724],\n",
       "         [0.46636724],\n",
       "         [0.46636724],\n",
       "         [0.46636724],\n",
       "         [0.46636724],\n",
       "         [0.46636724],\n",
       "         [0.46636724],\n",
       "         [0.46636724],\n",
       "         [0.46636724],\n",
       "         [0.46636724],\n",
       "         [0.46636724],\n",
       "         [0.46636724],\n",
       "         [0.46636724],\n",
       "         [0.46636724],\n",
       "         [0.46636724],\n",
       "         [0.46636724],\n",
       "         [0.46636724],\n",
       "         [0.46636724],\n",
       "         [0.46636724],\n",
       "         [0.46636724],\n",
       "         [0.46636724],\n",
       "         [0.46636724],\n",
       "         [0.46636724],\n",
       "         [0.46636724],\n",
       "         [0.46636724],\n",
       "         [0.46636724],\n",
       "         [0.46636724],\n",
       "         [0.46636724],\n",
       "         [0.46636724],\n",
       "         [0.46636724],\n",
       "         [0.46636724],\n",
       "         [0.46636724],\n",
       "         [0.46636724],\n",
       "         [0.46636724],\n",
       "         [0.46636724],\n",
       "         [0.46636724],\n",
       "         [0.46636724],\n",
       "         [0.46636724],\n",
       "         [0.46636724],\n",
       "         [0.46636724],\n",
       "         [0.46636724],\n",
       "         [0.46636724],\n",
       "         [0.46636724],\n",
       "         [0.46636724],\n",
       "         [0.46636724],\n",
       "         [0.46636724],\n",
       "         [0.46636724],\n",
       "         [0.46636724],\n",
       "         [0.46636724],\n",
       "         [0.46636724],\n",
       "         [0.46636724],\n",
       "         [0.46636724],\n",
       "         [0.46636724],\n",
       "         [0.46636724],\n",
       "         [0.46636724],\n",
       "         [0.46636724],\n",
       "         [0.46636724],\n",
       "         [0.46636724],\n",
       "         [0.46636724],\n",
       "         [0.46636724],\n",
       "         [0.46636724],\n",
       "         [0.46636724]]], dtype=float32),\n",
       " array([[0.50294735, 0.50230158, 0.50184746, 0.49703666, 0.49509655,\n",
       "         0.48927673, 0.49894174, 0.49431116, 0.49566058, 0.50031832,\n",
       "         0.50536417, 0.50689052, 0.49373291, 0.50178831, 0.48985447,\n",
       "         0.4911021 , 0.48909092, 0.47836765, 0.47581299, 0.47283061,\n",
       "         0.47444301, 0.4785065 , 0.47169492, 0.46690012, 0.47089456,\n",
       "         0.47238182, 0.4714091 , 0.47029372, 0.47402392, 0.46868792,\n",
       "         0.46150777, 0.45103174, 0.45430883, 0.45665914, 0.4497044 ,\n",
       "         0.45370164, 0.4518486 , 0.44957926, 0.42472769, 0.43888746,\n",
       "         0.4528099 , 0.44479892, 0.45057559, 0.44489919, 0.43013223,\n",
       "         0.44711395, 0.43956243, 0.42879397, 0.43345628, 0.41686115,\n",
       "         0.41775264, 0.43264855, 0.43551315, 0.44049834, 0.43390075,\n",
       "         0.43470543, 0.43398477, 0.44682762, 0.45870587, 0.45263576,\n",
       "         0.45174884, 0.44168962, 0.45107667, 0.44725712, 0.44576935,\n",
       "         0.44234732, 0.44390184, 0.44180283, 0.44740968, 0.44953737,\n",
       "         0.44510683, 0.44664612, 0.44232727, 0.44016657, 0.45465558,\n",
       "         0.46893085, 0.47350887, 0.46607818, 0.46314174, 0.46392281,\n",
       "         0.46285592, 0.45343739, 0.45402097, 0.45472437, 0.45736228,\n",
       "         0.46683843, 0.46082874, 0.45693482, 0.45496095, 0.45443245,\n",
       "         0.45393365, 0.4425707 , 0.44517156, 0.44400287, 0.45837816,\n",
       "         0.44275601, 0.44782268, 0.44119057, 0.4440407 , 0.44290806,\n",
       "         0.45002221, 0.43645947, 0.43961066, 0.43635819, 0.43265338,\n",
       "         0.42138689, 0.42248196, 0.42781415, 0.41839461, 0.41820219,\n",
       "         0.43326894, 0.42480562, 0.43593224, 0.42842362, 0.43228125,\n",
       "         0.44032725, 0.45138128, 0.44986356, 0.44469688, 0.44866873,\n",
       "         0.44559903, 0.44949524, 0.44938913, 0.4744161 , 0.49032027,\n",
       "         0.49147525, 0.4901139 , 0.49094878, 0.49061041, 0.49125212,\n",
       "         0.49293077, 0.49823783, 0.4949016 , 0.49931844, 0.49207178,\n",
       "         0.48685483, 0.49362478, 0.49286275, 0.48743917, 0.49196466,\n",
       "         0.49168949, 0.50375457, 0.50892455, 0.49882065, 0.4925825 ,\n",
       "         0.49701863, 0.50990387, 0.5079366 , 0.50954595, 0.50072446,\n",
       "         0.50306818, 0.50685574, 0.50816531, 0.50012717, 0.50375254,\n",
       "         0.50115879, 0.49091324, 0.49044694, 0.49666732, 0.49855158,\n",
       "         0.50156519, 0.49405326, 0.49085359, 0.49988958, 0.5009646 ,\n",
       "         0.50285571, 0.50103745, 0.49116176]]))"
      ]
     },
     "execution_count": 48,
     "metadata": {},
     "output_type": "execute_result"
    }
   ],
   "source": [
    "Y_pred = model.predict(X_test)\n",
    "Y_pred, Y_test"
   ]
  },
  {
   "cell_type": "code",
   "execution_count": 49,
   "metadata": {},
   "outputs": [
    {
     "data": {
      "text/plain": [
       "(1, 168, 1)"
      ]
     },
     "execution_count": 49,
     "metadata": {},
     "output_type": "execute_result"
    }
   ],
   "source": [
    "Y_pred.shape"
   ]
  },
  {
   "cell_type": "code",
   "execution_count": 50,
   "metadata": {},
   "outputs": [
    {
     "data": {
      "text/plain": [
       "array([2.53841253e-05, 2.53832103e-05, 2.54497156e-05, 2.52231047e-05,\n",
       "       2.26040745e-05, 4.70137657e+00, 4.76290973e+00, 1.02247277e+01,\n",
       "       2.95333727e+00, 1.17647059e-02])"
      ]
     },
     "execution_count": 50,
     "metadata": {},
     "output_type": "execute_result"
    }
   ],
   "source": [
    "scaler.scale_"
   ]
  },
  {
   "cell_type": "code",
   "execution_count": 52,
   "metadata": {},
   "outputs": [
    {
     "data": {
      "text/plain": [
       "39394.699962342216"
      ]
     },
     "execution_count": 52,
     "metadata": {},
     "output_type": "execute_result"
    }
   ],
   "source": [
    "scale = 1/2.53841253e-05\n",
    "scale"
   ]
  },
  {
   "cell_type": "code",
   "execution_count": 53,
   "metadata": {},
   "outputs": [],
   "source": [
    "# scale.inverse_transform(Y_pred)"
   ]
  },
  {
   "cell_type": "code",
   "execution_count": 54,
   "metadata": {},
   "outputs": [],
   "source": [
    "Y_test = Y_test*scale\n",
    "Y_pred = Y_pred*scale"
   ]
  },
  {
   "cell_type": "code",
   "execution_count": 55,
   "metadata": {},
   "outputs": [
    {
     "data": {
      "text/plain": [
       "(1, 168, 1)"
      ]
     },
     "execution_count": 55,
     "metadata": {},
     "output_type": "execute_result"
    }
   ],
   "source": [
    "Y_pred.shape"
   ]
  },
  {
   "cell_type": "code",
   "execution_count": 63,
   "metadata": {},
   "outputs": [
    {
     "data": {
      "text/plain": [
       "19813.459981060114"
      ]
     },
     "execution_count": 63,
     "metadata": {},
     "output_type": "execute_result"
    }
   ],
   "source": [
    "Y_test[0,0]"
   ]
  },
  {
   "cell_type": "code",
   "execution_count": 57,
   "metadata": {},
   "outputs": [
    {
     "ename": "IndexError",
     "evalue": "index 1 is out of bounds for axis 0 with size 1",
     "output_type": "error",
     "traceback": [
      "\u001b[0;31m---------------------------------------------------------------------------\u001b[0m",
      "\u001b[0;31mIndexError\u001b[0m                                Traceback (most recent call last)",
      "\u001b[0;32m<ipython-input-57-34cda6be3d2f>\u001b[0m in \u001b[0;36m<module>\u001b[0;34m\u001b[0m\n\u001b[0;32m----> 1\u001b[0;31m \u001b[0mlen\u001b[0m\u001b[0;34m(\u001b[0m\u001b[0mY_pred\u001b[0m\u001b[0;34m[\u001b[0m\u001b[0;36m1\u001b[0m\u001b[0;34m,\u001b[0m\u001b[0;34m:\u001b[0m\u001b[0;34m,\u001b[0m\u001b[0;36m0\u001b[0m\u001b[0;34m]\u001b[0m\u001b[0;34m)\u001b[0m\u001b[0;34m\u001b[0m\u001b[0;34m\u001b[0m\u001b[0m\n\u001b[0m",
      "\u001b[0;31mIndexError\u001b[0m: index 1 is out of bounds for axis 0 with size 1"
     ]
    }
   ],
   "source": [
    "len(Y_pred[1,:,0])"
   ]
  },
  {
   "cell_type": "code",
   "execution_count": 60,
   "metadata": {},
   "outputs": [
    {
     "data": {
      "text/plain": [
       "array([[[10143.597],\n",
       "        [14086.055],\n",
       "        [16544.574],\n",
       "        [17960.186],\n",
       "        [18720.027],\n",
       "        [19066.861],\n",
       "        [19170.283],\n",
       "        [19140.86 ],\n",
       "        [19046.025],\n",
       "        [18928.242],\n",
       "        [18816.76 ],\n",
       "        [18731.125],\n",
       "        [18655.717],\n",
       "        [18592.193],\n",
       "        [18540.459],\n",
       "        [18499.3  ],\n",
       "        [18467.164],\n",
       "        [18442.451],\n",
       "        [18423.705],\n",
       "        [18409.645],\n",
       "        [18399.21 ],\n",
       "        [18391.543],\n",
       "        [18385.957],\n",
       "        [18381.924],\n",
       "        [18379.035],\n",
       "        [18376.984],\n",
       "        [18375.541],\n",
       "        [18374.527],\n",
       "        [18373.83 ],\n",
       "        [18373.352],\n",
       "        [18373.021],\n",
       "        [18372.8  ],\n",
       "        [18372.656],\n",
       "        [18372.559],\n",
       "        [18372.496],\n",
       "        [18372.459],\n",
       "        [18372.432],\n",
       "        [18372.414],\n",
       "        [18372.406],\n",
       "        [18372.402],\n",
       "        [18372.4  ],\n",
       "        [18372.396],\n",
       "        [18372.396],\n",
       "        [18372.396],\n",
       "        [18372.396],\n",
       "        [18372.396],\n",
       "        [18372.396],\n",
       "        [18372.398],\n",
       "        [18372.398],\n",
       "        [18372.398],\n",
       "        [18372.398],\n",
       "        [18372.398],\n",
       "        [18372.398],\n",
       "        [18372.398],\n",
       "        [18372.396],\n",
       "        [18372.396],\n",
       "        [18372.396],\n",
       "        [18372.396],\n",
       "        [18372.396],\n",
       "        [18372.396],\n",
       "        [18372.398],\n",
       "        [18372.396],\n",
       "        [18372.396],\n",
       "        [18372.398],\n",
       "        [18372.396],\n",
       "        [18372.396],\n",
       "        [18372.396],\n",
       "        [18372.396],\n",
       "        [18372.396],\n",
       "        [18372.396],\n",
       "        [18372.396],\n",
       "        [18372.396],\n",
       "        [18372.396],\n",
       "        [18372.396],\n",
       "        [18372.396],\n",
       "        [18372.396],\n",
       "        [18372.396],\n",
       "        [18372.396],\n",
       "        [18372.396],\n",
       "        [18372.396],\n",
       "        [18372.396],\n",
       "        [18372.396],\n",
       "        [18372.396],\n",
       "        [18372.396],\n",
       "        [18372.396],\n",
       "        [18372.396],\n",
       "        [18372.396],\n",
       "        [18372.396],\n",
       "        [18372.396],\n",
       "        [18372.396],\n",
       "        [18372.396],\n",
       "        [18372.396],\n",
       "        [18372.396],\n",
       "        [18372.396],\n",
       "        [18372.396],\n",
       "        [18372.396],\n",
       "        [18372.396],\n",
       "        [18372.396],\n",
       "        [18372.396],\n",
       "        [18372.396],\n",
       "        [18372.396],\n",
       "        [18372.396],\n",
       "        [18372.396],\n",
       "        [18372.396],\n",
       "        [18372.396],\n",
       "        [18372.396],\n",
       "        [18372.396],\n",
       "        [18372.396],\n",
       "        [18372.396],\n",
       "        [18372.396],\n",
       "        [18372.396],\n",
       "        [18372.396],\n",
       "        [18372.396],\n",
       "        [18372.396],\n",
       "        [18372.396],\n",
       "        [18372.396],\n",
       "        [18372.396],\n",
       "        [18372.396],\n",
       "        [18372.396],\n",
       "        [18372.396],\n",
       "        [18372.396],\n",
       "        [18372.396],\n",
       "        [18372.396],\n",
       "        [18372.396],\n",
       "        [18372.396],\n",
       "        [18372.396],\n",
       "        [18372.396],\n",
       "        [18372.396],\n",
       "        [18372.396],\n",
       "        [18372.396],\n",
       "        [18372.396],\n",
       "        [18372.396],\n",
       "        [18372.396],\n",
       "        [18372.396],\n",
       "        [18372.396],\n",
       "        [18372.396],\n",
       "        [18372.396],\n",
       "        [18372.396],\n",
       "        [18372.396],\n",
       "        [18372.396],\n",
       "        [18372.396],\n",
       "        [18372.396],\n",
       "        [18372.396],\n",
       "        [18372.396],\n",
       "        [18372.396],\n",
       "        [18372.396],\n",
       "        [18372.396],\n",
       "        [18372.396],\n",
       "        [18372.396],\n",
       "        [18372.396],\n",
       "        [18372.396],\n",
       "        [18372.396],\n",
       "        [18372.396],\n",
       "        [18372.396],\n",
       "        [18372.396],\n",
       "        [18372.396],\n",
       "        [18372.396],\n",
       "        [18372.396],\n",
       "        [18372.396],\n",
       "        [18372.396],\n",
       "        [18372.396],\n",
       "        [18372.396],\n",
       "        [18372.396],\n",
       "        [18372.396],\n",
       "        [18372.396],\n",
       "        [18372.396],\n",
       "        [18372.396],\n",
       "        [18372.396]]], dtype=float32)"
      ]
     },
     "execution_count": 60,
     "metadata": {},
     "output_type": "execute_result"
    }
   ],
   "source": [
    "Y_pred"
   ]
  },
  {
   "cell_type": "code",
   "execution_count": 64,
   "metadata": {},
   "outputs": [
    {
     "ename": "ValueError",
     "evalue": "x and y can be no greater than 2-D, but have shapes (1,) and (1, 168, 1)",
     "output_type": "error",
     "traceback": [
      "\u001b[0;31m---------------------------------------------------------------------------\u001b[0m",
      "\u001b[0;31mValueError\u001b[0m                                Traceback (most recent call last)",
      "\u001b[0;32m<ipython-input-64-b2a2b80a3202>\u001b[0m in \u001b[0;36m<module>\u001b[0;34m\u001b[0m\n\u001b[1;32m      1\u001b[0m \u001b[0mplt\u001b[0m\u001b[0;34m.\u001b[0m\u001b[0mfigure\u001b[0m\u001b[0;34m(\u001b[0m\u001b[0mfigsize\u001b[0m\u001b[0;34m=\u001b[0m\u001b[0;34m(\u001b[0m\u001b[0;36m14\u001b[0m\u001b[0;34m,\u001b[0m\u001b[0;36m5\u001b[0m\u001b[0;34m)\u001b[0m\u001b[0;34m)\u001b[0m\u001b[0;34m\u001b[0m\u001b[0;34m\u001b[0m\u001b[0m\n\u001b[1;32m      2\u001b[0m \u001b[0mplt\u001b[0m\u001b[0;34m.\u001b[0m\u001b[0mplot\u001b[0m\u001b[0;34m(\u001b[0m\u001b[0mY_test\u001b[0m\u001b[0;34m[\u001b[0m\u001b[0;36m0\u001b[0m\u001b[0;34m,\u001b[0m\u001b[0;34m:\u001b[0m\u001b[0;34m]\u001b[0m\u001b[0;34m,\u001b[0m \u001b[0mcolor\u001b[0m \u001b[0;34m=\u001b[0m \u001b[0;34m'red'\u001b[0m\u001b[0;34m,\u001b[0m \u001b[0mlabel\u001b[0m \u001b[0;34m=\u001b[0m \u001b[0;34m'Real Bitcoin Price'\u001b[0m\u001b[0;34m)\u001b[0m\u001b[0;34m\u001b[0m\u001b[0;34m\u001b[0m\u001b[0m\n\u001b[0;32m----> 3\u001b[0;31m \u001b[0mplt\u001b[0m\u001b[0;34m.\u001b[0m\u001b[0mplot\u001b[0m\u001b[0;34m(\u001b[0m\u001b[0mY_pred\u001b[0m\u001b[0;34m,\u001b[0m \u001b[0mcolor\u001b[0m \u001b[0;34m=\u001b[0m \u001b[0;34m'green'\u001b[0m\u001b[0;34m,\u001b[0m \u001b[0mlabel\u001b[0m \u001b[0;34m=\u001b[0m \u001b[0;34m'Predicted Bitcoin Price'\u001b[0m\u001b[0;34m)\u001b[0m\u001b[0;34m\u001b[0m\u001b[0;34m\u001b[0m\u001b[0m\n\u001b[0m\u001b[1;32m      4\u001b[0m \u001b[0mplt\u001b[0m\u001b[0;34m.\u001b[0m\u001b[0mtitle\u001b[0m\u001b[0;34m(\u001b[0m\u001b[0;34m'Bitcoin Price Prediction using RNN-LSTM'\u001b[0m\u001b[0;34m)\u001b[0m\u001b[0;34m\u001b[0m\u001b[0;34m\u001b[0m\u001b[0m\n\u001b[1;32m      5\u001b[0m \u001b[0mplt\u001b[0m\u001b[0;34m.\u001b[0m\u001b[0mxlabel\u001b[0m\u001b[0;34m(\u001b[0m\u001b[0;34m'Time'\u001b[0m\u001b[0;34m)\u001b[0m\u001b[0;34m\u001b[0m\u001b[0;34m\u001b[0m\u001b[0m\n",
      "\u001b[0;32m/usr/local/lib/python3.6/dist-packages/matplotlib/pyplot.py\u001b[0m in \u001b[0;36mplot\u001b[0;34m(scalex, scaley, data, *args, **kwargs)\u001b[0m\n\u001b[1;32m   2793\u001b[0m     return gca().plot(\n\u001b[1;32m   2794\u001b[0m         *args, scalex=scalex, scaley=scaley, **({\"data\": data} if data\n\u001b[0;32m-> 2795\u001b[0;31m         is not None else {}), **kwargs)\n\u001b[0m\u001b[1;32m   2796\u001b[0m \u001b[0;34m\u001b[0m\u001b[0m\n\u001b[1;32m   2797\u001b[0m \u001b[0;34m\u001b[0m\u001b[0m\n",
      "\u001b[0;32m/usr/local/lib/python3.6/dist-packages/matplotlib/axes/_axes.py\u001b[0m in \u001b[0;36mplot\u001b[0;34m(self, scalex, scaley, data, *args, **kwargs)\u001b[0m\n\u001b[1;32m   1664\u001b[0m         \"\"\"\n\u001b[1;32m   1665\u001b[0m         \u001b[0mkwargs\u001b[0m \u001b[0;34m=\u001b[0m \u001b[0mcbook\u001b[0m\u001b[0;34m.\u001b[0m\u001b[0mnormalize_kwargs\u001b[0m\u001b[0;34m(\u001b[0m\u001b[0mkwargs\u001b[0m\u001b[0;34m,\u001b[0m \u001b[0mmlines\u001b[0m\u001b[0;34m.\u001b[0m\u001b[0mLine2D\u001b[0m\u001b[0;34m.\u001b[0m\u001b[0m_alias_map\u001b[0m\u001b[0;34m)\u001b[0m\u001b[0;34m\u001b[0m\u001b[0;34m\u001b[0m\u001b[0m\n\u001b[0;32m-> 1666\u001b[0;31m         \u001b[0mlines\u001b[0m \u001b[0;34m=\u001b[0m \u001b[0;34m[\u001b[0m\u001b[0;34m*\u001b[0m\u001b[0mself\u001b[0m\u001b[0;34m.\u001b[0m\u001b[0m_get_lines\u001b[0m\u001b[0;34m(\u001b[0m\u001b[0;34m*\u001b[0m\u001b[0margs\u001b[0m\u001b[0;34m,\u001b[0m \u001b[0mdata\u001b[0m\u001b[0;34m=\u001b[0m\u001b[0mdata\u001b[0m\u001b[0;34m,\u001b[0m \u001b[0;34m**\u001b[0m\u001b[0mkwargs\u001b[0m\u001b[0;34m)\u001b[0m\u001b[0;34m]\u001b[0m\u001b[0;34m\u001b[0m\u001b[0;34m\u001b[0m\u001b[0m\n\u001b[0m\u001b[1;32m   1667\u001b[0m         \u001b[0;32mfor\u001b[0m \u001b[0mline\u001b[0m \u001b[0;32min\u001b[0m \u001b[0mlines\u001b[0m\u001b[0;34m:\u001b[0m\u001b[0;34m\u001b[0m\u001b[0;34m\u001b[0m\u001b[0m\n\u001b[1;32m   1668\u001b[0m             \u001b[0mself\u001b[0m\u001b[0;34m.\u001b[0m\u001b[0madd_line\u001b[0m\u001b[0;34m(\u001b[0m\u001b[0mline\u001b[0m\u001b[0;34m)\u001b[0m\u001b[0;34m\u001b[0m\u001b[0;34m\u001b[0m\u001b[0m\n",
      "\u001b[0;32m/usr/local/lib/python3.6/dist-packages/matplotlib/axes/_base.py\u001b[0m in \u001b[0;36m__call__\u001b[0;34m(self, *args, **kwargs)\u001b[0m\n\u001b[1;32m    223\u001b[0m                 \u001b[0mthis\u001b[0m \u001b[0;34m+=\u001b[0m \u001b[0margs\u001b[0m\u001b[0;34m[\u001b[0m\u001b[0;36m0\u001b[0m\u001b[0;34m]\u001b[0m\u001b[0;34m,\u001b[0m\u001b[0;34m\u001b[0m\u001b[0;34m\u001b[0m\u001b[0m\n\u001b[1;32m    224\u001b[0m                 \u001b[0margs\u001b[0m \u001b[0;34m=\u001b[0m \u001b[0margs\u001b[0m\u001b[0;34m[\u001b[0m\u001b[0;36m1\u001b[0m\u001b[0;34m:\u001b[0m\u001b[0;34m]\u001b[0m\u001b[0;34m\u001b[0m\u001b[0;34m\u001b[0m\u001b[0m\n\u001b[0;32m--> 225\u001b[0;31m             \u001b[0;32myield\u001b[0m \u001b[0;32mfrom\u001b[0m \u001b[0mself\u001b[0m\u001b[0;34m.\u001b[0m\u001b[0m_plot_args\u001b[0m\u001b[0;34m(\u001b[0m\u001b[0mthis\u001b[0m\u001b[0;34m,\u001b[0m \u001b[0mkwargs\u001b[0m\u001b[0;34m)\u001b[0m\u001b[0;34m\u001b[0m\u001b[0;34m\u001b[0m\u001b[0m\n\u001b[0m\u001b[1;32m    226\u001b[0m \u001b[0;34m\u001b[0m\u001b[0m\n\u001b[1;32m    227\u001b[0m     \u001b[0;32mdef\u001b[0m \u001b[0mget_next_color\u001b[0m\u001b[0;34m(\u001b[0m\u001b[0mself\u001b[0m\u001b[0;34m)\u001b[0m\u001b[0;34m:\u001b[0m\u001b[0;34m\u001b[0m\u001b[0;34m\u001b[0m\u001b[0m\n",
      "\u001b[0;32m/usr/local/lib/python3.6/dist-packages/matplotlib/axes/_base.py\u001b[0m in \u001b[0;36m_plot_args\u001b[0;34m(self, tup, kwargs)\u001b[0m\n\u001b[1;32m    389\u001b[0m             \u001b[0mx\u001b[0m\u001b[0;34m,\u001b[0m \u001b[0my\u001b[0m \u001b[0;34m=\u001b[0m \u001b[0mindex_of\u001b[0m\u001b[0;34m(\u001b[0m\u001b[0mtup\u001b[0m\u001b[0;34m[\u001b[0m\u001b[0;34m-\u001b[0m\u001b[0;36m1\u001b[0m\u001b[0;34m]\u001b[0m\u001b[0;34m)\u001b[0m\u001b[0;34m\u001b[0m\u001b[0;34m\u001b[0m\u001b[0m\n\u001b[1;32m    390\u001b[0m \u001b[0;34m\u001b[0m\u001b[0m\n\u001b[0;32m--> 391\u001b[0;31m         \u001b[0mx\u001b[0m\u001b[0;34m,\u001b[0m \u001b[0my\u001b[0m \u001b[0;34m=\u001b[0m \u001b[0mself\u001b[0m\u001b[0;34m.\u001b[0m\u001b[0m_xy_from_xy\u001b[0m\u001b[0;34m(\u001b[0m\u001b[0mx\u001b[0m\u001b[0;34m,\u001b[0m \u001b[0my\u001b[0m\u001b[0;34m)\u001b[0m\u001b[0;34m\u001b[0m\u001b[0;34m\u001b[0m\u001b[0m\n\u001b[0m\u001b[1;32m    392\u001b[0m \u001b[0;34m\u001b[0m\u001b[0m\n\u001b[1;32m    393\u001b[0m         \u001b[0;32mif\u001b[0m \u001b[0mself\u001b[0m\u001b[0;34m.\u001b[0m\u001b[0mcommand\u001b[0m \u001b[0;34m==\u001b[0m \u001b[0;34m'plot'\u001b[0m\u001b[0;34m:\u001b[0m\u001b[0;34m\u001b[0m\u001b[0;34m\u001b[0m\u001b[0m\n",
      "\u001b[0;32m/usr/local/lib/python3.6/dist-packages/matplotlib/axes/_base.py\u001b[0m in \u001b[0;36m_xy_from_xy\u001b[0;34m(self, x, y)\u001b[0m\n\u001b[1;32m    271\u001b[0m         \u001b[0;32mif\u001b[0m \u001b[0mx\u001b[0m\u001b[0;34m.\u001b[0m\u001b[0mndim\u001b[0m \u001b[0;34m>\u001b[0m \u001b[0;36m2\u001b[0m \u001b[0;32mor\u001b[0m \u001b[0my\u001b[0m\u001b[0;34m.\u001b[0m\u001b[0mndim\u001b[0m \u001b[0;34m>\u001b[0m \u001b[0;36m2\u001b[0m\u001b[0;34m:\u001b[0m\u001b[0;34m\u001b[0m\u001b[0;34m\u001b[0m\u001b[0m\n\u001b[1;32m    272\u001b[0m             raise ValueError(\"x and y can be no greater than 2-D, but have \"\n\u001b[0;32m--> 273\u001b[0;31m                              \"shapes {} and {}\".format(x.shape, y.shape))\n\u001b[0m\u001b[1;32m    274\u001b[0m \u001b[0;34m\u001b[0m\u001b[0m\n\u001b[1;32m    275\u001b[0m         \u001b[0;32mif\u001b[0m \u001b[0mx\u001b[0m\u001b[0;34m.\u001b[0m\u001b[0mndim\u001b[0m \u001b[0;34m==\u001b[0m \u001b[0;36m1\u001b[0m\u001b[0;34m:\u001b[0m\u001b[0;34m\u001b[0m\u001b[0;34m\u001b[0m\u001b[0m\n",
      "\u001b[0;31mValueError\u001b[0m: x and y can be no greater than 2-D, but have shapes (1,) and (1, 168, 1)"
     ]
    },
    {
     "data": {
      "image/png": "[encoded data removed]",
      "text/plain": [
       "<Figure size 1008x360 with 1 Axes>"
      ]
     },
     "metadata": {
      "needs_background": "light"
     },
     "output_type": "display_data"
    }
   ],
   "source": [
    "plt.figure(figsize=(14,5))\n",
    "plt.plot(Y_test[0,:], color = 'red', label = 'Real Bitcoin Price')\n",
    "plt.plot(Y_pred, color = 'green', label = 'Predicted Bitcoin Price')\n",
    "plt.title('Bitcoin Price Prediction using RNN-LSTM')\n",
    "plt.xlabel('Time')\n",
    "plt.ylabel('Price')\n",
    "plt.legend()\n",
    "plt.show()"
   ]
  },
  {
   "cell_type": "code",
   "execution_count": null,
   "metadata": {},
   "outputs": [],
   "source": []
  },
  {
   "cell_type": "code",
   "execution_count": null,
   "metadata": {},
   "outputs": [],
   "source": []
  }
 ],
 "metadata": {
  "kernelspec": {
   "display_name": "Python 3",
   "language": "python",
   "name": "python3"
  },
  "language_info": {
   "codemirror_mode": {
    "name": "ipython",
    "version": 3
   },
   "file_extension": ".py",
   "mimetype": "text/x-python",
   "name": "python",
   "nbconvert_exporter": "python",
   "pygments_lexer": "ipython3",
   "version": "3.6.9"
  }
 },
 "nbformat": 4,
 "nbformat_minor": 4
}
